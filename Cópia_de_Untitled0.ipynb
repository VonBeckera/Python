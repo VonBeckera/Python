{
  "nbformat": 4,
  "nbformat_minor": 0,
  "metadata": {
    "colab": {
      "name": "Cópia de Untitled0.ipynb",
      "provenance": [],
      "collapsed_sections": [],
      "authorship_tag": "ABX9TyN1jcRXTr57JUXKRhtujDsK",
      "include_colab_link": true
    },
    "kernelspec": {
      "name": "python3",
      "display_name": "Python 3"
    },
    "language_info": {
      "name": "python"
    }
  },
  "cells": [
    {
      "cell_type": "markdown",
      "metadata": {
        "id": "view-in-github",
        "colab_type": "text"
      },
      "source": [
        "<a href=\"https://colab.research.google.com/github/VonBeckera/Python/blob/main/C%C3%B3pia_de_Untitled0.ipynb\" target=\"_parent\"><img src=\"https://colab.research.google.com/assets/colab-badge.svg\" alt=\"Open In Colab\"/></a>"
      ]
    },
    {
      "cell_type": "code",
      "execution_count": null,
      "metadata": {
        "colab": {
          "base_uri": "https://localhost:8080/"
        },
        "id": "Q_2cUmhKUhWP",
        "outputId": "4b07f97e-ec1a-4b35-8462-df11bd199eaa"
      },
      "outputs": [
        {
          "output_type": "stream",
          "name": "stdout",
          "text": [
            "25\n"
          ]
        }
      ],
      "source": [
        "a =3\n",
        "b = 4\n",
        "c = (a*a)+(b*b)\n",
        "\n",
        "print(c)\n"
      ]
    },
    {
      "cell_type": "code",
      "source": [
        "valor = float(input('Digite o valor do iten '))\n",
        "d = float(input('Digite o valor do desconto '))\n",
        "\n",
        "desconto = d/100\n",
        "precoFinal= valor - (desconto*valor)\n",
        "\n",
        "print(\"O valor final e \" , precoFinal)"
      ],
      "metadata": {
        "colab": {
          "base_uri": "https://localhost:8080/"
        },
        "id": "fSQk11eYYE3C",
        "outputId": "0e9491b5-f6d9-4edc-94d1-79a365b92430"
      },
      "execution_count": null,
      "outputs": [
        {
          "output_type": "stream",
          "name": "stdout",
          "text": [
            "Digite o valor do iten 100\n",
            "Digite o valor do desconto 25\n",
            "O valor final e %f  75.0\n"
          ]
        }
      ]
    },
    {
      "cell_type": "code",
      "source": [
        "s1 = \"ant\"\n",
        "s2 = \"bat\"\n",
        "s3 = \"cod\"\n",
        "print(s1, s2, s3)\n",
        "print(s1*(10)) "
      ],
      "metadata": {
        "colab": {
          "base_uri": "https://localhost:8080/"
        },
        "id": "y145PhuHxAZ4",
        "outputId": "8453e57c-15dc-4c58-d257-5360d1cf42db"
      },
      "execution_count": null,
      "outputs": [
        {
          "output_type": "stream",
          "name": "stdout",
          "text": [
            "ant bat cod\n",
            "antantantantantantantantantant\n"
          ]
        }
      ]
    },
    {
      "cell_type": "code",
      "source": [
        "d = int(input(\"Digite o Numero de dias para o carro alugado \"))\n",
        "k= int(input(\"Digite o Numero de Km rodados \"))\n",
        "km = k*0.15\n",
        "Diaria = 60*d\n",
        "total = km+Diaria\n",
        "\n",
        "\n",
        "\n",
        "\n",
        "print(\"Tota a pagar:R$ \" , total)"
      ],
      "metadata": {
        "colab": {
          "base_uri": "https://localhost:8080/"
        },
        "id": "kjqzlA-E3pqA",
        "outputId": "b2cfaf75-925c-424b-ee23-9bf3de23550b"
      },
      "execution_count": null,
      "outputs": [
        {
          "output_type": "stream",
          "name": "stdout",
          "text": [
            "Digite o Numero de dias para o carro alugado 30\n",
            "Digite o Numero de Km rodados 1500\n",
            "Tota a pagar:R$  2025.0\n"
          ]
        }
      ]
    },
    {
      "cell_type": "code",
      "source": [
        "#Enunciado: Imagina-se que você e sua equipe foram contratados por uma empresa de logística que acabou de entrar no ramo. Essa empresa trabalha com encomendas de pequeno e médio porte e opera somente entre 3 cidades.\n",
        "#O valor que a empresa cobra por objeto é dado pela seguinte equação:\n",
        "#total=dimensões*peso*rota\n",
        "#Em que cada uma das variáveis que compõe o preço total é quantizada da seguinte maneira:\n",
        " \n",
        "#Quadro 1: Dimensões versus Valor\n",
        "#dimensões (cm³)\tvalor (R$)\n",
        "#Até 1000\t10\n",
        "#Entre 1001 e 10000\t20\n",
        "#Entre 10001 e 30000\t30\n",
        "#Entre 30001 e 100000\t50\n",
        "#Acima 100000\tNão é aceito\n",
        "\n",
        "#\tQuadro 2: Peso versus multiplicador\n",
        "#peso(kg)\tmultiplicador\n",
        "#Até 0.1\t1\n",
        "#Entre 0.11 e 1\t1.5\n",
        "#Entre 1.10 e 10\t2\n",
        "#Entre 10.1 e 30\t3\n",
        "#Acima de 30\tNão é aceito\n",
        "\n",
        "#Quadro 3: Rota versus multiplicador\n",
        "#rota\tmultiplicador\n",
        "#RS - De Rio de Janeiro até São Paulo\t1\n",
        "#SR - De São Paulo até Rio de Janeiro\t1\n",
        "#BS - De Brasília até São Paulo\t1.2\n",
        "#SB - De São Paulo até Brasília\t1.2\n",
        "#BR - De Brasília até Rio de Janeiro\t1.5\n",
        "#RB - Rio de Janeiro até Brasília\t1.5\n",
        "#Obs.: Pode-se mudar o nome das cidades e siglas. Utilizando 3 cidades está ótimo\n",
        "\n",
        "#Elabore um programa em Python que:\n",
        "#\tPergunte a altura (em cm), comprimento (em cm) e largura (em cm) do objeto. Se digitar um valor não numérico e/ou as dimensões passarem do limite aceito repetir a pergunta;\n",
        "#\tPergunte o peso do objeto (em kg). Se digitar um valor não numérico e/ou o peso passar do limite aceito repetir a pergunta;\n",
        "#\tPergunte a rota do objeto. Se digitar uma opção que não esteja na tabela repetir a pergunta;\n",
        "#\tEncerre o total a ser pago com base na equação desse enunciado;\n",
        "#\tDeve-se codificar uma função dimensoesObejto (EXIGÊNCIA 1 de 3);\n",
        "#\tDentro da função perguntar altura do objeto (em cm);\n",
        "#\tDentro da função perguntar o comprimento do objeto (em cm);\n",
        "#\tDentro da função perguntar a largura do objeto (em cm)\n",
        "#\tCalcular o volume (em cm) da caixa para objeto (altura * largura * comprimento);\n",
        "#\tDeve-se ter um try/except para o caso de o usuário digitar um valor não numérico;\n",
        "#\tDeve-se retornar o valor em (RS) conforme a Quadro 1\n",
        "#\tDeve-se codificar uma função pesoObejto (EXIGÊNCIA 2 de 3);\n",
        "#\tDentro da função perguntar peso do objeto (em kg);\n",
        "#\tDeve-se ter um try/except para o caso de o usuário digitar um valor não numérico;\n",
        "#\tDeve-se retornar o multiplicador conforme o Quadro 2\n",
        "#\tDeve-se codificar uma função rotaObjeto (EXIGÊNCIA 3 de 3);\n",
        "#\tDentro da função perguntar a rota do objeto desejada (Sugestão: utilize as siglas para facilitar os testes);\n",
        "#\tOBS: PODE MUDAR O NOME DAS CIDADES E SUAS SIGLAS\n",
        "#\tDeve-se retornar o multiplicador conforme o Quadro 3\n",
        "#\tColocar um exemplo de SAIDA DE CONSOLE uma encomenda com peso, dimensões e rota válidos\n",
        "#Colocar um exemplo de SAIDA DE CONSOLE com o tratamento de erro quando digitado um valor não numérico\n",
        "# é digitado no campo peso ou dimensões)\n",
        "\n",
        "\n",
        "nome = str(input(\"Digite seu nome:\\n\"))\n",
        "print(\"Seja bem vindo {} ao sistema DaviBecker de Calculo de Frete RU 2423497\".format(nome))\n",
        "\n",
        "print(\"Quadro 1 Dimensao versus Valor\\n\")\n",
        "print('        dimensões (cm³)\t          valor (R$)')\n",
        "print(\"       # Até 1000\t  --            10 \\n\"\n",
        ",\"      # Entre 1001 e 10000  --  \t20\\n\"\n",
        ",\"      # Entre 10001 e 30000  -- \t30\\n\"\n",
        ",\"      # Entre 30001 e 100000  --\t50 \\n\"\n",
        ",\"      # Acima 100000 --\tNão é aceito\")\n",
        "\n",
        "altura =int(input(\"Quadro 1: Digite a Altura do Objeto\\n\")) \n",
        "comprimento =int(input(\"Quadro 1: Digite o Comprimento do Obejto\\n\")) \n",
        "largura =int(input(\"Quadro 1: Digite a Largura do Obejto\\n\"))   \n",
        "dimensao = altura*comprimento*largura\n",
        "\n",
        "def CalculoDimensaoValor(altura,comprimento,largura,dimensao):\n",
        "  \n",
        " if dimensao >0 <=1000:\n",
        "  DimensaoValor = dimensao*10\n",
        "\n",
        "if dimensao >= 1001 <= 10000:\n",
        "  DimensaoValor = dimensao*20\n",
        "\n",
        "if dimensao >=10001 <= 30000:\n",
        "  DimensaoValor = dimensao*30\n",
        "\n",
        "if dimensao >=30001 <= 100000:\n",
        "  DimensaoValor = dimensao*50\n",
        "\n",
        "if dimensao > 100000 :\n",
        " print(\"Dimensão Inválida\")\n",
        "\n",
        "\n",
        "print(\"Quadro 2 Peso versus Multiplicador\\n\")\n",
        "print(\"  peso(kg)            \tmultiplicador\\n\")\n",
        "print(\"       #Até 0.1        \t--           1 \\n\"\n",
        ",\"      # Entre 0.11 e 1    --         1.5\\n\"\n",
        ",\"      # Entre 1.5         -- \t      2\\n\"\n",
        ",\"      # Entre 1.10 e 10   --\t      3 \\n\"\n",
        ",\"      # Acima de 30       --\t Não é aceito\")\n",
        "\n",
        "peso=float(input(\"Digite o Multiplicador do Peso\\n\"))\n",
        "\n",
        "if peso > 30 :\n",
        " print(\"Peso Não Permitido \")\n",
        "\n",
        "print(\"Quadro 3: Rota versus multiplicador\\n\")\n",
        "print(\"  rota                                  \tmultiplicador\\n\"\n",
        ",\" RS - De Rio de Janeiro até São Paulo              \t1\\n\"\n",
        ",\" SR - De São Paulo até Rio de Janeiro              \t1\\n\"\n",
        ",\" BS - De Brasília até São Paulo                    \t1.2\\n\"\n",
        ",\" SB - De São Paulo até Brasília\t                1.2\\n\"\n",
        ",\" BR - De Brasília até Rio de Janeiro        \t        1.5\\n\"\n",
        ",\" RB - Rio de Janeiro até Brasília                  \t1.5\\n\")\n",
        "\n",
        "rota = float(input(\"Digite o Multiplicador da Rota\\n\"))\n",
        "if rota < 1 > 1.5:\n",
        "  print(\"ROTA INVÁLIDA\")\n",
        "\n",
        "total=DimensaoValor*peso*rota\n",
        "\n",
        "print(\"O valor total da rota com peso {}Kg , Dimensao {}cm³ e Multiplicador da Rota {} \"\n",
        ",\"Valor da Dimensao {} é: R$ {}\" .format(peso, dimensao,rota, DimensaoValor,total))\n"
      ],
      "metadata": {
        "colab": {
          "base_uri": "https://localhost:8080/",
          "height": 536
        },
        "id": "jZ3dooU8lXG1",
        "outputId": "808167f8-2cac-4eed-9791-ba1008a957d6"
      },
      "execution_count": null,
      "outputs": [
        {
          "output_type": "error",
          "ename": "KeyboardInterrupt",
          "evalue": "ignored",
          "traceback": [
            "\u001b[0;31m---------------------------------------------------------------------------\u001b[0m",
            "\u001b[0;31mKeyboardInterrupt\u001b[0m                         Traceback (most recent call last)",
            "\u001b[0;32m/usr/local/lib/python3.7/dist-packages/ipykernel/kernelbase.py\u001b[0m in \u001b[0;36m_input_request\u001b[0;34m(self, prompt, ident, parent, password)\u001b[0m\n\u001b[1;32m    728\u001b[0m             \u001b[0;32mtry\u001b[0m\u001b[0;34m:\u001b[0m\u001b[0;34m\u001b[0m\u001b[0;34m\u001b[0m\u001b[0m\n\u001b[0;32m--> 729\u001b[0;31m                 \u001b[0mident\u001b[0m\u001b[0;34m,\u001b[0m \u001b[0mreply\u001b[0m \u001b[0;34m=\u001b[0m \u001b[0mself\u001b[0m\u001b[0;34m.\u001b[0m\u001b[0msession\u001b[0m\u001b[0;34m.\u001b[0m\u001b[0mrecv\u001b[0m\u001b[0;34m(\u001b[0m\u001b[0mself\u001b[0m\u001b[0;34m.\u001b[0m\u001b[0mstdin_socket\u001b[0m\u001b[0;34m,\u001b[0m \u001b[0;36m0\u001b[0m\u001b[0;34m)\u001b[0m\u001b[0;34m\u001b[0m\u001b[0;34m\u001b[0m\u001b[0m\n\u001b[0m\u001b[1;32m    730\u001b[0m             \u001b[0;32mexcept\u001b[0m \u001b[0mException\u001b[0m\u001b[0;34m:\u001b[0m\u001b[0;34m\u001b[0m\u001b[0;34m\u001b[0m\u001b[0m\n",
            "\u001b[0;32m/usr/local/lib/python3.7/dist-packages/jupyter_client/session.py\u001b[0m in \u001b[0;36mrecv\u001b[0;34m(self, socket, mode, content, copy)\u001b[0m\n\u001b[1;32m    802\u001b[0m         \u001b[0;32mtry\u001b[0m\u001b[0;34m:\u001b[0m\u001b[0;34m\u001b[0m\u001b[0;34m\u001b[0m\u001b[0m\n\u001b[0;32m--> 803\u001b[0;31m             \u001b[0mmsg_list\u001b[0m \u001b[0;34m=\u001b[0m \u001b[0msocket\u001b[0m\u001b[0;34m.\u001b[0m\u001b[0mrecv_multipart\u001b[0m\u001b[0;34m(\u001b[0m\u001b[0mmode\u001b[0m\u001b[0;34m,\u001b[0m \u001b[0mcopy\u001b[0m\u001b[0;34m=\u001b[0m\u001b[0mcopy\u001b[0m\u001b[0;34m)\u001b[0m\u001b[0;34m\u001b[0m\u001b[0;34m\u001b[0m\u001b[0m\n\u001b[0m\u001b[1;32m    804\u001b[0m         \u001b[0;32mexcept\u001b[0m \u001b[0mzmq\u001b[0m\u001b[0;34m.\u001b[0m\u001b[0mZMQError\u001b[0m \u001b[0;32mas\u001b[0m \u001b[0me\u001b[0m\u001b[0;34m:\u001b[0m\u001b[0;34m\u001b[0m\u001b[0;34m\u001b[0m\u001b[0m\n",
            "\u001b[0;32m/usr/local/lib/python3.7/dist-packages/zmq/sugar/socket.py\u001b[0m in \u001b[0;36mrecv_multipart\u001b[0;34m(self, flags, copy, track)\u001b[0m\n\u001b[1;32m    624\u001b[0m         \"\"\"\n\u001b[0;32m--> 625\u001b[0;31m         \u001b[0mparts\u001b[0m \u001b[0;34m=\u001b[0m \u001b[0;34m[\u001b[0m\u001b[0mself\u001b[0m\u001b[0;34m.\u001b[0m\u001b[0mrecv\u001b[0m\u001b[0;34m(\u001b[0m\u001b[0mflags\u001b[0m\u001b[0;34m,\u001b[0m \u001b[0mcopy\u001b[0m\u001b[0;34m=\u001b[0m\u001b[0mcopy\u001b[0m\u001b[0;34m,\u001b[0m \u001b[0mtrack\u001b[0m\u001b[0;34m=\u001b[0m\u001b[0mtrack\u001b[0m\u001b[0;34m)\u001b[0m\u001b[0;34m]\u001b[0m\u001b[0;34m\u001b[0m\u001b[0;34m\u001b[0m\u001b[0m\n\u001b[0m\u001b[1;32m    626\u001b[0m         \u001b[0;31m# have first part already, only loop while more to receive\u001b[0m\u001b[0;34m\u001b[0m\u001b[0;34m\u001b[0m\u001b[0;34m\u001b[0m\u001b[0m\n",
            "\u001b[0;32mzmq/backend/cython/socket.pyx\u001b[0m in \u001b[0;36mzmq.backend.cython.socket.Socket.recv\u001b[0;34m()\u001b[0m\n",
            "\u001b[0;32mzmq/backend/cython/socket.pyx\u001b[0m in \u001b[0;36mzmq.backend.cython.socket.Socket.recv\u001b[0;34m()\u001b[0m\n",
            "\u001b[0;32mzmq/backend/cython/socket.pyx\u001b[0m in \u001b[0;36mzmq.backend.cython.socket._recv_copy\u001b[0;34m()\u001b[0m\n",
            "\u001b[0;32m/usr/local/lib/python3.7/dist-packages/zmq/backend/cython/checkrc.pxd\u001b[0m in \u001b[0;36mzmq.backend.cython.checkrc._check_rc\u001b[0;34m()\u001b[0m\n",
            "\u001b[0;31mKeyboardInterrupt\u001b[0m: ",
            "\nDuring handling of the above exception, another exception occurred:\n",
            "\u001b[0;31mKeyboardInterrupt\u001b[0m                         Traceback (most recent call last)",
            "\u001b[0;32m<ipython-input-105-495f60fcaeb9>\u001b[0m in \u001b[0;36m<module>\u001b[0;34m()\u001b[0m\n\u001b[1;32m     55\u001b[0m \u001b[0;34m\u001b[0m\u001b[0m\n\u001b[1;32m     56\u001b[0m \u001b[0;34m\u001b[0m\u001b[0m\n\u001b[0;32m---> 57\u001b[0;31m \u001b[0mnome\u001b[0m \u001b[0;34m=\u001b[0m \u001b[0mstr\u001b[0m\u001b[0;34m(\u001b[0m\u001b[0minput\u001b[0m\u001b[0;34m(\u001b[0m\u001b[0;34m\"Digite seu nome:\\n\"\u001b[0m\u001b[0;34m)\u001b[0m\u001b[0;34m)\u001b[0m\u001b[0;34m\u001b[0m\u001b[0;34m\u001b[0m\u001b[0m\n\u001b[0m\u001b[1;32m     58\u001b[0m \u001b[0mprint\u001b[0m\u001b[0;34m(\u001b[0m\u001b[0;34m\"Seja bem vindo {} ao sistema DaviBecker de Calculo de Frete RU 2423497\"\u001b[0m\u001b[0;34m.\u001b[0m\u001b[0mformat\u001b[0m\u001b[0;34m(\u001b[0m\u001b[0mnome\u001b[0m\u001b[0;34m)\u001b[0m\u001b[0;34m)\u001b[0m\u001b[0;34m\u001b[0m\u001b[0;34m\u001b[0m\u001b[0m\n\u001b[1;32m     59\u001b[0m \u001b[0;34m\u001b[0m\u001b[0m\n",
            "\u001b[0;32m/usr/local/lib/python3.7/dist-packages/ipykernel/kernelbase.py\u001b[0m in \u001b[0;36mraw_input\u001b[0;34m(self, prompt)\u001b[0m\n\u001b[1;32m    702\u001b[0m             \u001b[0mself\u001b[0m\u001b[0;34m.\u001b[0m\u001b[0m_parent_ident\u001b[0m\u001b[0;34m,\u001b[0m\u001b[0;34m\u001b[0m\u001b[0;34m\u001b[0m\u001b[0m\n\u001b[1;32m    703\u001b[0m             \u001b[0mself\u001b[0m\u001b[0;34m.\u001b[0m\u001b[0m_parent_header\u001b[0m\u001b[0;34m,\u001b[0m\u001b[0;34m\u001b[0m\u001b[0;34m\u001b[0m\u001b[0m\n\u001b[0;32m--> 704\u001b[0;31m             \u001b[0mpassword\u001b[0m\u001b[0;34m=\u001b[0m\u001b[0;32mFalse\u001b[0m\u001b[0;34m,\u001b[0m\u001b[0;34m\u001b[0m\u001b[0;34m\u001b[0m\u001b[0m\n\u001b[0m\u001b[1;32m    705\u001b[0m         )\n\u001b[1;32m    706\u001b[0m \u001b[0;34m\u001b[0m\u001b[0m\n",
            "\u001b[0;32m/usr/local/lib/python3.7/dist-packages/ipykernel/kernelbase.py\u001b[0m in \u001b[0;36m_input_request\u001b[0;34m(self, prompt, ident, parent, password)\u001b[0m\n\u001b[1;32m    732\u001b[0m             \u001b[0;32mexcept\u001b[0m \u001b[0mKeyboardInterrupt\u001b[0m\u001b[0;34m:\u001b[0m\u001b[0;34m\u001b[0m\u001b[0;34m\u001b[0m\u001b[0m\n\u001b[1;32m    733\u001b[0m                 \u001b[0;31m# re-raise KeyboardInterrupt, to truncate traceback\u001b[0m\u001b[0;34m\u001b[0m\u001b[0;34m\u001b[0m\u001b[0;34m\u001b[0m\u001b[0m\n\u001b[0;32m--> 734\u001b[0;31m                 \u001b[0;32mraise\u001b[0m \u001b[0mKeyboardInterrupt\u001b[0m\u001b[0;34m\u001b[0m\u001b[0;34m\u001b[0m\u001b[0m\n\u001b[0m\u001b[1;32m    735\u001b[0m             \u001b[0;32melse\u001b[0m\u001b[0;34m:\u001b[0m\u001b[0;34m\u001b[0m\u001b[0;34m\u001b[0m\u001b[0m\n\u001b[1;32m    736\u001b[0m                 \u001b[0;32mbreak\u001b[0m\u001b[0;34m\u001b[0m\u001b[0;34m\u001b[0m\u001b[0m\n",
            "\u001b[0;31mKeyboardInterrupt\u001b[0m: "
          ]
        }
      ]
    }
  ]
}