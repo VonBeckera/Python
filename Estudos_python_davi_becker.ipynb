{
  "nbformat": 4,
  "nbformat_minor": 0,
  "metadata": {
    "colab": {
      "provenance": [],
      "name": "Estudos_python_davi_becker.ipynb",
      "mount_file_id": "https://gist.github.com/VonBeckera/890cc00392789d5dd836094d4c7fd563#file-untitled1-ipynb",
      "authorship_tag": "ABX9TyPk8/5ZMA4FYaunY2yD/H0Y",
      "include_colab_link": true
    },
    "kernelspec": {
      "name": "python3",
      "display_name": "Python 3"
    },
    "language_info": {
      "name": "python"
    }
  },
  "cells": [
    {
      "cell_type": "markdown",
      "metadata": {
        "id": "view-in-github",
        "colab_type": "text"
      },
      "source": [
        "<a href=\"https://colab.research.google.com/github/VonBeckera/Python/blob/main/Estudos_python_davi_becker.ipynb\" target=\"_parent\"><img src=\"https://colab.research.google.com/assets/colab-badge.svg\" alt=\"Open In Colab\"/></a>"
      ]
    },
    {
      "cell_type": "code",
      "execution_count": null,
      "metadata": {
        "id": "kCjFpoujXt6Q"
      },
      "outputs": [],
      "source": [
        "a = input('Digite algo: ')\n",
        "print('O tipo digitado é: ', type(a))\n",
        "print('O tipo digitado tem espaços: ', a.isspace())\n",
        "print('O tipo digitado é um número: ', a.isnumeric())\n",
        "print('O tipo digitado é alfa numerico: ', a.isalnum())\n",
        "print('O tipo digitado e alfabetico: ', a.isalpha())\n",
        "print('O tipo está capitalizado: ', a.istitle())"
      ]
    },
    {
      "cell_type": "code",
      "source": [
        "#Exmplos de precedencias\n",
        "# Exemplo 1\n",
        "n1 = 5\n",
        "n2 = 2\n",
        "n3 = 3\n",
        "s = n1+n2*n3\n",
        "print(s)\n",
        "\n",
        "# Exemplo 2\n",
        "n4 = 3\n",
        "n5 = 5\n",
        "n6 = 4\n",
        "n7 = 2\n",
        "s1 = n4*n5+n6**n7\n",
        "print(s1)\n",
        "# Exemplo 3\n",
        "\n",
        "n8 = 3\n",
        "n9 = 5\n",
        "n0 = 4\n",
        "n11 = 2\n",
        "s2 = n8*(n9+n0)**n11\n",
        "print(s2)\n"
      ],
      "metadata": {
        "id": "OTqlNsOIVpOC"
      },
      "execution_count": null,
      "outputs": []
    },
    {
      "cell_type": "markdown",
      "source": [
        "# Aula 07\n"
      ],
      "metadata": {
        "id": "E_VeYbVjZphx"
      }
    },
    {
      "cell_type": "code",
      "source": [
        "nome = input('Qual o seu nome? ')\n",
        "print(f'Seja Bem Vindo {nome}!')"
      ],
      "metadata": {
        "id": "hgXzhrxiZufz"
      },
      "execution_count": null,
      "outputs": []
    },
    {
      "cell_type": "code",
      "source": [
        "n1 = int(input('Digite um valor ' ))\n",
        "n2 = int(input('Digite outro valor ' ))\n",
        "print(f'A soma vale {n1+n2}')"
      ],
      "metadata": {
        "id": "S5y-FCZYdcIT"
      },
      "execution_count": null,
      "outputs": []
    },
    {
      "cell_type": "code",
      "source": [
        "# Conversão de valores em dólar\n",
        "\n",
        "d = float(input('Digite o valor que você tem na carteria: '))\n",
        "c = d/5.07\n",
        "print(f'O valor de {d} Reais equivale a {c:.2f} dólares')"
      ],
      "metadata": {
        "id": "884aqXEPBNxF"
      },
      "execution_count": null,
      "outputs": []
    },
    {
      "cell_type": "code",
      "source": [
        "#Calcular desconto de x% do valor de um produto\n",
        "n = input('Digite seu nome para acessar o sistema: ')\n",
        "print(f'Seja bem vido {n} ao sistema de cáculos de descontos')\n",
        "v = float(input('Digite o valor do produto: '))\n",
        "d = float(input('Digite o valor do desconto: '))\n",
        "c = v - (v * d / 100)\n",
        "print(f'O valor final com o Desconto de {d:.0f}% é de R${c:.2f}')"
      ],
      "metadata": {
        "id": "sqGLri-Plo38"
      },
      "execution_count": null,
      "outputs": []
    },
    {
      "cell_type": "code",
      "source": [
        "# Calcular a área de uma parede retangular e a quantidade de tinta a ser usada\n",
        "# 1 litro de tinta pinta 2m² de parede\n",
        "# Área - Base(b) x Altura(h)\n",
        "n = input('Digite seu nome ')\n",
        "print(f'Seja Bem vindo {n} ao sistema de cácluo de pintura de área construída')\n",
        "b = float(input('Digite o valor da Base em metros: ' ))\n",
        "h = float(input('Digite o valor da altura em metros: ' ))\n",
        "a = (b*h)\n",
        "t = (a / 2)\n",
        "print(f'A área tem {a} m² e a quantidade de tinta nescessária para pintar é de {t} Litros de tinta')"
      ],
      "metadata": {
        "id": "Mv8zfPK5GTX6"
      },
      "execution_count": null,
      "outputs": []
    },
    {
      "cell_type": "code",
      "source": [
        "#Teste de ocultar senha\n",
        "import getpass\n",
        "s = getpass.getpass(prompt='Digite sua senha ')\n",
        "s2 = \"123\"\n",
        "\n",
        "if s == s2:\n",
        "    print('Seja Bem vindo ao sistema')\n",
        "\n",
        "else:\n",
        "    print('Senha inválida!')"
      ],
      "metadata": {
        "id": "UeOXKxFfnsfK"
      },
      "execution_count": null,
      "outputs": []
    },
    {
      "cell_type": "code",
      "source": [
        "#Ler salário e mostre o novo salário com 15% de aumento\n",
        "n = input('Digite seu nome: ')\n",
        "print(f'Seja bem vindo {n} ao sistema de cálculo de salários')\n",
        "print('Este sistema irá calcular o aumento salarial de 15% sobre o salário informado')\n",
        "s = float(input('Informe o valor do salário: '))\n",
        "c = (s * 0.15)+s\n",
        "p = c-s\n",
        "print(f'O salário de R${s:.2f} com aumento de 15% é de R${c:.2f} o valor do aumento foi de R$: {p:.2f}')\n"
      ],
      "metadata": {
        "id": "-zVgTejoFRdr"
      },
      "execution_count": null,
      "outputs": []
    },
    {
      "cell_type": "code",
      "source": [
        "#Sucessor e antecessor de um número digitado\n",
        "n = int(input('Digite um número: '))\n",
        "print(f'O sucessor do número {n} é: {n+1}, é seu antecessor é: {n-1}')"
      ],
      "metadata": {
        "id": "fbSSh6e3K-XR"
      },
      "execution_count": null,
      "outputs": []
    },
    {
      "cell_type": "code",
      "source": [
        "#Crie um algoritmo que leia um número e mostre o seu dobro, triplo e raiz quadrada.\n",
        "import math\n",
        "n = int(input('Digite um número e vamos calulcar seu dobro, triplo e raiz quadrada: '))\n",
        "d = n*2\n",
        "t = n*3\n",
        "r = math.sqrt(n)\n",
        "l = n**(1/2)\n",
        "print(f'O dobro do número {n} é: {d}\\n ---- O triplo de {n} é: {t}\\n ---- A raiz quadrada de {n} é: {r}')\n",
        "print(l)"
      ],
      "metadata": {
        "id": "K1nTRN9SMHlx"
      },
      "execution_count": null,
      "outputs": []
    },
    {
      "cell_type": "code",
      "source": [
        "#Desenvolva um programa que leia as duas notas de um aluno, calcule e mostre a sua média.\n",
        "import getpass\n",
        "n = input('Digite seu nome: ')\n",
        "s2 = \"123\"\n",
        "\n",
        "while True:\n",
        "    s = getpass.getpass(prompt='Digite sua senha: ')\n",
        "    if s == s2:\n",
        "        print(f'Seja bem vindo {n} ao sistema de notas e médias acadêmicas')\n",
        "        break\n",
        "    else:\n",
        "        print('Senha inválida, tente novamente.')\n",
        "\n",
        "while True:\n",
        "    op = int(input('Digite 1 para sair ou 2 para um novo aluno: '))\n",
        "\n",
        "    if op == 1:\n",
        "        print('Obrigado por utilizar nosso sistema, até logo!')\n",
        "        break\n",
        "\n",
        "    elif op == 2:\n",
        "        a = input('Digite o nome do aluno: ')\n",
        "        nota1 = float(input(f'Digite a primeira nota do Aluno {a}: '))\n",
        "        nota2 = float(input(f'Digite a segunda nota do aluno {a}: '))\n",
        "        media = (nota1 + nota2) / 2\n",
        "\n",
        "        if media >= 7:\n",
        "            print(f'O aluno {a} foi aprovado com Média {media}')\n",
        "        else:\n",
        "            print(f'O aluno {a} foi reprovado com média {media}')"
      ],
      "metadata": {
        "id": "lJlv1MqNPLrr"
      },
      "execution_count": null,
      "outputs": []
    },
    {
      "cell_type": "code",
      "source": [
        "#Programa de conversão de metros para CM e MM\n",
        "\n",
        "me = int(input('Digite o valor em metros: '))\n",
        "cm = me*100 \n",
        "mm = me*1000\n",
        "print(f'O valor de {me} metros equivale a: {cm} Centímetros e {mm} Milímetros')\n"
      ],
      "metadata": {
        "id": "EUVG-xbMZeEH"
      },
      "execution_count": null,
      "outputs": []
    },
    {
      "cell_type": "code",
      "source": [
        "#Tabuada de um número digitado\n",
        "print('Bem vindo a tabuada de um número digitado')\n",
        "n = int(input('Digite um número: '))\n",
        "print(f'{n} x {1} = {n*1}')\n",
        "print(f'{n} x {2} = {n*2}')\n",
        "print(f'{n} x {3} = {n*3}')\n",
        "print(f'{n} x {4} = {n*4}')\n",
        "print(f'{n} x {5} = {n*5}')\n",
        "print(f'{n} x {6} = {n*6}')\n",
        "print(f'{n} x {7} = {n*7}')\n",
        "print(f'{n} x {8} = {n*8}')\n",
        "print(f'{n} x {9} = {n*9}')\n",
        "print(f'{n} x {10} = {n*10}')"
      ],
      "metadata": {
        "id": "ldM09OBobYP2"
      },
      "execution_count": null,
      "outputs": []
    },
    {
      "cell_type": "code",
      "source": [
        "print('Bem vindo a tabuada de um número digitado')\n",
        "n = int(input('Digite um número: '))\n",
        "for i in range(1, 11):\n",
        "    print(f'{n} x {i} = {n*i}')"
      ],
      "metadata": {
        "id": "Z8_xN1UMwfJJ"
      },
      "execution_count": null,
      "outputs": []
    },
    {
      "cell_type": "code",
      "source": [
        "#Convertendo temperatura\n",
        "\n",
        "t = float(input('Digite a temperatura em Celsius: '))\n",
        "f1 = (1.8 * t) + 32\n",
        "print(f'Converter {t}°C para a escala Fahrenheit : {f1}°')\n"
      ],
      "metadata": {
        "id": "CQNSdQ7HNwQP"
      },
      "execution_count": null,
      "outputs": []
    },
    {
      "cell_type": "code",
      "source": [
        "# Escreva um programa que pergunte a quantidade de Km percorridos por \n",
        "#um carro alugado e a quantidade de dias pelos quais ele foi alugado.\n",
        "#Calcule o preço a pagar, sabendo que o carro custa R$60 por dia e R$0,15 por Km rodado.\n",
        "\n",
        "print('Seja bem vido ao Locacar')\n",
        "d = 60\n",
        "d2 = int(input('Informe a quantidade de dias de locação: '))\n",
        "km = float(input('Informe a kilometragem final: '))\n",
        "cpkm = km * 0.15\n",
        "cd = d * d2\n",
        "cf = cd+cpkm\n",
        "print(f' O custo das diárias de {d2} dias foram de R${cd:.2f}\\n o custo da kilomêtragem de {km} KM foi de R${cpkm:.2f}\\n o valor final a ser pago pelo aluguel do veículo é de R$ {cf:.2f}')\n",
        "\n"
      ],
      "metadata": {
        "id": "vz_HUvGVsVBH"
      },
      "execution_count": null,
      "outputs": []
    },
    {
      "cell_type": "markdown",
      "source": [
        "MÓDULO 2\n"
      ],
      "metadata": {
        "id": "FvUwHZoIxPtJ"
      }
    },
    {
      "cell_type": "code",
      "source": [
        "!pip install emoji\n",
        "import emoji\n",
        "print(emoji.emojize(\"Olá mundo :sunglasses: \"))"
      ],
      "metadata": {
        "id": "d14LXRHFxTdq"
      },
      "execution_count": null,
      "outputs": []
    },
    {
      "cell_type": "code",
      "source": [
        "from math import trunc\n",
        "n = float(input('Digite um numero qualquer: '))\n",
        "print(f' A porção inteira do número digitado {n} é: {trunc(n)}')"
      ],
      "metadata": {
        "id": "6AdqIN3f6lA4"
      },
      "execution_count": null,
      "outputs": []
    },
    {
      "cell_type": "code",
      "source": [
        "from math import hypot\n",
        "copo = int(input('Digite o valor do cateto oposto: '))\n",
        "cadj = int(input('Digite o valor do cateto adjacente: '))\n",
        "\n",
        "hip = hypot(copo,cadj)\n",
        "\n",
        "print(f'O valor da Hipotenusa é: {hip}')\n",
        "\n"
      ],
      "metadata": {
        "id": "-6Ddn5aEQRqx"
      },
      "execution_count": null,
      "outputs": []
    },
    {
      "cell_type": "code",
      "source": [
        "from  math import sin,cos,tan,radians\n",
        "\n",
        "a = int(input('Digite o valor do ângulo: '))\n",
        "\n",
        "r = math.radians(a)\n",
        "cosseno = math.cos(r)\n",
        "seno = math.sin(r)\n",
        "tangente = math.tan(r)\n",
        "\n",
        "print(f'O valor do seno é {sin(r)} do cosseno é {cos(r)} e da tangente é {tan(r)} o ângulo em radianos é de {r}')\n",
        "\n"
      ],
      "metadata": {
        "id": "cSFcUiHwSOSf"
      },
      "execution_count": null,
      "outputs": []
    },
    {
      "cell_type": "code",
      "source": [
        "from random import choice\n",
        "nome = input('Digite o Primeiro nome: ')\n",
        "nome2 = input('Digite o segundo nome: ')\n",
        "nome3 = input('Digite o terceiro nome: ')\n",
        "nome4 = input('Digite o quarto nome: ')\n",
        "lista = [nome, nome2, nome3, nome4]\n",
        "escolhido = choice(lista)\n",
        "print(f'O aluno escolhido é: {escolhido}')"
      ],
      "metadata": {
        "id": "2BUr5iaGV_yf"
      },
      "execution_count": null,
      "outputs": []
    },
    {
      "cell_type": "code",
      "source": [
        "import random\n",
        "nome = input('Digite o Primeiro nome: ')\n",
        "nome2 = input('Digite o segundo nome: ')\n",
        "nome3 = input('Digite o terceiro nome: ')\n",
        "nome4 = input('Digite o quarto nome: ')\n",
        "lista = [nome, nome2, nome3, nome4]\n",
        "random.shuffle(lista)\n",
        "print(f'A ordem de apresentação será: {lista}')\n",
        "\n"
      ],
      "metadata": {
        "id": "qzZ6TG7_QOnv"
      },
      "execution_count": null,
      "outputs": []
    },
    {
      "cell_type": "code",
      "source": [
        "import random\n",
        "\n",
        "nomes = []\n",
        "\n",
        "print(\"Digite 4 nomes separados por enter: \")\n",
        "\n",
        "for i in range(4):\n",
        "    nome = input()\n",
        "    nomes.append(nome)\n",
        "\n",
        "aluno = random.choice(nomes)\n",
        "\n",
        "print(f'O nome é: {aluno}')\n",
        "\n"
      ],
      "metadata": {
        "id": "VJp0D2W0XRYD"
      },
      "execution_count": null,
      "outputs": []
    },
    {
      "cell_type": "code",
      "source": [
        "import random\n",
        "nomes = ['Davi','Pedro','Raissa','Claudia','Silvia','Amanda','Fabiana']\n",
        "sorteados = random.sample(nomes, 7)\n",
        "for i , nome in enumerate(sorteados):\n",
        "  print(f'{i + 1}º nome sorteado: {nome}')\n"
      ],
      "metadata": {
        "id": "GBfEmtEf-MMu"
      },
      "execution_count": null,
      "outputs": []
    },
    {
      "cell_type": "code",
      "source": [
        "!pip install pygame\n",
        "import pygame\n",
        "pygame.init()\n",
        "pygame.mixer.init()\n",
        "pygame.mixer.music.load(\"/content/drive/MyDrive/Contas/teste.mp3\")\n",
        "pygame.mixer.music.play()\n",
        "\n",
        "\n"
      ],
      "metadata": {
        "id": "7vj_wGNWS-Wf"
      },
      "execution_count": null,
      "outputs": []
    },
    {
      "cell_type": "code",
      "source": [
        "import requests\n",
        "\n",
        "url = \"https://justa-falta.vercel.app/#\"\n",
        "payload = {\"q\": \"' OR (SELECT COUNT(*) FROM all_tables) > 1 --\"}\n",
        "\n",
        "response = requests.get(url, params=payload)\n",
        "\n",
        "if \"error\" not in response.text:\n",
        "    print(\"SQL Injection vulnerability detected!\")\n",
        "else:\n",
        "    print(\"No SQL Injection vulnerability detected.\")"
      ],
      "metadata": {
        "id": "Gao-uJ7fL20n",
        "colab": {
          "base_uri": "https://localhost:8080/"
        },
        "outputId": "1a25249c-4ae6-4f48-d9d3-e681a231e680"
      },
      "execution_count": null,
      "outputs": [
        {
          "output_type": "stream",
          "name": "stdout",
          "text": [
            "SQL Injection vulnerability detected!\n"
          ]
        }
      ]
    },
    {
      "cell_type": "markdown",
      "source": [
        "AULA 09 - Manipulando Textos"
      ],
      "metadata": {
        "id": "dsu5naaMJz5p"
      }
    },
    {
      "cell_type": "code",
      "source": [
        "#manipulando texto\n",
        "\n",
        "frase = ('CURSO EM VIDEO PYTHON')# variavel frase recebendo valor (\"\")\n",
        "frase2 = ('CURSO EM VIDEO PYTHON')# variavel frase recebendo valor (\"\")\n",
        "\n",
        "nova_frase = frase.replace('VIDEO','XUXA ')#Substituindo uma string da frase por outra metodo replace\n",
        "\n",
        "#palavra_antiga = input(f'Digite a palavra antiga que voce quer substiruir na frase {frase}: ')\n",
        "#palavra_nova = input(f'Digite agora a palavra nova que sera inserida no lugar da palavara digita {palavra_antiga}: ')\n",
        "#frase3 = frase.replace(palavra_antiga, palavra_nova)\n",
        "\n",
        "\n",
        "\n",
        "frase_maiuscula = frase2.upper()#converte tudo para maisculo\n",
        "\n",
        "frase_minuscula = frase.lower()#capitalize(): esse método converte a primeira letra da string para maiúscula e as demais para minúsculas.\n",
        "\n",
        "frase_primeira_letra = frase.capitalize()\n",
        "\n",
        "contador = len(frase) #len () faz a contagem de todas as strings da frase\n",
        "\n",
        "a = frase.count('o') #count() faz a contagem de um determinado numero de vezes que um caracter ou palavra se repete\n",
        "\n",
        "indice = frase.find('em')#étodo de string que retorna o índice da primeira ocorrência de uma sub-string em uma string\n",
        "\n",
        "frasse_Title = frase.title()#title(): esse método converte a primeira letra de cada palavra da string para maiúscula e as demais para minúsculas.\n",
        "\n",
        "dividido = frase.split()\n",
        "\n",
        "#print(frase3)\n",
        "#print(frase[3])\n",
        "#\n",
        "print(frase.find('VIDEO'))\n",
        "print(dividido)\n",
        "print(dividido[3])\n",
        "#print(frasse_Title)\n",
        "#print(frase_primeira_letra)\n",
        "#print(frase_minuscula)\n",
        "#print(frase_maiuscula)\n",
        "#print(nova_frase)\n",
        "#print(indice)#indice da primeira ocorrência de uma sub-string em uma string\n",
        "#print(a)# imprime o numero de ocorrencias de um caracter string ou palavras\n",
        "#print(contador)# imprime o numero total de caracteres de uma string\n",
        "#print(frase[5:21])# começa do indice 5 e vai até o indice 21\n",
        "#print(frase[9:21:2])# começa a ler do indice 9 ao 21(esclui o 21)pulando 2 casas por vez\n",
        "#print(frase[:21])# ler do indice 0 até onde foi informado, neste caso 21 ele imprime a frase toda pois ela tem 21 indices"
      ],
      "metadata": {
        "id": "_WqkuvD9J6Bi"
      },
      "execution_count": null,
      "outputs": []
    },
    {
      "cell_type": "code",
      "source": [
        "!pip install phonenumbers\n",
        "import phonenumbers\n",
        "from phonenumbers import geocoder\n",
        "\n",
        "fone = phonenumbers.parse('+5541999590192')\n",
        "print('\\nLocalização\\n')\n",
        "print(geocoder.description_for_number(fone, 'PT'));\n"
      ],
      "metadata": {
        "id": "w6U7XYrlKCdy"
      },
      "execution_count": null,
      "outputs": []
    },
    {
      "cell_type": "code",
      "source": [
        "import tkinter as tk\n",
        "from tkinter import messagebox\n",
        "\n",
        "root = tk.Tk()\n",
        "root.withdraw()\n",
        "\n",
        "result = messagebox.askquestion(\"Question\", \"Do you want to continue?\")\n",
        "\n",
        "if result == 'yes':\n",
        "    print(\"User wants to continue\")\n",
        "else:\n",
        "    print(\"User does not want to continue\")"
      ],
      "metadata": {
        "id": "9HxF3s3DgLPs"
      },
      "execution_count": null,
      "outputs": []
    },
    {
      "cell_type": "code",
      "source": [
        "#Exercício Python 22: Crie um programa que leia o nome completo de uma pessoa e mostre:\n",
        "\n",
        "#– O nome com todas as letras maiúsculas e minúsculas.\n",
        "\n",
        "#– Quantas letras ao todo (sem considerar espaços).\n",
        "\n",
        "#– Quantas letras tem o primeiro nome.\n",
        "\n",
        "\n",
        "\n",
        "nome = str(input('Digite seu nome e sobrenome: ')).strip()\n",
        "\n",
        "nome1 = nome.split()[0]\n",
        "contnome1 = len(nome1)\n",
        "print(f'O seu primero nome é: \"{nome1}\" , e contém {contnome1} letras')\n",
        "\n",
        "print(f'Seu nome em maisculo é: {nome.upper()}')\n",
        "print(f'Seu nome em minusculo é:{nome.lower()}')\n",
        "espaço = nome.replace(\" \", \"\")\n",
        "cont = len(espaço)\n",
        "print(f'Seu nome todo tem {cont} letras')\n"
      ],
      "metadata": {
        "id": "SJe4GhbwoXJN"
      },
      "execution_count": null,
      "outputs": []
    },
    {
      "cell_type": "code",
      "source": [
        "#Exercício Python 23: Faça um programa que leia um número de 0 a 9999 e mostre na tela cada um dos dígitos separados.\n",
        "\n",
        "\n",
        "\n",
        "n = int(input('Digite um número de 0 a 9999: '))\n",
        "unidade = n % 10\n",
        "dezena = (n // 10) % 10\n",
        "centena = (n // 100 ) % 10\n",
        "milhar =  (n // 1000) % 10\n",
        "print(f'unidade {unidade}\\ndezena {dezena}\\ncentena {centena}\\nmilhar {milhar}\\n')"
      ],
      "metadata": {
        "id": "h3BMM4O1szzu"
      },
      "execution_count": null,
      "outputs": []
    },
    {
      "cell_type": "code",
      "source": [
        "#024: Crie um programa que leia o nome de uma cidade diga se ela começa ou não com o nome \"SANTO\".\n",
        "\n",
        "cidade = str(input('Digite o nome da cidade: ')).upper()\n",
        "if cidade.split()[0] == 'SANTO':\n",
        "  print('A cidade começa com o nome SANTO ')\n",
        "else:\n",
        "   print('A cidade não começa com o nome SANTO') \n",
        "\n"
      ],
      "metadata": {
        "id": "iBDdILJ5u7SN"
      },
      "execution_count": null,
      "outputs": []
    },
    {
      "cell_type": "code",
      "source": [
        "#Exercício Python 24: Crie um programa que leia o nome de uma cidade diga se ela começa ou não com o nome “SANTO”.\n",
        "\n",
        "c = str(input('Digite o nome da sua cidade: ')).strip()\n",
        "v = c.split()[0].upper() == 'SANTO'\n",
        "print(f'A cidade digitada {c}\\n e para santo {v}')\n"
      ],
      "metadata": {
        "id": "nsG9iRQ1qn0V"
      },
      "execution_count": null,
      "outputs": []
    },
    {
      "cell_type": "code",
      "source": [
        "cidade = input(\"Digite o nome da cidade: \")\n",
        "\n",
        "if cidade.upper().startswith(\"SANTO\"):\n",
        "    print(\"O nome da cidade começa com SANTO\")\n",
        "else:\n",
        "    print(\"O nome da cidade não começa com SANTO\")"
      ],
      "metadata": {
        "id": "kc2dBy5IwtIc"
      },
      "execution_count": null,
      "outputs": []
    },
    {
      "cell_type": "code",
      "source": [
        "#025: Crie um programa que leia o nome de uma pessoa e diga se ela tem \"SILVA\" no nome.\n",
        "\n",
        "name = str(input('Digite seu nome completo: ')).upper()\n",
        "\n",
        "if name.find('SILVA') != -1:\n",
        "  print(f'O nome {name} tem SILVA')\n",
        "else:\n",
        "  print(f'O nome {name} não tem SILVA') "
      ],
      "metadata": {
        "id": "LSp19bUFzgiz"
      },
      "execution_count": null,
      "outputs": []
    },
    {
      "cell_type": "code",
      "source": [
        "#025: Crie um programa que leia o nome de uma pessoa e diga se ela tem \"SILVA\" no nome.\n",
        "\n",
        "name = str(input('Digite seu nome completo: ')).upper()\n",
        "\n",
        "if 'SILVA' in name:\n",
        "  print(f'O nome {name} tem SILVA')\n",
        "else:\n",
        "  print(f'O nome {name} não tem SILVA') "
      ],
      "metadata": {
        "id": "AvdYdZTc1x_U"
      },
      "execution_count": null,
      "outputs": []
    },
    {
      "cell_type": "code",
      "source": [
        "n = str(input(\"Digite seu nome completo: \")).strip()\n",
        "print(f'Existe \"Silva\" no seu nome? { \"SILVA\" in n.upper() }')"
      ],
      "metadata": {
        "id": "nBAK7i4vtkhY"
      },
      "execution_count": null,
      "outputs": []
    },
    {
      "cell_type": "code",
      "source": [
        "#026: Faça um programa que leia uma frase pelo teclado e mostre quantas \n",
        "#vezes aparece a letra \"A\", em que posição ela aparece a primeira vez e em que posição ela aparece a última vez.\n",
        "palavra = str(input('Digite uma frase: ')).upper()\n",
        "\n",
        "rep = palavra.count('A')\n",
        "primeira = palavra.find('A')\n",
        "ultima = palavra.rfind('A')\n",
        "\n",
        "print(f'A frase {palavra} tem a letra \"A\" {rep} vezes\\n a primeira posição é em {primeira}\\n e a ultima posição é em {ultima}\\n')\n"
      ],
      "metadata": {
        "id": "6QWeFDft2EFK"
      },
      "execution_count": null,
      "outputs": []
    },
    {
      "cell_type": "code",
      "source": [
        "#027: Faça um programa que leia o nome completo de uma pessoa, mostrando em seguida o primeiro e o último nome separadamente.\n",
        "nome_completo = str(input('Digite seu nome completo: '))\n",
        "lista = nome_completo.split()\n",
        "\n",
        "primeiro_nome = lista[0]\n",
        "\n",
        "ultimo_nome = lista[-1]\n",
        "\n",
        "print(f'O primeiro nome de {nome_completo}\\n é {primeiro_nome}\\n e o último nome é {ultimo_nome}\\n ')\n"
      ],
      "metadata": {
        "id": "YwEWimoT3gD7"
      },
      "execution_count": null,
      "outputs": []
    },
    {
      "cell_type": "markdown",
      "source": [
        "MÓDULO 10"
      ],
      "metadata": {
        "id": "2DoTTwxzwf4j"
      }
    },
    {
      "cell_type": "code",
      "source": [
        "n = str(input('Digite seu nome: ')).upper()\n",
        "if n == 'DAVI':\n",
        "  print(f'Seja bem vindo {n}')\n",
        "else:\n",
        "  print('Usuario não autorizado')  \n",
        "print('Sessão Finalizada')  "
      ],
      "metadata": {
        "id": "8j2ThXNHwjr9"
      },
      "execution_count": null,
      "outputs": []
    },
    {
      "cell_type": "code",
      "source": [
        "print('Seja Bem vindo digite seu nome e senha')\n",
        "n = str(input('Digite seu nome: ')).upper()\n",
        "s = int(input('Digite sua senha: '))\n",
        "if n == 'DAVI' and s == 123:\n",
        "    print('Seja bem vindo ao sistema de notas')\n",
        "    nota1 = float(input('Digite a primeira nota: '))\n",
        "    nota2 = float(input('Digite a segunda nota: '))\n",
        "    media = (nota1+nota2)/2\n",
        "    if media >= 6.0:\n",
        "      print(f'Parabéns aluno aprovado com média {media}')\n",
        "    else:\n",
        "        print('Aluno em recuperação')\n",
        "else:\n",
        "  print('Usuário não registrado e senha inválida')\n",
        "print('FIM DO PROGRAMA')          \n"
      ],
      "metadata": {
        "id": "cWALQ9g_yV4j"
      },
      "execution_count": null,
      "outputs": []
    },
    {
      "cell_type": "code",
      "source": [
        "#exercício 28 gerar um numero aleatorio e verificar se o numero digitado e o correto\n",
        "import random\n",
        "from time import sleep\n",
        "print('- \\u2620 -'*20)\n",
        "print('Pensei em um número: ? ')\n",
        "print('- \\u2620 -'*20)\n",
        "sorteio = random.randint(0,5)\n",
        "n = int(input('Digite um numero entre 0 e 5 e veja se voce advinhou o numero que pensei: '))\n",
        "print('Processando...')\n",
        "sleep(4)\n",
        "if n == sorteio:\n",
        "  print('Parabéns você acertou \\U0001F973!!')\n",
        "else:\n",
        "  print(f'Não foi dessa vez ótario {sorteio} \\U0001F921!')  \n"
      ],
      "metadata": {
        "id": "LCYdw2A31dS6"
      },
      "execution_count": null,
      "outputs": []
    },
    {
      "cell_type": "code",
      "source": [
        "#29 Radar eletrônico\n",
        "print('Qual a velocidade atual do seu veículo: ')\n",
        "v = int(input('Digite a velocidade atual: '))\n",
        "multa = (v - 80)*7\n",
        "vat = v - 80\n",
        "\n",
        "if v > 80:\n",
        "   print(f'A sua velocidade de {v}Km/h você esta acima do limite de velocidadee em {vat}km/h \\U0001F480 e isso gerou uma multa de R${multa:.2f} \\U0001F973!! ')\n",
        "   \n",
        "else:\n",
        "  print('Você está no limite correto de velocidade da via' )  "
      ],
      "metadata": {
        "id": "vPLwPZtl7c0r"
      },
      "execution_count": null,
      "outputs": []
    },
    {
      "cell_type": "code",
      "source": [
        "# 30 par ou ímpar\n",
        "\n",
        "p = int(input('Digite um número inteiro: '))\n",
        "\n",
        "if p % 2 == 0 :\n",
        "  print('O numero é PAR')\n",
        "\n",
        "else:\n",
        "  print('O número e ímpar')  \n"
      ],
      "metadata": {
        "id": "V_qZR4kG6vta"
      },
      "execution_count": null,
      "outputs": []
    },
    {
      "cell_type": "code",
      "source": [
        "#31\n",
        "#custo da passagem da viajem\n",
        "\n",
        "km = float(input('Digite a distancia em KM da viajem: '))\n",
        "\n",
        "if km <= 200:\n",
        "  custo = km * 0.50\n",
        "else:\n",
        "   custo = km * 0.45 \n",
        "   \n",
        "print(f'O valor da passagem de {km}Km é de R${custo}')\n",
        "\n"
      ],
      "metadata": {
        "id": "hUJJEFGX_ccw"
      },
      "execution_count": null,
      "outputs": []
    },
    {
      "cell_type": "code",
      "source": [
        "#32 Verificar se o ano e Bissexto\n",
        "from datetime import date\n",
        "ano = int(input('Digite o ano:   ou 0 para verificar o ano atual'))\n",
        "\n",
        "if ano == 0:\n",
        "  ano = date.today().year\n",
        "\n",
        "if ano % 4 == 0 and (ano % 100 != 0 or ano % 400 == 0):\n",
        "  print(f'O ano {ano} é Bissexto')\n",
        "\n",
        "else:\n",
        "  print(f'O ano {ano} não é Bissexto')  \n"
      ],
      "metadata": {
        "id": "ZF90bYZlCR16"
      },
      "execution_count": null,
      "outputs": []
    },
    {
      "cell_type": "code",
      "source": [
        "# 33 maior ou menor número dentre 3\n",
        "\n",
        "n1 = int(input('Digite um número: '))\n",
        "n2 = int(input('Digite número 2: '))\n",
        "n3 = int(input('Digite o número 3: '))\n",
        "\n",
        "if n1 > n2 and n1 > n3:\n",
        "  print(f'O numero {n1} é maior')\n",
        "  \n",
        "elif n2 > n1 and n2 > n3:\n",
        "  print(f'O número {n2} é maior')\n",
        "\n",
        "else:\n",
        "  print(f'O numero {n3} é maior')\n",
        "\n",
        "if n1 < n2 and n1 < n3:\n",
        "  print(f'O número {n1} é menor')\n",
        "\n",
        "elif n2 < n1 and n2 < n3:\n",
        "   print(f'O número {n2} é menor') \n",
        "\n",
        "else:\n",
        "  print(f'O número {n3} é menor')       "
      ],
      "metadata": {
        "id": "PZOBYI9mElU5"
      },
      "execution_count": null,
      "outputs": []
    },
    {
      "cell_type": "code",
      "source": [
        "# 34 cálculo de sálario\n",
        "\n",
        "print('m =====Bem vindo ao sistema de Cálculo de salário=====')\n",
        "\n",
        "s = float(input('Digite o valor atual do salário do funcionário R$'))\n",
        "\n",
        "if s <= 1250.00:\n",
        "  ns = s + ((s*15)/100)\n",
        "else:\n",
        "  ns = s + ((s*10 )/ 100)  \n",
        "print(f'O novo salário é de R${ns}')"
      ],
      "metadata": {
        "id": "SvjCWcwqIf5B"
      },
      "execution_count": null,
      "outputs": []
    },
    {
      "cell_type": "code",
      "source": [
        "#35 formando um triângulo\n",
        "!pip install colorama\n",
        "import matplotlib.pyplot as plt\n",
        "from time import sleep\n",
        "import colorama\n",
        "from colorama import Fore\n",
        "\n",
        "a = float(input('Digite uma valor para a primeira reta : '))\n",
        "b = float(input('Digite uma valor para a segunda reta : '))\n",
        "c = float(input('Digite uma valor para a terceira reta : '))\n",
        "\n",
        "if a < b + c and b < a + c and c < a + b:\n",
        "  # Calcula as coordenadas dos três vértices do triângulo\n",
        "  x1, y1 = 0, 0\n",
        "  x2, y2 = c, 0\n",
        "  x3 = (a**2 - b**2 + c**2) / (2 * c)\n",
        "  y3 = (a**2 - x3**2)**0.5\n",
        "\n",
        "  # Plota o triângulo\n",
        "  plt.plot([x1, x2, x3, x1], [y1, y2, y3, y1])\n",
        "\n",
        "\n",
        "  print('Processando...')\n",
        "  sleep(2)\n",
        "\n",
        "  #if a == b == c:\n",
        "   #print('Triângulo equilátero')\n",
        "   #print('Processando...')\n",
        "   #sleep(2)\n",
        "   #plt.show()\n",
        "\n",
        "  #elif a == b and a != c or a == c and a != b or b == c and b != a:\n",
        "  # print('Triângulo isosceles')  \n",
        "  # print('Processando...')\n",
        "  # sleep(2)\n",
        "  # plt.show()\n",
        "\n",
        "  #else:\n",
        "  # print('Triangulo escaleno')\n",
        "  # print('Processando...')\n",
        "  # sleep(2)\n",
        "  # plt.show()  \n",
        "\n",
        "  print('Podemos formar um triangulo ')\n",
        "  plt.show()\n",
        "\n",
        "else:\n",
        " print(Fore.RED + 'Não é possivel fazer um \\u25B2' + Fore.RESET)"
      ],
      "metadata": {
        "id": "j2063oSeLj4e"
      },
      "execution_count": null,
      "outputs": []
    },
    {
      "cell_type": "markdown",
      "source": [
        "MUNDO 2 Aulas em vídeo"
      ],
      "metadata": {
        "id": "2mSIm-ww94eu"
      }
    },
    {
      "cell_type": "code",
      "source": [
        "#36 - Calculando emprestimo de uma casa\n",
        "casa = float(input('Digite o valor do imovél R$ '))\n",
        "tempo = int(input('Digite o numeros de parcelas em meses: '))\n",
        "salario = float(input('Digite o valor do seu salário R$ '))\n",
        "\n",
        "prestação = casa / tempo\n",
        "\n",
        "salario_novo = salario * 0.3\n",
        "\n",
        "if prestação <= salario_novo:\n",
        "   print('emprestimo aceito') \n",
        "\n",
        "   print(f'O Valor das Parcelas a serem pagas em {tempo} Meses é de R${prestação:.2f} ao Mês')\n",
        "\n",
        "\n",
        "else:\n",
        "  print(f'Empréstimo negado o valor da presção R${prestação:.2f} excede o valor de 30% do seu salário')\n",
        "  "
      ],
      "metadata": {
        "colab": {
          "base_uri": "https://localhost:8080/"
        },
        "id": "NykjDOIV98fI",
        "outputId": "79bb20e9-39e7-40cd-e0ae-51ce46705c0a"
      },
      "execution_count": null,
      "outputs": [
        {
          "output_type": "stream",
          "name": "stdout",
          "text": [
            "Digite o valor do imovél R$ 150000\n",
            "Digite o numeros de parcelas em meses: 60\n",
            "Digite o valor do seu salário R$ 12000\n",
            "emprestimo aceito\n",
            "O Valor das Parcelas a serem pagas em 60 Meses é de R$2500.00 ao Mês\n"
          ]
        }
      ]
    },
    {
      "cell_type": "code",
      "source": [
        "casa = float(input('\\033[35mQual o valor da casa\\033[m? '))\n",
        "salário = float(input('\\033[36mQual é o seu salário\\033[m? '))\n",
        "anos = float(input('\\033[32mEm quantos anos você vai pagar\\033[m? '))\n",
        "prestação = casa / (anos * 12)\n",
        "\n",
        "print('-=-' * 20)\n",
        "if salário * 0.30 >= prestação:\n",
        "    print('\\033[4mParabéns, seu financiamento foi aprovado\\033[m!!!')\n",
        "else:\n",
        "    print('\\033[4mDesculpe, mas seu financiamento foi negado\\033[m')"
      ],
      "metadata": {
        "id": "w4VTUIFUYwQL"
      },
      "execution_count": null,
      "outputs": []
    },
    {
      "cell_type": "code",
      "source": [
        "#37 - Transforme um numero em binario, octal e hexadecimal\n",
        "\n",
        "n = int(input('\\033[33m Digite um número inteiro: ' ))\n",
        "\n",
        "opção = int(input('''\\033[34m\n",
        "[1] para binário \n",
        "[2] para octal \n",
        "[3] para hexadecimal \\n'''))\n",
        "\n",
        "if opção == 1 :\n",
        "  binario = bin(n)\n",
        "  print(f'\\033[33m O numero {n} em Binario é {binario[2:]}')\n",
        "elif opção == 2: \n",
        "  octal = oct(n)\n",
        "  print(f'\\033[33m O número {n} em octal é de {octal[2:]}')\n",
        "elif opção == 3:\n",
        "  hexa = hex(n)\n",
        "  print(f'\\033[33m O número {n} em hexadecimal é de {hexa[2:]}')\n",
        "\n",
        "else:\n",
        "   print('Número inválido!') \n"
      ],
      "metadata": {
        "id": "P2H64jWJdn6T",
        "colab": {
          "base_uri": "https://localhost:8080/"
        },
        "outputId": "3fb3366b-b719-4367-b75f-a6cce3bc3fdd"
      },
      "execution_count": null,
      "outputs": [
        {
          "output_type": "stream",
          "name": "stdout",
          "text": [
            "\u001b[33m Digite um número inteiro: 22\n",
            "\u001b[34m\n",
            "[1] para binário \n",
            "[2] para octal \n",
            "[3] para hexadecimal \n",
            "3\n",
            "\u001b[33m O número 22 em hexadecimal é de 16\n"
          ]
        }
      ]
    },
    {
      "cell_type": "code",
      "source": [
        "n1 = int(input('Digite o primeiro numero: '))\n",
        "n2 = int(input('Digite o segundo numero: '))\n",
        "\n",
        "if n1 > n2:\n",
        "  print(f'O primeiro número digitado e Maior')\n",
        "\n",
        "elif n2 > n1:\n",
        "  print('O segundo numero digitado e Maior')  \n",
        "\n",
        "else:\n",
        "  print('Os Numeros são iguais ')\n"
      ],
      "metadata": {
        "id": "aBrXZ06SogOR",
        "colab": {
          "base_uri": "https://localhost:8080/"
        },
        "outputId": "663cd3c4-7059-4f59-925d-5b41a1159bc9"
      },
      "execution_count": null,
      "outputs": [
        {
          "output_type": "stream",
          "name": "stdout",
          "text": [
            "Digite o primeiro numero: 2\n",
            "Digite o segundo numero: 2\n",
            "Os Numeros são iguais \n"
          ]
        }
      ]
    },
    {
      "cell_type": "code",
      "source": [
        "\n",
        "from datetime import date #importando a biblioteca datatime\n",
        "\n",
        "#lendo o ano de nascimento do usuario\n",
        "ano_nascimento = int(input('Digite seu ano de nascimento com 4 digitos: '))\n",
        "\n",
        "#selecionando o ano atual\n",
        "ano_atual = date.today().year\n",
        "\n",
        "#calculando a idade da pessoa\n",
        "idade = ano_atual - ano_nascimento\n",
        "\n",
        "#verificando a data digitada\n",
        "if ano_nascimento <= 1900:\n",
        "  print(f'Data {ano_nascimento} inválida')\n",
        "else:  \n",
        "#verificando se a idade e maior de 18 anos e quanto anos passaram do alistamento\n",
        " if idade > 18:\n",
        "  exc = idade - 18 #calculando anos que passaram para se alistar\n",
        "\n",
        "  ano_alistamento = ano_atual - exc #calculando o ano de alistamento\n",
        "\n",
        "  print(f'Você excedeu o limite de alistamento em {exc} anos, seu alistamento foi em {ano_alistamento}')\n",
        "\n",
        "# verificando se a idade e menor de 18 anos e informando os anos que faltam par se alistar  \n",
        " elif idade < 18:\n",
        "\n",
        "  exc = 18 - idade #calculando anos que faltam para se alistar\n",
        "\n",
        "  ano_alistamento = ano_atual + exc #calculando o ano de alistamento\n",
        "\n",
        "  print(f'Voce ainda esta fora do prazo de alistamento sua idade é de {idade} anos, ainda faltam {exc} anos, seu alistamento é em {ano_alistamento}')\n",
        "\n",
        "# se a idade for igual a 18 anos informa que deve se alisatar \n",
        " else:\n",
        "  print('Você está no prazo de alistamento, procure uma unidade militar mais próxima e evite penalidades!')  \n",
        "\n",
        "\n",
        "\n",
        "\n"
      ],
      "metadata": {
        "id": "XL_rC1Vrjva3",
        "colab": {
          "base_uri": "https://localhost:8080/"
        },
        "outputId": "1728cfbe-1cd0-4c02-8899-fca69ed8eb0a"
      },
      "execution_count": null,
      "outputs": [
        {
          "output_type": "stream",
          "name": "stdout",
          "text": [
            "Digite seu ano de nascimento com 4 digitos: 1975\n",
            "Você excedeu o limite de alistamento em 30 anos, seu alistamento foi em 1993\n"
          ]
        }
      ]
    },
    {
      "cell_type": "code",
      "source": [
        "#40 calcue a média e mostre aprovado, em recuperação e reprovado\n",
        "\n",
        "mes = '\\033[36mCácluo de Média do aluno'\n",
        "larg = 130\n",
        "print('\\033[1;33;42m=-=' * 20 + 'Bem vindo' + '=-=' * 20 + '\\033[0m')\n",
        "print(mes.center(larg))\n",
        "print('\\033[33;42m' + '=-=' * 20 + '=-=' * 23 + '\\033[0m')\n",
        "\n",
        "nota1 = float(input('Digite a primeira nota do Aluno: \\n'))\n",
        "\n",
        "nota2 = float(input('Digite a  segunda nota do Aluno: \\n'))\n",
        "\n",
        "media = (nota1 + nota2) / 2\n",
        "\n",
        "if media >= 7.0:\n",
        "  print(f'\\033[32mAluno aprovado! com média  {media:.2f}')\n",
        "\n",
        "elif media >= 5.0 and media <= 6.9:\n",
        "  print(f'\\033[33mAluno está em recuperação com média  {media:.2f}')\n",
        "\n",
        "else:\n",
        "  print(f'\\033[31mAluno está reprovado! com média  {media:.2f}')  \n",
        "\n",
        "\n"
      ],
      "metadata": {
        "id": "-bEC-74pTbvk"
      },
      "execution_count": null,
      "outputs": []
    },
    {
      "cell_type": "code",
      "source": [
        "#41 ler uma data de nascimento e mostrar a categoria dela de acordo com a idade\n",
        "\n",
        "#importando a biblioteca datetime para calcular a idade aatual\n",
        "import datetime\n",
        "\n",
        "#Inserindo o nome da pessoas a ser analisado\n",
        "nome = str(input('Digite o nome da Pessoa: '))\n",
        "\n",
        "#pegando a data de nascimeto da pessoa\n",
        "nascimento = int(input('Digite seu ano de Nascimento com 4 dígitos: '))\n",
        "\n",
        "#verificando a idade atual da pessoa\n",
        "idade = date.today().year - nascimento\n",
        "\n",
        "#Fazendo a verificação das categorias de acordo com a idade\n",
        "\n",
        "if idade <= 9 :\n",
        "  print(f'{nome} você pertence a categoria MIRIM'),\n",
        "\n",
        "elif idade > 9 and idade <= 14:\n",
        "  print(f'{nome} Você pertence a categoria INFANTIL')  \n",
        "\n",
        "elif idade > 14 and idade <= 19:\n",
        "  print(f'{nome} você pertence a categoria JÚNIOR') \n",
        "\n",
        "elif idade == 20:\n",
        "  print(f'{nome} Você pertence a categoria SÊNIOR')\n",
        "\n",
        "else:\n",
        "  print(f'{nome} você pertence a categoria MASTER')\n",
        "\n",
        "                 ##FIM##"
      ],
      "metadata": {
        "id": "_1rnd1HUuwtf"
      },
      "execution_count": null,
      "outputs": []
    },
    {
      "cell_type": "code",
      "source": [
        "#42 Verificando se é possivel construir um triângulo e se for qual seria o triângulo\n",
        "!pip install colorama\n",
        "import matplotlib.pyplot as plt\n",
        "from time import sleep\n",
        "import colorama\n",
        "from colorama import Fore\n",
        "\n",
        "a = float(input('Digite uma valor para a primeira reta : '))\n",
        "b = float(input('Digite uma valor para a segunda reta : '))\n",
        "c = float(input('Digite uma valor para a terceira reta : '))\n",
        "\n",
        "if a < b + c and b < a + c and c < a + b:\n",
        "  # Calcula as coordenadas dos três vértices do triângulo\n",
        "  x1, y1 = 0, 0\n",
        "  x2, y2 = c, 0\n",
        "  x3 = (a**2 - b**2 + c**2) / (2 * c)\n",
        "  y3 = (a**2 - x3**2)**0.5\n",
        "\n",
        "  # Plota o triângulo\n",
        "  plt.plot([x1, x2, x3, x1], [y1, y2, y3, y1])\n",
        "\n",
        "\n",
        "  print('Processando...')\n",
        "  sleep(2)\n",
        "\n",
        "  if a == b == c:\n",
        "   print('Triângulo equilátero')\n",
        "   print('Processando...')\n",
        "   sleep(2)\n",
        "   plt.show()\n",
        "\n",
        "  elif a == b and a != c or a == c and a != b or b == c and b != a:\n",
        "   print('Triângulo isosceles')  \n",
        "   print('Processando...')\n",
        "   sleep(2)\n",
        "   plt.show()\n",
        "\n",
        "  else:\n",
        "   print('Triangulo escaleno')\n",
        "   print('Processando...')\n",
        "   sleep(2)\n",
        "   plt.show()  \n",
        "\n",
        "#print('Podemos formar um triangulo ')\n",
        "#plt.show()\n",
        "\n",
        "else:\n",
        " print(Fore.RED + 'Não é possivel fazer um \\u25B2' + Fore.RESET)"
      ],
      "metadata": {
        "id": "mngO-ryxL27P"
      },
      "execution_count": null,
      "outputs": []
    },
    {
      "cell_type": "code",
      "source": [
        "#43 IMC\n",
        "peso = int(input('Digite seu peso: '))\n",
        "altura = float(input('Digite sua altura: '))\n",
        "alt = pow(altura,2)\n",
        "#mc = peso/alt\n",
        "#print(mc)\n",
        "IMC = peso / alt #(altura * altura)\n",
        "\n",
        "\n",
        "if IMC < 18.5:\n",
        "  print(f'\\033[33mSeu índice de Massa Corporal é de: {IMC:.2f} você está abaixo do Peso Ideal ')\n",
        "\n",
        "elif IMC >= 18.5 and IMC <= 25:\n",
        "  print(f'\\033[34mSeu índice de Massa Corporal é de: {IMC:.2f} você está no Peso Ideal ')\n",
        "\n",
        "elif IMC > 25 and IMC <= 30:\n",
        "  print(f'\\033[35mSeu índice de Massa Corporal é de: {IMC:.2f} você está com sobrePeso ')\n",
        "\n",
        "elif IMC > 30 and IMC <= 40:\n",
        "  print(f'\\033[32mSeu índice de Massa Corporal é de: {IMC:.2f} você está Obeso ') \n",
        "\n",
        "else :\n",
        "  print(f'\\033[33mSeu índice de Massa Corporal é de: {IMC:.2f} você está com obesidade morbida \\U0001F480')\n"
      ],
      "metadata": {
        "id": "IgIQJj_KUXFa"
      },
      "execution_count": null,
      "outputs": []
    },
    {
      "cell_type": "code",
      "source": [
        "#44 Calculando valor a ser pago\n",
        "\n",
        "valor_normal = float(input('Digite o valor do produto R$'))\n",
        "op = int(input('''Escolha a Forma de Pagamento: \n",
        "[1] Á vista ou Cheque\n",
        "[2] Á vista no cartão\n",
        "[3] Até 2x no cartão\n",
        "[4] 3x ou mais parcelas\\n''' ))\n",
        "\n",
        "if op == 1:\n",
        "  dez = ((valor_normal /100)*10)\n",
        "  desconto = valor_normal - ((valor_normal /100)*10)\n",
        "  print(f'Valor a Pagar R${desconto:.2f}\\no valor do desconto foi de R${dez:.2f}')\n",
        "\n",
        "elif op == 2:\n",
        "    cinco = ((valor_normal /100)*5)\n",
        "    desconto = valor_normal - ((valor_normal /100)*5)\n",
        "    print(f'Valor a Pagar R${desconto:.2f}\\n o valor do desconto foi de R${cinco:.2f}')\n",
        "\n",
        "elif op == 3:\n",
        "    p = valor_normal / 2\n",
        "    print(f'O valor a pagar R${valor_normal:.2f}\\n em 2 parcelas de R${p:.2f}')\n",
        "\n",
        "elif op == 4:\n",
        "  j = valor_normal + (valor_normal *20 / 100)\n",
        "  qtd_parcelas = int(input('Informe o Número de Parcelas a partir de 3x '))\n",
        "  valor_parcelas = j / qtd_parcelas\n",
        "  print(f'O valor a pagar R${j:.2f} com juros em {qtd_parcelas}X de {valor_parcelas:.2f}')\n",
        "\n",
        "else:\n",
        "  print('Opção Inválida!')  "
      ],
      "metadata": {
        "id": "PaOf9DmmcxfZ",
        "colab": {
          "base_uri": "https://localhost:8080/"
        },
        "outputId": "b53bf65f-27cb-43b5-e7c4-51bcedeccda6"
      },
      "execution_count": null,
      "outputs": [
        {
          "output_type": "stream",
          "name": "stdout",
          "text": [
            "Digite o valor do produto R$3000\n",
            "Escolha a Forma de Pagamento: \n",
            "[1] Á vista ou Cheque\n",
            "[2] Á vista no cartão\n",
            "[3] Até 2x no cartão\n",
            "[4] 3x ou mais parcelas\n",
            "4\n",
            "Informe o Número de Parcelas a partir de 3x 4\n",
            "O valor a pagar R$3600.00 com juros em 4X de 900.00\n"
          ]
        }
      ]
    },
    {
      "cell_type": "code",
      "source": [
        "import random\n",
        "from time import sleep\n",
        "opçoes = ['Pedra', 'Papel','Tesoura']\n",
        "\n",
        "op = str(input('''Digite:\n",
        "Pedra\n",
        "Papel\n",
        "Tesoura \\n\\n''')).upper()\n",
        "\n",
        "maquina = random.choice(opçoes).upper()\n",
        "print('-==-'*40)\n",
        "print('JO')\n",
        "sleep(1)\n",
        "print('KEN')\n",
        "sleep(1)\n",
        "print('PO')\n",
        "sleep(1)\n",
        "print('-==-'*40)\n",
        "\n",
        "print(f\"Você escolheu: {op}\")\n",
        "print(f\"O computador escolheu: {maquina}\")\n",
        "print('-==-'*40)\n",
        "if op == 'PEDRA' and maquina == 'TESOURA' or op == 'PAPEL' and maquina == 'PEDRA' or op == 'TESOURA' and maquina == 'PAPEL' :\n",
        "  print('Parabéns você Ganhou')\n",
        "\n",
        "elif op == 'PEDRA' and maquina == 'PAPEL' or op == 'PAPEL' and maquina == 'TESOURA' or op == 'TESOURA' and maquina == 'PEDRA':\n",
        "  print('Infelizmente você Perdeu ')\n",
        "\n",
        "elif op == maquina:\n",
        "  print('Houve um empate!') \n",
        "\n",
        "else:\n",
        "  print('Opção inválida')     \n",
        "\n",
        "\n"
      ],
      "metadata": {
        "colab": {
          "base_uri": "https://localhost:8080/"
        },
        "id": "sYjzpUo9itIv",
        "outputId": "d9cddca0-7227-4297-c769-debf7d9176be"
      },
      "execution_count": null,
      "outputs": [
        {
          "output_type": "stream",
          "name": "stdout",
          "text": [
            "Digite:\n",
            "Pedra\n",
            "Papel\n",
            "Tesoura \n",
            "\n",
            "papel\n",
            "-==--==--==--==--==--==--==--==--==--==--==--==--==--==--==--==--==--==--==--==--==--==--==--==--==--==--==--==--==--==--==--==--==--==--==--==--==--==--==--==-\n",
            "JO\n",
            "KEN\n",
            "PO\n",
            "-==--==--==--==--==--==--==--==--==--==--==--==--==--==--==--==--==--==--==--==--==--==--==--==--==--==--==--==--==--==--==--==--==--==--==--==--==--==--==--==-\n",
            "Você escolheu: PAPEL\n",
            "O computador escolheu: TESOURA\n",
            "-==--==--==--==--==--==--==--==--==--==--==--==--==--==--==--==--==--==--==--==--==--==--==--==--==--==--==--==--==--==--==--==--==--==--==--==--==--==--==--==-\n",
            "Infelizmente você Perdeu \n"
          ]
        }
      ]
    },
    {
      "cell_type": "code",
      "source": [
        "for i in range(0,22,2+2):\n",
        "  print(i)\n"
      ],
      "metadata": {
        "colab": {
          "base_uri": "https://localhost:8080/"
        },
        "id": "vY32IiOQrEQf",
        "outputId": "142a0978-553d-4994-f6b4-097a93309fc6"
      },
      "execution_count": null,
      "outputs": [
        {
          "output_type": "stream",
          "name": "stdout",
          "text": [
            "0\n",
            "4\n",
            "8\n",
            "12\n",
            "16\n",
            "20\n"
          ]
        }
      ]
    },
    {
      "cell_type": "code",
      "source": [
        "import random\n",
        "from time import sleep\n",
        "\n",
        "print(10*'-==-==','Bem vindo ao jogo de advinhação','-==-=='*10)\n",
        "sleep(2)\n",
        "\n",
        "while True:\n",
        " \n",
        " print('Pensei em número tente advinhar!!!')\n",
        " pc = random.randint(0,10)\n",
        " sleep(2)\n",
        " \n",
        " try:\n",
        "        numero = int(input('Digite um número de 0 a 10: '))\n",
        " except ValueError:\n",
        "        print('Digite apenas números de 0 a 10.')\n",
        "        continue\n",
        "\n",
        " print('Analisando número digitado AGUARDE!')\n",
        " sleep(2)\n",
        "\n",
        " if numero == pc:\n",
        "  print(f'\\033[32mParabéns você venceu! o número que pensei foi {pc}')\n",
        " else:\n",
        "  print(f'\\033[33mvocê perdeu,o número que pensei foi {pc} tente de novo') \n",
        "\n",
        "  op = str(input('Deseja tentar novamente?\\n S - SIM === N - NÃO\\n ')).upper()\n",
        "  if op == 'S' or op == 'SIM':\n",
        "    print('Recomeçando....')\n",
        "    sleep(2)\n",
        "  else:\n",
        "    print('FIM DO JOGO')\n",
        "    break\n",
        "\n",
        "\n"
      ],
      "metadata": {
        "id": "OHOtZLH410Ht"
      },
      "execution_count": null,
      "outputs": []
    },
    {
      "cell_type": "code",
      "source": [
        "#46 Faça um programa que mostre na tela uma contagem regressiva \n",
        "#para o estouro de fogos de artifício, indo de 10 até 0, com uma pausa de 1 segundo entre eles.\n",
        "from time import sleep\n",
        "for c in range(10,-1,-1):\n",
        "  print(c)\n",
        "  sleep(1)\n",
        "print('-=-==-= FOGOS ESTOURADOS!!!\\U0001F386 -=-==-=')\n",
        "sleep(1)"
      ],
      "metadata": {
        "colab": {
          "base_uri": "https://localhost:8080/"
        },
        "id": "swe_-s3Jhoyt",
        "outputId": "710e2b13-ceb9-4e51-854c-5878685cefc3"
      },
      "execution_count": null,
      "outputs": [
        {
          "output_type": "stream",
          "name": "stdout",
          "text": [
            "10\n",
            "9\n",
            "8\n",
            "7\n",
            "6\n",
            "5\n",
            "4\n",
            "3\n",
            "2\n",
            "1\n",
            "0\n",
            "-=-==-= FOGOS ESTOURADOS!!!🎆 -=-==-=\n"
          ]
        }
      ]
    },
    {
      "cell_type": "code",
      "source": [
        "#sorteando 6 numeros entre 1 e 60\n",
        "import random\n",
        "from time import sleep\n",
        "lista = []\n",
        "for a in range(6):\n",
        "  n =  random.randint(1, 60) #input('Digite um nome ') #int(input('digite um numero ')) \n",
        "  lista.append(n)\n",
        "for n in  lista: #range(100):\n",
        " #print(n, end=' ') \n",
        " #print(n, end=' ')\n",
        " #print(n)\n",
        " #print(n, end=' ')\n",
        " print(n, end=' ')\n",
        " sleep(1)\n",
        "#s = random.randint(lista)\n",
        "\n"
      ],
      "metadata": {
        "id": "wiY7RF9JkjlE"
      },
      "execution_count": null,
      "outputs": []
    },
    {
      "cell_type": "code",
      "source": [
        "#Testando um print de load\n",
        "from time import sleep\n",
        "for a in range(6):\n",
        "  print('.', end='' )\n",
        "  #print('Parabéns', end= ' ')\n",
        "  sleep(1)\n",
        "  "
      ],
      "metadata": {
        "id": "Fz9SgexCX_wY",
        "outputId": "4daf32b6-da49-4d76-c155-5993d8902b2c",
        "colab": {
          "base_uri": "https://localhost:8080/"
        }
      },
      "execution_count": null,
      "outputs": [
        {
          "output_type": "stream",
          "name": "stdout",
          "text": [
            "......"
          ]
        }
      ]
    },
    {
      "cell_type": "code",
      "source": [
        "#47 Mostrar todos os números pares entre 1 e 50\n",
        "from time import sleep\n",
        "for c in range (2,51,2):\n",
        "  sleep(1)\n",
        "  print(c, end = \" - \")\n"
      ],
      "metadata": {
        "colab": {
          "base_uri": "https://localhost:8080/"
        },
        "id": "kFa9rO_LJSvY",
        "outputId": "baf5bae7-d052-4c58-d835-a72828a96920"
      },
      "execution_count": null,
      "outputs": [
        {
          "output_type": "stream",
          "name": "stdout",
          "text": [
            "2 - 4 - 6 - 8 - 10 - 12 - 14 - 16 - 18 - 20 - 22 - 24 - 26 - 28 - 30 - 32 - 34 - 36 - 38 - 40 - 42 - 44 - 46 - 48 - 50 - "
          ]
        }
      ]
    },
    {
      "cell_type": "code",
      "source": [
        "#48 Soma de todos os numeros impares entre 1 e 500\n",
        "soma = 0\n",
        "cont = 0\n",
        "for c in range (1,501,2):\n",
        "  #SOMENTE NUMROS ÍMPARES\n",
        "  #if c % 2 !=0:\n",
        "   #print(c, end = \" - \")\n",
        "  if c % 3 ==0:\n",
        "   #print(f'Os números multiplos de 3 são: {c}')\n",
        "   soma +=  c\n",
        "   cont += 1\n",
        "print(f'A soma dos {cont} números multiplos de 3 é de: {soma}')\n"
      ],
      "metadata": {
        "colab": {
          "base_uri": "https://localhost:8080/"
        },
        "id": "MD-AWYmqQbil",
        "outputId": "d96ba30b-8925-4101-fdc1-528017cf2ca9"
      },
      "execution_count": null,
      "outputs": [
        {
          "output_type": "stream",
          "name": "stdout",
          "text": [
            "A soma dos 83 números multiplos de 3 é de: 20667\n"
          ]
        }
      ]
    },
    {
      "cell_type": "code",
      "source": [
        "for c in range(1,501,2):\n",
        "  if c % 3 == 0:\n",
        "     print(c, end = ' ')\n"
      ],
      "metadata": {
        "colab": {
          "base_uri": "https://localhost:8080/"
        },
        "id": "HSQ43taGuund",
        "outputId": "f6fa34e1-b7d7-4b6d-d0f8-0404dd485976"
      },
      "execution_count": null,
      "outputs": [
        {
          "output_type": "stream",
          "name": "stdout",
          "text": [
            "3 9 15 21 27 33 39 45 51 57 63 69 75 81 87 93 99 105 111 117 123 129 135 141 147 153 159 165 171 177 183 189 195 201 207 213 219 225 231 237 243 249 255 261 267 273 279 285 291 297 303 309 315 321 327 333 339 345 351 357 363 369 375 381 387 393 399 405 411 417 423 429 435 441 447 453 459 465 471 477 483 489 495 "
          ]
        }
      ]
    },
    {
      "cell_type": "code",
      "source": [
        "#49\n",
        "print('Bem vindo a tabuada de um número digitado')\n",
        "n = int(input('Digite um número: '))\n",
        "for i in range(1, 11):\n",
        "    print(f'{n} x {i} = {n*i}')"
      ],
      "metadata": {
        "id": "lAok37V_Xp3F"
      },
      "execution_count": null,
      "outputs": []
    },
    {
      "cell_type": "code",
      "source": [
        "#50 Desenvolva um programa que leia seis \n",
        "#números inteiros e mostre a soma apenas daqueles que forem pares. Se o valor digitado for ímpar, desconsidere-o.\n",
        "\n",
        "\n",
        "n = []\n",
        "soma = 0\n",
        "cont = 0\n",
        "print('Digite seis números inteiros: ')\n",
        "for c in range(1,7):\n",
        " n = int(input((f'Digite o {c}º valor: ')))\n",
        " if n %2 == 0 :\n",
        "  soma += n\n",
        "  cont += 1\n",
        "print(f'A soma dos numeros pares é: {soma} e existem {cont} numeros pares')"
      ],
      "metadata": {
        "colab": {
          "base_uri": "https://localhost:8080/"
        },
        "id": "Lu6O360AYndl",
        "outputId": "91a97814-8d47-436a-8212-18bc92864827"
      },
      "execution_count": null,
      "outputs": [
        {
          "output_type": "stream",
          "name": "stdout",
          "text": [
            "Digite seis números inteiros: \n",
            "Digite o 1º valor: 2\n",
            "Digite o 2º valor: 1\n",
            "Digite o 3º valor: 1\n",
            "Digite o 4º valor: 3\n",
            "Digite o 5º valor: 8\n",
            "Digite o 6º valor: 95\n",
            "A soma dos numeros pares é: 10 e existem 2 numero pares\n"
          ]
        }
      ]
    },
    {
      "cell_type": "code",
      "source": [
        "#51 Desenvolva um programa que leia o primeiro termo e a razão de uma PA. No final, mostre os 10 primeiros termos dessa progressão.\n",
        "a1 = int(input('Digite um termo: '))\n",
        "r = int(input('Digite a razão: '))\n",
        "for c in range(1,11):\n",
        "  an = a1 + (c - 1) * r\n",
        "  print(an, end = \" \")\n"
      ],
      "metadata": {
        "colab": {
          "base_uri": "https://localhost:8080/"
        },
        "id": "4pBjpB0Zb_lm",
        "outputId": "128fd841-9911-44a0-9446-a0f85753caeb"
      },
      "execution_count": null,
      "outputs": [
        {
          "output_type": "stream",
          "name": "stdout",
          "text": [
            "Digite um termo: 2\n",
            "Digite a razão: 3\n",
            "2 5 8 11 14 17 20 23 26 29 "
          ]
        }
      ]
    },
    {
      "cell_type": "code",
      "source": [
        "#52 Faça um programa que leia um número inteiro e diga se ele é ou não um número primo.\n",
        "n = int(input('Digite um numero : '))\n",
        "tot=0\n",
        "for c in range(1,n+1):\n",
        "  if n % c == 0:\n",
        "      print('\\33[34m', end =' ')\n",
        "      tot += 1\n",
        "  else:\n",
        "      print('\\33[33m', end = ' ') \n",
        "  print(f'{c}', end = ' ')    \n",
        "print(f'\\n\\033[m O numero {n} foi divisivel {tot} vezes', end = ' ') \n",
        "\n",
        "if tot == 2:\n",
        "  print('O número é primo')\n",
        "else:\n",
        "  print('O número não é primo')  \n",
        "\n",
        "     \n"
      ],
      "metadata": {
        "colab": {
          "base_uri": "https://localhost:8080/"
        },
        "id": "xUv5fT_pgGGO",
        "outputId": "3df8b802-a332-4169-fa41-0511df9f64df"
      },
      "execution_count": null,
      "outputs": [
        {
          "output_type": "stream",
          "name": "stdout",
          "text": [
            "Digite um numero : 5\n",
            "\u001b[34m 1 \u001b[33m 2 \u001b[33m 3 \u001b[33m 4 \u001b[34m 5 \n",
            "\u001b[m O numero 5 foi divisivel 2 vezes O número é primo\n"
          ]
        }
      ]
    },
    {
      "cell_type": "code",
      "source": [
        "# versão avançada Faça um programa que leia um número inteiro e diga se ele é ou não um número primo.\n",
        "\n",
        "def is_prime(n):\n",
        "    if n <= 1:\n",
        "        return False\n",
        "    for i in range(2, int(n**0.5)+1):\n",
        "        if n % i == 0:\n",
        "            return False\n",
        "    return True\n",
        "\n",
        "n = int(input('Digite um número: '))\n",
        "if is_prime(n):\n",
        "    print(f\"{n} é primo.\")\n",
        "else:\n",
        "    print(f\"{n} não é primo.\")"
      ],
      "metadata": {
        "colab": {
          "base_uri": "https://localhost:8080/"
        },
        "id": "mopwLeP8IIBZ",
        "outputId": "8a950223-c559-4207-e7f5-ee7281e9b327"
      },
      "execution_count": null,
      "outputs": [
        {
          "output_type": "stream",
          "name": "stdout",
          "text": [
            "Digite um número: 33\n",
            "33 não é primo.\n"
          ]
        }
      ]
    },
    {
      "cell_type": "code",
      "source": [
        "#53 Crie um programa que leia uma frase qualquer e diga se ela é um palíndromo, desconsiderando os espaços.\n",
        "frase = str(input('Digite uma frase e vamos ver se ela é um PALINDRO: ')).strip().upper()\n",
        "palavra = frase.split()\n",
        "junto = ''.join(palavra)\n",
        "inverso = junto[::-1]\n",
        "#for letra in range (len(junto) - 1, -1, -1):\n",
        " #  inverso += junto[letra]\n",
        "\n",
        "#palavra_reversa = palavra[::-1]\n",
        "if inverso == junto:\n",
        "  print(f'{inverso} é um palindro')\n",
        "else:\n",
        "  print('Não é palindro')  \n",
        "\n"
      ],
      "metadata": {
        "id": "LWuqLLg_ioxN",
        "colab": {
          "base_uri": "https://localhost:8080/"
        },
        "outputId": "eca49f39-b863-4d4e-f405-872ba8335d91"
      },
      "execution_count": null,
      "outputs": [
        {
          "output_type": "stream",
          "name": "stdout",
          "text": [
            "Digite uma frase e vamos ver se ela é um PALINDRO: anotaram a data da maratona\n",
            "ANOTARAMADATADAMARATONA é um palindro\n"
          ]
        }
      ]
    },
    {
      "cell_type": "code",
      "source": [
        "#54 ler 7 idades e diga quantas já são maiores de idade e quantas não são\n",
        "import datetime\n",
        "from datetime import date\n",
        "nascimento = []\n",
        "tot = 0\n",
        "tot2 = 0\n",
        "for i in range (1,8):\n",
        "  nascimento = int(input(f'Digite o {i}º ano de nascimento: '))\n",
        "  idade = date.today().year - nascimento\n",
        "  if idade >= 21:\n",
        "    tot += 1\n",
        "  else:\n",
        "    tot2 += 1\n",
        "\n",
        "\n",
        "print(f'Temos {tot2} pessoas menores de idade é {tot} pessoas maiores de idade')\n",
        "\n",
        " \n"
      ],
      "metadata": {
        "colab": {
          "base_uri": "https://localhost:8080/"
        },
        "id": "niZESxMZkQC0",
        "outputId": "ddb3465a-4106-4708-ecb1-a6cbd565f1ee"
      },
      "execution_count": null,
      "outputs": [
        {
          "output_type": "stream",
          "name": "stdout",
          "text": [
            "Digite o 1º ano de nascimento: 1980\n",
            "Digite o 2º ano de nascimento: 2020\n",
            "Digite o 3º ano de nascimento: 1970\n",
            "Digite o 4º ano de nascimento: 2016\n",
            "Digite o 5º ano de nascimento: 1969\n",
            "Digite o 6º ano de nascimento: 2023\n",
            "Digite o 7º ano de nascimento: 1985\n",
            "Temos 3 pessoas menores é 4 pessoas maiores\n"
          ]
        }
      ]
    },
    {
      "cell_type": "code",
      "source": [
        "#55 leia peso de 5 pessoas e diga o maior peso e o menor peso\n",
        "pesos = []\n",
        "cont = 0\n",
        "cont2 = 0\n",
        "for i in range (1,6):\n",
        "  peso = float(input(f'Digite o {i} peso: '))\n",
        "  pesos.append(peso) \n",
        "  menor_peso = min(pesos)\n",
        "  maior_peso = max(pesos)\n",
        "  #if menor_peso < maior_peso:\n",
        "    #cont += 1\n",
        "  #print(_'Menor peso {menor_peso}')\n",
        "  #else:\n",
        "    #cont2 += 1\n",
        "  #print(f'O maior peso é {maior_peso}')  \n",
        "print(f'O menor peso lido foi {menor_peso}Kg e o maior peso lido foi {maior_peso}Kg')  \n",
        "\n",
        " "
      ],
      "metadata": {
        "id": "go9ma9Kuroz1",
        "colab": {
          "base_uri": "https://localhost:8080/"
        },
        "outputId": "6aa26ee7-3078-4f00-9cd2-ad5a283d9654"
      },
      "execution_count": null,
      "outputs": [
        {
          "output_type": "stream",
          "name": "stdout",
          "text": [
            "Digite o 1 peso: 100\n",
            "Digite o 2 peso: 200\n",
            "Digite o 3 peso: 300\n",
            "Digite o 4 peso: 400\n",
            "Digite o 5 peso: 500\n",
            "O menor peso lido foi 100.0Kg e o maior peso lido foi 500.0Kg\n"
          ]
        }
      ]
    },
    {
      "cell_type": "code",
      "source": [
        "#56 Leia nome idade e sexo de 4 pessoas e mostre a idade media do grupo, o nome do homen mais velho e quantas mulheres tem mais de 20 anos\n",
        "\n",
        "somaidade = 0\n",
        "mediaidade = 0\n",
        "maior_idade_homen = 0\n",
        "nome_do_homen_mais_velho ='Não existe Homens nesta lista '\n",
        "tot20 = 0\n",
        "\n",
        "print('-----= Bem vindo ao cadastro de passageiros =-----\\n')\n",
        "opcao = int(input(' -==-==- Digite quantas pessoas serão cadastradas:   -==-==-  \\n'))\n",
        "\n",
        "\n",
        "\n",
        "for i in range (opcao):\n",
        "\n",
        "   print(f'------{i+1}ª Pessoa------\\n') #coletando os dados\n",
        "\n",
        "   nome = str(input('Nome: ')).strip()\n",
        "   sexo = str(input('Sexo M/F: ')).strip()\n",
        "   idade = int(input('Idade: '))\n",
        "\n",
        "   somaidade += idade #soma todas as idades digitadas\n",
        "\n",
        "   if i == 1 and sexo in 'Mm':\n",
        "      maior_idade_homen = idade\n",
        "      nome_do_homen_mais_velho = nome\n",
        "\n",
        "   elif  sexo in 'Mm' and idade >  maior_idade_homen:\n",
        "      maior_idade_homen = idade\n",
        "      nome_do_homen_mais_velho = nome\n",
        "\n",
        "   elif sexo in 'Ff' and idade < 20:\n",
        "      tot20 += 1    \n",
        "   else:\n",
        "    print('Opção inválida, volte ao menun inicial')\n",
        "  \n",
        "\n",
        "\n",
        "mediaidade = somaidade/opcao\n",
        "\n",
        "print(f'A média de idade do grupo é de : {mediaidade:.2f} anos')\n",
        "print(f'O homen mais velho tem {maior_idade_homen} anos e se chama {nome_do_homen_mais_velho}')\n",
        "print(f'Exitem {tot20} Mulheres menores de 20 anos')\n",
        "\n",
        "\n",
        "  "
      ],
      "metadata": {
        "colab": {
          "base_uri": "https://localhost:8080/"
        },
        "id": "IGUQ_GRpGQFy",
        "outputId": "85302211-ff67-44db-85df-0ef9e7cba24e"
      },
      "execution_count": null,
      "outputs": [
        {
          "output_type": "stream",
          "name": "stdout",
          "text": [
            "-----= Bem vindo ao cadastro de passageiros =-----\n",
            "\n",
            " -==-==- Digite quantas pessoas serão cadastradas:   -==-==-  \n",
            "2\n",
            "------1ª Pessoa------\n",
            "\n",
            "Nome: jose\n",
            "Sexo M/F: m\n",
            "Idade: 35\n",
            "------2ª Pessoa------\n",
            "\n",
            "Nome: msrio\n",
            "Sexo M/F: m\n",
            "Idade: 75\n",
            "A média de idade do grupo é de : 55.00 anos\n",
            "O homen mais velho tem 75 anos e se chama msrio\n",
            "Exitem 0 Mulheres menores de 20 anos\n"
          ]
        }
      ]
    },
    {
      "cell_type": "code",
      "source": [
        "from time import sleep\n",
        "\n",
        "moedas = []\n",
        "moeda = 0\n",
        "quantidade_reais = 0\n",
        "quantidade_dolares = 0\n",
        "quantidade_euros = 0\n",
        "valor_total = 0\n",
        "converterDolarEmReal = 0\n",
        "converterEuroEmReal = 0\n",
        "moeda_converter = 0\n",
        "op_convercao = 0\n",
        "\n",
        "quantidade_moedas = int(input('Quantas moedas você quer adicionar?: '))\n",
        "\n",
        "for c in range(quantidade_moedas):\n",
        "   opcao = int(input('Escolha a Moeda:\\n1 - Real\\n2 - Dolar\\n3 - Euro\\n'))\n",
        "\n",
        "   if opcao == 1:\n",
        "    moeda = 'Real'\n",
        "\n",
        "   elif opcao == 2:\n",
        "    moeda = 'Dolar'\n",
        " \n",
        "   elif opcao == 3:\n",
        "    moeda = 'Euro'\n",
        "   \n",
        "   else:\n",
        "    print('Opção inválida!')\n",
        "    continue;\n",
        "\n",
        "   valor = float(input(f'Digite o valor da moeda de {moeda}: '))\n",
        "\n",
        "   nova_moeda = {'moeda': moeda, 'valor': valor}\n",
        "   \n",
        "   moedas.append(nova_moeda)\n",
        "   valor_total = valor_total + valor\n",
        "\n",
        "#print(f'{moeda} {valor} adicionado com sucesso à lista de moedas!')\n",
        "\n",
        "for moeda in moedas:\n",
        "    if moeda['moeda'] == 'Real':\n",
        "        quantidade_reais += 1\n",
        "\n",
        "    elif moeda['moeda'] == 'Dolar':\n",
        "        quantidade_dolares += 1\n",
        "        \n",
        "\n",
        "    elif moeda['moeda'] == 'Euro':\n",
        "        quantidade_euros += 1\n",
        "        \n",
        "\n",
        "        op_convercao = int(input('Deseja converter a moeda em real?  1 - Sim  2 - Não == '))\n",
        "        print('Processando opção de convesão....')\n",
        "        sleep(2)\n",
        "    while op_convercao == 1:\n",
        "        #if op_convercao == 1:\n",
        "                moeda_converter = int(input('Qual moeda deseja converter 1 - Dolar 2 - Euro  3 - Sair'))\n",
        "                print('Aguarde Processando...')\n",
        "                sleep(2);\n",
        "\n",
        "                if moeda_converter == 1:\n",
        "                         print(f'Convertendo moeda....')\n",
        "                         sleep(2)\n",
        "                         converterDolarEmReal = moeda['valor']  * 5.25\n",
        "                         print(f'Moeda Convertida {moeda[\"valor\"]}')\n",
        "\n",
        "                elif moeda_converter== 2:\n",
        "                         print(f'Convertendo moeda....')\n",
        "                         sleep(2)\n",
        "                         converterEuroEmReal = moeda['valor'] * 5.35\n",
        "                         print(f'Moeda Convertida {moeda[\"valor\"]}')\n",
        "\n",
        "                elif moeda_converter== 3:\n",
        "                         print(f'Saindo....')\n",
        "                         sleep(2)\n",
        "                         continue\n",
        "                else:\n",
        "                  print('Opção Inválida')\n",
        "                  sleep(2)\n",
        "                  print('Voltando Menu')\n",
        "                  continue;\n",
        "\n",
        "                  op_convercao = input('Deseja converter outra moeda em real? Digite Sim  OU  Não ').upper\n",
        "                  print('Processando requisção, aguarde!...')\n",
        "                  sleep(2)\n",
        "\n",
        "\n",
        "   # else:\n",
        "     # print('Voltando para o Menu')\n",
        "     # continue;\n",
        "\n",
        "\n",
        "print(f'''Foram adcionadas {quantidade_moedas} Moedas,\n",
        "{quantidade_reais} de Reais - {quantidade_dolares} de Dolar -]\n",
        "{quantidade_euros} de Euro\\n o Valor Total foi de {valor_total} Dolar Convertido {converterDolarEmReal} e Euro Convertido {converterEuroEmReal}''')\n",
        "       \n",
        "\n",
        "\n",
        "\n",
        "\n",
        "#print(f'''Foram adcionadas {quantidade_moedas} Moedas,\n",
        "#{quantidade_reais} de Reais - {quantidade_dolares} de Dolar -]\n",
        "#{quantidade_euros} de Euro\\n o Valor Total foi de {valor_total} Dolar Convertido {converterDolarEmReal} e Euro Convertido {converterEuroEmReal}''')"
      ],
      "metadata": {
        "colab": {
          "base_uri": "https://localhost:8080/",
          "height": 884
        },
        "id": "v6JRkDo1cIh5",
        "outputId": "deefcb92-4ad4-482a-8147-8e27c1d5d58c"
      },
      "execution_count": null,
      "outputs": [
        {
          "output_type": "stream",
          "name": "stdout",
          "text": [
            "Quantas moedas você quer adicionar?: 3\n",
            "Escolha a Moeda:\n",
            "1 - Real\n",
            "2 - Dolar\n",
            "3 - Euro\n",
            "2\n",
            "Digite o valor da moeda de Dolar: 3\n",
            "Escolha a Moeda:\n",
            "1 - Real\n",
            "2 - Dolar\n",
            "3 - Euro\n",
            "3\n",
            "Digite o valor da moeda de Euro: 3\n",
            "Escolha a Moeda:\n",
            "1 - Real\n",
            "2 - Dolar\n",
            "3 - Euro\n",
            "1\n",
            "Digite o valor da moeda de Real: 5\n",
            "Deseja converter a moeda em real?  1 - Sim  2 - Não == 1\n",
            "Processando opção de convesão....\n",
            "Qual moeda deseja converter 1 - Dolar 2 - Euro2\n",
            "Aguarde Processando...\n",
            "Convertendo moeda....\n",
            "Moeda Convertida 3.0\n",
            "Qual moeda deseja converter 1 - Dolar 2 - Euro1\n",
            "Aguarde Processando...\n",
            "Convertendo moeda....\n",
            "Moeda Convertida 3.0\n"
          ]
        },
        {
          "output_type": "error",
          "ename": "KeyboardInterrupt",
          "evalue": "ignored",
          "traceback": [
            "\u001b[0;31m---------------------------------------------------------------------------\u001b[0m",
            "\u001b[0;31mKeyboardInterrupt\u001b[0m                         Traceback (most recent call last)",
            "\u001b[0;32m<ipython-input-24-86369c6cdf5c>\u001b[0m in \u001b[0;36m<module>\u001b[0;34m\u001b[0m\n\u001b[1;32m     56\u001b[0m     \u001b[0;32mwhile\u001b[0m \u001b[0mop_convercao\u001b[0m \u001b[0;34m==\u001b[0m \u001b[0;36m1\u001b[0m\u001b[0;34m:\u001b[0m\u001b[0;34m\u001b[0m\u001b[0;34m\u001b[0m\u001b[0m\n\u001b[1;32m     57\u001b[0m         \u001b[0;31m#if op_convercao == 1:\u001b[0m\u001b[0;34m\u001b[0m\u001b[0;34m\u001b[0m\u001b[0m\n\u001b[0;32m---> 58\u001b[0;31m                 \u001b[0mmoeda_converter\u001b[0m \u001b[0;34m=\u001b[0m \u001b[0mint\u001b[0m\u001b[0;34m(\u001b[0m\u001b[0minput\u001b[0m\u001b[0;34m(\u001b[0m\u001b[0;34m'Qual moeda deseja converter 1 - Dolar 2 - Euro'\u001b[0m\u001b[0;34m)\u001b[0m\u001b[0;34m)\u001b[0m\u001b[0;34m\u001b[0m\u001b[0;34m\u001b[0m\u001b[0m\n\u001b[0m\u001b[1;32m     59\u001b[0m                 \u001b[0mprint\u001b[0m\u001b[0;34m(\u001b[0m\u001b[0;34m'Aguarde Processando...'\u001b[0m\u001b[0;34m)\u001b[0m\u001b[0;34m\u001b[0m\u001b[0;34m\u001b[0m\u001b[0m\n\u001b[1;32m     60\u001b[0m                 \u001b[0msleep\u001b[0m\u001b[0;34m(\u001b[0m\u001b[0;36m2\u001b[0m\u001b[0;34m)\u001b[0m\u001b[0;34m;\u001b[0m\u001b[0;34m\u001b[0m\u001b[0;34m\u001b[0m\u001b[0m\n",
            "\u001b[0;32m/usr/local/lib/python3.9/dist-packages/ipykernel/kernelbase.py\u001b[0m in \u001b[0;36mraw_input\u001b[0;34m(self, prompt)\u001b[0m\n\u001b[1;32m    858\u001b[0m                 \u001b[0;34m\"raw_input was called, but this frontend does not support input requests.\"\u001b[0m\u001b[0;34m\u001b[0m\u001b[0;34m\u001b[0m\u001b[0m\n\u001b[1;32m    859\u001b[0m             )\n\u001b[0;32m--> 860\u001b[0;31m         return self._input_request(str(prompt),\n\u001b[0m\u001b[1;32m    861\u001b[0m             \u001b[0mself\u001b[0m\u001b[0;34m.\u001b[0m\u001b[0m_parent_ident\u001b[0m\u001b[0;34m,\u001b[0m\u001b[0;34m\u001b[0m\u001b[0;34m\u001b[0m\u001b[0m\n\u001b[1;32m    862\u001b[0m             \u001b[0mself\u001b[0m\u001b[0;34m.\u001b[0m\u001b[0m_parent_header\u001b[0m\u001b[0;34m,\u001b[0m\u001b[0;34m\u001b[0m\u001b[0;34m\u001b[0m\u001b[0m\n",
            "\u001b[0;32m/usr/local/lib/python3.9/dist-packages/ipykernel/kernelbase.py\u001b[0m in \u001b[0;36m_input_request\u001b[0;34m(self, prompt, ident, parent, password)\u001b[0m\n\u001b[1;32m    902\u001b[0m             \u001b[0;32mexcept\u001b[0m \u001b[0mKeyboardInterrupt\u001b[0m\u001b[0;34m:\u001b[0m\u001b[0;34m\u001b[0m\u001b[0;34m\u001b[0m\u001b[0m\n\u001b[1;32m    903\u001b[0m                 \u001b[0;31m# re-raise KeyboardInterrupt, to truncate traceback\u001b[0m\u001b[0;34m\u001b[0m\u001b[0;34m\u001b[0m\u001b[0m\n\u001b[0;32m--> 904\u001b[0;31m                 \u001b[0;32mraise\u001b[0m \u001b[0mKeyboardInterrupt\u001b[0m\u001b[0;34m(\u001b[0m\u001b[0;34m\"Interrupted by user\"\u001b[0m\u001b[0;34m)\u001b[0m \u001b[0;32mfrom\u001b[0m \u001b[0;32mNone\u001b[0m\u001b[0;34m\u001b[0m\u001b[0;34m\u001b[0m\u001b[0m\n\u001b[0m\u001b[1;32m    905\u001b[0m             \u001b[0;32mexcept\u001b[0m \u001b[0mException\u001b[0m \u001b[0;32mas\u001b[0m \u001b[0me\u001b[0m\u001b[0;34m:\u001b[0m\u001b[0;34m\u001b[0m\u001b[0;34m\u001b[0m\u001b[0m\n\u001b[1;32m    906\u001b[0m                 \u001b[0mself\u001b[0m\u001b[0;34m.\u001b[0m\u001b[0mlog\u001b[0m\u001b[0;34m.\u001b[0m\u001b[0mwarning\u001b[0m\u001b[0;34m(\u001b[0m\u001b[0;34m\"Invalid Message:\"\u001b[0m\u001b[0;34m,\u001b[0m \u001b[0mexc_info\u001b[0m\u001b[0;34m=\u001b[0m\u001b[0;32mTrue\u001b[0m\u001b[0;34m)\u001b[0m\u001b[0;34m\u001b[0m\u001b[0;34m\u001b[0m\u001b[0m\n",
            "\u001b[0;31mKeyboardInterrupt\u001b[0m: Interrupted by user"
          ]
        }
      ]
    },
    {
      "cell_type": "code",
      "source": [
        "moedas = []\n",
        "moeda = 0\n",
        "quantidade_reais = 0\n",
        "quantidade_dolares = 0\n",
        "quantidade_euros = 0\n",
        "valor_total = 0\n",
        "converterDolarEmReal = 0\n",
        "converterEuroEmReal = 0\n",
        "moeda_converter = 0\n",
        "op_convercao = ' '\n",
        "\n",
        "quantidade_moedas = int(input('Quantas moedas você quer adicionar?: '))\n",
        "\n",
        "for c in range(quantidade_moedas):\n",
        "    opcao = int(input('Escolha a Moeda:\\n1 - Real\\n2 - Dolar\\n3 - Euro\\n'))\n",
        "\n",
        "    if opcao == 1:\n",
        "        moeda = 'Real'\n",
        "    elif opcao == 2:\n",
        "        moeda = 'Dolar'\n",
        "    elif opcao == 3:\n",
        "        moeda = 'Euro'\n",
        "    else:\n",
        "        print('Opção inválida!')\n",
        "\n",
        "    valor = float(input(f'Digite o valor da moeda de {moeda}: '))\n",
        "\n",
        "    nova_moeda = {'moeda': moeda, 'valor': valor}\n",
        "\n",
        "    moedas.append(nova_moeda)\n",
        "    valor_total = valor_total + valor\n",
        "\n",
        "#print(f'{moeda} {valor} adicionado com sucesso à lista de moedas!')\n",
        "\n",
        "for moeda in moedas:\n",
        "    if moeda['moeda'] == 'Real':\n",
        "        quantidade_reais += 1\n",
        "    elif moeda['moeda'] == 'Dolar':\n",
        "        quantidade_dolares += 1\n",
        "    elif moeda['moeda'] == 'Euro':\n",
        "        quantidade_euros += 1\n",
        "\n",
        "    op_convercao = input('Deseja converter um moeda em real?Digite  Sim ou Não  ').upper()\n",
        "    while op_convercao == 'SIM':\n",
        "        moeda_converter = input('Qual moeda deseja converter? Dolar , Euro?  Ou Digite Sair para sair').upper()\n",
        "\n",
        "        if moeda_converter == 'DOLAR':\n",
        "            converterDolarEmReal = moeda['valor'] * 5.25\n",
        "            print('Convertendo valores, aguarde...')\n",
        "            sleep(2)\n",
        "            print(f'Moeda de US$ {moeda[\"valor\"]} Convertida com sucesso ')\n",
        "\n",
        "        elif moeda_converter == 'EURO':\n",
        "            converterEuroEmReal = moeda['valor'] * 5.35\n",
        "            print('Convertendo valores, aguarde...')\n",
        "            sleep(2)\n",
        "            print(f'Moeda de € {moeda[\"valor\"]} Convertida com sucesso ')\n",
        "\n",
        "        elif moeda_converter == 'SAIR':\n",
        "\n",
        "          print('Inciando Menu....')\n",
        "          sleep(2)\n",
        "          continue\n",
        "\n",
        "        else:\n",
        "            print('Opção Inválida')\n",
        "            continue\n",
        "\n",
        "        op_convercao = input('Deseja converter outra moeda em real? Digite Sim  OU  Não ').upper\n",
        "        print('Processando requisção, aguarde!...')\n",
        "        sleep(2)\n",
        "\n",
        "print(f'''Foram adicionadas {quantidade_moedas} Moedas\\n,\n",
        "{quantidade_reais} de Reais - {quantidade_dolares} de Dolar\\n -\n",
        "{quantidade_euros} de Euro.\n",
        "O Valor Total depositado foi de {valor_total}\\n - O Valor do Dolar Convertido US$,{converterDolarEmReal:.2f}\\n e o valor do Euro Convertido €{converterEuroEmReal:.2f}''')"
      ],
      "metadata": {
        "colab": {
          "base_uri": "https://localhost:8080/"
        },
        "id": "cxUhDP1NV8Cl",
        "outputId": "b092fece-9371-4bc3-df15-dfcdfa7cdc03"
      },
      "execution_count": null,
      "outputs": [
        {
          "output_type": "stream",
          "name": "stdout",
          "text": [
            "Quantas moedas você quer adicionar?: 3\n",
            "Escolha a Moeda:\n",
            "1 - Real\n",
            "2 - Dolar\n",
            "3 - Euro\n",
            "1\n",
            "Digite o valor da moeda de Real: 5\n",
            "Escolha a Moeda:\n",
            "1 - Real\n",
            "2 - Dolar\n",
            "3 - Euro\n",
            "2\n",
            "Digite o valor da moeda de Dolar: 10\n",
            "Escolha a Moeda:\n",
            "1 - Real\n",
            "2 - Dolar\n",
            "3 - Euro\n",
            "3\n",
            "Digite o valor da moeda de Euro: 10\n",
            "Deseja converter a moeda em real? 1 - Sim 2 - Não == 1\n",
            "Qual moeda deseja converter? 1 - Dolar 2 - Euro  3 - Sair1\n",
            "Convertendo valores, aguarde...\n",
            "Moeda de US$ 5.0 Convertida com sucesso \n",
            "Deseja converter outra moeda em real? 1 - Sim 2 - Não == 1\n",
            "Processando requisção, aguarde!...\n",
            "Deseja converter a moeda em real? 1 - Sim 2 - Não == 1\n",
            "Qual moeda deseja converter? 1 - Dolar 2 - Euro  3 - Sair2\n",
            "Convertendo valores, aguarde...\n",
            "Moeda de € 10.0 Convertida com sucesso \n",
            "Deseja converter outra moeda em real? 1 - Sim 2 - Não == 2\n",
            "Processando requisção, aguarde!...\n",
            "Deseja converter a moeda em real? 1 - Sim 2 - Não == 2\n",
            "Foram adicionadas 3 Moedas\n",
            ",\n",
            "1 de Reais\n",
            " - 1 de Dolar\n",
            " -\n",
            "1 de Euro.\n",
            "\n",
            "O Valor Total foi de 25.0 - \n",
            "o Valor do Dolar Convertido US$,26.25\n",
            " e o valor do Euro Convertido €53.50\n"
          ]
        }
      ]
    },
    {
      "cell_type": "code",
      "source": [
        "(( 10 / 2  ) > 5 ) or not ( 3 < 2 )"
      ],
      "metadata": {
        "colab": {
          "base_uri": "https://localhost:8080/"
        },
        "id": "Bdr7cEdmvZxy",
        "outputId": "84e36f8c-b2c5-469d-db16-726b74162d0a"
      },
      "execution_count": null,
      "outputs": [
        {
          "output_type": "execute_result",
          "data": {
            "text/plain": [
              "True"
            ]
          },
          "metadata": {},
          "execution_count": 12
        }
      ]
    },
    {
      "cell_type": "code",
      "source": [
        "!pip install scapy\n",
        "\n",
        "from scapy.all import *\n",
        "\n",
        "def packet_callback(packet):\n",
        "    print(packet.summary())\n",
        "\n",
        "def packet_callback(packet):\n",
        "    src_ip = packet[IP].src\n",
        "    dst_ip = packet[IP].dst\n",
        "    print(f\"Source IP: {src_ip}, Destination IP: {dst_ip}\")    \n",
        "\n",
        "sniff(prn=packet_callback, count=10)"
      ],
      "metadata": {
        "colab": {
          "base_uri": "https://localhost:8080/"
        },
        "id": "Q0q8XJlqwib4",
        "outputId": "61495a55-fde9-406b-cd45-87b5d317f14a"
      },
      "execution_count": 2,
      "outputs": [
        {
          "output_type": "stream",
          "name": "stdout",
          "text": [
            "Looking in indexes: https://pypi.org/simple, https://us-python.pkg.dev/colab-wheels/public/simple/\n",
            "Requirement already satisfied: scapy in /usr/local/lib/python3.9/dist-packages (2.5.0)\n",
            "Source IP: 172.28.0.1, Destination IP: 172.28.0.12\n",
            "Source IP: 172.28.0.12, Destination IP: 172.28.0.1\n",
            "Source IP: 172.28.0.12, Destination IP: 172.28.0.1\n",
            "Source IP: 172.28.0.1, Destination IP: 172.28.0.12\n",
            "Source IP: 172.28.0.1, Destination IP: 172.28.0.12\n",
            "Source IP: 172.28.0.12, Destination IP: 172.28.0.1\n",
            "Source IP: 172.28.0.12, Destination IP: 172.28.0.1\n",
            "Source IP: 172.28.0.1, Destination IP: 172.28.0.12\n",
            "Source IP: 172.28.0.1, Destination IP: 172.28.0.12\n",
            "Source IP: 172.28.0.12, Destination IP: 172.28.0.1\n"
          ]
        },
        {
          "output_type": "execute_result",
          "data": {
            "text/plain": [
              "<Sniffed: TCP:10 UDP:0 ICMP:0 Other:0>"
            ]
          },
          "metadata": {},
          "execution_count": 2
        }
      ]
    }
  ]
}