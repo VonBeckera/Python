{
  "nbformat": 4,
  "nbformat_minor": 0,
  "metadata": {
    "colab": {
      "provenance": [],
      "name": "Estudos_python_davi_becker.ipynb",
      "mount_file_id": "https://gist.github.com/VonBeckera/890cc00392789d5dd836094d4c7fd563#file-untitled1-ipynb",
      "authorship_tag": "ABX9TyNKBUSzTP35gU7f/QS4fKGD",
      "include_colab_link": true
    },
    "kernelspec": {
      "name": "python3",
      "display_name": "Python 3"
    },
    "language_info": {
      "name": "python"
    }
  },
  "cells": [
    {
      "cell_type": "markdown",
      "metadata": {
        "id": "view-in-github",
        "colab_type": "text"
      },
      "source": [
        "<a href=\"https://colab.research.google.com/github/VonBeckera/Python/blob/main/Estudos_python_davi_becker.ipynb\" target=\"_parent\"><img src=\"https://colab.research.google.com/assets/colab-badge.svg\" alt=\"Open In Colab\"/></a>"
      ]
    },
    {
      "cell_type": "code",
      "execution_count": null,
      "metadata": {
        "colab": {
          "base_uri": "https://localhost:8080/"
        },
        "id": "kCjFpoujXt6Q",
        "outputId": "db4f10bc-0c19-4cfb-f0b9-ec61c7ad160a"
      },
      "outputs": [
        {
          "output_type": "stream",
          "name": "stdout",
          "text": [
            "Digite algo:        \n",
            "O tipo digitado é:  <class 'str'>\n",
            "O tipo digitado tem espaços:  True\n",
            "O tipo digitado é um número:  False\n",
            "O tipo digitado é alfa numerico:  False\n",
            "O tipo digitado e alfabetico:  False\n",
            "O tipo está capitalizado:  False\n"
          ]
        }
      ],
      "source": [
        "a = input('Digite algo: ')\n",
        "print('O tipo digitado é: ', type(a))\n",
        "print('O tipo digitado tem espaços: ', a.isspace())\n",
        "print('O tipo digitado é um número: ', a.isnumeric())\n",
        "print('O tipo digitado é alfa numerico: ', a.isalnum())\n",
        "print('O tipo digitado e alfabetico: ', a.isalpha())\n",
        "print('O tipo está capitalizado: ', a.istitle())"
      ]
    },
    {
      "cell_type": "markdown",
      "source": [
        "# Ordem Aritimetica de precedência\n",
        "#1 - ()\n",
        "#2 - **\n",
        "#3- *,/,//,%\n",
        "#4- +,-"
      ],
      "metadata": {
        "id": "0piO8u4NWs6k"
      }
    },
    {
      "cell_type": "code",
      "source": [
        "#Exmplos de precedencias\n",
        "# Exemplo 1\n",
        "n1 = 5\n",
        "n2 = 2\n",
        "n3 = 3\n",
        "s = n1+n2*n3\n",
        "print(s)\n",
        "\n",
        "# Exemplo 2\n",
        "n4 = 3\n",
        "n5 = 5\n",
        "n6 = 4\n",
        "n7 = 2\n",
        "s1 = n4*n5+n6**n7\n",
        "print(s1)\n",
        "# Exemplo 3\n",
        "\n",
        "n8 = 3\n",
        "n9 = 5\n",
        "n0 = 4\n",
        "n11 = 2\n",
        "s2 = n8*(n9+n0)**n11\n",
        "print(s2)\n"
      ],
      "metadata": {
        "colab": {
          "base_uri": "https://localhost:8080/"
        },
        "id": "OTqlNsOIVpOC",
        "outputId": "41be9b42-68e3-4e1a-a071-cf11e40cf384"
      },
      "execution_count": null,
      "outputs": [
        {
          "output_type": "stream",
          "name": "stdout",
          "text": [
            "11\n",
            "31\n",
            "243\n"
          ]
        }
      ]
    },
    {
      "cell_type": "markdown",
      "source": [
        "# Aula 04\n"
      ],
      "metadata": {
        "id": "DdBtVGtyclQk"
      }
    },
    {
      "cell_type": "markdown",
      "source": [
        "# Aula 07\n"
      ],
      "metadata": {
        "id": "E_VeYbVjZphx"
      }
    },
    {
      "cell_type": "code",
      "source": [
        "nome = input('Qual o seu nome? ')\n",
        "print(f'Seja Bem Vindo {nome}!')"
      ],
      "metadata": {
        "colab": {
          "base_uri": "https://localhost:8080/"
        },
        "id": "hgXzhrxiZufz",
        "outputId": "270cbd7e-6634-4e82-c2fd-3d588d86893d"
      },
      "execution_count": null,
      "outputs": [
        {
          "output_type": "stream",
          "name": "stdout",
          "text": [
            "Qual o seu nome? pedro\n",
            "Seja Bem Vindo pedro!\n"
          ]
        }
      ]
    },
    {
      "cell_type": "code",
      "source": [
        "n1 = int(input('Digite um valor ' ))\n",
        "n2 = int(input('Digite outro valor ' ))\n",
        "print(f'A soma vale {n1+n2}')"
      ],
      "metadata": {
        "id": "S5y-FCZYdcIT",
        "outputId": "1aec9531-aafa-42cf-f998-64285cf1025e",
        "colab": {
          "base_uri": "https://localhost:8080/"
        }
      },
      "execution_count": null,
      "outputs": [
        {
          "output_type": "stream",
          "name": "stdout",
          "text": [
            "Digite um valor 100\n",
            "Digite outro valor 200\n",
            "A soma vale 300\n"
          ]
        }
      ]
    },
    {
      "cell_type": "code",
      "source": [
        "# Conversão de valores em dólar\n",
        "\n",
        "d = float(input('Digite o valor que você tem na carteria: '))\n",
        "c = d/5.07\n",
        "print(f'O valor de {d} Reais equivale a {c:.2f} dólares')"
      ],
      "metadata": {
        "colab": {
          "base_uri": "https://localhost:8080/"
        },
        "id": "884aqXEPBNxF",
        "outputId": "47107a8b-40da-413f-c781-55dd23765dff"
      },
      "execution_count": null,
      "outputs": [
        {
          "output_type": "stream",
          "name": "stdout",
          "text": [
            "Digite o valor que você tem na carteria: 20\n",
            "O valor de 20.0 Reais equivale a 3.94 dólares\n"
          ]
        }
      ]
    },
    {
      "cell_type": "code",
      "source": [
        "#Calcular desconto de x% do valor de um produto\n",
        "n = input('Digite seu nome para acessar o sistema: ')\n",
        "print(f'Seja bem vido {n} ao sistema de cáculos de descontos')\n",
        "v = float(input('Digite o valor do produto: '))\n",
        "d = float(input('Digite o valor do desconto: '))\n",
        "c = v - (v * d / 100)\n",
        "print(f'O valor final com o Desconto de {d:.0f}% é de R${c:.2f}')"
      ],
      "metadata": {
        "colab": {
          "base_uri": "https://localhost:8080/"
        },
        "id": "sqGLri-Plo38",
        "outputId": "960f7c84-2df6-496d-8034-9313c340673f"
      },
      "execution_count": null,
      "outputs": [
        {
          "output_type": "stream",
          "name": "stdout",
          "text": [
            "Digite seu nome para acessar o sistema: davi\n",
            "Seja bem vido davi ao sistema de cáculos de descontos\n",
            "Digite o valor do produto: 100\n",
            "Digite o valor do desconto: 10\n",
            "O valor final com o Desconto de 10% é de R$90.00\n"
          ]
        }
      ]
    },
    {
      "cell_type": "code",
      "source": [
        "# Calcular a área de uma parede retangular e a quantidade de tinta a ser usada\n",
        "# 1 litro de tinta pinta 2m² de parede\n",
        "# Área - Base(b) x Altura(h)\n",
        "n = input('Digite seu nome ')\n",
        "print(f'Seja Bem vindo {n} ao sistema de cácluo de pintura de área construída')\n",
        "b = float(input('Digite o valor da Base em metros: ' ))\n",
        "h = float(input('Digite o valor da altura em metros: ' ))\n",
        "a = (b*h)\n",
        "t = (a / 2)\n",
        "print(f'A área tem {a} m² e a quantidade de tinta nescessária para pintar é de {t} Litros de tinta')"
      ],
      "metadata": {
        "colab": {
          "base_uri": "https://localhost:8080/"
        },
        "id": "Mv8zfPK5GTX6",
        "outputId": "57243c53-26af-4e12-b79d-ba479fda051a"
      },
      "execution_count": null,
      "outputs": [
        {
          "output_type": "stream",
          "name": "stdout",
          "text": [
            "Digite seu nome davi\n",
            "Seja Bem vindo davi ao sistema de cácluo de pintura de área construída\n",
            "Digite o valor da Base em metros: 5\n",
            "Digite o valor da altura em metros: 5\n",
            "A área tem 25.0 m² e a quantidade de tinta nescessária para pintar é de 12.5 Litros de tinta\n"
          ]
        }
      ]
    },
    {
      "cell_type": "code",
      "source": [
        "#Teste de ocultar senha\n",
        "import getpass\n",
        "s = getpass.getpass(prompt='Digite sua senha ')\n",
        "s2 = \"123\"\n",
        "\n",
        "if s == s2:\n",
        "    print('Seja Bem vindo ao sistema')\n",
        "\n",
        "else:\n",
        "    print('Senha inválida!')"
      ],
      "metadata": {
        "colab": {
          "base_uri": "https://localhost:8080/"
        },
        "id": "UeOXKxFfnsfK",
        "outputId": "42caea89-686b-4ad0-874a-1969642991fe"
      },
      "execution_count": null,
      "outputs": [
        {
          "output_type": "stream",
          "name": "stdout",
          "text": [
            "Digite sua senha ··········\n",
            "Seja Bem vindo ao sistema\n"
          ]
        }
      ]
    },
    {
      "cell_type": "code",
      "source": [
        "#Ler salário e mostre o novo salário com 15% de aumento\n",
        "n = input('Digite seu nome: ')\n",
        "print(f'Seja bem vindo {n} ao sistema de cálculo de salários')\n",
        "print('Este sistema irá calcular o aumento salarial de 15% sobre o salário informado')\n",
        "s = float(input('Informe o valor do salário: '))\n",
        "c = (s * 0.15)+s\n",
        "p = c-s\n",
        "print(f'O salário de R${s:.2f} com aumento de 15% é de R${c:.2f} o valor do aumento foi de R$: {p:.2f}')\n"
      ],
      "metadata": {
        "colab": {
          "base_uri": "https://localhost:8080/"
        },
        "id": "-zVgTejoFRdr",
        "outputId": "76278101-3299-40c8-a849-266f5e52ac90"
      },
      "execution_count": null,
      "outputs": [
        {
          "output_type": "stream",
          "name": "stdout",
          "text": [
            "Digite seu nome: davi\n",
            "Seja bem vindo davi ao sistema de cálculo de salários\n",
            "Este sistema irá calcular o aumento salarial de 15% sobre o salário informado\n",
            "Informe o valor do salário: 1200\n",
            "O salário de R$1200.00 com aumento de 15% é de R$1380.00 o valor do aumento foi de R$: 180.00\n"
          ]
        }
      ]
    },
    {
      "cell_type": "code",
      "source": [
        "#Sucessor e antecessor de um número digitado\n",
        "n = int(input('Digite um número: '))\n",
        "print(f'O sucessor do número {n} é: {n+1}, é seu antecessor é: {n-1}')"
      ],
      "metadata": {
        "colab": {
          "base_uri": "https://localhost:8080/"
        },
        "id": "fbSSh6e3K-XR",
        "outputId": "f36abda9-799f-4d73-f24b-36357f0ceec5"
      },
      "execution_count": null,
      "outputs": [
        {
          "output_type": "stream",
          "name": "stdout",
          "text": [
            "Digite um número: 10\n",
            "O sucessor do número 10 é: 11, é seu antecessor é: 9\n"
          ]
        }
      ]
    },
    {
      "cell_type": "code",
      "source": [
        "#Crie um algoritmo que leia um número e mostre o seu dobro, triplo e raiz quadrada.\n",
        "import math\n",
        "n = int(input('Digite um número e vamos calulcar seu dobro, triplo e raiz quadrada: '))\n",
        "d = n*2\n",
        "t = n*3\n",
        "r = math.sqrt(n)\n",
        "l = n**(1/2)\n",
        "print(f'O dobro do número {n} é: {d}\\n ---- O triplo de {n} é: {t}\\n ---- A raiz quadrada de {n} é: {r}')\n",
        "print(l)"
      ],
      "metadata": {
        "colab": {
          "base_uri": "https://localhost:8080/"
        },
        "id": "K1nTRN9SMHlx",
        "outputId": "c1b9af4a-1e54-4375-f7fb-bb99d0fd2c8d"
      },
      "execution_count": null,
      "outputs": [
        {
          "output_type": "stream",
          "name": "stdout",
          "text": [
            "Digite um número e vamos calulcar seu dobro, triplo e raiz quadrada: 400\n",
            "O dobro do número 400 é: 800\n",
            " ---- O triplo de 400 é: 1200\n",
            " ---- A raiz quadrada de 400 é: 20.0\n",
            "20.0\n"
          ]
        }
      ]
    },
    {
      "cell_type": "code",
      "source": [
        "#Desenvolva um programa que leia as duas notas de um aluno, calcule e mostre a sua média.\n",
        "import getpass\n",
        "n = input('Digite seu nome: ')\n",
        "s2 = \"123\"\n",
        "\n",
        "while True:\n",
        "    s = getpass.getpass(prompt='Digite sua senha: ')\n",
        "    if s == s2:\n",
        "        print(f'Seja bem vindo {n} ao sistema de notas e médias acadêmicas')\n",
        "        break\n",
        "    else:\n",
        "        print('Senha inválida, tente novamente.')\n",
        "\n",
        "while True:\n",
        "    op = int(input('Digite 1 para sair ou 2 para um novo aluno: '))\n",
        "\n",
        "    if op == 1:\n",
        "        print('Obrigado por utilizar nosso sistema, até logo!')\n",
        "        break\n",
        "\n",
        "    elif op == 2:\n",
        "        a = input('Digite o nome do aluno: ')\n",
        "        nota1 = float(input(f'Digite a primeira nota do Aluno {a}: '))\n",
        "        nota2 = float(input(f'Digite a segunda nota do aluno {a}: '))\n",
        "        media = (nota1 + nota2) / 2\n",
        "\n",
        "        if media >= 7:\n",
        "            print(f'O aluno {a} foi aprovado com Média {media}')\n",
        "        else:\n",
        "            print(f'O aluno {a} foi reprovado com média {media}')"
      ],
      "metadata": {
        "colab": {
          "base_uri": "https://localhost:8080/"
        },
        "id": "lJlv1MqNPLrr",
        "outputId": "4966fda6-16b7-4a15-fc20-c9e5fc5efd41"
      },
      "execution_count": null,
      "outputs": [
        {
          "output_type": "stream",
          "name": "stdout",
          "text": [
            "Digite seu nome: Davi\n",
            "Digite sua senha: ··········\n",
            "Seja bem vindo Davi ao sistema de notas e médias acadêmicas\n",
            "Digite 1 para sair ou 2 para um novo aluno: 2\n",
            "Digite o nome do aluno: Jose\n",
            "Digite a primeira nota do Aluno Jose: 10\n",
            "Digite a segunda nota do aluno Jose: 5\n",
            "O aluno Jose foi aprovado com Média 7.5\n",
            "Digite 1 para sair ou 2 para um novo aluno: 1\n",
            "Obrigado por utilizar nosso sistema, até logo!\n"
          ]
        }
      ]
    },
    {
      "cell_type": "code",
      "source": [
        "#Programa de conversão de metros para CM e MM\n",
        "\n",
        "me = int(input('Digite o valor em metros: '))\n",
        "cm = me*100 \n",
        "mm = me*1000\n",
        "print(f'O valor de {me} metros equivale a: {cm} Centímetros e {mm} Milímetros')\n"
      ],
      "metadata": {
        "colab": {
          "base_uri": "https://localhost:8080/"
        },
        "id": "EUVG-xbMZeEH",
        "outputId": "eaf73262-4d63-4b1e-fe95-e435a3e38b47"
      },
      "execution_count": null,
      "outputs": [
        {
          "output_type": "stream",
          "name": "stdout",
          "text": [
            "Digite o valor em metros: 20\n",
            "O valor de 20 metros equivale a: 2000 Centímetros e 20000 Milímetros\n"
          ]
        }
      ]
    },
    {
      "cell_type": "code",
      "source": [
        "#Tabuada de um número digitado\n",
        "print('Bem vindo a tabuada de um número digitado')\n",
        "n = int(input('Digite um número: '))\n",
        "print(f'{n} x {1} = {n*1}')\n",
        "print(f'{n} x {2} = {n*2}')\n",
        "print(f'{n} x {3} = {n*3}')\n",
        "print(f'{n} x {4} = {n*4}')\n",
        "print(f'{n} x {5} = {n*5}')\n",
        "print(f'{n} x {6} = {n*6}')\n",
        "print(f'{n} x {7} = {n*7}')\n",
        "print(f'{n} x {8} = {n*8}')\n",
        "print(f'{n} x {9} = {n*9}')\n",
        "print(f'{n} x {10} = {n*10}')"
      ],
      "metadata": {
        "id": "ldM09OBobYP2",
        "outputId": "8ee82403-deaa-49ff-9c87-1a5ba0871eb1",
        "colab": {
          "base_uri": "https://localhost:8080/"
        }
      },
      "execution_count": null,
      "outputs": [
        {
          "output_type": "stream",
          "name": "stdout",
          "text": [
            "Bem vindo a tabuada de um número digitado\n",
            "Digite um número: 5\n",
            "5 x 1 = 5\n",
            "5 x 2 = 10\n",
            "5 x 3 = 15\n",
            "5 x 4 = 20\n",
            "5 x 5 = 25\n",
            "5 x 6 = 30\n",
            "5 x 7 = 35\n",
            "5 x 8 = 40\n",
            "5 x 9 = 45\n",
            "5 x 10 = 50\n"
          ]
        }
      ]
    },
    {
      "cell_type": "code",
      "source": [
        "#Convertendo temperatura\n",
        "\n",
        "t = float(input('Digite a temperatura em Celsius: '))\n",
        "f1 = (1.8 * t) + 32\n",
        "print(f'Converter {t}°C para a escala Fahrenheit : {f1}°')\n"
      ],
      "metadata": {
        "colab": {
          "base_uri": "https://localhost:8080/"
        },
        "id": "CQNSdQ7HNwQP",
        "outputId": "9f8835c4-666d-4672-fc89-042944fd65f0"
      },
      "execution_count": null,
      "outputs": [
        {
          "output_type": "stream",
          "name": "stdout",
          "text": [
            "Digite a temperatura em Celsius: 40\n",
            "Converter 40.0°C para a escala Fahrenheit : 104.0°\n"
          ]
        }
      ]
    },
    {
      "cell_type": "code",
      "source": [
        "# Escreva um programa que pergunte a quantidade de Km percorridos por \n",
        "#um carro alugado e a quantidade de dias pelos quais ele foi alugado.\n",
        "#Calcule o preço a pagar, sabendo que o carro custa R$60 por dia e R$0,15 por Km rodado.\n",
        "\n",
        "print('Seja bem vido ao Locacar')\n",
        "d = 60\n",
        "d2 = int(input('Informe a quantidade de dias de locação: '))\n",
        "km = float(input('Informe a kilometragem final: '))\n",
        "cpkm = km * 0.15\n",
        "cd = d * d2\n",
        "cf = cd+cpkm\n",
        "print(f' O custo das diárias de {d2} dias foram de R${cd:.2f}\\n o custo da kilomêtragem de {km} KM foi de R${cpkm:.2f}\\n o valor final a ser pago pelo aluguel do veículo é de R$ {cf:.2f}')\n",
        "\n"
      ],
      "metadata": {
        "colab": {
          "base_uri": "https://localhost:8080/"
        },
        "id": "vz_HUvGVsVBH",
        "outputId": "171ce5b3-60c1-4786-e450-b8fc01b66618"
      },
      "execution_count": null,
      "outputs": [
        {
          "output_type": "stream",
          "name": "stdout",
          "text": [
            "Seja bem vido ao Locacar\n",
            "Informe a quantidade de dias de locação: 30\n",
            "Informe a kilometragem final: 750\n",
            " O custo das diárias de 30 dias foram de R$1800.00\n",
            " o custo da kilomêtragem de 750.0KM foi de R$112.50\n",
            " o valor final a ser pago pelo aluguel do veículo é de R$ 1912.50\n"
          ]
        }
      ]
    },
    {
      "cell_type": "markdown",
      "source": [
        "MÓDULO 2\n"
      ],
      "metadata": {
        "id": "FvUwHZoIxPtJ"
      }
    },
    {
      "cell_type": "code",
      "source": [
        "!pip install emoji\n",
        "import emoji\n",
        "print(emoji.emojize(\"Olá mundo :sunglasses: \"))"
      ],
      "metadata": {
        "colab": {
          "base_uri": "https://localhost:8080/"
        },
        "id": "d14LXRHFxTdq",
        "outputId": "b36fcee7-34e0-42cc-cd87-a89455d1abf9"
      },
      "execution_count": null,
      "outputs": [
        {
          "output_type": "stream",
          "name": "stdout",
          "text": [
            "Looking in indexes: https://pypi.org/simple, https://us-python.pkg.dev/colab-wheels/public/simple/\n",
            "Requirement already satisfied: emoji in /usr/local/lib/python3.8/dist-packages (2.2.0)\n",
            "Olá mundo 🕶️ \n"
          ]
        }
      ]
    },
    {
      "cell_type": "code",
      "source": [
        "from math import trunc\n",
        "n = float(input('Digite um numero qualquer: '))\n",
        "print(f' A porção inteira do número digitado {n} é: {trunc(n)}')"
      ],
      "metadata": {
        "colab": {
          "base_uri": "https://localhost:8080/"
        },
        "id": "6AdqIN3f6lA4",
        "outputId": "e3d6860e-94fa-4ed0-a8d5-572eb0d14b46"
      },
      "execution_count": null,
      "outputs": [
        {
          "output_type": "stream",
          "name": "stdout",
          "text": [
            "Digite um numero qualquer: 6.99\n",
            " A porção inteira do número digitado 6.99 é: 6\n"
          ]
        }
      ]
    },
    {
      "cell_type": "code",
      "source": [
        "from math import hypot\n",
        "copo = int(input('Digite o valor do cateto oposto: '))\n",
        "cadj = int(input('Digite o valor do cateto adjacente: '))\n",
        "\n",
        "hip = hypot(copo,cadj)\n",
        "\n",
        "print(f'O valor da Hipotenusa é: {hip}')\n",
        "\n"
      ],
      "metadata": {
        "colab": {
          "base_uri": "https://localhost:8080/"
        },
        "id": "-6Ddn5aEQRqx",
        "outputId": "73f21c95-0a9e-47c2-88cd-842ecde2da1d"
      },
      "execution_count": null,
      "outputs": [
        {
          "output_type": "stream",
          "name": "stdout",
          "text": [
            "Digite o valor do cateto oposto: 4\n",
            "Digite o valor do cateto adjacente: 3\n",
            "O valor da Hipotenusa é: 5.0\n"
          ]
        }
      ]
    },
    {
      "cell_type": "code",
      "source": [
        "from  math import sin,cos,tan,radians\n",
        "\n",
        "a = int(input('Digite o valor do ângulo: '))\n",
        "\n",
        "r = math.radians(a)\n",
        "cosseno = math.cos(r)\n",
        "seno = math.sin(r)\n",
        "tangente = math.tan(r)\n",
        "\n",
        "print(f'O valor do seno é {sin(r)} do cosseno é {cos(r)} e da tangente é {tan(r)} o ângulo em radianos é de {r}')\n",
        "\n"
      ],
      "metadata": {
        "id": "cSFcUiHwSOSf",
        "outputId": "a2225661-0de1-4b10-857c-d627e215ff30",
        "colab": {
          "base_uri": "https://localhost:8080/"
        }
      },
      "execution_count": null,
      "outputs": [
        {
          "output_type": "stream",
          "name": "stdout",
          "text": [
            "Digite o valor do ângulo: 45\n",
            "O valor do seno é 0.7071067811865475 do cosseno é 0.7071067811865476 e da tangente é 0.9999999999999999 o ângulo em radianos é de 0.7853981633974483\n"
          ]
        }
      ]
    },
    {
      "cell_type": "code",
      "source": [
        "from random import choice\n",
        "nome = input('Digite o Primeiro nome: ')\n",
        "nome2 = input('Digite o segundo nome: ')\n",
        "nome3 = input('Digite o terceiro nome: ')\n",
        "nome4 = input('Digite o quarto nome: ')\n",
        "lista = [nome, nome2, nome3, nome4]\n",
        "escolhido = choice(lista)\n",
        "print(f'O aluno escolhido é: {escolhido}')"
      ],
      "metadata": {
        "id": "2BUr5iaGV_yf",
        "outputId": "a5f50890-7301-414e-ca6a-0fdafd3ec6af",
        "colab": {
          "base_uri": "https://localhost:8080/"
        }
      },
      "execution_count": null,
      "outputs": [
        {
          "output_type": "stream",
          "name": "stdout",
          "text": [
            "Digite o Primeiro nome: davi\n",
            "Digite o segundo nome: pedro\n",
            "Digite o terceiro nome: raissa\n",
            "Digite o quarto nome: carla\n",
            "O aluno escolhido é: carla\n"
          ]
        }
      ]
    },
    {
      "cell_type": "code",
      "source": [
        "import random\n",
        "nome = input('Digite o Primeiro nome: ')\n",
        "nome2 = input('Digite o segundo nome: ')\n",
        "nome3 = input('Digite o terceiro nome: ')\n",
        "nome4 = input('Digite o quarto nome: ')\n",
        "lista = [nome, nome2, nome3, nome4]\n",
        "random.shuffle(lista)\n",
        "print(f'A ordem de apresentação será: {lista}')\n",
        "\n"
      ],
      "metadata": {
        "colab": {
          "base_uri": "https://localhost:8080/"
        },
        "id": "qzZ6TG7_QOnv",
        "outputId": "7c97cb19-fefa-42a2-a341-7e03c8222984"
      },
      "execution_count": null,
      "outputs": [
        {
          "output_type": "stream",
          "name": "stdout",
          "text": [
            "Digite o Primeiro nome: davi\n",
            "Digite o segundo nome: camila\n",
            "Digite o terceiro nome: pedro\n",
            "Digite o quarto nome: carlos\n",
            "A ordem de apresentação será: ['carlos', 'davi', 'pedro', 'camila']\n"
          ]
        }
      ]
    },
    {
      "cell_type": "code",
      "source": [
        "import random\n",
        "\n",
        "nomes = []\n",
        "\n",
        "print(\"Digite 4 nomes separados por enter: \")\n",
        "\n",
        "for i in range(4):\n",
        "    nome = input()\n",
        "    nomes.append(nome)\n",
        "\n",
        "aluno = random.choice(nomes)\n",
        "\n",
        "print(f'O nome é: {aluno}')\n",
        "\n"
      ],
      "metadata": {
        "id": "VJp0D2W0XRYD",
        "outputId": "81a31d12-53ba-40f6-c352-63d1d06d086d",
        "colab": {
          "base_uri": "https://localhost:8080/"
        }
      },
      "execution_count": null,
      "outputs": [
        {
          "output_type": "stream",
          "name": "stdout",
          "text": [
            "Digite 4 nomes um de cada vez apertando enter: \n",
            "Digite 4 nomes separados por enter:\n",
            "raissa\n",
            "hanna\n",
            "amanda\n",
            "andreia\n",
            "O nome é: amanda\n"
          ]
        }
      ]
    },
    {
      "cell_type": "code",
      "source": [
        "import random\n",
        "nomes = ['Davi','Pedro','Raissa','Claudia','Silvia','Amanda','Fabiana']\n",
        "sorteados = random.sample(nomes, 7)\n",
        "for i , nome in enumerate(sorteados):\n",
        "  print(f'{i + 1}º nome sorteado: {nome}')\n"
      ],
      "metadata": {
        "id": "GBfEmtEf-MMu",
        "outputId": "36c4c096-b0aa-4dee-8309-5d2a1e40c9c5",
        "colab": {
          "base_uri": "https://localhost:8080/"
        }
      },
      "execution_count": null,
      "outputs": [
        {
          "output_type": "stream",
          "name": "stdout",
          "text": [
            "1º nome sorteado: Davi\n",
            "2º nome sorteado: Amanda\n",
            "3º nome sorteado: Silvia\n",
            "4º nome sorteado: Fabiana\n",
            "5º nome sorteado: Raissa\n",
            "6º nome sorteado: Claudia\n",
            "7º nome sorteado: Pedro\n"
          ]
        }
      ]
    },
    {
      "cell_type": "code",
      "source": [
        "!pip install pygame\n",
        "import pygame\n",
        "pygame.init()\n",
        "pygame.mixer.init()\n",
        "pygame.mixer.music.load(\"/content/drive/MyDrive/Contas/teste.mp3\")\n",
        "pygame.mixer.music.play()\n",
        "\n",
        "\n"
      ],
      "metadata": {
        "id": "7vj_wGNWS-Wf",
        "outputId": "7cfc8568-f777-469a-e2c8-e4b4f7ce3823",
        "colab": {
          "base_uri": "https://localhost:8080/",
          "height": 269
        }
      },
      "execution_count": null,
      "outputs": [
        {
          "output_type": "stream",
          "name": "stdout",
          "text": [
            "Looking in indexes: https://pypi.org/simple, https://us-python.pkg.dev/colab-wheels/public/simple/\n",
            "Requirement already satisfied: pygame in /usr/local/lib/python3.8/dist-packages (2.1.2)\n"
          ]
        },
        {
          "output_type": "error",
          "ename": "error",
          "evalue": "ignored",
          "traceback": [
            "\u001b[0;31m---------------------------------------------------------------------------\u001b[0m",
            "\u001b[0;31merror\u001b[0m                                     Traceback (most recent call last)",
            "\u001b[0;32m<ipython-input-20-e9b09a5be1c8>\u001b[0m in \u001b[0;36m<module>\u001b[0;34m\u001b[0m\n\u001b[1;32m      1\u001b[0m \u001b[0mget_ipython\u001b[0m\u001b[0;34m(\u001b[0m\u001b[0;34m)\u001b[0m\u001b[0;34m.\u001b[0m\u001b[0msystem\u001b[0m\u001b[0;34m(\u001b[0m\u001b[0;34m'pip install pygame'\u001b[0m\u001b[0;34m)\u001b[0m\u001b[0;34m\u001b[0m\u001b[0;34m\u001b[0m\u001b[0m\n\u001b[1;32m      2\u001b[0m \u001b[0;32mimport\u001b[0m \u001b[0mpygame\u001b[0m\u001b[0;34m\u001b[0m\u001b[0;34m\u001b[0m\u001b[0m\n\u001b[0;32m----> 3\u001b[0;31m \u001b[0mpygame\u001b[0m\u001b[0;34m.\u001b[0m\u001b[0mmixer\u001b[0m\u001b[0;34m.\u001b[0m\u001b[0minit\u001b[0m\u001b[0;34m(\u001b[0m\u001b[0;34m)\u001b[0m\u001b[0;34m\u001b[0m\u001b[0;34m\u001b[0m\u001b[0m\n\u001b[0m\u001b[1;32m      4\u001b[0m \u001b[0mpygame\u001b[0m\u001b[0;34m.\u001b[0m\u001b[0mmixer\u001b[0m\u001b[0;34m.\u001b[0m\u001b[0mmusic\u001b[0m\u001b[0;34m.\u001b[0m\u001b[0mload\u001b[0m\u001b[0;34m(\u001b[0m\u001b[0;34m\"/content/drive/MyDrive/Contas/teste.mp3\"\u001b[0m\u001b[0;34m)\u001b[0m\u001b[0;34m\u001b[0m\u001b[0;34m\u001b[0m\u001b[0m\n\u001b[1;32m      5\u001b[0m \u001b[0mpygame\u001b[0m\u001b[0;34m.\u001b[0m\u001b[0mmixer\u001b[0m\u001b[0;34m.\u001b[0m\u001b[0mmusic\u001b[0m\u001b[0;34m.\u001b[0m\u001b[0mplay\u001b[0m\u001b[0;34m(\u001b[0m\u001b[0;34m)\u001b[0m\u001b[0;34m\u001b[0m\u001b[0;34m\u001b[0m\u001b[0m\n",
            "\u001b[0;31merror\u001b[0m: ALSA: Couldn't open audio device: No such file or directory"
          ]
        }
      ]
    },
    {
      "cell_type": "code",
      "source": [
        "#manipulando texto\n",
        "\n",
        "frase = ('CURSO EM VIDEO PYTHON')# variavel frase recebendo valor (\"\")\n",
        "frase2 = ('CURSO EM VIDEO PYTHON')# variavel frase recebendo valor (\"\")\n",
        "\n",
        "nova_frase = frase.replace('VIDEO','XUXA ')#Substituindo uma string da frase por outra metodo replace\n",
        "\n",
        "palavra_antiga = input(f'Digite a palavra antiga que voce quer substiruir na frase {frase}: ')\n",
        "palavra_nova = input(f'Digite agora a palavra nova que sera inserida no lugar da palavara digita {palavra_antiga}: ')\n",
        "frase3 = frase.replace(palavra_antiga, palavra_nova)\n",
        "\n",
        "\n",
        "\n",
        "frase_maiuscula = frase2.upper()#converte tudo para maisculo\n",
        "\n",
        "frase_minuscula = frase.lower()#capitalize(): esse método converte a primeira letra da string para maiúscula e as demais para minúsculas.\n",
        "\n",
        "frase_primeira_letra = frase.capitalize()\n",
        "\n",
        "contador = len(frase) #len () faz a contagem de todas as strings da frase\n",
        "\n",
        "a = frase.count('o') #count() faz a contagem de um determinado numero de vezes que um caracter ou palavra se repete\n",
        "\n",
        "indice = frase.find('em')#étodo de string que retorna o índice da primeira ocorrência de uma sub-string em uma string\n",
        "\n",
        "frasse_Title = frase.title()#title(): esse método converte a primeira letra de cada palavra da string para maiúscula e as demais para minúsculas.\n",
        "\n",
        "print(frase3)\n",
        "#print(frasse_Title)\n",
        "#print(frase_primeira_letra)\n",
        "#print(frase_minuscula)\n",
        "#print(frase_maiuscula)\n",
        "#print(nova_frase)\n",
        "#print(indice)#indice da primeira ocorrência de uma sub-string em uma string\n",
        "#print(a)# imprime o numero de ocorrencias de um caracter string ou palavras\n",
        "#print(contador)# imprime o numero total de caracteres de uma string\n",
        "#print(frase[5:21])# começa do indice 5 e vai até o indice 21\n",
        "#print(frase[9:21:2])# começa a ler do indice 9 ao 21(esclui o 21)pulando 2 casas por vez\n",
        "#print(frase[:21])# ler do indice 0 até onde foi informado, neste caso 21 ele imprime a frase toda pois ela tem 21 indices"
      ],
      "metadata": {
        "id": "vt0mST0pKDKb",
        "colab": {
          "base_uri": "https://localhost:8080/"
        },
        "outputId": "392a53d5-d2e7-45e2-f784-f396ce286218"
      },
      "execution_count": 40,
      "outputs": [
        {
          "output_type": "stream",
          "name": "stdout",
          "text": [
            "Digite a palavra antiga que voce quer substiruir na frase CURSO EM VIDEO PYTHON: CURSO EM VIDEO PYTHON\n",
            "Digite agora a palavra nova que sera inserida no lugar da palavara digita CURSO EM VIDEO PYTHON: EU SEI PROGRAMAR\n",
            "EU SEI PROGRAMAR\n"
          ]
        }
      ]
    },
    {
      "cell_type": "code",
      "source": [
        "import requests\n",
        "\n",
        "url = \"https://pobreflix.biz/\"\n",
        "payload = {\"q\": \"' OR 1=1 --\"}\n",
        "\n",
        "response = requests.get(url, params=payload)\n",
        "\n",
        "if \"error\" not in response.text:\n",
        "    print(\"SQL Injection vulnerability detected!\")\n",
        "else:\n",
        "    print(\"No SQL Injection vulnerability detected.\")"
      ],
      "metadata": {
        "colab": {
          "base_uri": "https://localhost:8080/"
        },
        "id": "Gao-uJ7fL20n",
        "outputId": "4ba587dd-4489-4063-ba3b-78ab5a2ad2c7"
      },
      "execution_count": 41,
      "outputs": [
        {
          "output_type": "stream",
          "name": "stdout",
          "text": [
            "No SQL Injection vulnerability detected.\n"
          ]
        }
      ]
    }
  ]
}