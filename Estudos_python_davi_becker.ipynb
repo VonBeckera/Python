{
  "nbformat": 4,
  "nbformat_minor": 0,
  "metadata": {
    "colab": {
      "provenance": [],
      "name": "Estudos_python_davi_becker.ipynb",
      "mount_file_id": "https://gist.github.com/VonBeckera/890cc00392789d5dd836094d4c7fd563#file-untitled1-ipynb",
      "authorship_tag": "ABX9TyM3L4a3AlyVg0YBe2OzO8YP",
      "include_colab_link": true
    },
    "kernelspec": {
      "name": "python3",
      "display_name": "Python 3"
    },
    "language_info": {
      "name": "python"
    }
  },
  "cells": [
    {
      "cell_type": "markdown",
      "metadata": {
        "id": "view-in-github",
        "colab_type": "text"
      },
      "source": [
        "<a href=\"https://colab.research.google.com/github/VonBeckera/Python/blob/main/Estudos_python_davi_becker.ipynb\" target=\"_parent\"><img src=\"https://colab.research.google.com/assets/colab-badge.svg\" alt=\"Open In Colab\"/></a>"
      ]
    },
    {
      "cell_type": "code",
      "execution_count": null,
      "metadata": {
        "colab": {
          "base_uri": "https://localhost:8080/"
        },
        "id": "kCjFpoujXt6Q",
        "outputId": "db4f10bc-0c19-4cfb-f0b9-ec61c7ad160a"
      },
      "outputs": [
        {
          "output_type": "stream",
          "name": "stdout",
          "text": [
            "Digite algo:        \n",
            "O tipo digitado é:  <class 'str'>\n",
            "O tipo digitado tem espaços:  True\n",
            "O tipo digitado é um número:  False\n",
            "O tipo digitado é alfa numerico:  False\n",
            "O tipo digitado e alfabetico:  False\n",
            "O tipo está capitalizado:  False\n"
          ]
        }
      ],
      "source": [
        "a = input('Digite algo: ')\n",
        "print('O tipo digitado é: ', type(a))\n",
        "print('O tipo digitado tem espaços: ', a.isspace())\n",
        "print('O tipo digitado é um número: ', a.isnumeric())\n",
        "print('O tipo digitado é alfa numerico: ', a.isalnum())\n",
        "print('O tipo digitado e alfabetico: ', a.isalpha())\n",
        "print('O tipo está capitalizado: ', a.istitle())"
      ]
    },
    {
      "cell_type": "markdown",
      "source": [
        "# Ordem Aritimetica de precedência\n",
        "#1 - ()\n",
        "#2 - **\n",
        "#3- *,/,//,%\n",
        "#4- +,-"
      ],
      "metadata": {
        "id": "0piO8u4NWs6k"
      }
    },
    {
      "cell_type": "code",
      "source": [
        "#Exmplos de precedencias\n",
        "# Exemplo 1\n",
        "n1 = 5\n",
        "n2 = 2\n",
        "n3 = 3\n",
        "s = n1+n2*n3\n",
        "print(s)\n",
        "\n",
        "# Exemplo 2\n",
        "n4 = 3\n",
        "n5 = 5\n",
        "n6 = 4\n",
        "n7 = 2\n",
        "s1 = n4*n5+n6**n7\n",
        "print(s1)\n",
        "# Exemplo 3\n",
        "\n",
        "n8 = 3\n",
        "n9 = 5\n",
        "n0 = 4\n",
        "n11 = 2\n",
        "s2 = n8*(n9+n0)**n11\n",
        "print(s2)\n"
      ],
      "metadata": {
        "colab": {
          "base_uri": "https://localhost:8080/"
        },
        "id": "OTqlNsOIVpOC",
        "outputId": "41be9b42-68e3-4e1a-a071-cf11e40cf384"
      },
      "execution_count": null,
      "outputs": [
        {
          "output_type": "stream",
          "name": "stdout",
          "text": [
            "11\n",
            "31\n",
            "243\n"
          ]
        }
      ]
    },
    {
      "cell_type": "markdown",
      "source": [
        "# Aula 04\n"
      ],
      "metadata": {
        "id": "DdBtVGtyclQk"
      }
    },
    {
      "cell_type": "markdown",
      "source": [
        "# Aula 07\n"
      ],
      "metadata": {
        "id": "E_VeYbVjZphx"
      }
    },
    {
      "cell_type": "code",
      "source": [
        "nome = input('Qual o seu nome? ')\n",
        "print(f'Seja Bem Vindo {nome}!')"
      ],
      "metadata": {
        "colab": {
          "base_uri": "https://localhost:8080/"
        },
        "id": "hgXzhrxiZufz",
        "outputId": "270cbd7e-6634-4e82-c2fd-3d588d86893d"
      },
      "execution_count": null,
      "outputs": [
        {
          "output_type": "stream",
          "name": "stdout",
          "text": [
            "Qual o seu nome? pedro\n",
            "Seja Bem Vindo pedro!\n"
          ]
        }
      ]
    },
    {
      "cell_type": "code",
      "source": [
        "n1 = int(input('Digite um valor ' ))\n",
        "n2 = int(input('Digite outro valor ' ))\n",
        "print(f'A soma vale {n1+n2}')"
      ],
      "metadata": {
        "id": "S5y-FCZYdcIT",
        "outputId": "1aec9531-aafa-42cf-f998-64285cf1025e",
        "colab": {
          "base_uri": "https://localhost:8080/"
        }
      },
      "execution_count": null,
      "outputs": [
        {
          "output_type": "stream",
          "name": "stdout",
          "text": [
            "Digite um valor 100\n",
            "Digite outro valor 200\n",
            "A soma vale 300\n"
          ]
        }
      ]
    },
    {
      "cell_type": "code",
      "source": [
        "# Conversão de valores em dólar\n",
        "\n",
        "d = float(input('Digite o valor que você tem na carteria: '))\n",
        "c = d/5.07\n",
        "print(f'O valor de {d} Reais equivale a {c:.2f} dólares')"
      ],
      "metadata": {
        "colab": {
          "base_uri": "https://localhost:8080/"
        },
        "id": "884aqXEPBNxF",
        "outputId": "47107a8b-40da-413f-c781-55dd23765dff"
      },
      "execution_count": null,
      "outputs": [
        {
          "output_type": "stream",
          "name": "stdout",
          "text": [
            "Digite o valor que você tem na carteria: 20\n",
            "O valor de 20.0 Reais equivale a 3.94 dólares\n"
          ]
        }
      ]
    },
    {
      "cell_type": "code",
      "source": [
        "#Calcular desconto de x% do valor de um produto\n",
        "n = input('Digite seu nome para acessar o sistema: ')\n",
        "print(f'Seja bem vido {n} ao sistema de cáculos de descontos')\n",
        "v = float(input('Digite o valor do produto: '))\n",
        "d = float(input('Digite o valor do desconto: '))\n",
        "c = v - (v * d / 100)\n",
        "print(f'O valor final com o Desconto de {d:.0f}% é de R${c:.2f}')"
      ],
      "metadata": {
        "colab": {
          "base_uri": "https://localhost:8080/"
        },
        "id": "sqGLri-Plo38",
        "outputId": "960f7c84-2df6-496d-8034-9313c340673f"
      },
      "execution_count": null,
      "outputs": [
        {
          "output_type": "stream",
          "name": "stdout",
          "text": [
            "Digite seu nome para acessar o sistema: davi\n",
            "Seja bem vido davi ao sistema de cáculos de descontos\n",
            "Digite o valor do produto: 100\n",
            "Digite o valor do desconto: 10\n",
            "O valor final com o Desconto de 10% é de R$90.00\n"
          ]
        }
      ]
    },
    {
      "cell_type": "code",
      "source": [
        "# Calcular a área de uma parede retangular e a quantidade de tinta a ser usada\n",
        "# 1 litro de tinta pinta 2m² de parede\n",
        "# Área - Base(b) x Altura(h)\n",
        "n = input('Digite seu nome ')\n",
        "print(f'Seja Bem vindo {n} ao sistema de cácluo de pintura de área construída')\n",
        "b = float(input('Digite o valor da Base em metros: ' ))\n",
        "h = float(input('Digite o valor da altura em metros: ' ))\n",
        "a = (b*h)\n",
        "t = (a / 2)\n",
        "print(f'A área tem {a} m² e a quantidade de tinta nescessária para pintar é de {t} Litros de tinta')"
      ],
      "metadata": {
        "colab": {
          "base_uri": "https://localhost:8080/"
        },
        "id": "Mv8zfPK5GTX6",
        "outputId": "57243c53-26af-4e12-b79d-ba479fda051a"
      },
      "execution_count": null,
      "outputs": [
        {
          "output_type": "stream",
          "name": "stdout",
          "text": [
            "Digite seu nome davi\n",
            "Seja Bem vindo davi ao sistema de cácluo de pintura de área construída\n",
            "Digite o valor da Base em metros: 5\n",
            "Digite o valor da altura em metros: 5\n",
            "A área tem 25.0 m² e a quantidade de tinta nescessária para pintar é de 12.5 Litros de tinta\n"
          ]
        }
      ]
    },
    {
      "cell_type": "code",
      "source": [
        "#Teste de ocultar senha\n",
        "import getpass\n",
        "s = getpass.getpass(prompt='Digite sua senha ')\n",
        "s2 = \"123\"\n",
        "\n",
        "if s == s2:\n",
        "    print('Seja Bem vindo ao sistema')\n",
        "\n",
        "else:\n",
        "    print('Senha inválida!')"
      ],
      "metadata": {
        "colab": {
          "base_uri": "https://localhost:8080/"
        },
        "id": "UeOXKxFfnsfK",
        "outputId": "42caea89-686b-4ad0-874a-1969642991fe"
      },
      "execution_count": null,
      "outputs": [
        {
          "output_type": "stream",
          "name": "stdout",
          "text": [
            "Digite sua senha ··········\n",
            "Seja Bem vindo ao sistema\n"
          ]
        }
      ]
    },
    {
      "cell_type": "code",
      "source": [
        "#Ler salário e mostre o novo salário com 15% de aumento\n",
        "n = input('Digite seu nome: ')\n",
        "print(f'Seja bem vindo {n} ao sistema de cálculo de salários')\n",
        "print('Este sistema irá calcular o aumento salarial de 15% sobre o salário informado')\n",
        "s = float(input('Informe o valor do salário: '))\n",
        "c = (s * 0.15)+s\n",
        "p = c-s\n",
        "print(f'O salário de R${s:.2f} com aumento de 15% é de R${c:.2f} o valor do aumento foi de R$: {p:.2f}')\n"
      ],
      "metadata": {
        "colab": {
          "base_uri": "https://localhost:8080/"
        },
        "id": "-zVgTejoFRdr",
        "outputId": "76278101-3299-40c8-a849-266f5e52ac90"
      },
      "execution_count": null,
      "outputs": [
        {
          "output_type": "stream",
          "name": "stdout",
          "text": [
            "Digite seu nome: davi\n",
            "Seja bem vindo davi ao sistema de cálculo de salários\n",
            "Este sistema irá calcular o aumento salarial de 15% sobre o salário informado\n",
            "Informe o valor do salário: 1200\n",
            "O salário de R$1200.00 com aumento de 15% é de R$1380.00 o valor do aumento foi de R$: 180.00\n"
          ]
        }
      ]
    },
    {
      "cell_type": "code",
      "source": [
        "#Sucessor e antecessor de um número digitado\n",
        "n = int(input('Digite um número: '))\n",
        "print(f'O sucessor do número {n} é: {n+1}, é seu antecessor é: {n-1}')"
      ],
      "metadata": {
        "colab": {
          "base_uri": "https://localhost:8080/"
        },
        "id": "fbSSh6e3K-XR",
        "outputId": "f36abda9-799f-4d73-f24b-36357f0ceec5"
      },
      "execution_count": null,
      "outputs": [
        {
          "output_type": "stream",
          "name": "stdout",
          "text": [
            "Digite um número: 10\n",
            "O sucessor do número 10 é: 11, é seu antecessor é: 9\n"
          ]
        }
      ]
    },
    {
      "cell_type": "code",
      "source": [
        "#Crie um algoritmo que leia um número e mostre o seu dobro, triplo e raiz quadrada.\n",
        "import math\n",
        "n = int(input('Digite um número e vamos calulcar seu dobro, triplo e raiz quadrada: '))\n",
        "d = n*2\n",
        "t = n*3\n",
        "r = math.sqrt(n)\n",
        "l = n**(1/2)\n",
        "print(f'O dobro do número {n} é: {d}\\n ---- O triplo de {n} é: {t}\\n ---- A raiz quadrada de {n} é: {r}')\n",
        "print(l)"
      ],
      "metadata": {
        "colab": {
          "base_uri": "https://localhost:8080/"
        },
        "id": "K1nTRN9SMHlx",
        "outputId": "c1b9af4a-1e54-4375-f7fb-bb99d0fd2c8d"
      },
      "execution_count": null,
      "outputs": [
        {
          "output_type": "stream",
          "name": "stdout",
          "text": [
            "Digite um número e vamos calulcar seu dobro, triplo e raiz quadrada: 400\n",
            "O dobro do número 400 é: 800\n",
            " ---- O triplo de 400 é: 1200\n",
            " ---- A raiz quadrada de 400 é: 20.0\n",
            "20.0\n"
          ]
        }
      ]
    },
    {
      "cell_type": "code",
      "source": [
        "#Desenvolva um programa que leia as duas notas de um aluno, calcule e mostre a sua média.\n",
        "import getpass\n",
        "n = input('Digite seu nome: ')\n",
        "s2 = \"123\"\n",
        "\n",
        "while True:\n",
        "    s = getpass.getpass(prompt='Digite sua senha: ')\n",
        "    if s == s2:\n",
        "        print(f'Seja bem vindo {n} ao sistema de notas e médias acadêmicas')\n",
        "        break\n",
        "    else:\n",
        "        print('Senha inválida, tente novamente.')\n",
        "\n",
        "while True:\n",
        "    op = int(input('Digite 1 para sair ou 2 para um novo aluno: '))\n",
        "\n",
        "    if op == 1:\n",
        "        print('Obrigado por utilizar nosso sistema, até logo!')\n",
        "        break\n",
        "\n",
        "    elif op == 2:\n",
        "        a = input('Digite o nome do aluno: ')\n",
        "        nota1 = float(input(f'Digite a primeira nota do Aluno {a}: '))\n",
        "        nota2 = float(input(f'Digite a segunda nota do aluno {a}: '))\n",
        "        media = (nota1 + nota2) / 2\n",
        "\n",
        "        if media >= 7:\n",
        "            print(f'O aluno {a} foi aprovado com Média {media}')\n",
        "        else:\n",
        "            print(f'O aluno {a} foi reprovado com média {media}')"
      ],
      "metadata": {
        "colab": {
          "base_uri": "https://localhost:8080/"
        },
        "id": "lJlv1MqNPLrr",
        "outputId": "4966fda6-16b7-4a15-fc20-c9e5fc5efd41"
      },
      "execution_count": null,
      "outputs": [
        {
          "output_type": "stream",
          "name": "stdout",
          "text": [
            "Digite seu nome: Davi\n",
            "Digite sua senha: ··········\n",
            "Seja bem vindo Davi ao sistema de notas e médias acadêmicas\n",
            "Digite 1 para sair ou 2 para um novo aluno: 2\n",
            "Digite o nome do aluno: Jose\n",
            "Digite a primeira nota do Aluno Jose: 10\n",
            "Digite a segunda nota do aluno Jose: 5\n",
            "O aluno Jose foi aprovado com Média 7.5\n",
            "Digite 1 para sair ou 2 para um novo aluno: 1\n",
            "Obrigado por utilizar nosso sistema, até logo!\n"
          ]
        }
      ]
    },
    {
      "cell_type": "code",
      "source": [
        "#Programa de conversão de metros para CM e MM\n",
        "\n",
        "me = int(input('Digite o valor em metros: '))\n",
        "cm = me*100 \n",
        "mm = me*1000\n",
        "print(f'O valor de {me} metros equivale a: {cm} Centímetros e {mm} Milímetros')\n"
      ],
      "metadata": {
        "colab": {
          "base_uri": "https://localhost:8080/"
        },
        "id": "EUVG-xbMZeEH",
        "outputId": "eaf73262-4d63-4b1e-fe95-e435a3e38b47"
      },
      "execution_count": null,
      "outputs": [
        {
          "output_type": "stream",
          "name": "stdout",
          "text": [
            "Digite o valor em metros: 20\n",
            "O valor de 20 metros equivale a: 2000 Centímetros e 20000 Milímetros\n"
          ]
        }
      ]
    },
    {
      "cell_type": "code",
      "source": [
        "#Tabuada de um número digitado\n",
        "print('Bem vindo a tabuada de um número digitado')\n",
        "n = int(input('Digite um número: '))\n",
        "print(f'{n} x {1} = {n*1}')\n",
        "print(f'{n} x {2} = {n*2}')\n",
        "print(f'{n} x {3} = {n*3}')\n",
        "print(f'{n} x {4} = {n*4}')\n",
        "print(f'{n} x {5} = {n*5}')\n",
        "print(f'{n} x {6} = {n*6}')\n",
        "print(f'{n} x {7} = {n*7}')\n",
        "print(f'{n} x {8} = {n*8}')\n",
        "print(f'{n} x {9} = {n*9}')\n",
        "print(f'{n} x {10} = {n*10}')"
      ],
      "metadata": {
        "id": "ldM09OBobYP2",
        "outputId": "8ee82403-deaa-49ff-9c87-1a5ba0871eb1",
        "colab": {
          "base_uri": "https://localhost:8080/"
        }
      },
      "execution_count": null,
      "outputs": [
        {
          "output_type": "stream",
          "name": "stdout",
          "text": [
            "Bem vindo a tabuada de um número digitado\n",
            "Digite um número: 5\n",
            "5 x 1 = 5\n",
            "5 x 2 = 10\n",
            "5 x 3 = 15\n",
            "5 x 4 = 20\n",
            "5 x 5 = 25\n",
            "5 x 6 = 30\n",
            "5 x 7 = 35\n",
            "5 x 8 = 40\n",
            "5 x 9 = 45\n",
            "5 x 10 = 50\n"
          ]
        }
      ]
    },
    {
      "cell_type": "code",
      "source": [
        "#Convertendo temperatura\n",
        "\n",
        "t = float(input('Digite a temperatura em Celsius: '))\n",
        "f1 = (1.8 * t) + 32\n",
        "print(f'Converter {t}°C para a escala Fahrenheit : {f1}°')\n"
      ],
      "metadata": {
        "colab": {
          "base_uri": "https://localhost:8080/"
        },
        "id": "CQNSdQ7HNwQP",
        "outputId": "9f8835c4-666d-4672-fc89-042944fd65f0"
      },
      "execution_count": null,
      "outputs": [
        {
          "output_type": "stream",
          "name": "stdout",
          "text": [
            "Digite a temperatura em Celsius: 40\n",
            "Converter 40.0°C para a escala Fahrenheit : 104.0°\n"
          ]
        }
      ]
    },
    {
      "cell_type": "code",
      "source": [
        "# Escreva um programa que pergunte a quantidade de Km percorridos por \n",
        "#um carro alugado e a quantidade de dias pelos quais ele foi alugado.\n",
        "#Calcule o preço a pagar, sabendo que o carro custa R$60 por dia e R$0,15 por Km rodado.\n",
        "\n",
        "print('Seja bem vido ao Locacar')\n",
        "d = 60\n",
        "d2 = int(input('Informe a quantidade de dias de locação: '))\n",
        "km = float(input('Informe a kilometragem final: '))\n",
        "cpkm = km * 0.15\n",
        "cd = d * d2\n",
        "cf = cd+cpkm\n",
        "print(f' O custo das diárias de {d2} dias foram de R${cd:.2f}\\n o custo da kilomêtragem de {km} KM foi de R${cpkm:.2f}\\n o valor final a ser pago pelo aluguel do veículo é de R$ {cf:.2f}')\n",
        "\n"
      ],
      "metadata": {
        "colab": {
          "base_uri": "https://localhost:8080/"
        },
        "id": "vz_HUvGVsVBH",
        "outputId": "171ce5b3-60c1-4786-e450-b8fc01b66618"
      },
      "execution_count": null,
      "outputs": [
        {
          "output_type": "stream",
          "name": "stdout",
          "text": [
            "Seja bem vido ao Locacar\n",
            "Informe a quantidade de dias de locação: 30\n",
            "Informe a kilometragem final: 750\n",
            " O custo das diárias de 30 dias foram de R$1800.00\n",
            " o custo da kilomêtragem de 750.0KM foi de R$112.50\n",
            " o valor final a ser pago pelo aluguel do veículo é de R$ 1912.50\n"
          ]
        }
      ]
    },
    {
      "cell_type": "markdown",
      "source": [
        "MÓDULO 2\n"
      ],
      "metadata": {
        "id": "FvUwHZoIxPtJ"
      }
    },
    {
      "cell_type": "code",
      "source": [
        "!pip install emoji\n",
        "import emoji\n",
        "print(emoji.emojize(\"Olá mundo :sunglasses: \"))"
      ],
      "metadata": {
        "colab": {
          "base_uri": "https://localhost:8080/"
        },
        "id": "d14LXRHFxTdq",
        "outputId": "b36fcee7-34e0-42cc-cd87-a89455d1abf9"
      },
      "execution_count": null,
      "outputs": [
        {
          "output_type": "stream",
          "name": "stdout",
          "text": [
            "Looking in indexes: https://pypi.org/simple, https://us-python.pkg.dev/colab-wheels/public/simple/\n",
            "Requirement already satisfied: emoji in /usr/local/lib/python3.8/dist-packages (2.2.0)\n",
            "Olá mundo 🕶️ \n"
          ]
        }
      ]
    },
    {
      "cell_type": "code",
      "source": [
        "from math import trunc\n",
        "n = float(input('Digite um numero qualquer: '))\n",
        "print(f' A porção inteira do número digitado {n} é: {trunc(n)}')"
      ],
      "metadata": {
        "colab": {
          "base_uri": "https://localhost:8080/"
        },
        "id": "6AdqIN3f6lA4",
        "outputId": "e3d6860e-94fa-4ed0-a8d5-572eb0d14b46"
      },
      "execution_count": null,
      "outputs": [
        {
          "output_type": "stream",
          "name": "stdout",
          "text": [
            "Digite um numero qualquer: 6.99\n",
            " A porção inteira do número digitado 6.99 é: 6\n"
          ]
        }
      ]
    },
    {
      "cell_type": "code",
      "source": [
        "from math import hypot\n",
        "copo = int(input('Digite o valor do cateto oposto: '))\n",
        "cadj = int(input('Digite o valor do cateto adjacente: '))\n",
        "\n",
        "hip = hypot(copo,cadj)\n",
        "\n",
        "print(f'O valor da Hipotenusa é: {hip}')\n",
        "\n"
      ],
      "metadata": {
        "colab": {
          "base_uri": "https://localhost:8080/"
        },
        "id": "-6Ddn5aEQRqx",
        "outputId": "73f21c95-0a9e-47c2-88cd-842ecde2da1d"
      },
      "execution_count": null,
      "outputs": [
        {
          "output_type": "stream",
          "name": "stdout",
          "text": [
            "Digite o valor do cateto oposto: 4\n",
            "Digite o valor do cateto adjacente: 3\n",
            "O valor da Hipotenusa é: 5.0\n"
          ]
        }
      ]
    },
    {
      "cell_type": "code",
      "source": [
        "from  math import sin,cos,tan,radians\n",
        "\n",
        "a = int(input('Digite o valor do ângulo: '))\n",
        "\n",
        "r = math.radians(a)\n",
        "cosseno = math.cos(r)\n",
        "seno = math.sin(r)\n",
        "tangente = math.tan(r)\n",
        "\n",
        "print(f'O valor do seno é {sin(r)} do cosseno é {cos(r)} e da tangente é {tan(r)} o ângulo em radianos é de {r}')\n",
        "\n"
      ],
      "metadata": {
        "id": "cSFcUiHwSOSf",
        "outputId": "a2225661-0de1-4b10-857c-d627e215ff30",
        "colab": {
          "base_uri": "https://localhost:8080/"
        }
      },
      "execution_count": null,
      "outputs": [
        {
          "output_type": "stream",
          "name": "stdout",
          "text": [
            "Digite o valor do ângulo: 45\n",
            "O valor do seno é 0.7071067811865475 do cosseno é 0.7071067811865476 e da tangente é 0.9999999999999999 o ângulo em radianos é de 0.7853981633974483\n"
          ]
        }
      ]
    },
    {
      "cell_type": "code",
      "source": [
        "from random import choice\n",
        "nome = input('Digite o Primeiro nome: ')\n",
        "nome2 = input('Digite o segundo nome: ')\n",
        "nome3 = input('Digite o terceiro nome: ')\n",
        "nome4 = input('Digite o quarto nome: ')\n",
        "lista = [nome, nome2, nome3, nome4]\n",
        "escolhido = choice(lista)\n",
        "print(f'O aluno escolhido é: {escolhido}')"
      ],
      "metadata": {
        "id": "2BUr5iaGV_yf",
        "outputId": "a5f50890-7301-414e-ca6a-0fdafd3ec6af",
        "colab": {
          "base_uri": "https://localhost:8080/"
        }
      },
      "execution_count": null,
      "outputs": [
        {
          "output_type": "stream",
          "name": "stdout",
          "text": [
            "Digite o Primeiro nome: davi\n",
            "Digite o segundo nome: pedro\n",
            "Digite o terceiro nome: raissa\n",
            "Digite o quarto nome: carla\n",
            "O aluno escolhido é: carla\n"
          ]
        }
      ]
    },
    {
      "cell_type": "code",
      "source": [
        "import random\n",
        "nome = input('Digite o Primeiro nome: ')\n",
        "nome2 = input('Digite o segundo nome: ')\n",
        "nome3 = input('Digite o terceiro nome: ')\n",
        "nome4 = input('Digite o quarto nome: ')\n",
        "lista = [nome, nome2, nome3, nome4]\n",
        "random.shuffle(lista)\n",
        "print(f'A ordem de apresentação será: {lista}')\n",
        "\n"
      ],
      "metadata": {
        "colab": {
          "base_uri": "https://localhost:8080/"
        },
        "id": "qzZ6TG7_QOnv",
        "outputId": "7c97cb19-fefa-42a2-a341-7e03c8222984"
      },
      "execution_count": null,
      "outputs": [
        {
          "output_type": "stream",
          "name": "stdout",
          "text": [
            "Digite o Primeiro nome: davi\n",
            "Digite o segundo nome: camila\n",
            "Digite o terceiro nome: pedro\n",
            "Digite o quarto nome: carlos\n",
            "A ordem de apresentação será: ['carlos', 'davi', 'pedro', 'camila']\n"
          ]
        }
      ]
    },
    {
      "cell_type": "code",
      "source": [
        "import random\n",
        "\n",
        "nomes = []\n",
        "\n",
        "print(\"Digite 4 nomes separados por enter: \")\n",
        "\n",
        "for i in range(4):\n",
        "    nome = input()\n",
        "    nomes.append(nome)\n",
        "\n",
        "aluno = random.choice(nomes)\n",
        "\n",
        "print(f'O nome é: {aluno}')\n",
        "\n"
      ],
      "metadata": {
        "id": "VJp0D2W0XRYD",
        "outputId": "81a31d12-53ba-40f6-c352-63d1d06d086d",
        "colab": {
          "base_uri": "https://localhost:8080/"
        }
      },
      "execution_count": null,
      "outputs": [
        {
          "output_type": "stream",
          "name": "stdout",
          "text": [
            "Digite 4 nomes um de cada vez apertando enter: \n",
            "Digite 4 nomes separados por enter:\n",
            "raissa\n",
            "hanna\n",
            "amanda\n",
            "andreia\n",
            "O nome é: amanda\n"
          ]
        }
      ]
    },
    {
      "cell_type": "code",
      "source": [
        "import random\n",
        "nomes = ['Davi','Pedro','Raissa','Claudia','Silvia','Amanda','Fabiana']\n",
        "sorteados = random.sample(nomes, 7)\n",
        "for i , nome in enumerate(sorteados):\n",
        "  print(f'{i + 1}º nome sorteado: {nome}')\n"
      ],
      "metadata": {
        "id": "GBfEmtEf-MMu",
        "outputId": "36c4c096-b0aa-4dee-8309-5d2a1e40c9c5",
        "colab": {
          "base_uri": "https://localhost:8080/"
        }
      },
      "execution_count": null,
      "outputs": [
        {
          "output_type": "stream",
          "name": "stdout",
          "text": [
            "1º nome sorteado: Davi\n",
            "2º nome sorteado: Amanda\n",
            "3º nome sorteado: Silvia\n",
            "4º nome sorteado: Fabiana\n",
            "5º nome sorteado: Raissa\n",
            "6º nome sorteado: Claudia\n",
            "7º nome sorteado: Pedro\n"
          ]
        }
      ]
    },
    {
      "cell_type": "code",
      "source": [
        "!pip install pygame\n",
        "import pygame\n",
        "pygame.init()\n",
        "pygame.mixer.init()\n",
        "pygame.mixer.music.load(\"/content/drive/MyDrive/Contas/teste.mp3\")\n",
        "pygame.mixer.music.play()\n",
        "\n",
        "\n"
      ],
      "metadata": {
        "id": "7vj_wGNWS-Wf",
        "outputId": "7cfc8568-f777-469a-e2c8-e4b4f7ce3823",
        "colab": {
          "base_uri": "https://localhost:8080/",
          "height": 269
        }
      },
      "execution_count": null,
      "outputs": [
        {
          "output_type": "stream",
          "name": "stdout",
          "text": [
            "Looking in indexes: https://pypi.org/simple, https://us-python.pkg.dev/colab-wheels/public/simple/\n",
            "Requirement already satisfied: pygame in /usr/local/lib/python3.8/dist-packages (2.1.2)\n"
          ]
        },
        {
          "output_type": "error",
          "ename": "error",
          "evalue": "ignored",
          "traceback": [
            "\u001b[0;31m---------------------------------------------------------------------------\u001b[0m",
            "\u001b[0;31merror\u001b[0m                                     Traceback (most recent call last)",
            "\u001b[0;32m<ipython-input-20-e9b09a5be1c8>\u001b[0m in \u001b[0;36m<module>\u001b[0;34m\u001b[0m\n\u001b[1;32m      1\u001b[0m \u001b[0mget_ipython\u001b[0m\u001b[0;34m(\u001b[0m\u001b[0;34m)\u001b[0m\u001b[0;34m.\u001b[0m\u001b[0msystem\u001b[0m\u001b[0;34m(\u001b[0m\u001b[0;34m'pip install pygame'\u001b[0m\u001b[0;34m)\u001b[0m\u001b[0;34m\u001b[0m\u001b[0;34m\u001b[0m\u001b[0m\n\u001b[1;32m      2\u001b[0m \u001b[0;32mimport\u001b[0m \u001b[0mpygame\u001b[0m\u001b[0;34m\u001b[0m\u001b[0;34m\u001b[0m\u001b[0m\n\u001b[0;32m----> 3\u001b[0;31m \u001b[0mpygame\u001b[0m\u001b[0;34m.\u001b[0m\u001b[0mmixer\u001b[0m\u001b[0;34m.\u001b[0m\u001b[0minit\u001b[0m\u001b[0;34m(\u001b[0m\u001b[0;34m)\u001b[0m\u001b[0;34m\u001b[0m\u001b[0;34m\u001b[0m\u001b[0m\n\u001b[0m\u001b[1;32m      4\u001b[0m \u001b[0mpygame\u001b[0m\u001b[0;34m.\u001b[0m\u001b[0mmixer\u001b[0m\u001b[0;34m.\u001b[0m\u001b[0mmusic\u001b[0m\u001b[0;34m.\u001b[0m\u001b[0mload\u001b[0m\u001b[0;34m(\u001b[0m\u001b[0;34m\"/content/drive/MyDrive/Contas/teste.mp3\"\u001b[0m\u001b[0;34m)\u001b[0m\u001b[0;34m\u001b[0m\u001b[0;34m\u001b[0m\u001b[0m\n\u001b[1;32m      5\u001b[0m \u001b[0mpygame\u001b[0m\u001b[0;34m.\u001b[0m\u001b[0mmixer\u001b[0m\u001b[0;34m.\u001b[0m\u001b[0mmusic\u001b[0m\u001b[0;34m.\u001b[0m\u001b[0mplay\u001b[0m\u001b[0;34m(\u001b[0m\u001b[0;34m)\u001b[0m\u001b[0;34m\u001b[0m\u001b[0;34m\u001b[0m\u001b[0m\n",
            "\u001b[0;31merror\u001b[0m: ALSA: Couldn't open audio device: No such file or directory"
          ]
        }
      ]
    },
    {
      "cell_type": "code",
      "source": [
        "import requests\n",
        "\n",
        "url = \"https://pobreflix.biz/\"\n",
        "payload = {\"q\": \"' OR (SELECT COUNT(*) FROM all_tables) > 1 --\"}\n",
        "\n",
        "response = requests.get(url, params=payload)\n",
        "\n",
        "if \"error\" not in response.text:\n",
        "    print(\"SQL Injection vulnerability detected!\")\n",
        "else:\n",
        "    print(\"No SQL Injection vulnerability detected.\")"
      ],
      "metadata": {
        "colab": {
          "base_uri": "https://localhost:8080/"
        },
        "id": "Gao-uJ7fL20n",
        "outputId": "c36b7aeb-406b-44bd-85c5-17f6cdf8e9ad"
      },
      "execution_count": null,
      "outputs": [
        {
          "output_type": "stream",
          "name": "stdout",
          "text": [
            "No SQL Injection vulnerability detected.\n"
          ]
        }
      ]
    },
    {
      "cell_type": "markdown",
      "source": [
        "AULA 09 - Manipulando Textos"
      ],
      "metadata": {
        "id": "dsu5naaMJz5p"
      }
    },
    {
      "cell_type": "code",
      "source": [
        "#manipulando texto\n",
        "\n",
        "frase = ('CURSO EM VIDEO PYTHON')# variavel frase recebendo valor (\"\")\n",
        "frase2 = ('CURSO EM VIDEO PYTHON')# variavel frase recebendo valor (\"\")\n",
        "\n",
        "nova_frase = frase.replace('VIDEO','XUXA ')#Substituindo uma string da frase por outra metodo replace\n",
        "\n",
        "#palavra_antiga = input(f'Digite a palavra antiga que voce quer substiruir na frase {frase}: ')\n",
        "#palavra_nova = input(f'Digite agora a palavra nova que sera inserida no lugar da palavara digita {palavra_antiga}: ')\n",
        "#frase3 = frase.replace(palavra_antiga, palavra_nova)\n",
        "\n",
        "\n",
        "\n",
        "frase_maiuscula = frase2.upper()#converte tudo para maisculo\n",
        "\n",
        "frase_minuscula = frase.lower()#capitalize(): esse método converte a primeira letra da string para maiúscula e as demais para minúsculas.\n",
        "\n",
        "frase_primeira_letra = frase.capitalize()\n",
        "\n",
        "contador = len(frase) #len () faz a contagem de todas as strings da frase\n",
        "\n",
        "a = frase.count('o') #count() faz a contagem de um determinado numero de vezes que um caracter ou palavra se repete\n",
        "\n",
        "indice = frase.find('em')#étodo de string que retorna o índice da primeira ocorrência de uma sub-string em uma string\n",
        "\n",
        "frasse_Title = frase.title()#title(): esse método converte a primeira letra de cada palavra da string para maiúscula e as demais para minúsculas.\n",
        "\n",
        "dividido = frase.split()\n",
        "\n",
        "#print(frase3)\n",
        "#print(frase[3])\n",
        "#\n",
        "print(frase.find('VIDEO'))\n",
        "print(dividido)\n",
        "print(dividido[3])\n",
        "#print(frasse_Title)\n",
        "#print(frase_primeira_letra)\n",
        "#print(frase_minuscula)\n",
        "#print(frase_maiuscula)\n",
        "#print(nova_frase)\n",
        "#print(indice)#indice da primeira ocorrência de uma sub-string em uma string\n",
        "#print(a)# imprime o numero de ocorrencias de um caracter string ou palavras\n",
        "#print(contador)# imprime o numero total de caracteres de uma string\n",
        "#print(frase[5:21])# começa do indice 5 e vai até o indice 21\n",
        "#print(frase[9:21:2])# começa a ler do indice 9 ao 21(esclui o 21)pulando 2 casas por vez\n",
        "#print(frase[:21])# ler do indice 0 até onde foi informado, neste caso 21 ele imprime a frase toda pois ela tem 21 indices"
      ],
      "metadata": {
        "colab": {
          "base_uri": "https://localhost:8080/"
        },
        "id": "_WqkuvD9J6Bi",
        "outputId": "5eb9c881-8976-4fc0-abbb-875339092d6e"
      },
      "execution_count": null,
      "outputs": [
        {
          "output_type": "stream",
          "name": "stdout",
          "text": [
            "9\n",
            "['CURSO', 'EM', 'VIDEO', 'PYTHON']\n",
            "PYTHON\n"
          ]
        }
      ]
    },
    {
      "cell_type": "code",
      "source": [
        "!pip install phonenumbers\n",
        "import phonenumbers\n",
        "from phonenumbers import geocoder\n",
        "\n",
        "fone = phonenumbers.parse('+5541999590192')\n",
        "print('\\nLocalização\\n')\n",
        "print(geocoder.description_for_number(fone, 'PT'));\n"
      ],
      "metadata": {
        "colab": {
          "base_uri": "https://localhost:8080/"
        },
        "id": "w6U7XYrlKCdy",
        "outputId": "8005e813-6471-41ef-9a09-e15f2d8ec4fb"
      },
      "execution_count": null,
      "outputs": [
        {
          "output_type": "stream",
          "name": "stdout",
          "text": [
            "Looking in indexes: https://pypi.org/simple, https://us-python.pkg.dev/colab-wheels/public/simple/\n",
            "Requirement already satisfied: phonenumbers in /usr/local/lib/python3.8/dist-packages (8.13.6)\n",
            "\n",
            "Localização\n",
            "\n",
            "Paraná\n"
          ]
        }
      ]
    },
    {
      "cell_type": "code",
      "source": [
        "import tkinter as tk\n",
        "from tkinter import messagebox\n",
        "\n",
        "root = tk.Tk()\n",
        "root.withdraw()\n",
        "\n",
        "result = messagebox.askquestion(\"Question\", \"Do you want to continue?\")\n",
        "\n",
        "if result == 'yes':\n",
        "    print(\"User wants to continue\")\n",
        "else:\n",
        "    print(\"User does not want to continue\")"
      ],
      "metadata": {
        "id": "9HxF3s3DgLPs",
        "outputId": "c7592ee7-219b-4d22-9dcc-706a5eaa6fad",
        "colab": {
          "base_uri": "https://localhost:8080/",
          "height": 356
        }
      },
      "execution_count": null,
      "outputs": [
        {
          "output_type": "error",
          "ename": "TclError",
          "evalue": "ignored",
          "traceback": [
            "\u001b[0;31m---------------------------------------------------------------------------\u001b[0m",
            "\u001b[0;31mTclError\u001b[0m                                  Traceback (most recent call last)",
            "\u001b[0;32m<ipython-input-22-09c6fae160a0>\u001b[0m in \u001b[0;36m<module>\u001b[0;34m\u001b[0m\n\u001b[1;32m      2\u001b[0m \u001b[0;32mfrom\u001b[0m \u001b[0mtkinter\u001b[0m \u001b[0;32mimport\u001b[0m \u001b[0mmessagebox\u001b[0m\u001b[0;34m\u001b[0m\u001b[0;34m\u001b[0m\u001b[0m\n\u001b[1;32m      3\u001b[0m \u001b[0;34m\u001b[0m\u001b[0m\n\u001b[0;32m----> 4\u001b[0;31m \u001b[0mroot\u001b[0m \u001b[0;34m=\u001b[0m \u001b[0mtk\u001b[0m\u001b[0;34m.\u001b[0m\u001b[0mTk\u001b[0m\u001b[0;34m(\u001b[0m\u001b[0;34m)\u001b[0m\u001b[0;34m\u001b[0m\u001b[0;34m\u001b[0m\u001b[0m\n\u001b[0m\u001b[1;32m      5\u001b[0m \u001b[0mroot\u001b[0m\u001b[0;34m.\u001b[0m\u001b[0mwithdraw\u001b[0m\u001b[0;34m(\u001b[0m\u001b[0;34m)\u001b[0m\u001b[0;34m\u001b[0m\u001b[0;34m\u001b[0m\u001b[0m\n\u001b[1;32m      6\u001b[0m \u001b[0;34m\u001b[0m\u001b[0m\n",
            "\u001b[0;32m/usr/lib/python3.8/tkinter/__init__.py\u001b[0m in \u001b[0;36m__init__\u001b[0;34m(self, screenName, baseName, className, useTk, sync, use)\u001b[0m\n\u001b[1;32m   2268\u001b[0m                 \u001b[0mbaseName\u001b[0m \u001b[0;34m=\u001b[0m \u001b[0mbaseName\u001b[0m \u001b[0;34m+\u001b[0m \u001b[0mext\u001b[0m\u001b[0;34m\u001b[0m\u001b[0;34m\u001b[0m\u001b[0m\n\u001b[1;32m   2269\u001b[0m         \u001b[0minteractive\u001b[0m \u001b[0;34m=\u001b[0m \u001b[0;36m0\u001b[0m\u001b[0;34m\u001b[0m\u001b[0;34m\u001b[0m\u001b[0m\n\u001b[0;32m-> 2270\u001b[0;31m         \u001b[0mself\u001b[0m\u001b[0;34m.\u001b[0m\u001b[0mtk\u001b[0m \u001b[0;34m=\u001b[0m \u001b[0m_tkinter\u001b[0m\u001b[0;34m.\u001b[0m\u001b[0mcreate\u001b[0m\u001b[0;34m(\u001b[0m\u001b[0mscreenName\u001b[0m\u001b[0;34m,\u001b[0m \u001b[0mbaseName\u001b[0m\u001b[0;34m,\u001b[0m \u001b[0mclassName\u001b[0m\u001b[0;34m,\u001b[0m \u001b[0minteractive\u001b[0m\u001b[0;34m,\u001b[0m \u001b[0mwantobjects\u001b[0m\u001b[0;34m,\u001b[0m \u001b[0museTk\u001b[0m\u001b[0;34m,\u001b[0m \u001b[0msync\u001b[0m\u001b[0;34m,\u001b[0m \u001b[0muse\u001b[0m\u001b[0;34m)\u001b[0m\u001b[0;34m\u001b[0m\u001b[0;34m\u001b[0m\u001b[0m\n\u001b[0m\u001b[1;32m   2271\u001b[0m         \u001b[0;32mif\u001b[0m \u001b[0museTk\u001b[0m\u001b[0;34m:\u001b[0m\u001b[0;34m\u001b[0m\u001b[0;34m\u001b[0m\u001b[0m\n\u001b[1;32m   2272\u001b[0m             \u001b[0mself\u001b[0m\u001b[0;34m.\u001b[0m\u001b[0m_loadtk\u001b[0m\u001b[0;34m(\u001b[0m\u001b[0;34m)\u001b[0m\u001b[0;34m\u001b[0m\u001b[0;34m\u001b[0m\u001b[0m\n",
            "\u001b[0;31mTclError\u001b[0m: no display name and no $DISPLAY environment variable"
          ]
        }
      ]
    },
    {
      "cell_type": "code",
      "source": [
        "#Exercício Python 22: Crie um programa que leia o nome completo de uma pessoa e mostre:\n",
        "\n",
        "#– O nome com todas as letras maiúsculas e minúsculas.\n",
        "\n",
        "#– Quantas letras ao todo (sem considerar espaços).\n",
        "\n",
        "#– Quantas letras tem o primeiro nome.\n",
        "\n",
        "\n",
        "\n",
        "nome = str(input('Digite seu nome e sobrenome: ')).strip()\n",
        "\n",
        "nome1 = nome.split()[0]\n",
        "contnome1 = len(nome1)\n",
        "print(f'O seu primero nome é: \"{nome1}\" , e contém {contnome1} letras')\n",
        "\n",
        "print(f'Seu nome em maisculo é: {nome.upper()}')\n",
        "print(f'Seu nome em minusculo é:{nome.lower()}')\n",
        "espaço = nome.replace(\" \", \"\")\n",
        "cont = len(espaço)\n",
        "print(f'Seu nome todo tem {cont} letras')\n"
      ],
      "metadata": {
        "colab": {
          "base_uri": "https://localhost:8080/"
        },
        "id": "SJe4GhbwoXJN",
        "outputId": "08ec2ee1-d8f9-4292-a1d9-cd944f128f8d"
      },
      "execution_count": null,
      "outputs": [
        {
          "output_type": "stream",
          "name": "stdout",
          "text": [
            "Digite seu nome e sobrenome: davi becker de oliveira\n",
            "O seu primero nome é: \"davi\" , e contém 4 letras\n",
            "Seu nome em maisculo é: DAVI BECKER DE OLIVEIRA\n",
            "Seu nome em minusculo é:davi becker de oliveira\n",
            "Seu nome todo tem 20 letras\n"
          ]
        }
      ]
    },
    {
      "cell_type": "code",
      "source": [
        "#Exercício Python 23: Faça um programa que leia um número de 0 a 9999 e mostre na tela cada um dos dígitos separados.\n",
        "\n",
        "\n",
        "\n",
        "n = int(input('Digite um número de 0 a 9999: '))\n",
        "unidade = n % 10\n",
        "dezena = (n // 10) % 10\n",
        "centena = (n // 100 ) % 10\n",
        "milhar =  (n // 1000) % 10\n",
        "print(f'unidade {unidade}\\ndezena {dezena}\\ncentena {centena}\\nmilhar {milhar}\\n')"
      ],
      "metadata": {
        "colab": {
          "base_uri": "https://localhost:8080/"
        },
        "id": "h3BMM4O1szzu",
        "outputId": "e74849f8-ec4c-4959-ff19-1a6405d12046"
      },
      "execution_count": null,
      "outputs": [
        {
          "output_type": "stream",
          "name": "stdout",
          "text": [
            "Digite um número de 0 a 9999: 1834\n",
            "unidade 4\n",
            "dezena 3\n",
            "centena 8\n",
            "milhar 1\n",
            "\n"
          ]
        }
      ]
    },
    {
      "cell_type": "code",
      "source": [
        "#024: Crie um programa que leia o nome de uma cidade diga se ela começa ou não com o nome \"SANTO\".\n",
        "\n",
        "cidade = str(input('Digite o nome da cidade: ')).upper()\n",
        "if cidade.split()[0] == 'SANTO':\n",
        "  print('A cidade começa com o nome SANTO ')\n",
        "else:\n",
        "   print('A cidade não começa com o nome SANTO') \n",
        "\n"
      ],
      "metadata": {
        "colab": {
          "base_uri": "https://localhost:8080/"
        },
        "id": "iBDdILJ5u7SN",
        "outputId": "50fda614-241f-4ff5-d170-33bb22c758cb"
      },
      "execution_count": null,
      "outputs": [
        {
          "output_type": "stream",
          "name": "stdout",
          "text": [
            "Digite o nome da cidade: Maranhão\n",
            "A cidade não começa com o nome SANTO\n"
          ]
        }
      ]
    },
    {
      "cell_type": "code",
      "source": [
        "#Exercício Python 24: Crie um programa que leia o nome de uma cidade diga se ela começa ou não com o nome “SANTO”.\n",
        "\n",
        "c = str(input('Digite o nome da sua cidade: ')).strip()\n",
        "v = c.split()[0].upper() == 'SANTO'\n",
        "print(f'A cidade digitada {c}\\n e para santo {v}')\n"
      ],
      "metadata": {
        "id": "nsG9iRQ1qn0V",
        "outputId": "b3ac2640-57b9-4369-d683-5995000a94f2",
        "colab": {
          "base_uri": "https://localhost:8080/"
        }
      },
      "execution_count": null,
      "outputs": [
        {
          "output_type": "stream",
          "name": "stdout",
          "text": [
            "Digite o nome da sua cidade: santo   maria\n",
            "A cidade digitada santo   maria\n",
            " e para santo True\n"
          ]
        }
      ]
    },
    {
      "cell_type": "code",
      "source": [
        "cidade = input(\"Digite o nome da cidade: \")\n",
        "\n",
        "if cidade.upper().startswith(\"SANTO\"):\n",
        "    print(\"O nome da cidade começa com SANTO\")\n",
        "else:\n",
        "    print(\"O nome da cidade não começa com SANTO\")"
      ],
      "metadata": {
        "id": "kc2dBy5IwtIc"
      },
      "execution_count": null,
      "outputs": []
    },
    {
      "cell_type": "code",
      "source": [
        "#025: Crie um programa que leia o nome de uma pessoa e diga se ela tem \"SILVA\" no nome.\n",
        "\n",
        "name = str(input('Digite seu nome completo: ')).upper()\n",
        "\n",
        "if name.find('SILVA') != -1:\n",
        "  print(f'O nome {name} tem SILVA')\n",
        "else:\n",
        "  print(f'O nome {name} não tem SILVA') "
      ],
      "metadata": {
        "colab": {
          "base_uri": "https://localhost:8080/"
        },
        "id": "LSp19bUFzgiz",
        "outputId": "06013b32-69e3-4cac-db3e-bf14b5f5d2de"
      },
      "execution_count": null,
      "outputs": [
        {
          "output_type": "stream",
          "name": "stdout",
          "text": [
            "Digite seu nome completo: JOSE SILVA\n",
            "O nome JOSE SILVA tem SILVA\n"
          ]
        }
      ]
    },
    {
      "cell_type": "code",
      "source": [
        "#025: Crie um programa que leia o nome de uma pessoa e diga se ela tem \"SILVA\" no nome.\n",
        "\n",
        "name = str(input('Digite seu nome completo: ')).upper()\n",
        "\n",
        "if 'SILVA' in name:\n",
        "  print(f'O nome {name} tem SILVA')\n",
        "else:\n",
        "  print(f'O nome {name} não tem SILVA') "
      ],
      "metadata": {
        "colab": {
          "base_uri": "https://localhost:8080/"
        },
        "id": "AvdYdZTc1x_U",
        "outputId": "9964fed2-ea64-4ae2-86fd-35397c737826"
      },
      "execution_count": null,
      "outputs": [
        {
          "output_type": "stream",
          "name": "stdout",
          "text": [
            "Digite seu nome completo: MARIA SILVA\n",
            "O nome MARIA SILVA tem SILVA\n"
          ]
        }
      ]
    },
    {
      "cell_type": "code",
      "source": [
        "n = str(input(\"Digite seu nome completo: \")).strip()\n",
        "print(f'Existe \"Silva\" no seu nome? { \"SILVA\" in n.upper() }')"
      ],
      "metadata": {
        "id": "nBAK7i4vtkhY",
        "outputId": "d6304141-5dbb-4305-c641-b60d22fdacaf",
        "colab": {
          "base_uri": "https://localhost:8080/"
        }
      },
      "execution_count": null,
      "outputs": [
        {
          "output_type": "stream",
          "name": "stdout",
          "text": [
            "Digite seu nome completo: jose SiLva\n",
            "Existe \"Silva\" no seu nome? True\n"
          ]
        }
      ]
    },
    {
      "cell_type": "code",
      "source": [
        "#026: Faça um programa que leia uma frase pelo teclado e mostre quantas \n",
        "#vezes aparece a letra \"A\", em que posição ela aparece a primeira vez e em que posição ela aparece a última vez.\n",
        "palavra = str(input('Digite uma frase: ')).upper()\n",
        "\n",
        "rep = palavra.count('A')\n",
        "primeira = palavra.find('A')\n",
        "ultima = palavra.rfind('A')\n",
        "\n",
        "print(f'A frase {palavra} tem a letra \"A\" {rep} vezes\\n a primeira posição é em {primeira}\\n e a ultima posição é em {ultima}\\n')\n"
      ],
      "metadata": {
        "colab": {
          "base_uri": "https://localhost:8080/"
        },
        "id": "6QWeFDft2EFK",
        "outputId": "f027d8fa-1d25-4df5-942a-21dcd8e50833"
      },
      "execution_count": null,
      "outputs": [
        {
          "output_type": "stream",
          "name": "stdout",
          "text": [
            "Digite uma frase: davi foi buscar seu irmao na escola de manha\n",
            "A frase DAVI FOI BUSCAR SEU IRMAO NA ESCOLA DE MANHA tem a letra \"A\" 7 vezes\n",
            " a primeira posição é em 1\n",
            " e a ultima posição é em 43\n",
            "\n"
          ]
        }
      ]
    },
    {
      "cell_type": "code",
      "source": [
        "#027: Faça um programa que leia o nome completo de uma pessoa, mostrando em seguida o primeiro e o último nome separadamente.\n",
        "nome_completo = str(input('Digite seu nome completo: '))\n",
        "lista = nome_completo.split()\n",
        "\n",
        "primeiro_nome = lista[0]\n",
        "\n",
        "ultimo_nome = lista[-1]\n",
        "\n",
        "print(f'O primeiro nome de {nome_completo}\\n é {primeiro_nome}\\n e o último nome é {ultimo_nome}\\n ')\n"
      ],
      "metadata": {
        "colab": {
          "base_uri": "https://localhost:8080/"
        },
        "id": "YwEWimoT3gD7",
        "outputId": "c9b8a719-c556-46c2-e41a-68219c2425f3"
      },
      "execution_count": null,
      "outputs": [
        {
          "output_type": "stream",
          "name": "stdout",
          "text": [
            "Digite seu nome completo: Jose maria da silva xavier\n",
            "O primeiro nome de Jose maria da silva xavier\n",
            " é Jose\n",
            " e o último nome é xavier\n",
            " \n"
          ]
        }
      ]
    },
    {
      "cell_type": "markdown",
      "source": [
        "MÓDULO 10"
      ],
      "metadata": {
        "id": "2DoTTwxzwf4j"
      }
    },
    {
      "cell_type": "code",
      "source": [
        "n = str(input('Digite seu nome: ')).upper()\n",
        "if n == 'DAVI':\n",
        "  print(f'Seja bem vindo {n}')\n",
        "else:\n",
        "  print('Usuario não autorizado')  \n",
        "print('Sessão Finalizada')  "
      ],
      "metadata": {
        "colab": {
          "base_uri": "https://localhost:8080/"
        },
        "id": "8j2ThXNHwjr9",
        "outputId": "b9a9e217-9081-4933-f01c-c48b6d7de20d"
      },
      "execution_count": null,
      "outputs": [
        {
          "output_type": "stream",
          "name": "stdout",
          "text": [
            "Digite seu nome: mARIO\n",
            "Usuario não autorizado\n",
            "Sessão Finalizada\n"
          ]
        }
      ]
    },
    {
      "cell_type": "code",
      "source": [
        "print('Seja Bem vindo digite seu nome e senha')\n",
        "n = str(input('Digite seu nome: ')).upper()\n",
        "s = int(input('Digite sua senha: '))\n",
        "if n == 'DAVI' and s == 123:\n",
        "    print('Seja bem vindo ao sistema de notas')\n",
        "    nota1 = float(input('Digite a primeira nota: '))\n",
        "    nota2 = float(input('Digite a segunda nota: '))\n",
        "    media = (nota1+nota2)/2\n",
        "    if media >= 6.0:\n",
        "      print(f'Parabéns aluno aprovado com média {media}')\n",
        "    else:\n",
        "        print('Aluno em recuperação')\n",
        "else:\n",
        "  print('Usuário não registrado e senha inválida')\n",
        "print('FIM DO PROGRAMA')          \n"
      ],
      "metadata": {
        "colab": {
          "base_uri": "https://localhost:8080/"
        },
        "id": "cWALQ9g_yV4j",
        "outputId": "99300ea5-9532-4318-f9ec-6bb774862b46"
      },
      "execution_count": null,
      "outputs": [
        {
          "output_type": "stream",
          "name": "stdout",
          "text": [
            "Seja Bem vindo digite seu nome e senha\n",
            "Digite seu nome: davi\n",
            "Digite sua senha: 123\n",
            "Seja bem vindo ao sistema de notas\n",
            "Digite a primeira nota: 10\n",
            "Digite a segunda nota: 3\n",
            "Parabéns aluno aprovado com média 6.5\n",
            "FIM DO PROGRAMA\n"
          ]
        }
      ]
    },
    {
      "cell_type": "code",
      "source": [
        "#exercício 28 gerar um numero aleatorio e verificar se o numero digitado e o correto\n",
        "import random\n",
        "from time import sleep\n",
        "print('- \\u2620 -'*20)\n",
        "print('Pensei em um número: ? ')\n",
        "print('- \\u2620 -'*20)\n",
        "sorteio = random.randint(0,5)\n",
        "n = int(input('Digite um numero entre 0 e 5 e veja se voce advinhou o numero que pensei: '))\n",
        "print('Processando...')\n",
        "sleep(4)\n",
        "if n == sorteio:\n",
        "  print('Parabéns você acertou \\U0001F973!!')\n",
        "else:\n",
        "  print(f'Não foi dessa vez ótario {sorteio} \\U0001F921!')  \n"
      ],
      "metadata": {
        "colab": {
          "base_uri": "https://localhost:8080/"
        },
        "id": "LCYdw2A31dS6",
        "outputId": "d288927e-3c94-4aaa-e635-dc451eb61f9c"
      },
      "execution_count": null,
      "outputs": [
        {
          "output_type": "stream",
          "name": "stdout",
          "text": [
            "- ☠ -- ☠ -- ☠ -- ☠ -- ☠ -- ☠ -- ☠ -- ☠ -- ☠ -- ☠ -- ☠ -- ☠ -- ☠ -- ☠ -- ☠ -- ☠ -- ☠ -- ☠ -- ☠ -- ☠ -\n",
            "Pensei em um número: ? \n",
            "- ☠ -- ☠ -- ☠ -- ☠ -- ☠ -- ☠ -- ☠ -- ☠ -- ☠ -- ☠ -- ☠ -- ☠ -- ☠ -- ☠ -- ☠ -- ☠ -- ☠ -- ☠ -- ☠ -- ☠ -\n",
            "Digite um numero entre 0 e 5 e veja se voce advinhou o numero que pensei: 2\n",
            "Processando...\n",
            "Não foi dessa vez ótario 5 🤡!\n"
          ]
        }
      ]
    },
    {
      "cell_type": "code",
      "source": [
        "#29 Radar eletrônico\n",
        "print('Qual a velocidade atual do seu veículo: ')\n",
        "v = int(input('Digite a velocidade atual: '))\n",
        "multa = (v - 80)*7\n",
        "vat = v - 80\n",
        "\n",
        "if v > 80:\n",
        "   print(f'A sua velocidade de {v}Km/h você esta acima do limite de velocidadee em {vat}km/h \\U0001F480 e isso gerou uma multa de R${multa:.2f} \\U0001F973!! ')\n",
        "   \n",
        "else:\n",
        "  print('Você está no limite correto de velocidade da via' )  "
      ],
      "metadata": {
        "colab": {
          "base_uri": "https://localhost:8080/"
        },
        "id": "vPLwPZtl7c0r",
        "outputId": "1af4b4d5-825d-4529-b340-cd3c366d8a78"
      },
      "execution_count": 27,
      "outputs": [
        {
          "output_type": "stream",
          "name": "stdout",
          "text": [
            "Qual a velocidade atual do seu veículo: \n",
            "Digite a velocidade atual: 120\n",
            "A sua velocidade de 120Km/h você esta acima do limite de velocidadee em 40km/h 💀 e isso gerou uma multa de R$280.00 🥳!! \n"
          ]
        }
      ]
    },
    {
      "cell_type": "code",
      "source": [
        "# 30 par ou ímpar\n",
        "\n",
        "p = int(input('Digite um número inteiro: '))\n",
        "\n",
        "if p % 2 == 0 :\n",
        "  print('O numero é PAR')\n",
        "\n",
        "else:\n",
        "  print('O número e ímpar')  \n"
      ],
      "metadata": {
        "colab": {
          "base_uri": "https://localhost:8080/"
        },
        "id": "V_qZR4kG6vta",
        "outputId": "e9572924-7f60-469f-8dc9-4b6cbc5ce53f"
      },
      "execution_count": null,
      "outputs": [
        {
          "output_type": "stream",
          "name": "stdout",
          "text": [
            "Digite um número inteiro: 632\n",
            "O numero é PAR\n"
          ]
        }
      ]
    },
    {
      "cell_type": "code",
      "source": [
        "#31\n",
        "#custo da passagem da viajem\n",
        "\n",
        "km = float(input('Digite a distancia em KM da viajem: '))\n",
        "\n",
        "if km <= 200:\n",
        "  custo = km * 0.50\n",
        "else:\n",
        "   custo = km * 0.45 \n",
        "   \n",
        "print(f'O valor da passagem de {km}Km é de R${custo}')\n",
        "\n"
      ],
      "metadata": {
        "colab": {
          "base_uri": "https://localhost:8080/"
        },
        "id": "hUJJEFGX_ccw",
        "outputId": "9b09e2b4-344f-41e0-bc17-ab3d8318a727"
      },
      "execution_count": 30,
      "outputs": [
        {
          "output_type": "stream",
          "name": "stdout",
          "text": [
            "Digite a distancia em KM da viajem: 120\n",
            "O valor da passagem de 120.0Km é de R$60.0\n"
          ]
        }
      ]
    },
    {
      "cell_type": "code",
      "source": [
        "#32 Verificar se o ano e Bissexto\n",
        "from datetime import date\n",
        "ano = int(input('Digite o ano:   ou 0 para verificar o ano atual'))\n",
        "\n",
        "if ano == 0:\n",
        "  ano = date.today().year\n",
        "\n",
        "if ano % 4 == 0 and (ano % 100 != 0 or ano % 400 == 0):\n",
        "  print(f'O ano {ano} é Bissexto')\n",
        "\n",
        "else:\n",
        "  print(f'O ano {ano} não é Bissexto')  \n"
      ],
      "metadata": {
        "colab": {
          "base_uri": "https://localhost:8080/"
        },
        "id": "ZF90bYZlCR16",
        "outputId": "d681e956-4c5b-42e6-fe3e-719afcd5339f"
      },
      "execution_count": 32,
      "outputs": [
        {
          "output_type": "stream",
          "name": "stdout",
          "text": [
            "Digite o ano:   ou 0 para verificar o ano atual0\n",
            "O ano 2023 não é Bissexto\n"
          ]
        }
      ]
    },
    {
      "cell_type": "code",
      "source": [
        "# 33 maior ou menor número dentre 3\n",
        "\n",
        "n1 = int(input('Digite um número: '))\n",
        "n2 = int(input('Digite número 2: '))\n",
        "n3 = int(input('Digite o número 3: '))\n",
        "\n",
        "if n1 > n2 and n1 > n3:\n",
        "  print(f'O numero {n1} é maior')\n",
        "elif n2 > n1 and n2 > n3:\n",
        "  print(f'O número {n2} é maior')\n",
        "else:\n",
        "  print(f'O numero {n3} é maior')\n",
        "if n1 < n2 and n1 < n3:\n",
        "  print(f'O número {n1} é menor')\n",
        "elif n2 < n1 and n2 < n3:\n",
        "   print(f'O número {n2} é menor') \n",
        "else:\n",
        "  print(f'O número {n3} é menor')       "
      ],
      "metadata": {
        "colab": {
          "base_uri": "https://localhost:8080/"
        },
        "id": "PZOBYI9mElU5",
        "outputId": "b89c0d39-8c83-42e2-e1fb-227ba69871e2"
      },
      "execution_count": null,
      "outputs": [
        {
          "output_type": "stream",
          "name": "stdout",
          "text": [
            "Digite um número: 200\n",
            "Digite número 2: 500\n",
            "Digite o número 3: 789\n",
            "O numero 789 é maior\n",
            "O número 200 é menor\n"
          ]
        }
      ]
    },
    {
      "cell_type": "code",
      "source": [
        "# 34 cálculo de sálario\n",
        "\n",
        "print('m =====Bem vindo ao sistema de Cálculo de salário=====')\n",
        "\n",
        "s = float(input('Digite o valor atual do salário do funcionário R$'))\n",
        "\n",
        "if s <= 1250.00:\n",
        "  ns = s + ((s*15)/100)\n",
        "else:\n",
        "  ns = s + ((s*10 )/ 100)  \n",
        "print(f'O novo salário é de R${ns}')"
      ],
      "metadata": {
        "colab": {
          "base_uri": "https://localhost:8080/",
          "height": 397
        },
        "id": "SvjCWcwqIf5B",
        "outputId": "e9f11e10-285e-4d20-aa9a-31f0255e79da"
      },
      "execution_count": 41,
      "outputs": [
        {
          "output_type": "stream",
          "name": "stdout",
          "text": [
            "\u001b[0;35;44 m =====Bem vindo ao sistema de Cálculo de salário=====\n"
          ]
        },
        {
          "output_type": "error",
          "ename": "KeyboardInterrupt",
          "evalue": "ignored",
          "traceback": [
            "\u001b[0;31m---------------------------------------------------------------------------\u001b[0m",
            "\u001b[0;31mKeyboardInterrupt\u001b[0m                         Traceback (most recent call last)",
            "\u001b[0;32m<ipython-input-41-f4037e6d083b>\u001b[0m in \u001b[0;36m<module>\u001b[0;34m\u001b[0m\n\u001b[1;32m      3\u001b[0m \u001b[0mprint\u001b[0m\u001b[0;34m(\u001b[0m\u001b[0;34m'\\033[0;35;44 m =====Bem vindo ao sistema de Cálculo de salário====='\u001b[0m\u001b[0;34m)\u001b[0m\u001b[0;34m\u001b[0m\u001b[0;34m\u001b[0m\u001b[0m\n\u001b[1;32m      4\u001b[0m \u001b[0;34m\u001b[0m\u001b[0m\n\u001b[0;32m----> 5\u001b[0;31m \u001b[0ms\u001b[0m \u001b[0;34m=\u001b[0m \u001b[0mfloat\u001b[0m\u001b[0;34m(\u001b[0m\u001b[0minput\u001b[0m\u001b[0;34m(\u001b[0m\u001b[0;34m'Digite o valor atual do salário do funcionário R$'\u001b[0m\u001b[0;34m)\u001b[0m\u001b[0;34m)\u001b[0m\u001b[0;34m\u001b[0m\u001b[0;34m\u001b[0m\u001b[0m\n\u001b[0m\u001b[1;32m      6\u001b[0m \u001b[0;34m\u001b[0m\u001b[0m\n\u001b[1;32m      7\u001b[0m \u001b[0;32mif\u001b[0m \u001b[0ms\u001b[0m \u001b[0;34m<=\u001b[0m \u001b[0;36m1250.00\u001b[0m\u001b[0;34m:\u001b[0m\u001b[0;34m\u001b[0m\u001b[0;34m\u001b[0m\u001b[0m\n",
            "\u001b[0;32m/usr/local/lib/python3.8/dist-packages/ipykernel/kernelbase.py\u001b[0m in \u001b[0;36mraw_input\u001b[0;34m(self, prompt)\u001b[0m\n\u001b[1;32m    858\u001b[0m                 \u001b[0;34m\"raw_input was called, but this frontend does not support input requests.\"\u001b[0m\u001b[0;34m\u001b[0m\u001b[0;34m\u001b[0m\u001b[0m\n\u001b[1;32m    859\u001b[0m             )\n\u001b[0;32m--> 860\u001b[0;31m         return self._input_request(str(prompt),\n\u001b[0m\u001b[1;32m    861\u001b[0m             \u001b[0mself\u001b[0m\u001b[0;34m.\u001b[0m\u001b[0m_parent_ident\u001b[0m\u001b[0;34m,\u001b[0m\u001b[0;34m\u001b[0m\u001b[0;34m\u001b[0m\u001b[0m\n\u001b[1;32m    862\u001b[0m             \u001b[0mself\u001b[0m\u001b[0;34m.\u001b[0m\u001b[0m_parent_header\u001b[0m\u001b[0;34m,\u001b[0m\u001b[0;34m\u001b[0m\u001b[0;34m\u001b[0m\u001b[0m\n",
            "\u001b[0;32m/usr/local/lib/python3.8/dist-packages/ipykernel/kernelbase.py\u001b[0m in \u001b[0;36m_input_request\u001b[0;34m(self, prompt, ident, parent, password)\u001b[0m\n\u001b[1;32m    902\u001b[0m             \u001b[0;32mexcept\u001b[0m \u001b[0mKeyboardInterrupt\u001b[0m\u001b[0;34m:\u001b[0m\u001b[0;34m\u001b[0m\u001b[0;34m\u001b[0m\u001b[0m\n\u001b[1;32m    903\u001b[0m                 \u001b[0;31m# re-raise KeyboardInterrupt, to truncate traceback\u001b[0m\u001b[0;34m\u001b[0m\u001b[0;34m\u001b[0m\u001b[0;34m\u001b[0m\u001b[0m\n\u001b[0;32m--> 904\u001b[0;31m                 \u001b[0;32mraise\u001b[0m \u001b[0mKeyboardInterrupt\u001b[0m\u001b[0;34m(\u001b[0m\u001b[0;34m\"Interrupted by user\"\u001b[0m\u001b[0;34m)\u001b[0m \u001b[0;32mfrom\u001b[0m \u001b[0;32mNone\u001b[0m\u001b[0;34m\u001b[0m\u001b[0;34m\u001b[0m\u001b[0m\n\u001b[0m\u001b[1;32m    905\u001b[0m             \u001b[0;32mexcept\u001b[0m \u001b[0mException\u001b[0m \u001b[0;32mas\u001b[0m \u001b[0me\u001b[0m\u001b[0;34m:\u001b[0m\u001b[0;34m\u001b[0m\u001b[0;34m\u001b[0m\u001b[0m\n\u001b[1;32m    906\u001b[0m                 \u001b[0mself\u001b[0m\u001b[0;34m.\u001b[0m\u001b[0mlog\u001b[0m\u001b[0;34m.\u001b[0m\u001b[0mwarning\u001b[0m\u001b[0;34m(\u001b[0m\u001b[0;34m\"Invalid Message:\"\u001b[0m\u001b[0;34m,\u001b[0m \u001b[0mexc_info\u001b[0m\u001b[0;34m=\u001b[0m\u001b[0;32mTrue\u001b[0m\u001b[0;34m)\u001b[0m\u001b[0;34m\u001b[0m\u001b[0;34m\u001b[0m\u001b[0m\n",
            "\u001b[0;31mKeyboardInterrupt\u001b[0m: Interrupted by user"
          ]
        }
      ]
    },
    {
      "cell_type": "code",
      "source": [
        "#35 formando um triângulo\n",
        "import matplotlib.pyplot as plt\n",
        "from time import sleep\n",
        "!pip install colorama\n",
        "import colorama\n",
        "\n",
        "a = float(input('Digite uma valor para a primeira reta : '))\n",
        "b = float(input('Digite uma valor para a segunda reta : '))\n",
        "c = float(input('Digite uma valor para a terceira reta : '))\n",
        "\n",
        "if c < a + b:\n",
        "  # Calcula as coordenadas dos três vértices do triângulo\n",
        "  x1, y1 = 0, 0\n",
        "  x2, y2 = c, 0\n",
        "  x3 = (a**2 - b**2 + c**2) / (2 * c)\n",
        "  y3 = (a**2 - x3**2)**0.5\n",
        "\n",
        "  # Plota o triângulo\n",
        "  plt.plot([x1, x2, x3, x1], [y1, y2, y3, y1])\n",
        "  print('Processando...')\n",
        "  sleep(4)\n",
        "  print('Podemos formar um triangulo ')\n",
        "  plt.show()\n",
        "else:\n",
        "  print(Fore.RED + 'Não é possivel fazer um \\u25B2' + Fore.RESET)"
      ],
      "metadata": {
        "colab": {
          "base_uri": "https://localhost:8080/",
          "height": 484
        },
        "id": "j2063oSeLj4e",
        "outputId": "62d1c6a4-8408-485e-c99d-67aaa35a585f"
      },
      "execution_count": 3,
      "outputs": [
        {
          "name": "stdout",
          "output_type": "stream",
          "text": [
            "Looking in indexes: https://pypi.org/simple, https://us-python.pkg.dev/colab-wheels/public/simple/\n",
            "Collecting colorama\n",
            "  Downloading colorama-0.4.6-py2.py3-none-any.whl (25 kB)\n",
            "Installing collected packages: colorama\n",
            "Successfully installed colorama-0.4.6\n",
            "Digite uma valor para a primeira reta : 2\n",
            "Digite uma valor para a segunda reta : 5\n",
            "Digite uma valor para a terceira reta : 2\n"
          ]
        },
        {
          "output_type": "stream",
          "name": "stderr",
          "text": [
            "/usr/local/lib/python3.8/dist-packages/matplotlib/cbook/__init__.py:1317: ComplexWarning: Casting complex values to real discards the imaginary part\n",
            "  return np.asarray(x, float)\n"
          ]
        },
        {
          "output_type": "stream",
          "name": "stdout",
          "text": [
            "Processando...\n",
            "Podemos formar um triangulo \n"
          ]
        },
        {
          "output_type": "display_data",
          "data": {
            "text/plain": [
              "<Figure size 432x288 with 1 Axes>"
            ],
            "image/png": "[encoded data removed]"
          },
          "metadata": {
            "needs_background": "light"
          }
        }
      ]
    },
    {
      "cell_type": "code",
      "source": [
        "\n",
        "\n",
        "!pip install requests\n",
        "!pip install beautifulsoup4\n",
        "\n",
        "import requests\n",
        "from bs4 import BeautifulSoup\n",
        "headers = {'User-Agent': ' Chrome/110.0.0.0 Safari/537.36'}\n",
        "# Faz uma solicitação HTTP para a página principal do PobreFlix\n",
        "resposta = requests.get('https://pobreflix.biz/')\n",
        "\n",
        "# Analisa o HTML da página com o BeautifulSoup\n",
        "soup = BeautifulSoup(resposta.text, 'html.parser')\n",
        "\n",
        "# Encontra todos os elementos <a> com a classe \"tvshow\"\n",
        "nomes_filmes = [elemento.text for elemento in soup.find_all('a', class_='item tvshows')]\n",
        "print(soup.text)\n",
        "# Imprime os nomes dos filmes\n",
        "for nome_filme in nomes_filmes:\n",
        "    print(nome_filme.text)"
      ],
      "metadata": {
        "colab": {
          "base_uri": "https://localhost:8080/"
        },
        "id": "M6O-DsPwIOrE",
        "outputId": "b1d42c78-e775-4278-aaac-7f1f988acf77"
      },
      "execution_count": 44,
      "outputs": [
        {
          "output_type": "stream",
          "name": "stdout",
          "text": [
            "Looking in indexes: https://pypi.org/simple, https://us-python.pkg.dev/colab-wheels/public/simple/\n",
            "Requirement already satisfied: requests in /usr/local/lib/python3.8/dist-packages (2.25.1)\n",
            "Requirement already satisfied: chardet<5,>=3.0.2 in /usr/local/lib/python3.8/dist-packages (from requests) (4.0.0)\n",
            "Requirement already satisfied: urllib3<1.27,>=1.21.1 in /usr/local/lib/python3.8/dist-packages (from requests) (1.24.3)\n",
            "Requirement already satisfied: idna<3,>=2.5 in /usr/local/lib/python3.8/dist-packages (from requests) (2.10)\n",
            "Requirement already satisfied: certifi>=2017.4.17 in /usr/local/lib/python3.8/dist-packages (from requests) (2022.12.7)\n",
            "Looking in indexes: https://pypi.org/simple, https://us-python.pkg.dev/colab-wheels/public/simple/\n",
            "Requirement already satisfied: beautifulsoup4 in /usr/local/lib/python3.8/dist-packages (4.6.3)\n",
            "\n",
            "\n",
            "\n",
            "\n",
            "\n",
            "\n",
            "\n",
            "\n",
            "\n",
            "\n",
            "\n",
            "\n",
            "Pobreflix - Assistir Filmes e Séries online grátis\n",
            "\n",
            "\n",
            "\n",
            "\n",
            "\n",
            "\n",
            "\n",
            "\n",
            "\n",
            "\n",
            "\n",
            "\n",
            "\n",
            "{\"@context\":\"https://schema.org\",\"@graph\":[{\"@type\":\"CollectionPage\",\"@id\":\"https://pobreflix.biz/\",\"url\":\"https://pobreflix.biz/\",\"name\":\"Pobreflix - Assistir Filmes e Séries online grátis\",\"isPartOf\":{\"@id\":\"https://pobreflix.biz/#website\"},\"about\":{\"@id\":\"https://pobreflix.biz/#organization\"},\"description\":\"Se o site nao abrir Desbloqueie instalando uma VPN Gratis e Confiavel, Baixe Acessando: https://1.1.1.1/ - Pobreflix - Assistir filmes e séries online dublado e legendado de forma gratuita. Escolha seu conteúdo em qualidade HD. Atualizados diariamente.\",\"breadcrumb\":{\"@id\":\"https://pobreflix.biz/#breadcrumb\"},\"inLanguage\":\"pt-BR\"},{\"@type\":\"BreadcrumbList\",\"@id\":\"https://pobreflix.biz/#breadcrumb\",\"itemListElement\":[{\"@type\":\"ListItem\",\"position\":1,\"name\":\"Inicio\"}]},{\"@type\":\"WebSite\",\"@id\":\"https://pobreflix.biz/#website\",\"url\":\"https://pobreflix.biz/\",\"name\":\"Pobreflix - Assistir Filmes e Séries online grátis\",\"description\":\"Pobreflix - Assistir filmes e séries online dublado e legendado de forma gratuita. Escolha seu conteúdo em qualidade HD. Atualizados diariamente.\",\"publisher\":{\"@id\":\"https://pobreflix.biz/#organization\"},\"potentialAction\":[{\"@type\":\"SearchAction\",\"target\":{\"@type\":\"EntryPoint\",\"urlTemplate\":\"https://pobreflix.biz/?s={search_term_string}\"},\"query-input\":\"required name=search_term_string\"}],\"inLanguage\":\"pt-BR\"},{\"@type\":\"Organization\",\"@id\":\"https://pobreflix.biz/#organization\",\"name\":\"Pobreflix.biz\",\"url\":\"https://pobreflix.biz/\",\"logo\":{\"@type\":\"ImageObject\",\"inLanguage\":\"pt-BR\",\"@id\":\"https://pobreflix.biz/#/schema/logo/image/\",\"url\":\"https://pobreflix.biz/wp-content/uploads/2022/06/pobreflix.tv_.png\",\"contentUrl\":\"https://pobreflix.biz/wp-content/uploads/2022/06/pobreflix.tv_.png\",\"width\":286,\"height\":57,\"caption\":\"Pobreflix.biz\"},\"image\":{\"@id\":\"https://pobreflix.biz/#/schema/logo/image/\"}}]}\n",
            "\n",
            "\n",
            "\n",
            "\n",
            "\n",
            "\n",
            "\n",
            "body{--wp--preset--color--black: #000000;--wp--preset--color--cyan-bluish-gray: #abb8c3;--wp--preset--color--white: #ffffff;--wp--preset--color--pale-pink: #f78da7;--wp--preset--color--vivid-red: #cf2e2e;--wp--preset--color--luminous-vivid-orange: #ff6900;--wp--preset--color--luminous-vivid-amber: #fcb900;--wp--preset--color--light-green-cyan: #7bdcb5;--wp--preset--color--vivid-green-cyan: #00d084;--wp--preset--color--pale-cyan-blue: #8ed1fc;--wp--preset--color--vivid-cyan-blue: #0693e3;--wp--preset--color--vivid-purple: #9b51e0;--wp--preset--gradient--vivid-cyan-blue-to-vivid-purple: linear-gradient(135deg,rgba(6,147,227,1) 0%,rgb(155,81,224) 100%);--wp--preset--gradient--light-green-cyan-to-vivid-green-cyan: linear-gradient(135deg,rgb(122,220,180) 0%,rgb(0,208,130) 100%);--wp--preset--gradient--luminous-vivid-amber-to-luminous-vivid-orange: linear-gradient(135deg,rgba(252,185,0,1) 0%,rgba(255,105,0,1) 100%);--wp--preset--gradient--luminous-vivid-orange-to-vivid-red: linear-gradient(135deg,rgba(255,105,0,1) 0%,rgb(207,46,46) 100%);--wp--preset--gradient--very-light-gray-to-cyan-bluish-gray: linear-gradient(135deg,rgb(238,238,238) 0%,rgb(169,184,195) 100%);--wp--preset--gradient--cool-to-warm-spectrum: linear-gradient(135deg,rgb(74,234,220) 0%,rgb(151,120,209) 20%,rgb(207,42,186) 40%,rgb(238,44,130) 60%,rgb(251,105,98) 80%,rgb(254,248,76) 100%);--wp--preset--gradient--blush-light-purple: linear-gradient(135deg,rgb(255,206,236) 0%,rgb(152,150,240) 100%);--wp--preset--gradient--blush-bordeaux: linear-gradient(135deg,rgb(254,205,165) 0%,rgb(254,45,45) 50%,rgb(107,0,62) 100%);--wp--preset--gradient--luminous-dusk: linear-gradient(135deg,rgb(255,203,112) 0%,rgb(199,81,192) 50%,rgb(65,88,208) 100%);--wp--preset--gradient--pale-ocean: linear-gradient(135deg,rgb(255,245,203) 0%,rgb(182,227,212) 50%,rgb(51,167,181) 100%);--wp--preset--gradient--electric-grass: linear-gradient(135deg,rgb(202,248,128) 0%,rgb(113,206,126) 100%);--wp--preset--gradient--midnight: linear-gradient(135deg,rgb(2,3,129) 0%,rgb(40,116,252) 100%);--wp--preset--duotone--dark-grayscale: url('#wp-duotone-dark-grayscale');--wp--preset--duotone--grayscale: url('#wp-duotone-grayscale');--wp--preset--duotone--purple-yellow: url('#wp-duotone-purple-yellow');--wp--preset--duotone--blue-red: url('#wp-duotone-blue-red');--wp--preset--duotone--midnight: url('#wp-duotone-midnight');--wp--preset--duotone--magenta-yellow: url('#wp-duotone-magenta-yellow');--wp--preset--duotone--purple-green: url('#wp-duotone-purple-green');--wp--preset--duotone--blue-orange: url('#wp-duotone-blue-orange');--wp--preset--font-size--small: 13px;--wp--preset--font-size--medium: 20px;--wp--preset--font-size--large: 36px;--wp--preset--font-size--x-large: 42px;--wp--preset--spacing--20: 0.44rem;--wp--preset--spacing--30: 0.67rem;--wp--preset--spacing--40: 1rem;--wp--preset--spacing--50: 1.5rem;--wp--preset--spacing--60: 2.25rem;--wp--preset--spacing--70: 3.38rem;--wp--preset--spacing--80: 5.06rem;}:where(.is-layout-flex){gap: 0.5em;}body .is-layout-flow > .alignleft{float: left;margin-inline-start: 0;margin-inline-end: 2em;}body .is-layout-flow > .alignright{float: right;margin-inline-start: 2em;margin-inline-end: 0;}body .is-layout-flow > .aligncenter{margin-left: auto !important;margin-right: auto !important;}body .is-layout-constrained > .alignleft{float: left;margin-inline-start: 0;margin-inline-end: 2em;}body .is-layout-constrained > .alignright{float: right;margin-inline-start: 2em;margin-inline-end: 0;}body .is-layout-constrained > .aligncenter{margin-left: auto !important;margin-right: auto !important;}body .is-layout-constrained > :where(:not(.alignleft):not(.alignright):not(.alignfull)){max-width: var(--wp--style--global--content-size);margin-left: auto !important;margin-right: auto !important;}body .is-layout-constrained > .alignwide{max-width: var(--wp--style--global--wide-size);}body .is-layout-flex{display: flex;}body .is-layout-flex{flex-wrap: wrap;align-items: center;}body .is-layout-flex > *{margin: 0;}:where(.wp-block-columns.is-layout-flex){gap: 2em;}.has-black-color{color: var(--wp--preset--color--black) !important;}.has-cyan-bluish-gray-color{color: var(--wp--preset--color--cyan-bluish-gray) !important;}.has-white-color{color: var(--wp--preset--color--white) !important;}.has-pale-pink-color{color: var(--wp--preset--color--pale-pink) !important;}.has-vivid-red-color{color: var(--wp--preset--color--vivid-red) !important;}.has-luminous-vivid-orange-color{color: var(--wp--preset--color--luminous-vivid-orange) !important;}.has-luminous-vivid-amber-color{color: var(--wp--preset--color--luminous-vivid-amber) !important;}.has-light-green-cyan-color{color: var(--wp--preset--color--light-green-cyan) !important;}.has-vivid-green-cyan-color{color: var(--wp--preset--color--vivid-green-cyan) !important;}.has-pale-cyan-blue-color{color: var(--wp--preset--color--pale-cyan-blue) !important;}.has-vivid-cyan-blue-color{color: var(--wp--preset--color--vivid-cyan-blue) !important;}.has-vivid-purple-color{color: var(--wp--preset--color--vivid-purple) !important;}.has-black-background-color{background-color: var(--wp--preset--color--black) !important;}.has-cyan-bluish-gray-background-color{background-color: var(--wp--preset--color--cyan-bluish-gray) !important;}.has-white-background-color{background-color: var(--wp--preset--color--white) !important;}.has-pale-pink-background-color{background-color: var(--wp--preset--color--pale-pink) !important;}.has-vivid-red-background-color{background-color: var(--wp--preset--color--vivid-red) !important;}.has-luminous-vivid-orange-background-color{background-color: var(--wp--preset--color--luminous-vivid-orange) !important;}.has-luminous-vivid-amber-background-color{background-color: var(--wp--preset--color--luminous-vivid-amber) !important;}.has-light-green-cyan-background-color{background-color: var(--wp--preset--color--light-green-cyan) !important;}.has-vivid-green-cyan-background-color{background-color: var(--wp--preset--color--vivid-green-cyan) !important;}.has-pale-cyan-blue-background-color{background-color: var(--wp--preset--color--pale-cyan-blue) !important;}.has-vivid-cyan-blue-background-color{background-color: var(--wp--preset--color--vivid-cyan-blue) !important;}.has-vivid-purple-background-color{background-color: var(--wp--preset--color--vivid-purple) !important;}.has-black-border-color{border-color: var(--wp--preset--color--black) !important;}.has-cyan-bluish-gray-border-color{border-color: var(--wp--preset--color--cyan-bluish-gray) !important;}.has-white-border-color{border-color: var(--wp--preset--color--white) !important;}.has-pale-pink-border-color{border-color: var(--wp--preset--color--pale-pink) !important;}.has-vivid-red-border-color{border-color: var(--wp--preset--color--vivid-red) !important;}.has-luminous-vivid-orange-border-color{border-color: var(--wp--preset--color--luminous-vivid-orange) !important;}.has-luminous-vivid-amber-border-color{border-color: var(--wp--preset--color--luminous-vivid-amber) !important;}.has-light-green-cyan-border-color{border-color: var(--wp--preset--color--light-green-cyan) !important;}.has-vivid-green-cyan-border-color{border-color: var(--wp--preset--color--vivid-green-cyan) !important;}.has-pale-cyan-blue-border-color{border-color: var(--wp--preset--color--pale-cyan-blue) !important;}.has-vivid-cyan-blue-border-color{border-color: var(--wp--preset--color--vivid-cyan-blue) !important;}.has-vivid-purple-border-color{border-color: var(--wp--preset--color--vivid-purple) !important;}.has-vivid-cyan-blue-to-vivid-purple-gradient-background{background: var(--wp--preset--gradient--vivid-cyan-blue-to-vivid-purple) !important;}.has-light-green-cyan-to-vivid-green-cyan-gradient-background{background: var(--wp--preset--gradient--light-green-cyan-to-vivid-green-cyan) !important;}.has-luminous-vivid-amber-to-luminous-vivid-orange-gradient-background{background: var(--wp--preset--gradient--luminous-vivid-amber-to-luminous-vivid-orange) !important;}.has-luminous-vivid-orange-to-vivid-red-gradient-background{background: var(--wp--preset--gradient--luminous-vivid-orange-to-vivid-red) !important;}.has-very-light-gray-to-cyan-bluish-gray-gradient-background{background: var(--wp--preset--gradient--very-light-gray-to-cyan-bluish-gray) !important;}.has-cool-to-warm-spectrum-gradient-background{background: var(--wp--preset--gradient--cool-to-warm-spectrum) !important;}.has-blush-light-purple-gradient-background{background: var(--wp--preset--gradient--blush-light-purple) !important;}.has-blush-bordeaux-gradient-background{background: var(--wp--preset--gradient--blush-bordeaux) !important;}.has-luminous-dusk-gradient-background{background: var(--wp--preset--gradient--luminous-dusk) !important;}.has-pale-ocean-gradient-background{background: var(--wp--preset--gradient--pale-ocean) !important;}.has-electric-grass-gradient-background{background: var(--wp--preset--gradient--electric-grass) !important;}.has-midnight-gradient-background{background: var(--wp--preset--gradient--midnight) !important;}.has-small-font-size{font-size: var(--wp--preset--font-size--small) !important;}.has-medium-font-size{font-size: var(--wp--preset--font-size--medium) !important;}.has-large-font-size{font-size: var(--wp--preset--font-size--large) !important;}.has-x-large-font-size{font-size: var(--wp--preset--font-size--x-large) !important;}\n",
            ".wp-block-navigation a:where(:not(.wp-element-button)){color: inherit;}\n",
            ":where(.wp-block-columns.is-layout-flex){gap: 2em;}\n",
            ".wp-block-pullquote{font-size: 1.5em;line-height: 1.6;}\n",
            "\n",
            "\n",
            "\n",
            "\n",
            "\n",
            "\n",
            "\n",
            "\n",
            "\n",
            "\n",
            "\n",
            "\n",
            "\n",
            "\n",
            "\n",
            "\n",
            "/* <![CDATA[ */\n",
            "var dtAjax = {\"url\":\"\\/wp-admin\\/admin-ajax.php\",\"player_api\":\"https:\\/\\/pobreflix.biz\\/wp-json\\/dooplayer\\/v2\\/\",\"play_ajaxmd\":null,\"play_method\":\"admin_ajax\",\"googlercptc\":null,\"classitem\":\"5\",\"loading\":\"Loading..\",\"afavorites\":\"Add to favorites\",\"rfavorites\":\"Remove of favorites\",\"views\":\"Views\",\"remove\":\"Remove\",\"isawit\":\"I saw it\",\"send\":\"Data send..\",\"updating\":\"Updating data..\",\"error\":\"Error\",\"pending\":\"Pending review\",\"ltipe\":\"Download\",\"sending\":\"Sending data\",\"enabled\":\"Enable\",\"disabled\":\"Disable\",\"trash\":\"Delete\",\"lshared\":\"Links Shared\",\"ladmin\":\"Manage pending links\",\"sendingrep\":\"Please wait, sending data..\",\"ready\":\"Ready\",\"deletelin\":\"Do you really want to delete this link?\"};\n",
            "/* ]]> */\n",
            "\n",
            "\n",
            "\n",
            "\n",
            "\n",
            "jQuery(document).ready(function(a){\"false\"==dtGonza.mobile&&a(window).load(function(){a(\".scrolling\").mCustomScrollbar({theme:\"minimal-dark\",scrollInertia:200,scrollButtons:{enable:!0},callbacks:{onTotalScrollOffset:100,alwaysTriggerOffsets:!1}})})});\n",
            "\n",
            "body{font-family:\"Roboto\", sans-serif;}\n",
            "body{background-color:#000000;}\n",
            "header.main .hbox,#contenedor,footer.main .fbox{max-width:1200px;}\n",
            "a,.home-blog-post .entry-date .date,.top-imdb-item:hover>.title a,.module .content .items .item .data h3 a:hover,.head-main-nav ul.main-header li:hover>a,.login_box .box a.register{color:#81d742;}\n",
            ".nav_items_module a.btn:hover,.pagination span.current,.w_item_b a:hover>.data .wextra b:before,.comment-respond h3:before,footer.main .fbox .fmenu ul li a:hover{color:#81d742;}\n",
            "header.main .hbox .search form button[type=submit]:hover,.loading,#seasons .se-c .se-a ul.episodios li .episodiotitle a:hover,.sgeneros a:hover,.page_user nav.user ul li a:hover{color:#81d742;}\n",
            "footer.main .fbox .fmenu ul li.current-menu-item a,.posts .meta .autor i,.pag_episodes .item a:hover,a.link_a:hover,ul.smenu li a:hover{color:#81d742;}\n",
            "header.responsive .nav a.active:before, header.responsive .search a.active:before,.dtuser a.clicklogin:hover,.menuresp .menu ul.resp li a:hover,.menuresp .menu ul.resp li ul.sub-menu li a:hover{color:#81d742;}\n",
            ".sl-wrapper a:before,table.account_links tbody td a:hover,.dt_mainmeta nav.genres ul li a:hover{color:#81d742;}\n",
            ".dt_mainmeta nav.genres ul li.current-cat a:before,.dooplay_player .options ul li:hover span.title{color:#81d742;}\n",
            ".head-main-nav ul.main-header li ul.sub-menu li a:hover,form.form-resp-ab button[type=submit]:hover>span,.sidebar aside.widget ul li a:hover{color:#81d742;}\n",
            "header.top_imdb h1.top-imdb-h1 span,article.post .information .meta span.autor,.w_item_c a:hover>.rating i,span.comment-author-link,.pagination a:hover{color:#81d742;}\n",
            ".letter_home ul.glossary li a:hover, .letter_home ul.glossary li a.active, .user_control a.in-list{color:#81d742;}\n",
            ".headitems a#dooplay_signout:hover, .login_box .box a#c_loginbox:hover{color:#81d742;}\n",
            ".report_modal .box .form form fieldset label:hover > span.title{color:#81d742;}\n",
            ".linktabs ul li a.selected,ul.smenu li a.selected,a.liked,.module .content header span a.see-all,.page_user nav.user ul li a.selected,.dt_mainmeta nav.releases ul li a:hover{background:#81d742;}\n",
            "a.see_all,p.form-submit input[type=submit]:hover,.report-video-form fieldset input[type=submit],a.mtoc,.contact .wrapper fieldset input[type=submit],span.item_type,a.main{background:#81d742;}\n",
            ".post-comments .comment-reply-link:hover,#seasons .se-c .se-q span.se-o,#edit_link .box .form_edit .cerrar a:hover{background:#81d742;}\n",
            ".user_edit_control ul li a.selected,form.update_profile fieldset input[type=submit],.page_user .content .paged a.load_more:hover,#edit_link .box .form_edit fieldset input[type=\"submit\"]{background:#81d742;}\n",
            ".login_box .box input[type=\"submit\"],.form_post_lik .control .left a.add_row:hover,.form_post_lik .table table tbody tr td a.remove_row:hover,.form_post_lik .control .right input[type=\"submit\"]{background:#81d742;}\n",
            "#dt_contenedor{background-color:#000000;}\n",
            ".plyr input[type=range]::-ms-fill-lower{background:#81d742;}\n",
            ".menuresp .menu .user a.ctgs,.menuresp .menu .user .logout a:hover{background:#81d742;}\n",
            ".plyr input[type=range]:active::-webkit-slider-thumb{background:#81d742;}\n",
            ".plyr input[type=range]:active::-moz-range-thumb{background:#81d742;}\n",
            ".plyr input[type=range]:active::-ms-thumb{background:#81d742;}\n",
            ".tagcloud a:hover,ul.abc li a:hover,ul.abc li a.select, {background:#81d742;}\n",
            ".featu{background:#00be08;}\n",
            ".report_modal .box .form form fieldset input[type=submit]{background-color:#81d742;}\n",
            ".contact .wrapper fieldset input[type=text]:focus, .contact .wrapper fieldset textarea:focus,header.main .hbox .dt_user ul li ul li:hover > a,.login_box .box a.register{border-color:#81d742;}\n",
            ".module .content header h1{border-color:#81d742;}\n",
            ".module .content header h2{border-color:#81d742;}\n",
            "a.see_all{border-color:#81d742;}\n",
            ".top-imdb-list h3{border-color:#81d742;}\n",
            ".user_edit_control ul li a.selected:before{border-top-color:#81d742;}\n",
            "header.main .loading{color:#fff!important;}\n",
            ".starstruck .star-on-png:before{color:#81d742;}\n",
            ".dooplay_player{border-bottom:none;}\n",
            "\n",
            "\n",
            "\n",
            "\n",
            "\n",
            "\n",
            "\t\t\theader{\n",
            "background: rgba(0, 0, 0, 1);\n",
            "    background: url(https://i.stack.imgur.com/NEuip.jpg);\n",
            "border-radius: 3px;\n",
            "border-bottom: 5px solid #bc2727;\n",
            "}\n",
            "\n",
            "#dt_contenedor {\n",
            "    background: url();\n",
            "    background-repeat: no-repeat;\n",
            "    background-attachment: fixed;\n",
            "    background-size: cover;\n",
            "    background-position: 50% 0%;\n",
            "}\n",
            "\n",
            ".head-main-nav ul.main-header li ul.sub-menu li {\n",
            "    width: calc(100%/2);\n",
            "}\n",
            "\n",
            ".head-main-nav ul.main-header li ul.sub-menu {\n",
            "    display: none;\n",
            "    position: absolute;\n",
            "    top: 70px;\n",
            "    max-width: 500px;\n",
            "    padding-left: 0;\n",
            "    box-shadow: 0 5px 10px 0 rgba(0, 0, 0, 0.2);\n",
            "}\n",
            "\n",
            ".img-site{\n",
            "    width: 100%;\n",
            "    margin-bottom: -3px;\n",
            "}\n",
            "\n",
            ".content.full_width_layout {}\n",
            "\n",
            "\t\t\t.dtsingle .content {\n",
            "    width:calc(100% - 0px);\n",
            "}\n",
            "\n",
            ".module .content {\n",
            "    width: calc(100% - 0px);\n",
            "    margin-right: 0px;\n",
            "    padding: 20px;\n",
            "    float: left;\n",
            "    border-right: solid 0px;\n",
            "}\n",
            "\n",
            ".module .content .items .item .poster {\n",
            "    border-radius: 10px 10px 10px 10px;\n",
            "}\n",
            "\n",
            ".module .content .items .item {\n",
            "    padding: 2px;   \n",
            "}\n",
            "\n",
            "#contenedor {\n",
            "    margin: 73px auto 0;\n",
            "}\n",
            "\n",
            "a, abbr, acronym, address, applet, article, aside, audio, b, big, blockquote, body, canvas, caption, center, cite, code, dd, del, details, dfn, div, dl, dt, em, embed, fieldset, figcaption, figure, footer, form, h1, h2, h3, h4, h5, h6, header, hgroup, html, i, iframe, img, ins, kbd, label, legend, li, mark, menu, nav, object, ol, output, p, pre, q, ruby, s, samp, section, small, span, strike, strong, sub, summary, sup, table, tbody, td, tfoot, th, thead, time, tr, tt, u, ul, var, video {\n",
            "    border-radius: 8px 8px 8px 8px;\n",
            "}\n",
            "\n",
            "header.main {\n",
            "    border-radius: 0px 0px 0px 0px;\n",
            "}\n",
            "\n",
            ".module .content header h2 {\n",
            "    border-left: solid 3px #fff;\n",
            "}\n",
            "\n",
            ".module .content header h1, .module .content header h2 {\n",
            "    border-left: solid 0px #408bea;\n",
            "\t  padding-left: 0px;\n",
            "}\n",
            "\n",
            ".module .content .items .item .dfeatur .mark i {\n",
            "    color: #222d3444;\n",
            "}\n",
            "\n",
            ".module .content header h2 {\n",
            "    font-size: 20px;\n",
            "    font-weight: 900;\n",
            "    padding-left: 0px;\n",
            "}\n",
            "\n",
            ".module .content header h1, .module .content header h2 {\n",
            "    font-size: 20px;\n",
            "    font-weight: 900;\n",
            "    padding-left: 0px;\n",
            "}\n",
            "\n",
            ".module .content .items .item .data {\n",
            "    text-align: center;\n",
            "}\n",
            "\n",
            ".module .content .items .item .dfeatur {\n",
            "    padding-left: 0px;\n",
            "}\n",
            "\n",
            ".dtsingle .sidebar {\n",
            "    width: 0px;\n",
            "\t  padding: 0px;\n",
            "}\n",
            "\n",
            ".module .sidebar {\n",
            "    width: 0px;\n",
            "\t  padding: 0px;\n",
            "}\n",
            "\n",
            ".dooplay_player {\n",
            "    border-bottom: solid 0px #f5f7fa;\n",
            "}\n",
            "\n",
            ".module .content .featured .item {\n",
            "    width: calc(100%/6);\n",
            "}\n",
            "\n",
            "footer.main .fbox {\n",
            "    margin-top: 10px;\n",
            "}\n",
            "\n",
            ".full_width_layout {\n",
            "    padding: 10px 20px!important;\n",
            "}\n",
            "\n",
            ".srelacionados article {\n",
            "    padding: 2px;\n",
            "}\n",
            "\n",
            ".module .content .items {\n",
            "    margin-bottom: 5px;\n",
            "}\n",
            " #contenedor {\n",
            "    max-width: 1300px;\n",
            "    margin: 60px auto 0;\n",
            "}\n",
            "footer.main .fbox {\n",
            "    max-width: 1300px;\n",
            "    margin: 0 auto;\n",
            "    font-size: 13px;\n",
            "}\n",
            "\n",
            ".head-main-nav ul.main-header li a {\n",
            "    color: #ffffff;\n",
            "}\n",
            "a img.alignnone {\n",
            "    margin: 10px 10px 10px 10px;\n",
            "}\n",
            ".module .content header h1, .module .content header h2 {\n",
            "    color: #58FA58;\n",
            "\n",
            "\n",
            "\n",
            "\t\n",
            "\t\t\t\n",
            "\n",
            "\n",
            "\n",
            "\n",
            "\n",
            "\n",
            "\n",
            "\n",
            "\n",
            "\n",
            "Inicio\n",
            "Categorias\n",
            "\n",
            "Ação\n",
            "Animação\n",
            "Aventura\n",
            "Crime\n",
            "Comédia\n",
            "Drama\n",
            "Documentário\n",
            "Em Breve\n",
            "Faroeste\n",
            "Ficção científica\n",
            "Fantasia\n",
            "Família\n",
            "Guerra\n",
            "História\n",
            "Lançamentos\n",
            "Mistério\n",
            "Música\n",
            "Kids\n",
            "Thriller\n",
            "Terror\n",
            "Romance\n",
            "\n",
            "\n",
            "Séries Online\n",
            "Filmes Online\n",
            "Lançamentos\n",
            "\n",
            "2021\n",
            "2020\n",
            "\n",
            "\n",
            " \n",
            "\n",
            "\n",
            "\n",
            "\n",
            "\n",
            "\n",
            "\n",
            "\n",
            "\n",
            "\n",
            "\n",
            "\n",
            "\n",
            "\n",
            "\n",
            "\n",
            "\n",
            "\n",
            "\n",
            "\n",
            "\n",
            "\n",
            "\n",
            "\n",
            "\n",
            "\n",
            "\n",
            "\n",
            "\n",
            "\n",
            "\n",
            "Inicio\n",
            "Categorias\n",
            "\n",
            "Ação\n",
            "Animação\n",
            "Aventura\n",
            "Crime\n",
            "Comédia\n",
            "Drama\n",
            "Documentário\n",
            "Em Breve\n",
            "Faroeste\n",
            "Ficção científica\n",
            "Fantasia\n",
            "Família\n",
            "Guerra\n",
            "História\n",
            "Lançamentos\n",
            "Mistério\n",
            "Música\n",
            "Kids\n",
            "Thriller\n",
            "Terror\n",
            "Romance\n",
            "\n",
            "\n",
            "Séries Online\n",
            "Filmes Online\n",
            "Lançamentos\n",
            "\n",
            "2021\n",
            "2020\n",
            "\n",
            "\n",
            " \n",
            "\n",
            "\n",
            "\n",
            "\n",
            "\n",
            "\n",
            "Login to your account\n",
            "\n",
            "\n",
            "\n",
            " Remember Me\n",
            "\n",
            "Register a new account\n",
            "Lost your password?\n",
            "\n",
            "\n",
            "\n",
            "\n",
            "\n",
            "\n",
            "\n",
            "Pessoal, divulguem a importacia de instalar um VPN, as operadoras de internet estao bloqueando o seu acesso aos sites. Vamos dizer nao a censuraDESTAQUES FILMES E SERIES Loading..8.6FeaturedHomem-Formiga e a Vespa: Quantumania20239.5FeaturedThe Last of Us20239.5FeaturedThe Flash20147.1FeaturedO Lobo Viking20228.3FeaturedPantera Negra: Wakanda para Sempre20228.8FeaturedTeen Wolf: O Filme20239.7FeaturedTodo Dia a Mesma Noite20238FeaturedM3GAN20228.9FeaturedGato de Botas 2: O Último Pedido20229FeaturedAvatar: O Caminho da Água20227.8FeaturedThe Witcher: A Origem20229.3FeaturedWandinha2022\n",
            "FILMES RECENTES\n",
            "4,445 See all\n",
            "\n",
            "Loading..\n",
            "\n",
            "\n",
            "\n",
            "\n",
            "5.5\n",
            "\n",
            "\n",
            "\n",
            "\n",
            "\n",
            "Rei do Ringue: A História de Jem Belcher\n",
            "Jun. 30, 2022\n",
            "\n",
            "\n",
            "\n",
            "\n",
            "\n",
            "6.1\n",
            "\n",
            "\n",
            "\n",
            "\n",
            "\n",
            "Em Busca de Mim\n",
            "Nov. 03, 2022\n",
            "\n",
            "\n",
            "\n",
            "\n",
            "\n",
            "5.6\n",
            "\n",
            "\n",
            "\n",
            "\n",
            "\n",
            "Amor² Outra Vez\n",
            "Feb. 13, 2023\n",
            "\n",
            "\n",
            "\n",
            "\n",
            "\n",
            "5.6\n",
            "\n",
            "\n",
            "\n",
            "\n",
            "\n",
            "Na Sua Casa ou na Minha?\n",
            "Feb. 10, 2023\n",
            "\n",
            "\n",
            "\n",
            "\n",
            "\n",
            "5.7\n",
            "\n",
            "\n",
            "\n",
            "\n",
            "\n",
            "Uma Obsessão Desconhecida\n",
            "Oct. 06, 2022\n",
            "\n",
            "\n",
            "\n",
            "\n",
            "\n",
            "5.3\n",
            "\n",
            "\n",
            "\n",
            "\n",
            "\n",
            "O Rei Macaco: A Lenda Começa\n",
            "Nov. 02, 2022\n",
            "\n",
            "\n",
            "\n",
            "\n",
            "\n",
            "6.6\n",
            "\n",
            "\n",
            "\n",
            "\n",
            "\n",
            "Império da Luz\n",
            "Dec. 09, 2022\n",
            "\n",
            "\n",
            "\n",
            "\n",
            "\n",
            "5\n",
            "\n",
            "\n",
            "\n",
            "\n",
            "\n",
            "Mais Cedo Morto do que Casado\n",
            "Feb. 06, 2023\n",
            "\n",
            "\n",
            "\n",
            "\n",
            "\n",
            "5.5\n",
            "\n",
            "\n",
            "\n",
            "\n",
            "\n",
            "At Midnight\n",
            "Feb. 10, 2023\n",
            "\n",
            "\n",
            "\n",
            "\n",
            "SÉRIES RECENTES\n",
            "2,009 See all\n",
            "\n",
            "Loading..\n",
            "\n",
            "\n",
            "\n",
            "\n",
            "7.874\n",
            "\n",
            "\n",
            "\n",
            "\n",
            "\n",
            "Carnival Row\n",
            "Aug. 29, 2019\n",
            "\n",
            "\n",
            "\n",
            "\n",
            "\n",
            "6.8\n",
            "\n",
            "\n",
            "\n",
            "\n",
            "\n",
            "Olá Amanhã!\n",
            "Feb. 16, 2023\n",
            "\n",
            "\n",
            "\n",
            "\n",
            "\n",
            "7\n",
            "\n",
            "\n",
            "\n",
            "\n",
            "\n",
            "Rainhas Africanas: Nzinga\n",
            "Feb. 15, 2023\n",
            "\n",
            "\n",
            "\n",
            "\n",
            "\n",
            "7.6\n",
            "\n",
            "\n",
            "\n",
            "\n",
            "\n",
            "As Leis de Lidia Poët\n",
            "Feb. 15, 2023\n",
            "\n",
            "\n",
            "\n",
            "\n",
            "\n",
            "6.6\n",
            "\n",
            "\n",
            "\n",
            "\n",
            "\n",
            "Apaixonados Outra Vez\n",
            "Feb. 14, 2023\n",
            "\n",
            "\n",
            "\n",
            "\n",
            "\n",
            "7.6\n",
            "\n",
            "\n",
            "\n",
            "\n",
            "\n",
            "Interligados\n",
            "Dec. 07, 2022\n",
            "\n",
            "\n",
            "\n",
            "\n",
            "\n",
            "6.9\n",
            "\n",
            "\n",
            "\n",
            "\n",
            "\n",
            "Os Casamenteiros de Joseon\n",
            "Sep. 16, 2019\n",
            "\n",
            "\n",
            "\n",
            "\n",
            "\n",
            "5.5\n",
            "\n",
            "\n",
            "\n",
            "\n",
            "\n",
            "O Vento Sopra\n",
            "May. 27, 2019\n",
            "\n",
            "\n",
            "\n",
            "\n",
            "\n",
            "6\n",
            "\n",
            "\n",
            "\n",
            "\n",
            "\n",
            "O Desabrochar de um Sonho\n",
            "Oct. 18, 2022\n",
            "\n",
            "\n",
            "\n",
            "\n",
            "\n",
            "\n",
            "\n",
            " ©2023, Todos Os Direitos Reservados PobreFlix.biz\n",
            "\n",
            "DMCA\n",
            " \n",
            "\n",
            "\n",
            "\n",
            "\n",
            "jQuery(document).ready(function($) {\n",
            "$(\"#dt-episodes\").owlCarousel({ autoPlay:false,pagination:false,items:3,stopOnHover:true,itemsDesktop:[900,3],itemsDesktopSmall:[750,3],itemsTablet:[500,2],itemsMobile:[320,1] });\n",
            "$(\".next\").click(function(){ $(\"#dt-episodes\").trigger(\"owl.next\") });\n",
            "$(\".prev\").click(function(){ $(\"#dt-episodes\").trigger(\"owl.prev\") });\n",
            "$(\"#dt-seasons\").owlCarousel({ autoPlay:false,items:5,stopOnHover:true,pagination:false,itemsDesktop:[1199,5],itemsDesktopSmall:[980,5],itemsTablet:[768,4],itemsTabletSmall:false,itemsMobile:[479,3] });\n",
            "$(\".next2\").click(function(){ $(\"#dt-seasons\").trigger(\"owl.next\") });\n",
            "$(\".prev2\").click(function(){ $(\"#dt-seasons\").trigger(\"owl.prev\") });\n",
            "$(\"#slider-movies\").owlCarousel({ autoPlay:false,items:2,stopOnHover:true,pagination:true,itemsDesktop:[1199,2],itemsDesktopSmall:[980,2],itemsTablet:[768,2],itemsTabletSmall:[600,1],itemsMobile:[479,1] });\n",
            "$(\"#slider-tvshows\").owlCarousel({ autoPlay:false,items:2,stopOnHover:true,pagination:true,itemsDesktop:[1199,2],itemsDesktopSmall:[980,2],itemsTablet:[768,2],itemsTabletSmall:[600,1],itemsMobile:[479,1] });\n",
            "$(\"#slider-movies-tvshows\").owlCarousel({ autoPlay:false,items:2,stopOnHover:true,pagination:true,itemsDesktop:[1199,2],itemsDesktopSmall:[980,2],itemsTablet:[768,2],itemsTabletSmall:[600,1],itemsMobile:[479,1] });\n",
            "$(\".reset\").click(function(event){ if (!confirm( dtGonza.reset_all )) { event.preventDefault() } });\n",
            "$(\".addcontent\").click(function(event){ if(!confirm(dtGonza.manually_content)){ event.preventDefault() } });});\n",
            "\n",
            "\n",
            "\n",
            "/* <![CDATA[ */\n",
            "var dtGonza = {\"api\":\"https:\\/\\/pobreflix.biz\\/wp-json\\/dooplay\\/search\\/\",\"glossary\":\"https:\\/\\/pobreflix.biz\\/wp-json\\/dooplay\\/glossary\\/\",\"nonce\":\"4f779f83d9\",\"area\":\".live-search\",\"button\":\".search-button\",\"more\":\"View all results\",\"mobile\":\"false\",\"reset_all\":\"Really you want to restart all data?\",\"manually_content\":\"They sure have added content manually?\",\"loading\":\"Loading..\",\"loadingplayer\":\"Loading player..\",\"selectaplayer\":\"Select a video player\",\"playeradstime\":null,\"autoplayer\":\"1\",\"livesearchactive\":\"1\"};\n",
            "/* ]]> */\n",
            "\n",
            "\n",
            "\n",
            "var _wau = _wau || []; _wau.push([\"dynamic\", \"pobrebiz\", \"m0u\", \"c4302bffffff\", \"small\"]);\n",
            "\n",
            "\n",
            "\n"
          ]
        }
      ]
    },
    {
      "cell_type": "code",
      "source": [
        "prompt = \"Escreva\""
      ],
      "metadata": {
        "id": "vRV7d851lffR"
      },
      "execution_count": null,
      "outputs": []
    }
  ]
}