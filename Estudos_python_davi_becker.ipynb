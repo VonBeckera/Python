{
  "nbformat": 4,
  "nbformat_minor": 0,
  "metadata": {
    "colab": {
      "provenance": [],
      "mount_file_id": "https://gist.github.com/VonBeckera/890cc00392789d5dd836094d4c7fd563#file-untitled1-ipynb",
      "authorship_tag": "ABX9TyNQlfbe+2MQz9t6S2WBuIRP",
      "include_colab_link": true
    },
    "kernelspec": {
      "name": "python3",
      "display_name": "Python 3"
    },
    "language_info": {
      "name": "python"
    },
    "widgets": {
      "application/vnd.jupyter.widget-state+json": {
        "c53e9901d6ab4163bb50888b0706c3a5": {
          "model_module": "@jupyter-widgets/controls",
          "model_name": "VBoxModel",
          "model_module_version": "1.5.0",
          "state": {
            "_dom_classes": [
              "widget-interact"
            ],
            "_model_module": "@jupyter-widgets/controls",
            "_model_module_version": "1.5.0",
            "_model_name": "VBoxModel",
            "_view_count": null,
            "_view_module": "@jupyter-widgets/controls",
            "_view_module_version": "1.5.0",
            "_view_name": "VBoxView",
            "box_style": "",
            "children": [
              "IPY_MODEL_b20455f55b4e41adb0071a483436aca3",
              "IPY_MODEL_6aa6d11eea314c7ca7b1c8c9056a607e"
            ],
            "layout": "IPY_MODEL_6781a821c0a148b387be057a2f61d486"
          }
        },
        "b20455f55b4e41adb0071a483436aca3": {
          "model_module": "@jupyter-widgets/controls",
          "model_name": "IntSliderModel",
          "model_module_version": "1.5.0",
          "state": {
            "_dom_classes": [],
            "_model_module": "@jupyter-widgets/controls",
            "_model_module_version": "1.5.0",
            "_model_name": "IntSliderModel",
            "_view_count": null,
            "_view_module": "@jupyter-widgets/controls",
            "_view_module_version": "1.5.0",
            "_view_name": "IntSliderView",
            "continuous_update": true,
            "description": "year",
            "description_tooltip": null,
            "disabled": false,
            "layout": "IPY_MODEL_fdd6723bc20546178031ca75a4fa747d",
            "max": 2007,
            "min": 1952,
            "orientation": "horizontal",
            "readout": true,
            "readout_format": "d",
            "step": 1,
            "style": "IPY_MODEL_19cfba182256448dbf5ef3a9762fd3b1",
            "value": 1952
          }
        },
        "6aa6d11eea314c7ca7b1c8c9056a607e": {
          "model_module": "@jupyter-widgets/output",
          "model_name": "OutputModel",
          "model_module_version": "1.0.0",
          "state": {
            "_dom_classes": [],
            "_model_module": "@jupyter-widgets/output",
            "_model_module_version": "1.0.0",
            "_model_name": "OutputModel",
            "_view_count": null,
            "_view_module": "@jupyter-widgets/output",
            "_view_module_version": "1.0.0",
            "_view_name": "OutputView",
            "layout": "IPY_MODEL_535338f5c5b741dfb18c0afe789c2e36",
            "msg_id": "",
            "outputs": [
              {
                "output_type": "display_data",
                "data": {
                  "text/html": "<html>\n<head><meta charset=\"utf-8\" /></head>\n<body>\n    <div>            <script src=\"https://cdnjs.cloudflare.com/ajax/libs/mathjax/2.7.5/MathJax.js?config=TeX-AMS-MML_SVG\"></script><script type=\"text/javascript\">if (window.MathJax && window.MathJax.Hub && window.MathJax.Hub.Config) {window.MathJax.Hub.Config({SVG: {font: \"STIX-Web\"}});}</script>                <script type=\"text/javascript\">window.PlotlyConfig = {MathJaxConfig: 'local'};</script>\n        <script src=\"https://cdn.plot.ly/plotly-2.18.2.min.js\"></script>                <div id=\"eab4a462-2f74-4f09-a799-ae5be9cd84cd\" class=\"plotly-graph-div\" style=\"height:525px; width:100%;\"></div>            <script type=\"text/javascript\">                                    window.PLOTLYENV=window.PLOTLYENV || {};                                    if (document.getElementById(\"eab4a462-2f74-4f09-a799-ae5be9cd84cd\")) {                    Plotly.newPlot(                        \"eab4a462-2f74-4f09-a799-ae5be9cd84cd\",                        [{\"hovertemplate\":\"<b>%{hovertext}</b><br><br>continent=Asia<br>gdpPercap=%{x}<br>lifeExp=%{y}<br>pop=%{marker.size}<extra></extra>\",\"hovertext\":[\"Afghanistan\",\"Afghanistan\",\"Afghanistan\",\"Afghanistan\",\"Afghanistan\",\"Afghanistan\",\"Afghanistan\",\"Afghanistan\",\"Afghanistan\",\"Afghanistan\",\"Afghanistan\",\"Afghanistan\",\"Bahrain\",\"Bahrain\",\"Bahrain\",\"Bahrain\",\"Bahrain\",\"Bahrain\",\"Bahrain\",\"Bahrain\",\"Bahrain\",\"Bahrain\",\"Bahrain\",\"Bahrain\",\"Bangladesh\",\"Bangladesh\",\"Bangladesh\",\"Bangladesh\",\"Bangladesh\",\"Bangladesh\",\"Bangladesh\",\"Bangladesh\",\"Bangladesh\",\"Bangladesh\",\"Bangladesh\",\"Bangladesh\",\"Cambodia\",\"Cambodia\",\"Cambodia\",\"Cambodia\",\"Cambodia\",\"Cambodia\",\"Cambodia\",\"Cambodia\",\"Cambodia\",\"Cambodia\",\"Cambodia\",\"Cambodia\",\"China\",\"China\",\"China\",\"China\",\"China\",\"China\",\"China\",\"China\",\"China\",\"China\",\"China\",\"China\",\"Hong Kong, China\",\"Hong Kong, China\",\"Hong Kong, China\",\"Hong Kong, China\",\"Hong Kong, China\",\"Hong Kong, China\",\"Hong Kong, China\",\"Hong Kong, China\",\"Hong Kong, China\",\"Hong Kong, China\",\"Hong Kong, China\",\"Hong Kong, China\",\"India\",\"India\",\"India\",\"India\",\"India\",\"India\",\"India\",\"India\",\"India\",\"India\",\"India\",\"India\",\"Indonesia\",\"Indonesia\",\"Indonesia\",\"Indonesia\",\"Indonesia\",\"Indonesia\",\"Indonesia\",\"Indonesia\",\"Indonesia\",\"Indonesia\",\"Indonesia\",\"Indonesia\",\"Iran\",\"Iran\",\"Iran\",\"Iran\",\"Iran\",\"Iran\",\"Iran\",\"Iran\",\"Iran\",\"Iran\",\"Iran\",\"Iran\",\"Iraq\",\"Iraq\",\"Iraq\",\"Iraq\",\"Iraq\",\"Iraq\",\"Iraq\",\"Iraq\",\"Iraq\",\"Iraq\",\"Iraq\",\"Iraq\",\"Israel\",\"Israel\",\"Israel\",\"Israel\",\"Israel\",\"Israel\",\"Israel\",\"Israel\",\"Israel\",\"Israel\",\"Israel\",\"Israel\",\"Japan\",\"Japan\",\"Japan\",\"Japan\",\"Japan\",\"Japan\",\"Japan\",\"Japan\",\"Japan\",\"Japan\",\"Japan\",\"Japan\",\"Jordan\",\"Jordan\",\"Jordan\",\"Jordan\",\"Jordan\",\"Jordan\",\"Jordan\",\"Jordan\",\"Jordan\",\"Jordan\",\"Jordan\",\"Jordan\",\"Korea, Dem. Rep.\",\"Korea, Dem. Rep.\",\"Korea, Dem. Rep.\",\"Korea, Dem. Rep.\",\"Korea, Dem. Rep.\",\"Korea, Dem. Rep.\",\"Korea, Dem. Rep.\",\"Korea, Dem. Rep.\",\"Korea, Dem. Rep.\",\"Korea, Dem. Rep.\",\"Korea, Dem. Rep.\",\"Korea, Dem. Rep.\",\"Korea, Rep.\",\"Korea, Rep.\",\"Korea, Rep.\",\"Korea, Rep.\",\"Korea, Rep.\",\"Korea, Rep.\",\"Korea, Rep.\",\"Korea, Rep.\",\"Korea, Rep.\",\"Korea, Rep.\",\"Korea, Rep.\",\"Korea, Rep.\",\"Kuwait\",\"Kuwait\",\"Kuwait\",\"Kuwait\",\"Kuwait\",\"Kuwait\",\"Kuwait\",\"Kuwait\",\"Kuwait\",\"Kuwait\",\"Kuwait\",\"Kuwait\",\"Lebanon\",\"Lebanon\",\"Lebanon\",\"Lebanon\",\"Lebanon\",\"Lebanon\",\"Lebanon\",\"Lebanon\",\"Lebanon\",\"Lebanon\",\"Lebanon\",\"Lebanon\",\"Malaysia\",\"Malaysia\",\"Malaysia\",\"Malaysia\",\"Malaysia\",\"Malaysia\",\"Malaysia\",\"Malaysia\",\"Malaysia\",\"Malaysia\",\"Malaysia\",\"Malaysia\",\"Mongolia\",\"Mongolia\",\"Mongolia\",\"Mongolia\",\"Mongolia\",\"Mongolia\",\"Mongolia\",\"Mongolia\",\"Mongolia\",\"Mongolia\",\"Mongolia\",\"Mongolia\",\"Myanmar\",\"Myanmar\",\"Myanmar\",\"Myanmar\",\"Myanmar\",\"Myanmar\",\"Myanmar\",\"Myanmar\",\"Myanmar\",\"Myanmar\",\"Myanmar\",\"Myanmar\",\"Nepal\",\"Nepal\",\"Nepal\",\"Nepal\",\"Nepal\",\"Nepal\",\"Nepal\",\"Nepal\",\"Nepal\",\"Nepal\",\"Nepal\",\"Nepal\",\"Oman\",\"Oman\",\"Oman\",\"Oman\",\"Oman\",\"Oman\",\"Oman\",\"Oman\",\"Oman\",\"Oman\",\"Oman\",\"Oman\",\"Pakistan\",\"Pakistan\",\"Pakistan\",\"Pakistan\",\"Pakistan\",\"Pakistan\",\"Pakistan\",\"Pakistan\",\"Pakistan\",\"Pakistan\",\"Pakistan\",\"Pakistan\",\"Philippines\",\"Philippines\",\"Philippines\",\"Philippines\",\"Philippines\",\"Philippines\",\"Philippines\",\"Philippines\",\"Philippines\",\"Philippines\",\"Philippines\",\"Philippines\",\"Saudi Arabia\",\"Saudi Arabia\",\"Saudi Arabia\",\"Saudi Arabia\",\"Saudi Arabia\",\"Saudi Arabia\",\"Saudi Arabia\",\"Saudi Arabia\",\"Saudi Arabia\",\"Saudi Arabia\",\"Saudi Arabia\",\"Saudi Arabia\",\"Singapore\",\"Singapore\",\"Singapore\",\"Singapore\",\"Singapore\",\"Singapore\",\"Singapore\",\"Singapore\",\"Singapore\",\"Singapore\",\"Singapore\",\"Singapore\",\"Sri Lanka\",\"Sri Lanka\",\"Sri Lanka\",\"Sri Lanka\",\"Sri Lanka\",\"Sri Lanka\",\"Sri Lanka\",\"Sri Lanka\",\"Sri Lanka\",\"Sri Lanka\",\"Sri Lanka\",\"Sri Lanka\",\"Syria\",\"Syria\",\"Syria\",\"Syria\",\"Syria\",\"Syria\",\"Syria\",\"Syria\",\"Syria\",\"Syria\",\"Syria\",\"Syria\",\"Taiwan\",\"Taiwan\",\"Taiwan\",\"Taiwan\",\"Taiwan\",\"Taiwan\",\"Taiwan\",\"Taiwan\",\"Taiwan\",\"Taiwan\",\"Taiwan\",\"Taiwan\",\"Thailand\",\"Thailand\",\"Thailand\",\"Thailand\",\"Thailand\",\"Thailand\",\"Thailand\",\"Thailand\",\"Thailand\",\"Thailand\",\"Thailand\",\"Thailand\",\"Vietnam\",\"Vietnam\",\"Vietnam\",\"Vietnam\",\"Vietnam\",\"Vietnam\",\"Vietnam\",\"Vietnam\",\"Vietnam\",\"Vietnam\",\"Vietnam\",\"Vietnam\",\"West Bank and Gaza\",\"West Bank and Gaza\",\"West Bank and Gaza\",\"West Bank and Gaza\",\"West Bank and Gaza\",\"West Bank and Gaza\",\"West Bank and Gaza\",\"West Bank and Gaza\",\"West Bank and Gaza\",\"West Bank and Gaza\",\"West Bank and Gaza\",\"West Bank and Gaza\",\"Yemen, Rep.\",\"Yemen, Rep.\",\"Yemen, Rep.\",\"Yemen, Rep.\",\"Yemen, Rep.\",\"Yemen, Rep.\",\"Yemen, Rep.\",\"Yemen, Rep.\",\"Yemen, Rep.\",\"Yemen, Rep.\",\"Yemen, Rep.\",\"Yemen, Rep.\"],\"legendgroup\":\"Asia\",\"marker\":{\"color\":\"#636efa\",\"size\":[8.425333,1.282697,9.279525,4.232095,17.876956,8.691212,6.927772,0.120447,46.886859,8.730405,1.738315,2.883315,2.791,0.442308,56.60256,7.2749,4.469979,2.445618,4.693836,5.009067,14.785584,1.291695,2.682462,6.377619,556.263527,12.350771,0.153936,14.100005,0.854885,0.926317,2.977019,3.882229,6.007797,9.125183,4.334,0.063149,2.491346,3.548753,22.223309,2.042865,0.216964,1.43876,20.860941,4.0905,42.459667,0.420702,0.28432,69.145952,5.581001,7.73325,3.146381,2.664249,0.580653,3.201488,1.517453,2.1259,9.504,0.147962,372.0,82.052,17.272,5.441766,2.952156,1.620914,47.666,1.426095,86.459025,0.607914,6.464046,8.865488,20.947571,0.16,1.439529,0.748747,0.863308,1.019729,4.762912,2.917802,6.748378,3.838168,1.022556,0.516556,30.144317,0.800663,0.413834,9.939217,6.446316,20.092996,0.485831,9.182536,10.381988,1.994794,1.16579,3.379468,33.119096,3.327728,0.507833,41.34656,0.94008,1.555876,8.0257,22.438691,25.730551,8.52605,2.227,0.2577,16.63,2.534927,0.060011,4.005677,2.755589,6.860147,2.143249,1.127,3.558137,1.489518,2.526994,14.264935,28.54987,7.982342,8.504667,0.290243,7.124673,4.815,3.661549,8.550362,8.322925,21.289402,1.219113,0.66285,3.647735,22.235677,5.824797,50.43,157.553,2.252965,5.439568,26.246839,1.030585,4.963829,2.672,3.080907],\"sizemode\":\"area\",\"sizeref\":366300.86,\"symbol\":\"circle\"},\"mode\":\"markers\",\"name\":\"Asia\",\"showlegend\":true,\"x\":[779.4453145,1601.056136,2449.008185,3520.610273,5911.315053,10039.59564,6137.076492,9867.084765,684.2441716,8343.105126999999,1062.7522,2677.326347,973.5331948,851.2411407,2108.944355,2444.286648,543.2552413,339.2964587,368.4692856,1172.667655,11367.16112,1071.310713,1178.665927,3939.978789,400.448611,2144.115096,1102.990936,780.5423257,2125.621418,2627.0094710000008,1388.594732,3119.23652,5586.53878,6876.14025,9692.385245,2669.529475,1397.717137,3522.110717,1418.822445,3048.3029,375.6431231,328.9405571000001,362.1462796,6424.519071,7029.809327,4293.476475,485.2306591,7144.114393000002,911.2989371,3530.690067,2428.2377690000008,510.1964923000001,299.850319,1840.366939,2194.926204,3054.421209,5263.673816,7267.688428,546.5657493,749.6816546,3035.326002,4129.766056,5210.280328,4086.522128,4931.404154999998,2898.530881,3216.956347,1546.907807,853.5409189999998,1088.277758,1030.592226,108382.3529,4834.804067,298.8462121,575.5729961000002,2387.54806,1443.011715,369.1650802,1831.132894,452.3369807,743.1159097,1967.955707,3478.125529,786.5668575,2647.585601,1688.20357,468.5260381,331.0,2423.780443,545.8657228999998,8941.571858,10556.57566,3112.363948,761.879376,1077.281856,10095.42172,1828.230307,684.5971437999998,2480.380334,1952.308701,3758.523437,1272.880995,4029.329699,3068.319867,3081.959785,2718.885295,3144.613186,493.3238752,879.5835855,6459.554823,1450.356983,3581.459448,879.7877358,2315.138227,5074.659104,4215.041741,1135.749842,4725.295531000002,3834.034742,1083.53203,1615.991129,1148.376626,8527.844662000001,14734.23275,1643.485354,1206.947913,716.6500721,757.7974177,859.8086567,3023.271928,1468.475631,1969.10098,734.753484,9979.508487,13990.482080000002,5716.766744,7689.799761,605.0664917,1515.5923289999996,781.7175761,1147.388831,406.8841148],\"xaxis\":\"x\",\"y\":[28.801,55.23,43.077,30.015,62.485,69.12,66.8,50.93899999999999,37.484,68.0,38.223,40.414,53.82,47.622,50.917,59.6,31.975,39.031,39.417,38.523,68.75,35.463,38.092,54.745,44.0,50.643,40.715,39.143,42.111,57.206,40.477,61.21,59.42100000000001,66.87,70.78,34.812,45.928,48.357,41.893,45.262,34.482,35.92800000000001,34.078,66.55,67.41,37.003,30.0,67.5,43.149,65.86,42.023,33.609,32.5,37.579,41.912,60.96,64.03,72.49,37.37300000000001,37.468,44.869,45.32,66.91,65.39,65.94,58.53,63.03,43.158,42.27,50.056,47.453,55.565,55.928,42.13800000000001,38.48,42.723,36.681,36.256,48.463,33.685,40.543,50.986,50.789,42.244,59.164,42.87300000000001,31.286,36.319,41.725,36.157,72.13,69.39,42.31399999999999,37.444,36.324,72.67,37.578,43.43600000000001,55.191,62.649,43.902,47.752,61.31,59.82,64.28,52.724,61.05,40.0,46.471,39.875,37.278,57.996,30.331,60.396,64.36,65.57,32.978,45.00899999999999,64.94,57.593,38.635,41.407,71.86,69.62,45.883,58.5,41.215,50.848,38.596,59.1,44.6,43.585,39.978,69.18,68.44,66.071,55.088,40.412,43.16,32.548,42.038,48.451],\"yaxis\":\"y\",\"type\":\"scattergl\"},{\"hovertemplate\":\"<b>%{hovertext}</b><br><br>continent=Europe<br>gdpPercap=%{x}<br>lifeExp=%{y}<br>pop=%{marker.size}<extra></extra>\",\"hovertext\":[\"Albania\",\"Albania\",\"Albania\",\"Albania\",\"Albania\",\"Albania\",\"Albania\",\"Albania\",\"Albania\",\"Albania\",\"Albania\",\"Albania\",\"Austria\",\"Austria\",\"Austria\",\"Austria\",\"Austria\",\"Austria\",\"Austria\",\"Austria\",\"Austria\",\"Austria\",\"Austria\",\"Austria\",\"Belgium\",\"Belgium\",\"Belgium\",\"Belgium\",\"Belgium\",\"Belgium\",\"Belgium\",\"Belgium\",\"Belgium\",\"Belgium\",\"Belgium\",\"Belgium\",\"Bosnia and Herzegovina\",\"Bosnia and Herzegovina\",\"Bosnia and Herzegovina\",\"Bosnia and Herzegovina\",\"Bosnia and Herzegovina\",\"Bosnia and Herzegovina\",\"Bosnia and Herzegovina\",\"Bosnia and Herzegovina\",\"Bosnia and Herzegovina\",\"Bosnia and Herzegovina\",\"Bosnia and Herzegovina\",\"Bosnia and Herzegovina\",\"Bulgaria\",\"Bulgaria\",\"Bulgaria\",\"Bulgaria\",\"Bulgaria\",\"Bulgaria\",\"Bulgaria\",\"Bulgaria\",\"Bulgaria\",\"Bulgaria\",\"Bulgaria\",\"Bulgaria\",\"Croatia\",\"Croatia\",\"Croatia\",\"Croatia\",\"Croatia\",\"Croatia\",\"Croatia\",\"Croatia\",\"Croatia\",\"Croatia\",\"Croatia\",\"Croatia\",\"Czech Republic\",\"Czech Republic\",\"Czech Republic\",\"Czech Republic\",\"Czech Republic\",\"Czech Republic\",\"Czech Republic\",\"Czech Republic\",\"Czech Republic\",\"Czech Republic\",\"Czech Republic\",\"Czech Republic\",\"Denmark\",\"Denmark\",\"Denmark\",\"Denmark\",\"Denmark\",\"Denmark\",\"Denmark\",\"Denmark\",\"Denmark\",\"Denmark\",\"Denmark\",\"Denmark\",\"Finland\",\"Finland\",\"Finland\",\"Finland\",\"Finland\",\"Finland\",\"Finland\",\"Finland\",\"Finland\",\"Finland\",\"Finland\",\"Finland\",\"France\",\"France\",\"France\",\"France\",\"France\",\"France\",\"France\",\"France\",\"France\",\"France\",\"France\",\"France\",\"Germany\",\"Germany\",\"Germany\",\"Germany\",\"Germany\",\"Germany\",\"Germany\",\"Germany\",\"Germany\",\"Germany\",\"Germany\",\"Germany\",\"Greece\",\"Greece\",\"Greece\",\"Greece\",\"Greece\",\"Greece\",\"Greece\",\"Greece\",\"Greece\",\"Greece\",\"Greece\",\"Greece\",\"Hungary\",\"Hungary\",\"Hungary\",\"Hungary\",\"Hungary\",\"Hungary\",\"Hungary\",\"Hungary\",\"Hungary\",\"Hungary\",\"Hungary\",\"Hungary\",\"Iceland\",\"Iceland\",\"Iceland\",\"Iceland\",\"Iceland\",\"Iceland\",\"Iceland\",\"Iceland\",\"Iceland\",\"Iceland\",\"Iceland\",\"Iceland\",\"Ireland\",\"Ireland\",\"Ireland\",\"Ireland\",\"Ireland\",\"Ireland\",\"Ireland\",\"Ireland\",\"Ireland\",\"Ireland\",\"Ireland\",\"Ireland\",\"Italy\",\"Italy\",\"Italy\",\"Italy\",\"Italy\",\"Italy\",\"Italy\",\"Italy\",\"Italy\",\"Italy\",\"Italy\",\"Italy\",\"Montenegro\",\"Montenegro\",\"Montenegro\",\"Montenegro\",\"Montenegro\",\"Montenegro\",\"Montenegro\",\"Montenegro\",\"Montenegro\",\"Montenegro\",\"Montenegro\",\"Montenegro\",\"Netherlands\",\"Netherlands\",\"Netherlands\",\"Netherlands\",\"Netherlands\",\"Netherlands\",\"Netherlands\",\"Netherlands\",\"Netherlands\",\"Netherlands\",\"Netherlands\",\"Netherlands\",\"Norway\",\"Norway\",\"Norway\",\"Norway\",\"Norway\",\"Norway\",\"Norway\",\"Norway\",\"Norway\",\"Norway\",\"Norway\",\"Norway\",\"Poland\",\"Poland\",\"Poland\",\"Poland\",\"Poland\",\"Poland\",\"Poland\",\"Poland\",\"Poland\",\"Poland\",\"Poland\",\"Poland\",\"Portugal\",\"Portugal\",\"Portugal\",\"Portugal\",\"Portugal\",\"Portugal\",\"Portugal\",\"Portugal\",\"Portugal\",\"Portugal\",\"Portugal\",\"Portugal\",\"Romania\",\"Romania\",\"Romania\",\"Romania\",\"Romania\",\"Romania\",\"Romania\",\"Romania\",\"Romania\",\"Romania\",\"Romania\",\"Romania\",\"Serbia\",\"Serbia\",\"Serbia\",\"Serbia\",\"Serbia\",\"Serbia\",\"Serbia\",\"Serbia\",\"Serbia\",\"Serbia\",\"Serbia\",\"Serbia\",\"Slovak Republic\",\"Slovak Republic\",\"Slovak Republic\",\"Slovak Republic\",\"Slovak Republic\",\"Slovak Republic\",\"Slovak Republic\",\"Slovak Republic\",\"Slovak Republic\",\"Slovak Republic\",\"Slovak Republic\",\"Slovak Republic\",\"Slovenia\",\"Slovenia\",\"Slovenia\",\"Slovenia\",\"Slovenia\",\"Slovenia\",\"Slovenia\",\"Slovenia\",\"Slovenia\",\"Slovenia\",\"Slovenia\",\"Slovenia\",\"Spain\",\"Spain\",\"Spain\",\"Spain\",\"Spain\",\"Spain\",\"Spain\",\"Spain\",\"Spain\",\"Spain\",\"Spain\",\"Spain\",\"Sweden\",\"Sweden\",\"Sweden\",\"Sweden\",\"Sweden\",\"Sweden\",\"Sweden\",\"Sweden\",\"Sweden\",\"Sweden\",\"Sweden\",\"Sweden\",\"Switzerland\",\"Switzerland\",\"Switzerland\",\"Switzerland\",\"Switzerland\",\"Switzerland\",\"Switzerland\",\"Switzerland\",\"Switzerland\",\"Switzerland\",\"Switzerland\",\"Switzerland\",\"Turkey\",\"Turkey\",\"Turkey\",\"Turkey\",\"Turkey\",\"Turkey\",\"Turkey\",\"Turkey\",\"Turkey\",\"Turkey\",\"Turkey\",\"Turkey\",\"United Kingdom\",\"United Kingdom\",\"United Kingdom\",\"United Kingdom\",\"United Kingdom\",\"United Kingdom\",\"United Kingdom\",\"United Kingdom\",\"United Kingdom\",\"United Kingdom\",\"United Kingdom\",\"United Kingdom\"],\"legendgroup\":\"Europe\",\"marker\":{\"color\":\"#EF553B\",\"size\":[1282697,1476505,1728137,1984060,2263554,2509048,2780097,3075321,3326498,3428038,3508512,3600523,6927772,6965860,7129864,7376998,7544201,7568430,7574613,7578903,7914969,8069876,8148312,8199783,8730405,8989111,9218400,9556500,9709100,9821800,9856303,9870200,10045622,10199787,10311970,10392226,2791000,3076000,3349000,3585000,3819000,4086000,4172693,4338977,4256013,3607000,4165416,4552198,7274900,7651254,8012946,8310226,8576200,8797022,8892098,8971958,8658506,8066057,7661799,7322858,3882229,3991242,4076557,4174366,4225310,4318673,4413368,4484310,4494013,4444595,4481020,4493312,9125183,9513758,9620282,9835109,9862158,10161915,10303704,10311597,10315702,10300707,10256295,10228744,4334000,4487831,4646899,4838800,4991596,5088419,5117810,5127024,5171393,5283663,5374693,5468120,4090500,4324000,4491443,4605744,4639657,4738902,4826933,4931729,5041039,5134406,5193039,5238460,42459667,44310863,47124000,49569000,51732000,53165019,54433565,55630100,57374179,58623428,59925035,61083916,69145952,71019069,73739117,76368453,78717088,78160773,78335266,77718298,80597764,82011073,82350671,82400996,7733250,8096218,8448233,8716441,8888628,9308479,9786480,9974490,10325429,10502372,10603863,10706290,9504000,9839000,10063000,10223422,10394091,10637171,10705535,10612740,10348684,10244684,10083313,9956108,147962,165110,182053,198676,209275,221823,233997,244676,259012,271192,288030,301931,2952156,2878220,2830000,2900100,3024400,3271900,3480000,3539900,3557761,3667233,3879155,4109086,47666000,49182000,50843200,52667100,54365564,56059245,56535636,56729703,56840847,57479469,57926999,58147733,413834,442829,474528,501035,527678,560073,562548,569473,621621,692651,720230,684736,10381988,11026383,11805689,12596822,13329874,13852989,14310401,14665278,15174244,15604464,16122830,16570613,3327728,3491938,3638919,3786019,3933004,4043205,4114787,4186147,4286357,4405672,4535591,4627926,25730551,28235346,30329617,31785378,33039545,34621254,36227381,37740710,38370697,38654957,38625976,38518241,8526050,8817650,9019800,9103000,8970450,9662600,9859650,9915289,9927680,10156415,10433867,10642836,16630000,17829327,18680721,19284814,20662648,21658597,22356726,22686371,22797027,22562458,22404337,22276056,6860147,7271135,7616060,7971222,8313288,8686367,9032824,9230783,9826397,10336594,10111559,10150265,3558137,3844277,4237384,4442238,4593433,4827803,5048043,5199318,5302888,5383010,5410052,5447502,1489518,1533070,1582962,1646912,1694510,1746919,1861252,1945870,1999210,2011612,2011497,2009245,28549870,29841614,31158061,32850275,34513161,36439000,37983310,38880702,39549438,39855442,40152517,40448191,7124673,7363802,7561588,7867931,8122293,8251648,8325260,8421403,8718867,8897619,8954175,9031088,4815000,5126000,5666000,6063000,6401400,6316424,6468126,6649942,6995447,7193761,7361757,7554661,22235677,25670939,29788695,33411317,37492953,42404033,47328791,52881328,58179144,63047647,67308928,71158647,50430000,51430000,53292000,54959000,56079000,56179000,56339704,56981620,57866349,58808266,59912431,60776238],\"sizemode\":\"area\",\"sizeref\":366300.86,\"symbol\":\"circle\"},\"mode\":\"markers\",\"name\":\"Europe\",\"showlegend\":true,\"x\":[1601.056136,1942.284244,2312.888958,2760.196931,3313.422188,3533.003910000001,3630.880722,3738.932735,2497.437901,3193.054604,4604.211737,5937.029525999998,6137.076492,8842.59803,10750.72111,12834.6024,16661.6256,19749.4223,21597.08362,23687.82607,27042.01868,29095.920660000003,32417.60769,36126.4927,8343.105126999999,9714.960623,10991.20676,13149.04119,16672.14356,19117.97448,20979.84589,22525.56308,25575.57069,27561.19663,30485.88375,33692.60508,973.5331948,1353.989176,1709.683679,2172.3524230000007,2860.16975,3528.481305,4126.613157,4314.114757,2546.781445,4766.355904,6018.975239,7446.298803,2444.286648,3008.670727,4254.337839,5577.0028,6597.494398,7612.240438,8224.191647,8239.854824,6302.623438000001,5970.38876,7696.777725,10680.79282,3119.23652,4338.231617,5477.890018,6960.297861,9164.090127,11305.38517,13221.82184,13822.58394,8447.794873,9875.604515,11628.38895,14619.222719999998,6876.14025,8256.343918,10136.86713,11399.44489,13108.4536,14800.16062,15377.22855,16310.4434,14297.02122,16048.51424,17596.210219999994,22833.30851,9692.385245,11099.65935,13583.31351,15937.21123,18866.20721,20422.9015,21688.04048,25116.17581,26406.73985,29804.34567,32166.50006,35278.41874,6424.519071,7545.415386,9371.842561,10921.63626,14358.8759,15605.42283,18533.15761,21141.01223,20647.16499,23723.9502,28204.59057,33207.0844,7029.809327,8662.834898000001,10560.48553,12999.91766,16107.19171,18292.63514,20293.89746,22066.44214,24703.79615,25889.78487,28926.03234,30470.0167,7144.114393000002,10187.82665,12902.46291,14745.62561,18016.18027,20512.92123,22031.53274,24639.18566,26505.30317,27788.88416,30035.80198,32170.37442,3530.690067,4916.299889,6017.190732999999,8513.097016,12724.82957,14195.52428,15268.42089,16120.52839,17541.49634,18747.69814,22514.2548,27538.41188,5263.673816,6040.180011,7550.359877,9326.64467,10168.65611,11674.83737,12545.99066,12986.47998,10535.62855,11712.7768,14843.93556,18008.94444,7267.688428,9244.001412,10350.15906,13319.89568,15798.06362,19654.96247,23269.6075,26923.20628,25144.39201,28061.099660000003,31163.20196,36180.78919,5210.280328,5599.077872,6631.597314,7655.568963,9530.772896,11150.98113,12618.32141,13872.86652,17558.81555,24521.94713,34077.04939,40675.99635,4931.404154999998,6248.656232,8243.58234,10022.40131,12269.27378,14255.98475,16537.4835,19207.23482,22013.64486,24675.02446,27968.09817,28569.7197,2647.585601,3682.259903,4649.593785,5907.850937,7778.414017,9595.929905,11222.58762,11732.51017,7003.339037000002,6465.613349,6557.194282,9253.896111,8941.571858,11276.19344,12790.84956,15363.25136,18794.74567,21209.0592,21399.46046,23651.32361,26790.94961,30246.13063,33724.75778,36797.93332,10095.42172,11653.97304,13450.40151,16361.87647,18965.05551,23311.34939,26298.63531,31540.9748,33965.66115,41283.16433,44683.97525,49357.19017,4029.329699,4734.253019,5338.752143,6557.152776,8006.506993000001,9508.141454,8451.531004,9082.351172,7738.881247,10159.58368,12002.23908,15389.924680000002,3068.319867,3774.571743,4727.954889,6361.517993,9022.247417,10172.48572,11753.84291,13039.30876,16207.266630000002,17641.03156,19970.90787,20509.64777,3144.613186,3943.370225,4734.997586,6470.866545,8011.4144019999985,9356.39724,9605.314053,9696.273295,6598.409903,7346.547556999999,7885.360081,10808.47561,3581.459448,4981.090891,6289.629157,7991.707066,10522.06749,12980.66956,15181.0927,15870.87851,9325.068238,7914.320304000002,7236.075251,9786.534714,5074.659104,6093.26298,7481.107598,8412.902397,9674.167626,10922.66404,11348.54585,12037.26758,9498.467723,12126.23065,13638.778369999998,18678.31435,4215.041741,5862.276629,7402.303395,9405.489397,12383.4862,15277.030169999998,17866.72175,18678.53492,14214.71681,17161.10735,20660.01936,25768.25759,3834.034742,4564.80241,5693.843879,7993.512294,10638.75131,13236.92117,13926.16997,15764.98313,18603.06452,20445.29896,24835.47166,28821.0637,8527.844662000001,9911.878226,12329.44192,15258.29697,17832.02464,18855.72521,20667.38125,23586.92927,23880.01683,25266.59499,29341.630930000007,33859.74835,14734.23275,17909.48973,20431.0927,22966.14432,27195.11304,26982.29052,28397.71512,30281.70459,31871.5303,32135.323010000004,34480.95771,37506.41907,1969.10098,2218.754257,2322.869908,2826.3563870000007,3450.69638,4269.122326,4241.356344,5089.043686,5678.348271,6601.429915,6508.085718,8458.276384,9979.508487,11283.17795,12477.17707,14142.85089,15895.11641,17428.74846,18232.42452,21664.78767,22705.09254,26074.53136,29478.99919,33203.26128],\"xaxis\":\"x\",\"y\":[55.23,59.28,64.82,66.22,67.69,68.93,70.42,72.0,71.581,72.95,75.65100000000002,76.423,66.8,67.48,69.54,70.14,70.63,72.17,73.18,74.94,76.04,77.51,78.98,79.829,68.0,69.24,70.25,70.94,71.44,72.8,73.93,75.35,76.46,77.53,78.32,79.441,53.82,58.45,61.93,64.79,67.45,69.86,70.69,71.14,72.178,73.244,74.09,74.852,59.6,66.61,69.51,70.42,70.9,70.81,71.08,71.34,71.19,70.32,72.14,73.005,61.21,64.77,67.13,68.5,69.61,70.64,70.46,71.52,72.527,73.68,74.876,75.748,66.87,69.03,69.9,70.38,70.29,70.71,70.96,71.58,72.4,74.01,75.51,76.486,70.78,71.81,72.35,72.96,73.47,74.69,74.63,74.8,75.33,76.11,77.18,78.332,66.55,67.49,68.75,69.83,70.87,72.52,74.55,74.83,75.7,77.13,78.37,79.313,67.41,68.93,70.51,71.55,72.38,73.83,74.89,76.34,77.46,78.64,79.59,80.657,67.5,69.1,70.3,70.8,71.0,72.5,73.8,74.847,76.07,77.34,78.67,79.406,65.86,67.86,69.51,71.0,72.34,73.68,75.24,76.67,77.03,77.869,78.256,79.483,64.03,66.41,67.96,69.5,69.76,69.95,69.39,69.58,69.17,71.04,72.59,73.33800000000002,72.49,73.47,73.68,73.73,74.46,76.11,76.99,77.23,78.77,78.95,80.5,81.757,66.91,68.9,70.29,71.08,71.28,72.03,73.1,74.36,75.467,76.122,77.783,78.885,65.94,67.81,69.24,71.06,72.19,73.48,74.98,76.42,77.44,78.82,80.24,80.546,59.164,61.448,63.728,67.178,70.63600000000002,73.066,74.101,74.865,75.435,75.445,73.98100000000002,74.543,72.13,72.99,73.23,73.82,73.75,75.24,76.05,76.83,77.42,78.03,78.53,79.762,72.67,73.44,73.47,74.08,74.34,75.37,75.97,75.89,77.32,78.32,79.05,80.196,61.31,65.77,67.64,69.61,70.85,70.67,71.32,70.98,70.99,72.75,74.67,75.563,59.82,61.51,64.39,66.6,69.26,70.41,72.77,74.06,74.86,75.97,77.29,78.098,61.05,64.1,66.8,66.8,69.21,69.46,69.66,69.53,69.36,69.72,71.322,72.476,57.996,61.685,64.531,66.914,68.7,70.3,70.16199999999999,71.218,71.65899999999998,72.232,73.21300000000002,74.002,64.36,67.45,70.33,70.98,70.35,70.45,70.8,71.08,71.38,72.71,73.8,74.663,65.57,67.85,69.15,69.18,69.82,70.97,71.063,72.25,73.64,75.13,76.66,77.926,64.94,66.66,69.69,71.44,73.06,74.39,76.3,76.9,77.57,78.77,79.78,80.941,71.86,72.49,73.37,74.16,74.72,75.44,76.42,77.19,78.16,79.39,80.04,80.884,69.62,70.56,71.32,72.77,73.78,75.39,76.21,77.41,78.03,79.37,80.62,81.70100000000002,43.585,48.07899999999999,52.098,54.33600000000001,57.005,59.507,61.036,63.108,66.146,68.835,70.845,71.777,69.18,70.42,70.76,71.36,72.01,72.76,74.04,75.007,76.42,77.218,78.471,79.425],\"yaxis\":\"y\",\"type\":\"scattergl\"},{\"hovertemplate\":\"<b>%{hovertext}</b><br><br>continent=Africa<br>gdpPercap=%{x}<br>lifeExp=%{y}<br>pop=%{marker.size}<extra></extra>\",\"hovertext\":[\"Algeria\",\"Algeria\",\"Algeria\",\"Algeria\",\"Algeria\",\"Algeria\",\"Algeria\",\"Algeria\",\"Algeria\",\"Algeria\",\"Algeria\",\"Algeria\",\"Angola\",\"Angola\",\"Angola\",\"Angola\",\"Angola\",\"Angola\",\"Angola\",\"Angola\",\"Angola\",\"Angola\",\"Angola\",\"Angola\",\"Benin\",\"Benin\",\"Benin\",\"Benin\",\"Benin\",\"Benin\",\"Benin\",\"Benin\",\"Benin\",\"Benin\",\"Benin\",\"Benin\",\"Botswana\",\"Botswana\",\"Botswana\",\"Botswana\",\"Botswana\",\"Botswana\",\"Botswana\",\"Botswana\",\"Botswana\",\"Botswana\",\"Botswana\",\"Botswana\",\"Burkina Faso\",\"Burkina Faso\",\"Burkina Faso\",\"Burkina Faso\",\"Burkina Faso\",\"Burkina Faso\",\"Burkina Faso\",\"Burkina Faso\",\"Burkina Faso\",\"Burkina Faso\",\"Burkina Faso\",\"Burkina Faso\",\"Burundi\",\"Burundi\",\"Burundi\",\"Burundi\",\"Burundi\",\"Burundi\",\"Burundi\",\"Burundi\",\"Burundi\",\"Burundi\",\"Burundi\",\"Burundi\",\"Cameroon\",\"Cameroon\",\"Cameroon\",\"Cameroon\",\"Cameroon\",\"Cameroon\",\"Cameroon\",\"Cameroon\",\"Cameroon\",\"Cameroon\",\"Cameroon\",\"Cameroon\",\"Central African Republic\",\"Central African Republic\",\"Central African Republic\",\"Central African Republic\",\"Central African Republic\",\"Central African Republic\",\"Central African Republic\",\"Central African Republic\",\"Central African Republic\",\"Central African Republic\",\"Central African Republic\",\"Central African Republic\",\"Chad\",\"Chad\",\"Chad\",\"Chad\",\"Chad\",\"Chad\",\"Chad\",\"Chad\",\"Chad\",\"Chad\",\"Chad\",\"Chad\",\"Comoros\",\"Comoros\",\"Comoros\",\"Comoros\",\"Comoros\",\"Comoros\",\"Comoros\",\"Comoros\",\"Comoros\",\"Comoros\",\"Comoros\",\"Comoros\",\"Congo, Dem. Rep.\",\"Congo, Dem. Rep.\",\"Congo, Dem. Rep.\",\"Congo, Dem. Rep.\",\"Congo, Dem. Rep.\",\"Congo, Dem. Rep.\",\"Congo, Dem. Rep.\",\"Congo, Dem. Rep.\",\"Congo, Dem. Rep.\",\"Congo, Dem. Rep.\",\"Congo, Dem. Rep.\",\"Congo, Dem. Rep.\",\"Congo, Rep.\",\"Congo, Rep.\",\"Congo, Rep.\",\"Congo, Rep.\",\"Congo, Rep.\",\"Congo, Rep.\",\"Congo, Rep.\",\"Congo, Rep.\",\"Congo, Rep.\",\"Congo, Rep.\",\"Congo, Rep.\",\"Congo, Rep.\",\"Cote d'Ivoire\",\"Cote d'Ivoire\",\"Cote d'Ivoire\",\"Cote d'Ivoire\",\"Cote d'Ivoire\",\"Cote d'Ivoire\",\"Cote d'Ivoire\",\"Cote d'Ivoire\",\"Cote d'Ivoire\",\"Cote d'Ivoire\",\"Cote d'Ivoire\",\"Cote d'Ivoire\",\"Djibouti\",\"Djibouti\",\"Djibouti\",\"Djibouti\",\"Djibouti\",\"Djibouti\",\"Djibouti\",\"Djibouti\",\"Djibouti\",\"Djibouti\",\"Djibouti\",\"Djibouti\",\"Egypt\",\"Egypt\",\"Egypt\",\"Egypt\",\"Egypt\",\"Egypt\",\"Egypt\",\"Egypt\",\"Egypt\",\"Egypt\",\"Egypt\",\"Egypt\",\"Equatorial Guinea\",\"Equatorial Guinea\",\"Equatorial Guinea\",\"Equatorial Guinea\",\"Equatorial Guinea\",\"Equatorial Guinea\",\"Equatorial Guinea\",\"Equatorial Guinea\",\"Equatorial Guinea\",\"Equatorial Guinea\",\"Equatorial Guinea\",\"Equatorial Guinea\",\"Eritrea\",\"Eritrea\",\"Eritrea\",\"Eritrea\",\"Eritrea\",\"Eritrea\",\"Eritrea\",\"Eritrea\",\"Eritrea\",\"Eritrea\",\"Eritrea\",\"Eritrea\",\"Ethiopia\",\"Ethiopia\",\"Ethiopia\",\"Ethiopia\",\"Ethiopia\",\"Ethiopia\",\"Ethiopia\",\"Ethiopia\",\"Ethiopia\",\"Ethiopia\",\"Ethiopia\",\"Ethiopia\",\"Gabon\",\"Gabon\",\"Gabon\",\"Gabon\",\"Gabon\",\"Gabon\",\"Gabon\",\"Gabon\",\"Gabon\",\"Gabon\",\"Gabon\",\"Gabon\",\"Gambia\",\"Gambia\",\"Gambia\",\"Gambia\",\"Gambia\",\"Gambia\",\"Gambia\",\"Gambia\",\"Gambia\",\"Gambia\",\"Gambia\",\"Gambia\",\"Ghana\",\"Ghana\",\"Ghana\",\"Ghana\",\"Ghana\",\"Ghana\",\"Ghana\",\"Ghana\",\"Ghana\",\"Ghana\",\"Ghana\",\"Ghana\",\"Guinea\",\"Guinea\",\"Guinea\",\"Guinea\",\"Guinea\",\"Guinea\",\"Guinea\",\"Guinea\",\"Guinea\",\"Guinea\",\"Guinea\",\"Guinea\",\"Guinea-Bissau\",\"Guinea-Bissau\",\"Guinea-Bissau\",\"Guinea-Bissau\",\"Guinea-Bissau\",\"Guinea-Bissau\",\"Guinea-Bissau\",\"Guinea-Bissau\",\"Guinea-Bissau\",\"Guinea-Bissau\",\"Guinea-Bissau\",\"Guinea-Bissau\",\"Kenya\",\"Kenya\",\"Kenya\",\"Kenya\",\"Kenya\",\"Kenya\",\"Kenya\",\"Kenya\",\"Kenya\",\"Kenya\",\"Kenya\",\"Kenya\",\"Lesotho\",\"Lesotho\",\"Lesotho\",\"Lesotho\",\"Lesotho\",\"Lesotho\",\"Lesotho\",\"Lesotho\",\"Lesotho\",\"Lesotho\",\"Lesotho\",\"Lesotho\",\"Liberia\",\"Liberia\",\"Liberia\",\"Liberia\",\"Liberia\",\"Liberia\",\"Liberia\",\"Liberia\",\"Liberia\",\"Liberia\",\"Liberia\",\"Liberia\",\"Libya\",\"Libya\",\"Libya\",\"Libya\",\"Libya\",\"Libya\",\"Libya\",\"Libya\",\"Libya\",\"Libya\",\"Libya\",\"Libya\",\"Madagascar\",\"Madagascar\",\"Madagascar\",\"Madagascar\",\"Madagascar\",\"Madagascar\",\"Madagascar\",\"Madagascar\",\"Madagascar\",\"Madagascar\",\"Madagascar\",\"Madagascar\",\"Malawi\",\"Malawi\",\"Malawi\",\"Malawi\",\"Malawi\",\"Malawi\",\"Malawi\",\"Malawi\",\"Malawi\",\"Malawi\",\"Malawi\",\"Malawi\",\"Mali\",\"Mali\",\"Mali\",\"Mali\",\"Mali\",\"Mali\",\"Mali\",\"Mali\",\"Mali\",\"Mali\",\"Mali\",\"Mali\",\"Mauritania\",\"Mauritania\",\"Mauritania\",\"Mauritania\",\"Mauritania\",\"Mauritania\",\"Mauritania\",\"Mauritania\",\"Mauritania\",\"Mauritania\",\"Mauritania\",\"Mauritania\",\"Mauritius\",\"Mauritius\",\"Mauritius\",\"Mauritius\",\"Mauritius\",\"Mauritius\",\"Mauritius\",\"Mauritius\",\"Mauritius\",\"Mauritius\",\"Mauritius\",\"Mauritius\",\"Morocco\",\"Morocco\",\"Morocco\",\"Morocco\",\"Morocco\",\"Morocco\",\"Morocco\",\"Morocco\",\"Morocco\",\"Morocco\",\"Morocco\",\"Morocco\",\"Mozambique\",\"Mozambique\",\"Mozambique\",\"Mozambique\",\"Mozambique\",\"Mozambique\",\"Mozambique\",\"Mozambique\",\"Mozambique\",\"Mozambique\",\"Mozambique\",\"Mozambique\",\"Namibia\",\"Namibia\",\"Namibia\",\"Namibia\",\"Namibia\",\"Namibia\",\"Namibia\",\"Namibia\",\"Namibia\",\"Namibia\",\"Namibia\",\"Namibia\",\"Niger\",\"Niger\",\"Niger\",\"Niger\",\"Niger\",\"Niger\",\"Niger\",\"Niger\",\"Niger\",\"Niger\",\"Niger\",\"Niger\",\"Nigeria\",\"Nigeria\",\"Nigeria\",\"Nigeria\",\"Nigeria\",\"Nigeria\",\"Nigeria\",\"Nigeria\",\"Nigeria\",\"Nigeria\",\"Nigeria\",\"Nigeria\",\"Reunion\",\"Reunion\",\"Reunion\",\"Reunion\",\"Reunion\",\"Reunion\",\"Reunion\",\"Reunion\",\"Reunion\",\"Reunion\",\"Reunion\",\"Reunion\",\"Rwanda\",\"Rwanda\",\"Rwanda\",\"Rwanda\",\"Rwanda\",\"Rwanda\",\"Rwanda\",\"Rwanda\",\"Rwanda\",\"Rwanda\",\"Rwanda\",\"Rwanda\",\"Sao Tome and Principe\",\"Sao Tome and Principe\",\"Sao Tome and Principe\",\"Sao Tome and Principe\",\"Sao Tome and Principe\",\"Sao Tome and Principe\",\"Sao Tome and Principe\",\"Sao Tome and Principe\",\"Sao Tome and Principe\",\"Sao Tome and Principe\",\"Sao Tome and Principe\",\"Sao Tome and Principe\",\"Senegal\",\"Senegal\",\"Senegal\",\"Senegal\",\"Senegal\",\"Senegal\",\"Senegal\",\"Senegal\",\"Senegal\",\"Senegal\",\"Senegal\",\"Senegal\",\"Sierra Leone\",\"Sierra Leone\",\"Sierra Leone\",\"Sierra Leone\",\"Sierra Leone\",\"Sierra Leone\",\"Sierra Leone\",\"Sierra Leone\",\"Sierra Leone\",\"Sierra Leone\",\"Sierra Leone\",\"Sierra Leone\",\"Somalia\",\"Somalia\",\"Somalia\",\"Somalia\",\"Somalia\",\"Somalia\",\"Somalia\",\"Somalia\",\"Somalia\",\"Somalia\",\"Somalia\",\"Somalia\",\"South Africa\",\"South Africa\",\"South Africa\",\"South Africa\",\"South Africa\",\"South Africa\",\"South Africa\",\"South Africa\",\"South Africa\",\"South Africa\",\"South Africa\",\"South Africa\",\"Sudan\",\"Sudan\",\"Sudan\",\"Sudan\",\"Sudan\",\"Sudan\",\"Sudan\",\"Sudan\",\"Sudan\",\"Sudan\",\"Sudan\",\"Sudan\",\"Swaziland\",\"Swaziland\",\"Swaziland\",\"Swaziland\",\"Swaziland\",\"Swaziland\",\"Swaziland\",\"Swaziland\",\"Swaziland\",\"Swaziland\",\"Swaziland\",\"Swaziland\",\"Tanzania\",\"Tanzania\",\"Tanzania\",\"Tanzania\",\"Tanzania\",\"Tanzania\",\"Tanzania\",\"Tanzania\",\"Tanzania\",\"Tanzania\",\"Tanzania\",\"Tanzania\",\"Togo\",\"Togo\",\"Togo\",\"Togo\",\"Togo\",\"Togo\",\"Togo\",\"Togo\",\"Togo\",\"Togo\",\"Togo\",\"Togo\",\"Tunisia\",\"Tunisia\",\"Tunisia\",\"Tunisia\",\"Tunisia\",\"Tunisia\",\"Tunisia\",\"Tunisia\",\"Tunisia\",\"Tunisia\",\"Tunisia\",\"Tunisia\",\"Uganda\",\"Uganda\",\"Uganda\",\"Uganda\",\"Uganda\",\"Uganda\",\"Uganda\",\"Uganda\",\"Uganda\",\"Uganda\",\"Uganda\",\"Uganda\",\"Zambia\",\"Zambia\",\"Zambia\",\"Zambia\",\"Zambia\",\"Zambia\",\"Zambia\",\"Zambia\",\"Zambia\",\"Zambia\",\"Zambia\",\"Zambia\",\"Zimbabwe\",\"Zimbabwe\",\"Zimbabwe\",\"Zimbabwe\",\"Zimbabwe\",\"Zimbabwe\",\"Zimbabwe\",\"Zimbabwe\",\"Zimbabwe\",\"Zimbabwe\",\"Zimbabwe\",\"Zimbabwe\"],\"legendgroup\":\"Africa\",\"marker\":{\"color\":\"#00cc96\",\"size\":[9279525,10270856,11000948,12760499,14760787,17152804,20033753,23254956,26298373,29072015,31287142,33333216,4232095,4561361,4826015,5247469,5894858,6162675,7016384,7874230,8735988,9875024,10866106,12420476,1738315,1925173,2151895,2427334,2761407,3168267,3641603,4243788,4981671,6066080,7026113,8078314,442308,474639,512764,553541,619351,781472,970347,1151184,1342614,1536536,1630347,1639131,4469979,4713416,4919632,5127935,5433886,5889574,6634596,7586551,8878303,10352843,12251209,14326203,2445618,2667518,2961915,3330989,3529983,3834415,4580410,5126023,5809236,6121610,7021078,8390505,5009067,5359923,5793633,6335506,7021028,7959865,9250831,10780667,12467171,14195809,15929988,17696293,1291695,1392284,1523478,1733638,1927260,2167533,2476971,2840009,3265124,3696513,4048013,4369038,2682462,2894855,3150417,3495967,3899068,4388260,4875118,5498955,6429417,7562011,8835739,10238807,153936,170928,191689,217378,250027,304739,348643,395114,454429,527982,614382,710960,14100005,15577932,17486434,19941073,23007669,26480870,30646495,35481645,41672143,47798986,55379852,64606759,854885,940458,1047924,1179760,1340458,1536769,1774735,2064095,2409073,2800947,3328795,3800610,2977019,3300000,3832408,4744870,6071696,7459574,9025951,10761098,12772596,14625967,16252726,18013409,63149,71851,89898,127617,178848,228694,305991,311025,384156,417908,447416,496374,22223309,25009741,28173309,31681188,34807417,38783863,45681811,52799062,59402198,66134291,73312559,80264543,216964,232922,249220,259864,277603,192675,285483,341244,387838,439971,495627,551201,1438760,1542611,1666618,1820319,2260187,2512642,2637297,2915959,3668440,4058319,4414865,4906585,20860941,22815614,25145372,27860297,30770372,34617799,38111756,42999530,52088559,59861301,67946797,76511887,420702,434904,455661,489004,537977,706367,753874,880397,985739,1126189,1299304,1454867,284320,323150,374020,439593,517101,608274,715523,848406,1025384,1235767,1457766,1688359,5581001,6391288,7355248,8490213,9354120,10538093,11400338,14168101,16278738,18418288,20550751,22873338,2664249,2876726,3140003,3451418,3811387,4227026,4710497,5650262,6990574,8048834,8807818,9947814,580653,601095,627820,601287,625361,745228,825987,927524,1050938,1193708,1332459,1472041,6464046,7454779,8678557,10191512,12044785,14500404,17661452,21198082,25020539,28263827,31386842,35610177,748747,813338,893143,996380,1116779,1251524,1411807,1599200,1803195,1982823,2046772,2012649,863308,975950,1112796,1279406,1482628,1703617,1956875,2269414,1912974,2200725,2814651,3193942,1019729,1201578,1441863,1759224,2183877,2721783,3344074,3799845,4364501,4759670,5368585,6036914,4762912,5181679,5703324,6334556,7082430,8007166,9171477,10568642,12210395,14165114,16473477,19167654,2917802,3221238,3628608,4147252,4730997,5637246,6502825,7824747,10014249,10419991,11824495,13327079,3838168,4241884,4690372,5212416,5828158,6491649,6998256,7634008,8416215,9384984,10580176,12031795,1022556,1076852,1146757,1230542,1332786,1456688,1622136,1841240,2119465,2444741,2828858,3270065,516556,609816,701016,789309,851334,913025,992040,1042663,1096202,1149818,1200206,1250882,9939217,11406350,13056604,14770296,16660670,18396941,20198730,22987397,25798239,28529501,31167783,33757175,6446316,7038035,7788944,8680909,9809596,11127868,12587223,12891952,13160731,16603334,18473780,19951656,485831,548080,621392,706640,821782,977026,1099010,1278184,1554253,1774766,1972153,2055080,3379468,3692184,4076008,4534062,5060262,5682086,6437188,7332638,8392818,9666252,11140655,12894865,33119096,37173340,41871351,47287752,53740085,62209173,73039376,81551520,93364244,106207839,119901274,135031164,257700,308700,358900,414024,461633,492095,517810,562035,622191,684810,743981,798094,2534927,2822082,3051242,3451079,3992121,4657072,5507565,6349365,7290203,7212583,7852401,8860588,60011,61325,65345,70787,76595,86796,98593,110812,125911,145608,170372,199579,2755589,3054547,3430243,3965841,4588696,5260855,6147783,7171347,8307920,9535314,10870037,12267493,2143249,2295678,2467895,2662190,2879013,3140897,3464522,3868905,4260884,4578212,5359092,6144562,2526994,2780415,3080153,3428839,3840161,4353666,5828892,6921858,6099799,6633514,7753310,9118773,14264935,16151549,18356657,20997321,23935810,27129932,31140029,35933379,39964159,42835005,44433622,43997828,8504667,9753392,11183227,12716129,14597019,17104986,20367053,24725960,28227588,32160729,37090298,42292929,290243,326741,370006,420690,480105,551425,649901,779348,962344,1054486,1130269,1133066,8322925,9452826,10863958,12607312,14706593,17129565,19844382,23040630,26605473,30686889,34593779,38139640,1219113,1357445,1528098,1735550,2056351,2308582,2644765,3154264,3747553,4320890,4977378,5701579,3647735,3950849,4286552,4786986,5303507,6005061,6734098,7724976,8523077,9231669,9770575,10276158,5824797,6675501,7688797,8900294,10190285,11457758,12939400,15283050,18252190,21210254,24739869,29170398,2672000,3016000,3421000,3900000,4506497,5216550,6100407,7272406,8381163,9417789,10595811,11746035,3080907,3646340,4277736,4995432,5861135,6642107,7636524,9216418,10704340,11404948,11926563,12311143],\"sizemode\":\"area\",\"sizeref\":366300.86,\"symbol\":\"circle\"},\"mode\":\"markers\",\"name\":\"Africa\",\"showlegend\":true,\"x\":[2449.008185,3013.976023,2550.81688,3246.991771,4182.663766,4910.416756000001,5745.160213,5681.358539,5023.216647,4797.295051,5288.040382,6223.367465,3520.610273,3827.940465,4269.276742,5522.776375,5473.288004999999,3008.647355,2756.953672,2430.208311,2627.845685,2277.140884,2773.287312,4797.231267,1062.7522,959.6010805,949.4990641,1035.831411,1085.796879,1029.161251,1277.897616,1225.85601,1191.207681,1232.975292,1372.877931,1441.284873,851.2411407,918.2325349,983.6539764,1214.709294,2263.6111140000007,3214.857818,4551.14215,6205.88385,7954.111645,8647.142313,11003.60508,12569.85177,543.2552413,617.1834647999998,722.5120206,794.8265597,854.7359763000002,743.3870368,807.1985855,912.0631417,931.7527731,946.2949618,1037.645221,1217.032994,339.2964587,379.5646281000001,355.2032273,412.97751360000007,464.0995039,556.1032651,559.6032309999998,621.8188188999999,631.6998778,463.1151478,446.4035126,430.0706916,1172.667655,1313.048099,1399.607441,1508.453148,1684.1465280000002,1783.432873,2367.983282,2602.664206,1793.1632780000002,1694.337469,1934.011449,2042.09524,1071.310713,1190.844328,1193.068753,1136.056615,1070.013275,1109.374338,956.7529907,844.8763504000002,747.9055252,740.5063317,738.6906068,706.016537,1178.665927,1308.495577,1389.817618,1196.810565,1104.103987,1133.98495,797.9081006,952.386129,1058.0643,1004.961353,1156.18186,1704.063724,1102.990936,1211.148548,1406.648278,1876.029643,1937.577675,1172.603047,1267.100083,1315.980812,1246.90737,1173.618235,1075.811558,986.1478792,780.5423257,905.8602303,896.3146335000001,861.5932424,904.8960685,795.757282,673.7478181,672.774812,457.7191807,312.188423,241.1658765,277.5518587,2125.621418,2315.056572,2464.783157,2677.9396420000007,3213.152683,3259.178978,4879.507522,4201.194936999998,4016.239529,3484.164376,3484.06197,3632.557798,1388.594732,1500.895925,1728.8694280000002,2052.050473,2378.201111,2517.736547,2602.710169,2156.9560690000008,1648.073791,1786.265407,1648.800823,1544.750112,2669.529475,2864.9690760000008,3020.989263,3020.050513,3694.2123520000014,3081.761022,2879.468067,2880.102568,2377.156192000001,1895.016984,1908.260867,2082.4815670000007,1418.822445,1458.915272,1693.335853,1814.880728,2024.008147,2785.493582,3503.729636,3885.46071,3794.755195,4173.181797,4754.604414,5581.180998,375.6431231,426.0964081,582.8419713999998,915.5960025,672.4122571,958.5668124,927.8253427,966.8968149,1132.055034,2814.480755,7703.4959,12154.08975,328.9405571000001,344.1618859,380.9958433000001,468.7949699,514.3242081999998,505.7538077,524.8758493,521.1341333,582.8585102000002,913.47079,765.3500015,641.3695236000002,362.1462796,378.9041632,419.4564161,516.1186438,566.2439442000001,556.8083834,577.8607471,573.7413142000001,421.3534653,515.8894013,530.0535319,690.8055759,4293.476475,4976.198099,6631.459222,8358.761987,11401.94841,21745.57328,15113.36194,11864.40844,13522.15752,14722.841880000002,12521.71392,13206.48452,485.2306591,520.9267111,599.650276,734.7829124,756.0868363,884.7552507000001,835.8096107999999,611.6588611000002,665.6244126,653.7301704,660.5855997,752.7497265,911.2989371,1043.5615369999996,1190.041118,1125.69716,1178.223708,993.2239571,876.032569,847.0061135,925.060154,1005.245812,1111.9845779999996,1327.60891,510.1964923000001,576.2670245,686.3736739,708.7595409,741.6662307,874.6858642999998,857.2503577,805.5724717999999,794.3484384,869.4497667999998,945.5835837,942.6542111,299.850319,431.79045660000014,522.0343725,715.5806402000002,820.2245876000002,764.7259627999998,838.1239671,736.4153921,745.5398706,796.6644681,575.7047176,579.2317429999998,853.5409189999998,944.4383152,896.9663732,1056.736457,1222.359968,1267.613204,1348.225791,1361.936856,1341.9217210000004,1360.4850210000004,1287.514732,1463.249282,298.8462121,335.9971151000001,411.8006266,498.6390265,496.5815922000001,745.3695408,797.2631074,773.9932140999998,977.4862725,1186.147994,1275.184575,1569.331442,575.5729961000002,620.9699901,634.1951625,713.6036482999998,803.0054535,640.3224382999998,572.1995694,506.1138573,636.6229191000001,609.1739508,531.4823679,414.5073415,2387.54806,3448.284395,6757.030816,18772.75169,21011.49721,21951.21176,17364.275380000006,11770.5898,9640.138501,9467.446056,9534.677467,12057.49928,1443.011715,1589.20275,1643.38711,1634.047282,1748.562982,1544.228586,1302.878658,1155.441948,1040.67619,986.2958956,894.6370822,1044.770126,369.1650802,416.3698064,427.9010856,495.5147806,584.6219709,663.2236766,632.8039209,635.5173633999998,563.2000145,692.2758102999999,665.4231186000002,759.3499101,452.3369807,490.3821867,496.1743428,545.0098873,581.3688761,686.3952693,618.0140640999998,684.1715576,739.014375,790.2579846,951.4097518,1042.581557,743.1159097,846.1202613,1055.896036,1421.145193,1586.851781,1497.492223,1481.150189,1421.603576,1361.369784,1483.136136,1579.019543,1803.151496,1967.955707,2034.037981,2529.0674870000007,2475.387562,2575.484158,3710.982963,3688.037739,4783.586903,6058.253846000001,7425.705295000002,9021.815894,10956.99112,1688.20357,1642.002314,1566.353493,1711.04477,1930.194975,2370.619976,2702.620356,2755.046991,2948.047252,2982.101858,3258.495584,3820.17523,468.5260381,495.58683330000014,556.6863539,566.6691539,724.9178037,502.3197334,462.2114149,389.8761846,410.8968239,472.34607710000006,633.6179466,823.6856205,2423.780443,2621.448058,3173.215595,3793.694753,3746.080948,3876.485958,4191.100511,3693.731337,3804.537999,3899.52426,4072.324751,4811.060429,761.879376,835.5234025000002,997.7661127,1054.384891,954.2092363,808.8970727999998,909.7221354,668.3000228,581.182725,580.3052092,601.0745012,619.6768923999998,1077.281856,1100.5925630000004,1150.9274779999996,1014.514104,1698.388838,1981.951806,1576.97375,1385.029563,1619.848217,1624.941275,1615.286395,2013.977305,2718.885295,2769.451844,3173.72334,4021.175739,5047.658563,4319.804067,5267.219353,5303.377488,6101.255823,6071.941411,6316.1652,7670.122558,493.3238752,540.2893982999999,597.4730727000001,510.9637142,590.5806637999998,670.0806011,881.5706467,847.991217,737.0685949,589.9445051,785.6537647999999,863.0884639000002,879.5835855,860.7369026,1071.551119,1384.840593,1532.985254,1737.561657,1890.218117,1516.525457,1428.777814,1339.076036,1353.09239,1598.435089,1450.356983,1567.653006,1654.988723,1612.404632,1597.712056,1561.769116,1518.479984,1441.72072,1367.899369,1392.368347,1519.635262,1712.472136,879.7877358,1004.484437,1116.6398769999996,1206.043465,1353.759762,1348.285159,1465.010784,1294.4477880000004,1068.696278,574.6481576,699.4897129999998,862.5407561000002,1135.749842,1258.147413,1369.488336,1284.7331800000004,1254.576127,1450.992513,1176.807031,1093.244963,926.9602964,930.5964284,882.0818218000002,926.1410683,4725.295531000002,5487.104219,5768.729717,7114.477970999998,7765.962636,8028.651439,8568.266228,7825.823398,7225.069257999998,7479.188244,7710.946444,9269.657808,1615.991129,1770.3370739999998,1959.593767,1687.997641,1659.652775,2202.988423,1895.544073,1507.819159,1492.197043,1632.2107640000004,1993.398314,2602.394995,1148.376626,1244.708364,1856.182125,2613.101665,3364.836625,3781.410618,3895.384018,3984.839812,3553.0224,3876.76846,4128.116943,4513.480643,716.6500721,698.5356073,722.0038073,848.2186575,915.9850592,962.4922932,874.2426069,831.8220794,825.682454,789.1862231,899.0742111,1107.482182,859.8086567,925.9083202,1067.53481,1477.59676,1649.660188,1532.776998,1344.577953,1202.201361,1034.298904,982.2869243,886.2205765000001,882.9699437999999,1468.475631,1395.232468,1660.30321,1932.3601670000005,2753.2859940000008,3120.876811,3560.2331740000004,3810.419296,4332.720164,4876.798614,5722.895654999998,7092.923025,734.753484,774.3710692000002,767.2717397999999,908.9185217,950.735869,843.7331372000001,682.2662267999998,617.7244065,644.1707968999998,816.559081,927.7210018,1056.380121,1147.388831,1311.956766,1452.725766,1777.077318,1773.498265,1588.688299,1408.678565,1213.315116,1210.884633,1071.353818,1071.6139380000004,1271.211593,406.8841148,518.7642681,527.2721818,569.7950712,799.3621757999998,685.5876821,788.8550411,706.1573059,693.4207856,792.4499602999998,672.0386227000001,469.70929810000007],\"xaxis\":\"x\",\"y\":[43.077,45.685,48.303,51.407,54.518,58.014,61.368,65.79899999999999,67.744,69.152,70.994,72.301,30.015,31.999,34.0,35.985,37.928,39.483,39.942,39.906,40.647,40.963,41.003,42.731,38.223,40.358,42.618,44.885,47.014,49.19,50.904,52.337,53.919,54.777,54.40600000000001,56.728,47.622,49.618,51.52,53.298,56.024,59.319,61.484,63.622,62.745,52.556,46.63399999999999,50.728,31.975,34.906,37.814,40.697,43.591,46.137,48.122,49.557,50.26,50.324,50.65,52.295,39.031,40.533,42.045,43.548,44.057,45.91,47.471,48.21100000000001,44.736,45.326,47.36,49.58,38.523,40.428,42.643,44.799,47.049,49.355,52.96100000000001,54.985,54.31399999999999,52.199,49.856,50.43,35.463,37.464,39.475,41.478,43.457,46.775,48.295,50.485,49.396,46.066,43.308,44.74100000000001,38.092,39.881,41.716,43.601000000000006,45.569,47.383,49.517,51.051,51.724,51.573,50.525,50.651,40.715,42.46,44.467,46.472,48.944,50.93899999999999,52.933,54.926,57.93899999999999,60.66,62.974,65.152,39.143,40.652,42.122,44.056,45.989,47.804,47.784,47.412,45.548,42.587,44.966,46.462,42.111,45.053,48.435,52.04,54.907,55.625,56.695,57.47,56.433,52.962,52.97,55.322,40.477,42.469,44.93,47.35,49.801,52.374,53.983,54.655,52.044,47.99100000000001,46.832,48.328,34.812,37.328,39.69300000000001,42.074,44.36600000000001,46.519,48.812,50.04,51.604,53.157,53.37300000000001,54.791,41.893,44.444,46.992,49.293,51.137,53.319,56.006,59.797,63.674,67.217,69.806,71.33800000000002,34.482,35.98300000000001,37.485,38.987,40.516,42.024,43.662,45.664,47.545,48.245,49.348,51.57899999999999,35.92800000000001,38.047,40.158,42.18899999999999,44.142,44.535,43.89,46.453,49.99100000000001,53.378,55.24,58.04,34.078,36.667,40.059,42.115,43.515,44.51,44.916,46.684,48.091,49.402,50.725,52.947,37.003,38.999,40.489,44.598,48.69,52.79,56.56399999999999,60.19,61.36600000000001,60.46100000000001,56.761,56.735,30.0,32.065,33.896,35.857,38.308,41.842,45.58,49.265,52.644,55.861,58.041,59.448,43.149,44.779,46.452,48.072,49.875,51.756,53.744,55.729,57.50100000000001,58.556,58.453,60.022,33.609,34.558,35.753,37.197,38.842,40.762,42.89100000000001,45.552,48.576,51.455,53.676,56.007,32.5,33.489000000000004,34.488,35.492,36.486,37.465,39.327,41.245,43.26600000000001,44.87300000000001,45.504,46.38800000000001,42.27,44.68600000000001,47.949,50.654,53.559,56.155,58.76600000000001,59.339,59.285,54.407,50.992,54.11,42.13800000000001,45.047,47.747,48.492,49.767,52.208,55.078,57.18,59.685,55.558,44.593,42.592,38.48,39.486,40.502,41.536,42.614,43.764,44.852,46.027,40.802,42.221,43.753,45.678,42.723,45.289,47.808,50.227,52.773,57.442,62.155,66.234,68.755,71.555,72.737,73.952,36.681,38.865,40.848,42.881,44.851000000000006,46.881,48.969,49.35,52.214,54.978,57.286,59.44300000000001,36.256,37.207,38.41,39.487,41.76600000000001,43.767,45.642,47.457,49.42,47.495,45.00899999999999,48.303,33.685,35.30699999999999,36.936,38.487,39.977,41.714,43.916,46.364,48.38800000000001,49.903,51.81800000000001,54.467,40.543,42.338,44.24800000000001,46.289,48.437,50.852,53.599,56.145,58.333,60.43,62.247,64.164,50.986,58.089,60.246,61.557,62.944,64.93,66.711,68.74,69.745,70.736,71.954,72.801,42.87300000000001,45.423,47.924,50.335,52.862,55.73,59.65,62.677,65.393,67.66,69.615,71.164,31.286,33.779,36.161,38.113,40.328,42.495,42.795,42.861,44.284,46.344,44.026,42.082,41.725,45.226000000000006,48.386,51.159,53.867,56.437,58.968,60.835,61.999,58.909,51.479,52.90600000000001,37.444,38.598,39.487,40.118,40.546,41.291,42.598,44.555,47.39100000000001,51.313,54.496,56.867,36.324,37.802,39.36,41.04,42.82100000000001,44.514,45.826,46.886,47.472,47.464,46.608,46.859,52.724,55.09,57.666,60.542,64.274,67.064,69.885,71.913,73.615,74.77199999999998,75.744,76.442,40.0,41.5,43.0,44.1,44.6,45.0,46.218,44.02,23.599,36.087,43.413,46.242,46.471,48.945,51.893,54.425,56.48,58.55,60.351000000000006,61.728,62.742,63.306,64.337,65.528,37.278,39.329,41.45399999999999,43.563,45.815,48.879,52.379,55.769,58.19600000000001,60.187,61.6,63.062,30.331,31.57,32.767,34.113,35.4,36.788,38.445,40.006,38.333,39.897,41.012,42.56800000000001,32.978,34.977,36.981,38.977,40.973,41.974,42.955,44.50100000000001,39.658,43.795,45.93600000000001,48.159,45.00899999999999,47.985,49.951,51.927,53.69600000000001,55.527,58.161,60.834,61.88800000000001,60.236,53.365,49.339,38.635,39.624,40.87,42.858,45.083,47.8,50.338,51.744,53.556,55.37300000000001,56.369,58.556,41.407,43.424,44.992,46.633,49.552,52.537,55.56100000000001,57.678,58.474,54.289,43.869,39.613,41.215,42.974,44.246,45.757,47.62,49.919,50.608,51.535,50.44,48.466,49.651,52.517,38.596,41.208,43.922,46.769,49.75899999999999,52.887,55.471,56.941,58.06100000000001,58.39,57.56100000000001,58.42,44.6,47.1,49.57899999999999,52.053,55.602,59.837,64.048,66.89399999999999,70.001,71.973,73.042,73.923,39.978,42.57100000000001,45.344,48.051,51.01600000000001,50.35,49.849,51.50899999999999,48.825,44.578,47.813,51.542,42.038,44.077,46.023,47.768,50.107,51.386,51.82100000000001,50.82100000000001,46.1,40.238,39.19300000000001,42.38399999999999,48.451,50.469,52.358,53.995,55.635,57.674,60.363,62.351000000000006,60.377,46.809,39.989,43.487],\"yaxis\":\"y\",\"type\":\"scattergl\"},{\"hovertemplate\":\"<b>%{hovertext}</b><br><br>continent=Americas<br>gdpPercap=%{x}<br>lifeExp=%{y}<br>pop=%{marker.size}<extra></extra>\",\"hovertext\":[\"Argentina\",\"Argentina\",\"Argentina\",\"Argentina\",\"Argentina\",\"Argentina\",\"Argentina\",\"Argentina\",\"Argentina\",\"Argentina\",\"Argentina\",\"Argentina\",\"Bolivia\",\"Bolivia\",\"Bolivia\",\"Bolivia\",\"Bolivia\",\"Bolivia\",\"Bolivia\",\"Bolivia\",\"Bolivia\",\"Bolivia\",\"Bolivia\",\"Bolivia\",\"Brazil\",\"Brazil\",\"Brazil\",\"Brazil\",\"Brazil\",\"Brazil\",\"Brazil\",\"Brazil\",\"Brazil\",\"Brazil\",\"Brazil\",\"Brazil\",\"Canada\",\"Canada\",\"Canada\",\"Canada\",\"Canada\",\"Canada\",\"Canada\",\"Canada\",\"Canada\",\"Canada\",\"Canada\",\"Canada\",\"Chile\",\"Chile\",\"Chile\",\"Chile\",\"Chile\",\"Chile\",\"Chile\",\"Chile\",\"Chile\",\"Chile\",\"Chile\",\"Chile\",\"Colombia\",\"Colombia\",\"Colombia\",\"Colombia\",\"Colombia\",\"Colombia\",\"Colombia\",\"Colombia\",\"Colombia\",\"Colombia\",\"Colombia\",\"Colombia\",\"Costa Rica\",\"Costa Rica\",\"Costa Rica\",\"Costa Rica\",\"Costa Rica\",\"Costa Rica\",\"Costa Rica\",\"Costa Rica\",\"Costa Rica\",\"Costa Rica\",\"Costa Rica\",\"Costa Rica\",\"Cuba\",\"Cuba\",\"Cuba\",\"Cuba\",\"Cuba\",\"Cuba\",\"Cuba\",\"Cuba\",\"Cuba\",\"Cuba\",\"Cuba\",\"Cuba\",\"Dominican Republic\",\"Dominican Republic\",\"Dominican Republic\",\"Dominican Republic\",\"Dominican Republic\",\"Dominican Republic\",\"Dominican Republic\",\"Dominican Republic\",\"Dominican Republic\",\"Dominican Republic\",\"Dominican Republic\",\"Dominican Republic\",\"Ecuador\",\"Ecuador\",\"Ecuador\",\"Ecuador\",\"Ecuador\",\"Ecuador\",\"Ecuador\",\"Ecuador\",\"Ecuador\",\"Ecuador\",\"Ecuador\",\"Ecuador\",\"El Salvador\",\"El Salvador\",\"El Salvador\",\"El Salvador\",\"El Salvador\",\"El Salvador\",\"El Salvador\",\"El Salvador\",\"El Salvador\",\"El Salvador\",\"El Salvador\",\"El Salvador\",\"Guatemala\",\"Guatemala\",\"Guatemala\",\"Guatemala\",\"Guatemala\",\"Guatemala\",\"Guatemala\",\"Guatemala\",\"Guatemala\",\"Guatemala\",\"Guatemala\",\"Guatemala\",\"Haiti\",\"Haiti\",\"Haiti\",\"Haiti\",\"Haiti\",\"Haiti\",\"Haiti\",\"Haiti\",\"Haiti\",\"Haiti\",\"Haiti\",\"Haiti\",\"Honduras\",\"Honduras\",\"Honduras\",\"Honduras\",\"Honduras\",\"Honduras\",\"Honduras\",\"Honduras\",\"Honduras\",\"Honduras\",\"Honduras\",\"Honduras\",\"Jamaica\",\"Jamaica\",\"Jamaica\",\"Jamaica\",\"Jamaica\",\"Jamaica\",\"Jamaica\",\"Jamaica\",\"Jamaica\",\"Jamaica\",\"Jamaica\",\"Jamaica\",\"Mexico\",\"Mexico\",\"Mexico\",\"Mexico\",\"Mexico\",\"Mexico\",\"Mexico\",\"Mexico\",\"Mexico\",\"Mexico\",\"Mexico\",\"Mexico\",\"Nicaragua\",\"Nicaragua\",\"Nicaragua\",\"Nicaragua\",\"Nicaragua\",\"Nicaragua\",\"Nicaragua\",\"Nicaragua\",\"Nicaragua\",\"Nicaragua\",\"Nicaragua\",\"Nicaragua\",\"Panama\",\"Panama\",\"Panama\",\"Panama\",\"Panama\",\"Panama\",\"Panama\",\"Panama\",\"Panama\",\"Panama\",\"Panama\",\"Panama\",\"Paraguay\",\"Paraguay\",\"Paraguay\",\"Paraguay\",\"Paraguay\",\"Paraguay\",\"Paraguay\",\"Paraguay\",\"Paraguay\",\"Paraguay\",\"Paraguay\",\"Paraguay\",\"Peru\",\"Peru\",\"Peru\",\"Peru\",\"Peru\",\"Peru\",\"Peru\",\"Peru\",\"Peru\",\"Peru\",\"Peru\",\"Peru\",\"Puerto Rico\",\"Puerto Rico\",\"Puerto Rico\",\"Puerto Rico\",\"Puerto Rico\",\"Puerto Rico\",\"Puerto Rico\",\"Puerto Rico\",\"Puerto Rico\",\"Puerto Rico\",\"Puerto Rico\",\"Puerto Rico\",\"Trinidad and Tobago\",\"Trinidad and Tobago\",\"Trinidad and Tobago\",\"Trinidad and Tobago\",\"Trinidad and Tobago\",\"Trinidad and Tobago\",\"Trinidad and Tobago\",\"Trinidad and Tobago\",\"Trinidad and Tobago\",\"Trinidad and Tobago\",\"Trinidad and Tobago\",\"Trinidad and Tobago\",\"United States\",\"United States\",\"United States\",\"United States\",\"United States\",\"United States\",\"United States\",\"United States\",\"United States\",\"United States\",\"United States\",\"United States\",\"Uruguay\",\"Uruguay\",\"Uruguay\",\"Uruguay\",\"Uruguay\",\"Uruguay\",\"Uruguay\",\"Uruguay\",\"Uruguay\",\"Uruguay\",\"Uruguay\",\"Uruguay\",\"Venezuela\",\"Venezuela\",\"Venezuela\",\"Venezuela\",\"Venezuela\",\"Venezuela\",\"Venezuela\",\"Venezuela\",\"Venezuela\",\"Venezuela\",\"Venezuela\",\"Venezuela\"],\"legendgroup\":\"Americas\",\"marker\":{\"color\":\"#ab63fa\",\"size\":[17876956,19610538,21283783,22934225,24779799,26983828,29341374,31620918,33958947,36203463,38331121,40301927,2883315,3211738,3593918,4040665,4565872,5079716,5642224,6156369,6893451,7693188,8445134,9119152,56602560,65551171,76039390,88049823,100840058,114313951,128962939,142938076,155975974,168546719,179914212,190010647,14785584,17010154,18985849,20819767,22284500,23796400,25201900,26549700,28523502,30305843,31902268,33390141,6377619,7048426,7961258,8858908,9717524,10599793,11487112,12463354,13572994,14599929,15497046,16284741,12350771,14485993,17009885,19764027,22542890,25094412,27764644,30964245,34202721,37657830,41008227,44227550,926317,1112300,1345187,1588717,1834796,2108457,2424367,2799811,3173216,3518107,3834934,4133884,6007797,6640752,7254373,8139332,8831348,9537988,9789224,10239839,10723260,10983007,11226999,11416987,2491346,2923186,3453434,4049146,4671329,5302800,5968349,6655297,7351181,7992357,8650322,9319622,3548753,4058385,4681707,5432424,6298651,7278866,8365850,9545158,10748394,11911819,12921234,13755680,2042865,2355805,2747687,3232927,3790903,4282586,4474873,4842194,5274649,5783439,6353681,6939688,3146381,3640876,4208858,4690773,5149581,5703430,6395630,7326406,8486949,9803875,11178650,12572928,3201488,3507701,3880130,4318137,4698301,4908554,5198399,5756203,6326682,6913545,7607651,8502814,1517453,1770390,2090162,2500689,2965146,3055235,3669448,4372203,5077347,5867957,6677328,7483763,1426095,1535090,1665128,1861096,1997616,2156814,2298309,2326606,2378618,2531311,2664659,2780132,30144317,35015548,41121485,47995559,55984294,63759976,71640904,80122492,88111030,95895146,102479927,108700891,1165790,1358828,1590597,1865490,2182908,2554598,2979423,3344353,4017939,4609572,5146848,5675356,940080,1063506,1215725,1405486,1616384,1839782,2036305,2253639,2484997,2734531,2990875,3242173,1555876,1770902,2009813,2287985,2614104,2984494,3366439,3886512,4483945,5154123,5884491,6667147,8025700,9146100,10516500,12132200,13954700,15990099,18125129,20195924,22430449,24748122,26769436,28674757,2227000,2260000,2448046,2648961,2847132,3080828,3279001,3444468,3585176,3759430,3859606,3942491,662850,764900,887498,960155,975199,1039009,1116479,1191336,1183669,1138101,1101832,1056608,157553000,171984000,186538000,198712000,209896000,220239000,232187835,242803533,256894189,272911760,287675526,301139947,2252965,2424959,2598466,2748579,2829526,2873520,2953997,3045153,3149262,3262838,3363085,3447496,5439568,6702668,8143375,9709552,11515649,13503563,15620766,17910182,20265563,22374398,24287670,26084662],\"sizemode\":\"area\",\"sizeref\":366300.86,\"symbol\":\"circle\"},\"mode\":\"markers\",\"name\":\"Americas\",\"showlegend\":true,\"x\":[5911.315053,6856.8562120000015,7133.166023000002,8052.953020999998,9443.038526,10079.02674,8997.897412,9139.671389,9308.41871,10967.28195,8797.640716,12779.37964,2677.326347,2127.686326,2180.972546,2586.886053,2980.331339,3548.097832,3156.510452,2753.69149,2961.699694,3326.143191,3413.26269,3822.137084,2108.944355,2487.365989,3336.585802,3429.864357,4985.711467,6660.118654,7030.835878,7807.095818000002,6950.283020999998,7957.980823999998,8131.212843000001,9065.800825,11367.16112,12489.95006,13462.48555,16076.58803,18970.57086,22090.88306,22898.79214,26626.51503,26342.88426,28954.92589,33328.96507,36319.23501,3939.978789,4315.622723,4519.094331,5106.654313,5494.024437,4756.763836,5095.6657380000015,5547.063754,7596.125964,10118.05318,10778.78385,13171.63885,2144.115096,2323.805581,2492.351109,2678.729839,3264.660041,3815.80787,4397.575659,4903.2191,5444.648617,6117.361746000001,5755.259962,7006.580419,2627.0094710000008,2990.010802,3460.937025,4161.727834,5118.146939,5926.876967,5262.734751,5629.915318,6160.416317,6677.045314,7723.447195000002,9645.06142,5586.53878,6092.1743590000015,5180.75591,5690.268015,5305.445256,6380.494965999998,7316.918106999998,7532.924762999999,5592.843963,5431.990415,6340.646683,8948.102923,1397.717137,1544.402995,1662.137359,1653.7230029999996,2189.874499,2681.9889,2861.092386,2899.842175,3044.214214,3614.101285,4563.808154,6025.3747520000015,3522.110717,3780.546651,4086.114078,4579.074215,5280.99471,6679.62326,7213.791267,6481.776993,7103.702595000002,7429.4558769999985,5773.044512,6873.262326000001,3048.3029,3421.523218,3776.803627,4358.595393,4520.246008,5138.922374,4098.344175,4140.442097,4444.2317,5154.825496,5351.568665999999,5728.353514,2428.2377690000008,2617.155967,2750.364446,3242.531147,4031.408271,4879.992748,4820.49479,4246.485974,4439.45084,4684.313807,4858.347495,5186.050003,1840.366939,1726.887882,1796.589032,1452.057666,1654.456946,1874.298931,2011.159549,1823.015995,1456.309517,1341.726931,1270.364932,1201.637154,2194.926204,2220.487682,2291.156835,2538.269358,2529.842345,3203.208066,3121.7607940000007,3023.096699,3081.694603,3160.454906,3099.72866,3548.3308460000007,2898.530881,4756.525781,5246.107524,6124.703450999999,7433.889293000001,6650.195573,6068.05135,6351.237495,7404.923685,7121.924704000001,6994.774861,7320.8802620000015,3478.125529,4131.546641,4581.609385,5754.733883,6809.406690000002,7674.929108,9611.147541,8688.156003,9472.384295,9767.29753,10742.44053,11977.57496,3112.363948,3457.415947,3634.364406,4643.393534000002,4688.593267,5486.371089,3470.3381560000007,2955.984375,2170.151724,2253.023004,2474.548819,2749.320965,2480.380334,2961.800905,3536.540301,4421.009084,5364.249663000001,5351.912144,7009.601598,7034.779161,6618.74305,7113.692252,7356.0319340000015,9809.185636,1952.308701,2046.154706,2148.027146,2299.376311,2523.337977,3248.373311,4258.503604,3998.875695,4196.411078,4247.400261,3783.674243,4172.838464,3758.523437,4245.256697999999,4957.037982,5788.09333,5937.827283,6281.290854999998,6434.501797,6360.943444,4446.380924,5838.347657,5909.020073,7408.905561,3081.959785,3907.156189,5108.34463,6929.277714,9123.041742,9770.524921,10330.98915,12281.34191,14641.58711,16999.4333,18855.60618,19328.70901,3023.271928,4100.3934,4997.523971000001,5621.368472,6619.551418999999,7899.554209000001,9119.528607,7388.597823,7370.990932,8792.573126000001,11460.60023,18008.50924,13990.482080000002,14847.12712,16173.14586,19530.36557,21806.03594,24072.63213,25009.55914,29884.350410000006,32003.93224,35767.43303,39097.09955,42951.65309,5716.766744,6150.772969,5603.357717,5444.61962,5703.408898,6504.339663000002,6920.223051000001,7452.398969,8137.004775,9230.240708,7727.002004000001,10611.46299,7689.799761,9802.466526,8422.974165000001,9541.474188,10505.25966,13143.95095,11152.41011,9883.584648,10733.92631,10165.49518,8605.047831,11415.80569],\"xaxis\":\"x\",\"y\":[62.485,64.399,65.142,65.634,67.065,68.48100000000001,69.942,70.774,71.868,73.275,74.34,75.32,40.414,41.89,43.428,45.032,46.714,50.023,53.859,57.25100000000001,59.957,62.05,63.883,65.554,50.917,53.285,55.665,57.632,59.504,61.489,63.33600000000001,65.205,67.057,69.388,71.006,72.39,68.75,69.96,71.3,72.13,72.88,74.21,75.76,76.86,77.95,78.61,79.77,80.653,54.745,56.074,57.924,60.523,63.441,67.05199999999999,70.565,72.492,74.126,75.816,77.86,78.553,50.643,55.118,57.863,59.963,61.62300000000001,63.837,66.653,67.768,68.421,70.313,71.682,72.889,57.206,60.026,62.842,65.42399999999999,67.84899999999999,70.75,73.45,74.752,75.71300000000002,77.26,78.123,78.782,59.42100000000001,62.325,65.24600000000001,68.29,70.723,72.649,73.717,74.17399999999998,74.414,76.15100000000002,77.158,78.273,45.928,49.828,53.459,56.75100000000001,59.631,61.788,63.727,66.046,68.457,69.957,70.847,72.235,48.357,51.356,54.64,56.678,58.79600000000001,61.31,64.342,67.23100000000001,69.613,72.312,74.173,74.994,45.262,48.57,52.307,55.855,58.207,56.69600000000001,56.604,63.154,66.798,69.535,70.734,71.878,42.023,44.142,46.95399999999999,50.01600000000001,53.738,56.029,58.137,60.782,63.37300000000001,66.322,68.97800000000001,70.259,37.579,40.696,43.59,46.243,48.042,49.923,51.46100000000001,53.636,55.089,56.67100000000001,58.137,60.916,41.912,44.665,48.041,50.924,53.88399999999999,57.402,60.909,64.492,66.399,67.65899999999999,68.565,70.19800000000001,58.53,62.61,65.61,67.51,69.0,70.11,71.21,71.77,71.766,72.262,72.047,72.567,50.789,55.19,58.299,60.11,62.361,65.032,67.405,69.498,71.455,73.67,74.902,76.195,42.31399999999999,45.432,48.632,51.88399999999999,55.151,57.47,59.298,62.008,65.843,68.426,70.836,72.899,55.191,59.201,61.817,64.071,66.21600000000001,68.681,70.472,71.523,72.462,73.738,74.712,75.53699999999998,62.649,63.19600000000001,64.361,64.95100000000001,65.815,66.35300000000001,66.874,67.378,68.225,69.4,70.755,71.752,43.902,46.26300000000001,49.096,51.445,55.448,58.447,61.40600000000001,64.134,66.458,68.38600000000001,69.906,71.421,64.28,68.54,69.62,71.1,72.16,73.44,73.75,74.63,73.911,74.917,77.778,78.74600000000002,59.1,61.8,64.9,65.4,65.9,68.3,68.832,69.582,69.862,69.465,68.976,69.819,68.44,69.49,70.21,70.76,71.34,73.38,74.65,75.02,76.09,76.81,77.31,78.242,66.071,67.044,68.253,68.468,68.673,69.48100000000001,70.805,71.918,72.752,74.223,75.307,76.384,55.088,57.907,60.77,63.479,65.712,67.456,68.557,70.19,71.15,72.146,72.766,73.747],\"yaxis\":\"y\",\"type\":\"scattergl\"},{\"hovertemplate\":\"<b>%{hovertext}</b><br><br>continent=Oceania<br>gdpPercap=%{x}<br>lifeExp=%{y}<br>pop=%{marker.size}<extra></extra>\",\"hovertext\":[\"Australia\",\"Australia\",\"Australia\",\"Australia\",\"Australia\",\"Australia\",\"Australia\",\"Australia\",\"Australia\",\"Australia\",\"Australia\",\"Australia\",\"New Zealand\",\"New Zealand\",\"New Zealand\",\"New Zealand\",\"New Zealand\",\"New Zealand\",\"New Zealand\",\"New Zealand\",\"New Zealand\",\"New Zealand\",\"New Zealand\",\"New Zealand\"],\"legendgroup\":\"Oceania\",\"marker\":{\"color\":\"#FFA15A\",\"size\":[8691212,9712569,10794968,11872264,13177000,14074100,15184200,16257249,17481977,18565243,19546792,20434176,1994794,2229407,2488550,2728150,2929100,3164900,3210650,3317166,3437674,3676187,3908037,4115771],\"sizemode\":\"area\",\"sizeref\":366300.86,\"symbol\":\"circle\"},\"mode\":\"markers\",\"name\":\"Oceania\",\"showlegend\":true,\"x\":[10039.59564,10949.64959,12217.22686,14526.12465,16788.62948,18334.19751,19477.00928,21888.88903,23424.76683,26997.93657,30687.75473,34435.367439999995,10556.57566,12247.39532,13175.678,14463.918930000002,16046.03728,16233.7177,17632.4104,19007.19129,18363.32494,21050.41377,23189.80135,25185.00911],\"xaxis\":\"x\",\"y\":[69.12,70.33,70.93,71.1,71.93,73.49,74.74,76.32,77.56,78.83,80.37,81.235,69.39,70.26,71.24,71.52,71.89,72.22,73.84,74.32,76.33,77.55,79.11,80.204],\"yaxis\":\"y\",\"type\":\"scattergl\"}],                        {\"template\":{\"data\":{\"histogram2dcontour\":[{\"type\":\"histogram2dcontour\",\"colorbar\":{\"outlinewidth\":0,\"ticks\":\"\"},\"colorscale\":[[0.0,\"#0d0887\"],[0.1111111111111111,\"#46039f\"],[0.2222222222222222,\"#7201a8\"],[0.3333333333333333,\"#9c179e\"],[0.4444444444444444,\"#bd3786\"],[0.5555555555555556,\"#d8576b\"],[0.6666666666666666,\"#ed7953\"],[0.7777777777777778,\"#fb9f3a\"],[0.8888888888888888,\"#fdca26\"],[1.0,\"#f0f921\"]]}],\"choropleth\":[{\"type\":\"choropleth\",\"colorbar\":{\"outlinewidth\":0,\"ticks\":\"\"}}],\"histogram2d\":[{\"type\":\"histogram2d\",\"colorbar\":{\"outlinewidth\":0,\"ticks\":\"\"},\"colorscale\":[[0.0,\"#0d0887\"],[0.1111111111111111,\"#46039f\"],[0.2222222222222222,\"#7201a8\"],[0.3333333333333333,\"#9c179e\"],[0.4444444444444444,\"#bd3786\"],[0.5555555555555556,\"#d8576b\"],[0.6666666666666666,\"#ed7953\"],[0.7777777777777778,\"#fb9f3a\"],[0.8888888888888888,\"#fdca26\"],[1.0,\"#f0f921\"]]}],\"heatmap\":[{\"type\":\"heatmap\",\"colorbar\":{\"outlinewidth\":0,\"ticks\":\"\"},\"colorscale\":[[0.0,\"#0d0887\"],[0.1111111111111111,\"#46039f\"],[0.2222222222222222,\"#7201a8\"],[0.3333333333333333,\"#9c179e\"],[0.4444444444444444,\"#bd3786\"],[0.5555555555555556,\"#d8576b\"],[0.6666666666666666,\"#ed7953\"],[0.7777777777777778,\"#fb9f3a\"],[0.8888888888888888,\"#fdca26\"],[1.0,\"#f0f921\"]]}],\"heatmapgl\":[{\"type\":\"heatmapgl\",\"colorbar\":{\"outlinewidth\":0,\"ticks\":\"\"},\"colorscale\":[[0.0,\"#0d0887\"],[0.1111111111111111,\"#46039f\"],[0.2222222222222222,\"#7201a8\"],[0.3333333333333333,\"#9c179e\"],[0.4444444444444444,\"#bd3786\"],[0.5555555555555556,\"#d8576b\"],[0.6666666666666666,\"#ed7953\"],[0.7777777777777778,\"#fb9f3a\"],[0.8888888888888888,\"#fdca26\"],[1.0,\"#f0f921\"]]}],\"contourcarpet\":[{\"type\":\"contourcarpet\",\"colorbar\":{\"outlinewidth\":0,\"ticks\":\"\"}}],\"contour\":[{\"type\":\"contour\",\"colorbar\":{\"outlinewidth\":0,\"ticks\":\"\"},\"colorscale\":[[0.0,\"#0d0887\"],[0.1111111111111111,\"#46039f\"],[0.2222222222222222,\"#7201a8\"],[0.3333333333333333,\"#9c179e\"],[0.4444444444444444,\"#bd3786\"],[0.5555555555555556,\"#d8576b\"],[0.6666666666666666,\"#ed7953\"],[0.7777777777777778,\"#fb9f3a\"],[0.8888888888888888,\"#fdca26\"],[1.0,\"#f0f921\"]]}],\"surface\":[{\"type\":\"surface\",\"colorbar\":{\"outlinewidth\":0,\"ticks\":\"\"},\"colorscale\":[[0.0,\"#0d0887\"],[0.1111111111111111,\"#46039f\"],[0.2222222222222222,\"#7201a8\"],[0.3333333333333333,\"#9c179e\"],[0.4444444444444444,\"#bd3786\"],[0.5555555555555556,\"#d8576b\"],[0.6666666666666666,\"#ed7953\"],[0.7777777777777778,\"#fb9f3a\"],[0.8888888888888888,\"#fdca26\"],[1.0,\"#f0f921\"]]}],\"mesh3d\":[{\"type\":\"mesh3d\",\"colorbar\":{\"outlinewidth\":0,\"ticks\":\"\"}}],\"scatter\":[{\"fillpattern\":{\"fillmode\":\"overlay\",\"size\":10,\"solidity\":0.2},\"type\":\"scatter\"}],\"parcoords\":[{\"type\":\"parcoords\",\"line\":{\"colorbar\":{\"outlinewidth\":0,\"ticks\":\"\"}}}],\"scatterpolargl\":[{\"type\":\"scatterpolargl\",\"marker\":{\"colorbar\":{\"outlinewidth\":0,\"ticks\":\"\"}}}],\"bar\":[{\"error_x\":{\"color\":\"#2a3f5f\"},\"error_y\":{\"color\":\"#2a3f5f\"},\"marker\":{\"line\":{\"color\":\"#E5ECF6\",\"width\":0.5},\"pattern\":{\"fillmode\":\"overlay\",\"size\":10,\"solidity\":0.2}},\"type\":\"bar\"}],\"scattergeo\":[{\"type\":\"scattergeo\",\"marker\":{\"colorbar\":{\"outlinewidth\":0,\"ticks\":\"\"}}}],\"scatterpolar\":[{\"type\":\"scatterpolar\",\"marker\":{\"colorbar\":{\"outlinewidth\":0,\"ticks\":\"\"}}}],\"histogram\":[{\"marker\":{\"pattern\":{\"fillmode\":\"overlay\",\"size\":10,\"solidity\":0.2}},\"type\":\"histogram\"}],\"scattergl\":[{\"type\":\"scattergl\",\"marker\":{\"colorbar\":{\"outlinewidth\":0,\"ticks\":\"\"}}}],\"scatter3d\":[{\"type\":\"scatter3d\",\"line\":{\"colorbar\":{\"outlinewidth\":0,\"ticks\":\"\"}},\"marker\":{\"colorbar\":{\"outlinewidth\":0,\"ticks\":\"\"}}}],\"scattermapbox\":[{\"type\":\"scattermapbox\",\"marker\":{\"colorbar\":{\"outlinewidth\":0,\"ticks\":\"\"}}}],\"scatterternary\":[{\"type\":\"scatterternary\",\"marker\":{\"colorbar\":{\"outlinewidth\":0,\"ticks\":\"\"}}}],\"scattercarpet\":[{\"type\":\"scattercarpet\",\"marker\":{\"colorbar\":{\"outlinewidth\":0,\"ticks\":\"\"}}}],\"carpet\":[{\"aaxis\":{\"endlinecolor\":\"#2a3f5f\",\"gridcolor\":\"white\",\"linecolor\":\"white\",\"minorgridcolor\":\"white\",\"startlinecolor\":\"#2a3f5f\"},\"baxis\":{\"endlinecolor\":\"#2a3f5f\",\"gridcolor\":\"white\",\"linecolor\":\"white\",\"minorgridcolor\":\"white\",\"startlinecolor\":\"#2a3f5f\"},\"type\":\"carpet\"}],\"table\":[{\"cells\":{\"fill\":{\"color\":\"#EBF0F8\"},\"line\":{\"color\":\"white\"}},\"header\":{\"fill\":{\"color\":\"#C8D4E3\"},\"line\":{\"color\":\"white\"}},\"type\":\"table\"}],\"barpolar\":[{\"marker\":{\"line\":{\"color\":\"#E5ECF6\",\"width\":0.5},\"pattern\":{\"fillmode\":\"overlay\",\"size\":10,\"solidity\":0.2}},\"type\":\"barpolar\"}],\"pie\":[{\"automargin\":true,\"type\":\"pie\"}]},\"layout\":{\"autotypenumbers\":\"strict\",\"colorway\":[\"#636efa\",\"#EF553B\",\"#00cc96\",\"#ab63fa\",\"#FFA15A\",\"#19d3f3\",\"#FF6692\",\"#B6E880\",\"#FF97FF\",\"#FECB52\"],\"font\":{\"color\":\"#2a3f5f\"},\"hovermode\":\"closest\",\"hoverlabel\":{\"align\":\"left\"},\"paper_bgcolor\":\"white\",\"plot_bgcolor\":\"#E5ECF6\",\"polar\":{\"bgcolor\":\"#E5ECF6\",\"angularaxis\":{\"gridcolor\":\"white\",\"linecolor\":\"white\",\"ticks\":\"\"},\"radialaxis\":{\"gridcolor\":\"white\",\"linecolor\":\"white\",\"ticks\":\"\"}},\"ternary\":{\"bgcolor\":\"#E5ECF6\",\"aaxis\":{\"gridcolor\":\"white\",\"linecolor\":\"white\",\"ticks\":\"\"},\"baxis\":{\"gridcolor\":\"white\",\"linecolor\":\"white\",\"ticks\":\"\"},\"caxis\":{\"gridcolor\":\"white\",\"linecolor\":\"white\",\"ticks\":\"\"}},\"coloraxis\":{\"colorbar\":{\"outlinewidth\":0,\"ticks\":\"\"}},\"colorscale\":{\"sequential\":[[0.0,\"#0d0887\"],[0.1111111111111111,\"#46039f\"],[0.2222222222222222,\"#7201a8\"],[0.3333333333333333,\"#9c179e\"],[0.4444444444444444,\"#bd3786\"],[0.5555555555555556,\"#d8576b\"],[0.6666666666666666,\"#ed7953\"],[0.7777777777777778,\"#fb9f3a\"],[0.8888888888888888,\"#fdca26\"],[1.0,\"#f0f921\"]],\"sequentialminus\":[[0.0,\"#0d0887\"],[0.1111111111111111,\"#46039f\"],[0.2222222222222222,\"#7201a8\"],[0.3333333333333333,\"#9c179e\"],[0.4444444444444444,\"#bd3786\"],[0.5555555555555556,\"#d8576b\"],[0.6666666666666666,\"#ed7953\"],[0.7777777777777778,\"#fb9f3a\"],[0.8888888888888888,\"#fdca26\"],[1.0,\"#f0f921\"]],\"diverging\":[[0,\"#8e0152\"],[0.1,\"#c51b7d\"],[0.2,\"#de77ae\"],[0.3,\"#f1b6da\"],[0.4,\"#fde0ef\"],[0.5,\"#f7f7f7\"],[0.6,\"#e6f5d0\"],[0.7,\"#b8e186\"],[0.8,\"#7fbc41\"],[0.9,\"#4d9221\"],[1,\"#276419\"]]},\"xaxis\":{\"gridcolor\":\"white\",\"linecolor\":\"white\",\"ticks\":\"\",\"title\":{\"standoff\":15},\"zerolinecolor\":\"white\",\"automargin\":true,\"zerolinewidth\":2},\"yaxis\":{\"gridcolor\":\"white\",\"linecolor\":\"white\",\"ticks\":\"\",\"title\":{\"standoff\":15},\"zerolinecolor\":\"white\",\"automargin\":true,\"zerolinewidth\":2},\"scene\":{\"xaxis\":{\"backgroundcolor\":\"#E5ECF6\",\"gridcolor\":\"white\",\"linecolor\":\"white\",\"showbackground\":true,\"ticks\":\"\",\"zerolinecolor\":\"white\",\"gridwidth\":2},\"yaxis\":{\"backgroundcolor\":\"#E5ECF6\",\"gridcolor\":\"white\",\"linecolor\":\"white\",\"showbackground\":true,\"ticks\":\"\",\"zerolinecolor\":\"white\",\"gridwidth\":2},\"zaxis\":{\"backgroundcolor\":\"#E5ECF6\",\"gridcolor\":\"white\",\"linecolor\":\"white\",\"showbackground\":true,\"ticks\":\"\",\"zerolinecolor\":\"white\",\"gridwidth\":2}},\"shapedefaults\":{\"line\":{\"color\":\"#2a3f5f\"}},\"annotationdefaults\":{\"arrowcolor\":\"#2a3f5f\",\"arrowhead\":0,\"arrowwidth\":1},\"geo\":{\"bgcolor\":\"white\",\"landcolor\":\"#E5ECF6\",\"subunitcolor\":\"white\",\"showland\":true,\"showlakes\":true,\"lakecolor\":\"white\"},\"title\":{\"x\":0.05},\"mapbox\":{\"style\":\"light\"}}},\"xaxis\":{\"anchor\":\"y\",\"domain\":[0.0,1.0],\"title\":{\"text\":\"gdpPercap\"},\"type\":\"log\"},\"yaxis\":{\"anchor\":\"x\",\"domain\":[0.0,1.0],\"title\":{\"text\":\"lifeExp\"}},\"legend\":{\"title\":{\"text\":\"continent\"},\"tracegroupgap\":0,\"itemsizing\":\"constant\"},\"margin\":{\"t\":60},\"title\":{\"text\":\"GDP per Capita vs. Life Expectancy (1952)\"}},                        {\"responsive\": true}                    ).then(function(){\n                            \nvar gd = document.getElementById('eab4a462-2f74-4f09-a799-ae5be9cd84cd');\nvar x = new MutationObserver(function (mutations, observer) {{\n        var display = window.getComputedStyle(gd).display;\n        if (!display || display === 'none') {{\n            console.log([gd, 'removed!']);\n            Plotly.purge(gd);\n            observer.disconnect();\n        }}\n}});\n\n// Listen for the removal of the full notebook cells\nvar notebookContainer = gd.closest('#notebook-container');\nif (notebookContainer) {{\n    x.observe(notebookContainer, {childList: true});\n}}\n\n// Listen for the clearing of the current output cell\nvar outputEl = gd.closest('.output');\nif (outputEl) {{\n    x.observe(outputEl, {childList: true});\n}}\n\n                        })                };                            </script>        </div>\n</body>\n</html>"
                },
                "metadata": {}
              }
            ]
          }
        },
        "6781a821c0a148b387be057a2f61d486": {
          "model_module": "@jupyter-widgets/base",
          "model_name": "LayoutModel",
          "model_module_version": "1.2.0",
          "state": {
            "_model_module": "@jupyter-widgets/base",
            "_model_module_version": "1.2.0",
            "_model_name": "LayoutModel",
            "_view_count": null,
            "_view_module": "@jupyter-widgets/base",
            "_view_module_version": "1.2.0",
            "_view_name": "LayoutView",
            "align_content": null,
            "align_items": null,
            "align_self": null,
            "border": null,
            "bottom": null,
            "display": null,
            "flex": null,
            "flex_flow": null,
            "grid_area": null,
            "grid_auto_columns": null,
            "grid_auto_flow": null,
            "grid_auto_rows": null,
            "grid_column": null,
            "grid_gap": null,
            "grid_row": null,
            "grid_template_areas": null,
            "grid_template_columns": null,
            "grid_template_rows": null,
            "height": null,
            "justify_content": null,
            "justify_items": null,
            "left": null,
            "margin": null,
            "max_height": null,
            "max_width": null,
            "min_height": null,
            "min_width": null,
            "object_fit": null,
            "object_position": null,
            "order": null,
            "overflow": null,
            "overflow_x": null,
            "overflow_y": null,
            "padding": null,
            "right": null,
            "top": null,
            "visibility": null,
            "width": null
          }
        },
        "fdd6723bc20546178031ca75a4fa747d": {
          "model_module": "@jupyter-widgets/base",
          "model_name": "LayoutModel",
          "model_module_version": "1.2.0",
          "state": {
            "_model_module": "@jupyter-widgets/base",
            "_model_module_version": "1.2.0",
            "_model_name": "LayoutModel",
            "_view_count": null,
            "_view_module": "@jupyter-widgets/base",
            "_view_module_version": "1.2.0",
            "_view_name": "LayoutView",
            "align_content": null,
            "align_items": null,
            "align_self": null,
            "border": null,
            "bottom": null,
            "display": null,
            "flex": null,
            "flex_flow": null,
            "grid_area": null,
            "grid_auto_columns": null,
            "grid_auto_flow": null,
            "grid_auto_rows": null,
            "grid_column": null,
            "grid_gap": null,
            "grid_row": null,
            "grid_template_areas": null,
            "grid_template_columns": null,
            "grid_template_rows": null,
            "height": null,
            "justify_content": null,
            "justify_items": null,
            "left": null,
            "margin": null,
            "max_height": null,
            "max_width": null,
            "min_height": null,
            "min_width": null,
            "object_fit": null,
            "object_position": null,
            "order": null,
            "overflow": null,
            "overflow_x": null,
            "overflow_y": null,
            "padding": null,
            "right": null,
            "top": null,
            "visibility": null,
            "width": null
          }
        },
        "19cfba182256448dbf5ef3a9762fd3b1": {
          "model_module": "@jupyter-widgets/controls",
          "model_name": "SliderStyleModel",
          "model_module_version": "1.5.0",
          "state": {
            "_model_module": "@jupyter-widgets/controls",
            "_model_module_version": "1.5.0",
            "_model_name": "SliderStyleModel",
            "_view_count": null,
            "_view_module": "@jupyter-widgets/base",
            "_view_module_version": "1.2.0",
            "_view_name": "StyleView",
            "description_width": "",
            "handle_color": null
          }
        },
        "535338f5c5b741dfb18c0afe789c2e36": {
          "model_module": "@jupyter-widgets/base",
          "model_name": "LayoutModel",
          "model_module_version": "1.2.0",
          "state": {
            "_model_module": "@jupyter-widgets/base",
            "_model_module_version": "1.2.0",
            "_model_name": "LayoutModel",
            "_view_count": null,
            "_view_module": "@jupyter-widgets/base",
            "_view_module_version": "1.2.0",
            "_view_name": "LayoutView",
            "align_content": null,
            "align_items": null,
            "align_self": null,
            "border": null,
            "bottom": null,
            "display": null,
            "flex": null,
            "flex_flow": null,
            "grid_area": null,
            "grid_auto_columns": null,
            "grid_auto_flow": null,
            "grid_auto_rows": null,
            "grid_column": null,
            "grid_gap": null,
            "grid_row": null,
            "grid_template_areas": null,
            "grid_template_columns": null,
            "grid_template_rows": null,
            "height": null,
            "justify_content": null,
            "justify_items": null,
            "left": null,
            "margin": null,
            "max_height": null,
            "max_width": null,
            "min_height": null,
            "min_width": null,
            "object_fit": null,
            "object_position": null,
            "order": null,
            "overflow": null,
            "overflow_x": null,
            "overflow_y": null,
            "padding": null,
            "right": null,
            "top": null,
            "visibility": null,
            "width": null
          }
        }
      }
    }
  },
  "cells": [
    {
      "cell_type": "markdown",
      "metadata": {
        "id": "view-in-github",
        "colab_type": "text"
      },
      "source": [
        "<a href=\"https://colab.research.google.com/github/VonBeckera/Python/blob/Inicial/Estudos_python_davi_becker.ipynb\" target=\"_parent\"><img src=\"https://colab.research.google.com/assets/colab-badge.svg\" alt=\"Open In Colab\"/></a>"
      ]
    },
    {
      "cell_type": "markdown",
      "source": [
        "# Estudos de Faculdade e Cursos\n",
        "\n",
        "\n"
      ],
      "metadata": {
        "id": "E_VeYbVjZphx"
      }
    },
    {
      "cell_type": "code",
      "execution_count": null,
      "metadata": {
        "id": "kCjFpoujXt6Q"
      },
      "outputs": [],
      "source": [
        "#1 Manipulando Strings\n",
        "\n",
        "a = input('Digite uma palavra: ')\n",
        "print('O tipo digitado é: ', type(a))\n",
        "print('O tipo digitado tem espaços: ', a.isspace())\n",
        "print('O tipo digitado é um número: ', a.isnumeric())\n",
        "print('O tipo digitado é alfa numerico: ', a.isalnum())\n",
        "print('O tipo digitado e alfabetico: ', a.isalpha())\n",
        "print('O tipo está capitalizado: ', a.istitle())"
      ]
    },
    {
      "cell_type": "code",
      "source": [
        "#Exmplos de precedencias\n",
        "# Exemplo 1\n",
        "n1 = 5\n",
        "n2 = 2\n",
        "n3 = 3\n",
        "s = n1+n2*n3\n",
        "print(s)\n",
        "\n",
        "# Exemplo 2\n",
        "n4 = 3\n",
        "n5 = 5\n",
        "n6 = 4\n",
        "n7 = 2\n",
        "s1 = n4*n5+n6**n7\n",
        "print(s1)\n",
        "# Exemplo 3\n",
        "\n",
        "n8 = 3\n",
        "n9 = 5\n",
        "n0 = 4\n",
        "n11 = 2\n",
        "s2 = n8*(n9+n0)**n11\n",
        "print(s2)\n"
      ],
      "metadata": {
        "id": "OTqlNsOIVpOC"
      },
      "execution_count": null,
      "outputs": []
    },
    {
      "cell_type": "code",
      "source": [
        "nome = input('Qual o seu nome? ')\n",
        "print(f'Seja Bem Vindo {nome}!')"
      ],
      "metadata": {
        "id": "hgXzhrxiZufz"
      },
      "execution_count": null,
      "outputs": []
    },
    {
      "cell_type": "code",
      "source": [
        "n1 = int(input('Digite um valor ' ))\n",
        "n2 = int(input('Digite outro valor ' ))\n",
        "print(f'A soma vale {n1+n2}')"
      ],
      "metadata": {
        "id": "S5y-FCZYdcIT"
      },
      "execution_count": null,
      "outputs": []
    },
    {
      "cell_type": "code",
      "source": [
        "# Conversão de valores em dólar\n",
        "\n",
        "d = float(input('Digite o valor que você tem na carteria: '))\n",
        "c = d/5.07\n",
        "print(f'O valor de {d} Reais equivale a {c:.2f} dólares')"
      ],
      "metadata": {
        "id": "884aqXEPBNxF"
      },
      "execution_count": null,
      "outputs": []
    },
    {
      "cell_type": "code",
      "source": [
        "#Calcular desconto de x% do valor de um produto\n",
        "n = input('Digite seu nome para acessar o sistema: ')\n",
        "print(f'Seja bem vido {n} ao sistema de cáculos de descontos')\n",
        "v = float(input('Digite o valor do produto: '))\n",
        "d = float(input('Digite o valor do desconto: '))\n",
        "c = v - (v * d / 100)\n",
        "print(f'O valor final com o Desconto de {d:.0f}% é de R${c:.2f}')"
      ],
      "metadata": {
        "id": "sqGLri-Plo38"
      },
      "execution_count": null,
      "outputs": []
    },
    {
      "cell_type": "code",
      "source": [
        "# Calcular a área de uma parede retangular e a quantidade de tinta a ser usada\n",
        "# 1 litro de tinta pinta 2m² de parede\n",
        "# Área - Base(b) x Altura(h)\n",
        "n = input('Digite seu nome ')\n",
        "print(f'Seja Bem vindo {n} ao sistema de cácluo de pintura de área construída')\n",
        "b = float(input('Digite o valor da Base em metros: ' ))\n",
        "h = float(input('Digite o valor da altura em metros: ' ))\n",
        "a = (b*h)\n",
        "t = (a / 2)\n",
        "print(f'A área tem {a} m² e a quantidade de tinta nescessária para pintar é de {t} Litros de tinta')"
      ],
      "metadata": {
        "id": "Mv8zfPK5GTX6"
      },
      "execution_count": null,
      "outputs": []
    },
    {
      "cell_type": "code",
      "source": [
        "#Teste de ocultar senha\n",
        "import getpass\n",
        "s = getpass.getpass(prompt='Digite sua senha ')\n",
        "s2 = \"123\"\n",
        "\n",
        "if s == s2:\n",
        "    print('Seja Bem vindo ao sistema')\n",
        "\n",
        "else:\n",
        "    print('Senha inválida!')"
      ],
      "metadata": {
        "id": "UeOXKxFfnsfK"
      },
      "execution_count": null,
      "outputs": []
    },
    {
      "cell_type": "code",
      "source": [
        "#Ler salário e mostre o novo salário com 15% de aumento\n",
        "n = input('Digite seu nome: ')\n",
        "print(f'Seja bem vindo {n} ao sistema de cálculo de salários')\n",
        "print('Este sistema irá calcular o aumento salarial de 15% sobre o salário informado')\n",
        "s = float(input('Informe o valor do salário: '))\n",
        "c = (s * 0.15)+s\n",
        "p = c-s\n",
        "print(f'O salário de R${s:.2f} com aumento de 15% é de R${c:.2f} o valor do aumento foi de R$: {p:.2f}')\n"
      ],
      "metadata": {
        "id": "-zVgTejoFRdr"
      },
      "execution_count": null,
      "outputs": []
    },
    {
      "cell_type": "code",
      "source": [
        "#Sucessor e antecessor de um número digitado\n",
        "n = int(input('Digite um número: '))\n",
        "print(f'O sucessor do número {n} é: {n+1}, é seu antecessor é: {n-1}')"
      ],
      "metadata": {
        "id": "fbSSh6e3K-XR"
      },
      "execution_count": null,
      "outputs": []
    },
    {
      "cell_type": "code",
      "source": [
        "#Crie um algoritmo que leia um número e mostre o seu dobro, triplo e raiz quadrada.\n",
        "import math\n",
        "n = int(input('Digite um número e vamos calulcar seu dobro, triplo e raiz quadrada: '))\n",
        "d = n*2\n",
        "t = n*3\n",
        "r = math.sqrt(n)\n",
        "l = n**(1/2)\n",
        "print(f'O dobro do número {n} é: {d}\\n ---- O triplo de {n} é: {t}\\n ---- A raiz quadrada de {n} é: {r}')\n",
        "print(l)"
      ],
      "metadata": {
        "id": "K1nTRN9SMHlx"
      },
      "execution_count": null,
      "outputs": []
    },
    {
      "cell_type": "code",
      "source": [
        "#Desenvolva um programa que leia as duas notas de um aluno, calcule e mostre a sua média.\n",
        "import getpass\n",
        "n = input('Digite seu nome: ')\n",
        "s2 = \"123\"\n",
        "\n",
        "while True:\n",
        "    s = getpass.getpass(prompt='Digite sua senha: ')\n",
        "    if s == s2:\n",
        "        print(f'Seja bem vindo {n} ao sistema de notas e médias acadêmicas')\n",
        "        break\n",
        "    else:\n",
        "        print('Senha inválida, tente novamente.')\n",
        "\n",
        "while True:\n",
        "    op = int(input('Digite 1 para sair ou 2 para um novo aluno: '))\n",
        "\n",
        "    if op == 1:\n",
        "        print('Obrigado por utilizar nosso sistema, até logo!')\n",
        "        break\n",
        "\n",
        "    elif op == 2:\n",
        "        a = input('Digite o nome do aluno: ')\n",
        "        nota1 = float(input(f'Digite a primeira nota do Aluno {a}: '))\n",
        "        nota2 = float(input(f'Digite a segunda nota do aluno {a}: '))\n",
        "        media = (nota1 + nota2) / 2\n",
        "\n",
        "        if media >= 7:\n",
        "            print(f'O aluno {a} foi aprovado com Média {media}')\n",
        "        else:\n",
        "            print(f'O aluno {a} foi reprovado com média {media}')"
      ],
      "metadata": {
        "id": "lJlv1MqNPLrr"
      },
      "execution_count": null,
      "outputs": []
    },
    {
      "cell_type": "code",
      "source": [
        "#Programa de conversão de metros para CM e MM\n",
        "\n",
        "me = int(input('Digite o valor em metros: '))\n",
        "cm = me*100 \n",
        "mm = me*1000\n",
        "print(f'O valor de {me} metros equivale a: {cm} Centímetros e {mm} Milímetros')\n"
      ],
      "metadata": {
        "id": "EUVG-xbMZeEH"
      },
      "execution_count": null,
      "outputs": []
    },
    {
      "cell_type": "code",
      "source": [
        "#Tabuada de um número digitado\n",
        "print('Bem vindo a tabuada de um número digitado')\n",
        "n = int(input('Digite um número: '))\n",
        "print(f'{n} x {1} = {n*1}')\n",
        "print(f'{n} x {2} = {n*2}')\n",
        "print(f'{n} x {3} = {n*3}')\n",
        "print(f'{n} x {4} = {n*4}')\n",
        "print(f'{n} x {5} = {n*5}')\n",
        "print(f'{n} x {6} = {n*6}')\n",
        "print(f'{n} x {7} = {n*7}')\n",
        "print(f'{n} x {8} = {n*8}')\n",
        "print(f'{n} x {9} = {n*9}')\n",
        "print(f'{n} x {10} = {n*10}')"
      ],
      "metadata": {
        "id": "ldM09OBobYP2"
      },
      "execution_count": null,
      "outputs": []
    },
    {
      "cell_type": "code",
      "source": [
        "print('Bem vindo a tabuada de um número digitado')\n",
        "n = int(input('Digite um número: '))\n",
        "for i in range(1, 11):\n",
        "    print(f'{n} x {i} = {n*i}')"
      ],
      "metadata": {
        "id": "Z8_xN1UMwfJJ"
      },
      "execution_count": null,
      "outputs": []
    },
    {
      "cell_type": "code",
      "source": [
        "#Convertendo temperatura\n",
        "\n",
        "t = float(input('Digite a temperatura em Celsius: '))\n",
        "f1 = (1.8 * t) + 32\n",
        "print(f'Converter {t}°C para a escala Fahrenheit : {f1}°')\n"
      ],
      "metadata": {
        "id": "CQNSdQ7HNwQP"
      },
      "execution_count": null,
      "outputs": []
    },
    {
      "cell_type": "code",
      "source": [
        "# Escreva um programa que pergunte a quantidade de Km percorridos por \n",
        "#um carro alugado e a quantidade de dias pelos quais ele foi alugado.\n",
        "#Calcule o preço a pagar, sabendo que o carro custa R$60 por dia e R$0,15 por Km rodado.\n",
        "\n",
        "print('Seja bem vido ao Locacar')\n",
        "d = 60\n",
        "d2 = int(input('Informe a quantidade de dias de locação: '))\n",
        "km = float(input('Informe a kilometragem final: '))\n",
        "cpkm = km * 0.15\n",
        "cd = d * d2\n",
        "cf = cd+cpkm\n",
        "print(f' O custo das diárias de {d2} dias foram de R${cd:.2f}\\n o custo da kilomêtragem de {km} KM foi de R${cpkm:.2f}\\n o valor final a ser pago pelo aluguel do veículo é de R$ {cf:.2f}')\n",
        "\n"
      ],
      "metadata": {
        "id": "vz_HUvGVsVBH"
      },
      "execution_count": null,
      "outputs": []
    },
    {
      "cell_type": "markdown",
      "source": [
        "MÓDULO 2\n"
      ],
      "metadata": {
        "id": "FvUwHZoIxPtJ"
      }
    },
    {
      "cell_type": "code",
      "source": [
        "!pip install emoji\n",
        "import emoji\n",
        "print(emoji.emojize(\"Olá mundo :sunglasses: \"))"
      ],
      "metadata": {
        "id": "d14LXRHFxTdq"
      },
      "execution_count": null,
      "outputs": []
    },
    {
      "cell_type": "code",
      "source": [
        "from math import trunc\n",
        "n = float(input('Digite um numero qualquer: '))\n",
        "print(f' A porção inteira do número digitado {n} é: {trunc(n)}')"
      ],
      "metadata": {
        "id": "6AdqIN3f6lA4"
      },
      "execution_count": null,
      "outputs": []
    },
    {
      "cell_type": "code",
      "source": [
        "from math import hypot\n",
        "copo = int(input('Digite o valor do cateto oposto: '))\n",
        "cadj = int(input('Digite o valor do cateto adjacente: '))\n",
        "\n",
        "hip = hypot(copo,cadj)\n",
        "\n",
        "print(f'O valor da Hipotenusa é: {hip}')\n",
        "\n"
      ],
      "metadata": {
        "id": "-6Ddn5aEQRqx"
      },
      "execution_count": null,
      "outputs": []
    },
    {
      "cell_type": "code",
      "source": [
        "from  math import sin,cos,tan,radians\n",
        "\n",
        "a = int(input('Digite o valor do ângulo: '))\n",
        "\n",
        "r = math.radians(a)\n",
        "cosseno = math.cos(r)\n",
        "seno = math.sin(r)\n",
        "tangente = math.tan(r)\n",
        "\n",
        "print(f'O valor do seno é {sin(r)} do cosseno é {cos(r)} e da tangente é {tan(r)} o ângulo em radianos é de {r}')\n",
        "\n"
      ],
      "metadata": {
        "id": "cSFcUiHwSOSf"
      },
      "execution_count": null,
      "outputs": []
    },
    {
      "cell_type": "code",
      "source": [
        "from random import choice\n",
        "nome = input('Digite o Primeiro nome: ')\n",
        "nome2 = input('Digite o segundo nome: ')\n",
        "nome3 = input('Digite o terceiro nome: ')\n",
        "nome4 = input('Digite o quarto nome: ')\n",
        "lista = [nome, nome2, nome3, nome4]\n",
        "escolhido = choice(lista)\n",
        "print(f'O aluno escolhido é: {escolhido}')"
      ],
      "metadata": {
        "id": "2BUr5iaGV_yf"
      },
      "execution_count": null,
      "outputs": []
    },
    {
      "cell_type": "code",
      "source": [
        "import random\n",
        "nome = input('Digite o Primeiro nome: ')\n",
        "nome2 = input('Digite o segundo nome: ')\n",
        "nome3 = input('Digite o terceiro nome: ')\n",
        "nome4 = input('Digite o quarto nome: ')\n",
        "lista = [nome, nome2, nome3, nome4]\n",
        "random.shuffle(lista)\n",
        "print(f'A ordem de apresentação será: {lista}')\n",
        "\n"
      ],
      "metadata": {
        "id": "qzZ6TG7_QOnv"
      },
      "execution_count": null,
      "outputs": []
    },
    {
      "cell_type": "code",
      "source": [
        "import random\n",
        "\n",
        "nomes = []\n",
        "\n",
        "print(\"Digite 4 nomes separados por enter: \")\n",
        "\n",
        "for i in range(4):\n",
        "    nome = input()\n",
        "    nomes.append(nome)\n",
        "\n",
        "aluno = random.choice(nomes)\n",
        "\n",
        "print(f'O nome é: {aluno}')\n",
        "\n"
      ],
      "metadata": {
        "id": "VJp0D2W0XRYD"
      },
      "execution_count": null,
      "outputs": []
    },
    {
      "cell_type": "code",
      "source": [
        "import random\n",
        "nomes = ['Davi','Pedro','Raissa','Claudia','Silvia','Amanda','Fabiana']\n",
        "sorteados = random.sample(nomes, 7)\n",
        "for i , nome in enumerate(sorteados):\n",
        "  print(f'{i + 1}º nome sorteado: {nome}')\n"
      ],
      "metadata": {
        "id": "GBfEmtEf-MMu"
      },
      "execution_count": null,
      "outputs": []
    },
    {
      "cell_type": "code",
      "source": [
        "!pip install pygame\n",
        "import pygame\n",
        "pygame.init()\n",
        "pygame.mixer.init()\n",
        "pygame.mixer.music.load(\"/content/drive/MyDrive/Contas/teste.mp3\")\n",
        "pygame.mixer.music.play()\n",
        "\n",
        "\n"
      ],
      "metadata": {
        "id": "7vj_wGNWS-Wf"
      },
      "execution_count": null,
      "outputs": []
    },
    {
      "cell_type": "code",
      "source": [
        "import requests\n",
        "\n",
        "url = \"https://justa-falta.vercel.app/#\"\n",
        "payload = {\"q\": \"' OR (SELECT COUNT(*) FROM all_tables) > 1 --\"}\n",
        "\n",
        "response = requests.get(url, params=payload)\n",
        "\n",
        "if \"error\" not in response.text:\n",
        "    print(\"SQL Injection vulnerability detected!\")\n",
        "else:\n",
        "    print(\"No SQL Injection vulnerability detected.\")"
      ],
      "metadata": {
        "id": "Gao-uJ7fL20n",
        "colab": {
          "base_uri": "https://localhost:8080/"
        },
        "outputId": "1a25249c-4ae6-4f48-d9d3-e681a231e680"
      },
      "execution_count": null,
      "outputs": [
        {
          "output_type": "stream",
          "name": "stdout",
          "text": [
            "SQL Injection vulnerability detected!\n"
          ]
        }
      ]
    },
    {
      "cell_type": "markdown",
      "source": [
        "AULA 09 - Manipulando Textos"
      ],
      "metadata": {
        "id": "dsu5naaMJz5p"
      }
    },
    {
      "cell_type": "code",
      "source": [
        "#manipulando texto\n",
        "\n",
        "frase = ('CURSO EM VIDEO PYTHON')# variavel frase recebendo valor (\"\")\n",
        "frase2 = ('CURSO EM VIDEO PYTHON')# variavel frase recebendo valor (\"\")\n",
        "\n",
        "nova_frase = frase.replace('VIDEO','XUXA ')#Substituindo uma string da frase por outra metodo replace\n",
        "\n",
        "#palavra_antiga = input(f'Digite a palavra antiga que voce quer substiruir na frase {frase}: ')\n",
        "#palavra_nova = input(f'Digite agora a palavra nova que sera inserida no lugar da palavara digita {palavra_antiga}: ')\n",
        "#frase3 = frase.replace(palavra_antiga, palavra_nova)\n",
        "\n",
        "\n",
        "\n",
        "frase_maiuscula = frase2.upper()#converte tudo para maisculo\n",
        "\n",
        "frase_minuscula = frase.lower()#capitalize(): esse método converte a primeira letra da string para maiúscula e as demais para minúsculas.\n",
        "\n",
        "frase_primeira_letra = frase.capitalize()\n",
        "\n",
        "contador = len(frase) #len () faz a contagem de todas as strings da frase\n",
        "\n",
        "a = frase.count('o') #count() faz a contagem de um determinado numero de vezes que um caracter ou palavra se repete\n",
        "\n",
        "indice = frase.find('em')#étodo de string que retorna o índice da primeira ocorrência de uma sub-string em uma string\n",
        "\n",
        "frasse_Title = frase.title()#title(): esse método converte a primeira letra de cada palavra da string para maiúscula e as demais para minúsculas.\n",
        "\n",
        "dividido = frase.split()\n",
        "\n",
        "#print(frase3)\n",
        "#print(frase[3])\n",
        "#\n",
        "print(frase.find('VIDEO'))\n",
        "print(dividido)\n",
        "print(dividido[3])\n",
        "#print(frasse_Title)\n",
        "#print(frase_primeira_letra)\n",
        "#print(frase_minuscula)\n",
        "#print(frase_maiuscula)\n",
        "#print(nova_frase)\n",
        "#print(indice)#indice da primeira ocorrência de uma sub-string em uma string\n",
        "#print(a)# imprime o numero de ocorrencias de um caracter string ou palavras\n",
        "#print(contador)# imprime o numero total de caracteres de uma string\n",
        "#print(frase[5:21])# começa do indice 5 e vai até o indice 21\n",
        "#print(frase[9:21:2])# começa a ler do indice 9 ao 21(esclui o 21)pulando 2 casas por vez\n",
        "#print(frase[:21])# ler do indice 0 até onde foi informado, neste caso 21 ele imprime a frase toda pois ela tem 21 indices"
      ],
      "metadata": {
        "id": "_WqkuvD9J6Bi"
      },
      "execution_count": null,
      "outputs": []
    },
    {
      "cell_type": "code",
      "source": [
        "!pip install phonenumbers\n",
        "import phonenumbers\n",
        "from phonenumbers import geocoder\n",
        "\n",
        "fone = phonenumbers.parse('+5541999590192')\n",
        "print('\\nLocalização\\n')\n",
        "print(geocoder.description_for_number(fone, 'PT'));\n"
      ],
      "metadata": {
        "id": "w6U7XYrlKCdy"
      },
      "execution_count": null,
      "outputs": []
    },
    {
      "cell_type": "code",
      "source": [
        "import tkinter as tk\n",
        "from tkinter import messagebox\n",
        "\n",
        "root = tk.Tk()\n",
        "root.withdraw()\n",
        "\n",
        "result = messagebox.askquestion(\"Question\", \"Do you want to continue?\")\n",
        "\n",
        "if result == 'yes':\n",
        "    print(\"User wants to continue\")\n",
        "else:\n",
        "    print(\"User does not want to continue\")"
      ],
      "metadata": {
        "id": "9HxF3s3DgLPs"
      },
      "execution_count": null,
      "outputs": []
    },
    {
      "cell_type": "code",
      "source": [
        "#Exercício Python 22: Crie um programa que leia o nome completo de uma pessoa e mostre:\n",
        "\n",
        "#– O nome com todas as letras maiúsculas e minúsculas.\n",
        "\n",
        "#– Quantas letras ao todo (sem considerar espaços).\n",
        "\n",
        "#– Quantas letras tem o primeiro nome.\n",
        "\n",
        "\n",
        "\n",
        "nome = str(input('Digite seu nome e sobrenome: ')).strip()\n",
        "\n",
        "nome1 = nome.split()[0]\n",
        "contnome1 = len(nome1)\n",
        "print(f'O seu primero nome é: \"{nome1}\" , e contém {contnome1} letras')\n",
        "\n",
        "print(f'Seu nome em maisculo é: {nome.upper()}')\n",
        "print(f'Seu nome em minusculo é:{nome.lower()}')\n",
        "espaço = nome.replace(\" \", \"\")\n",
        "cont = len(espaço)\n",
        "print(f'Seu nome todo tem {cont} letras')\n"
      ],
      "metadata": {
        "id": "SJe4GhbwoXJN"
      },
      "execution_count": null,
      "outputs": []
    },
    {
      "cell_type": "code",
      "source": [
        "#Exercício Python 23: Faça um programa que leia um número de 0 a 9999 e mostre na tela cada um dos dígitos separados.\n",
        "\n",
        "\n",
        "\n",
        "n = int(input('Digite um número de 0 a 9999: '))\n",
        "unidade = n % 10\n",
        "dezena = (n // 10) % 10\n",
        "centena = (n // 100 ) % 10\n",
        "milhar =  (n // 1000) % 10\n",
        "print(f'unidade {unidade}\\ndezena {dezena}\\ncentena {centena}\\nmilhar {milhar}\\n')"
      ],
      "metadata": {
        "id": "h3BMM4O1szzu"
      },
      "execution_count": null,
      "outputs": []
    },
    {
      "cell_type": "code",
      "source": [
        "#024: Crie um programa que leia o nome de uma cidade diga se ela começa ou não com o nome \"SANTO\".\n",
        "\n",
        "cidade = str(input('Digite o nome da cidade: ')).upper()\n",
        "if cidade.split()[0] == 'SANTO':\n",
        "  print('A cidade começa com o nome SANTO ')\n",
        "else:\n",
        "   print('A cidade não começa com o nome SANTO') \n",
        "\n"
      ],
      "metadata": {
        "id": "iBDdILJ5u7SN"
      },
      "execution_count": null,
      "outputs": []
    },
    {
      "cell_type": "code",
      "source": [
        "#Exercício Python 24: Crie um programa que leia o nome de uma cidade diga se ela começa ou não com o nome “SANTO”.\n",
        "\n",
        "c = str(input('Digite o nome da sua cidade: ')).strip()\n",
        "v = c.split()[0].upper() == 'SANTO'\n",
        "print(f'A cidade digitada {c}\\n e para santo {v}')\n"
      ],
      "metadata": {
        "id": "nsG9iRQ1qn0V"
      },
      "execution_count": null,
      "outputs": []
    },
    {
      "cell_type": "code",
      "source": [
        "cidade = input(\"Digite o nome da cidade: \")\n",
        "\n",
        "if cidade.upper().startswith(\"SANTO\"):\n",
        "    print(\"O nome da cidade começa com SANTO\")\n",
        "else:\n",
        "    print(\"O nome da cidade não começa com SANTO\")"
      ],
      "metadata": {
        "id": "kc2dBy5IwtIc"
      },
      "execution_count": null,
      "outputs": []
    },
    {
      "cell_type": "code",
      "source": [
        "#025: Crie um programa que leia o nome de uma pessoa e diga se ela tem \"SILVA\" no nome.\n",
        "\n",
        "name = str(input('Digite seu nome completo: ')).upper()\n",
        "\n",
        "if name.find('SILVA') != -1:\n",
        "  print(f'O nome {name} tem SILVA')\n",
        "else:\n",
        "  print(f'O nome {name} não tem SILVA') "
      ],
      "metadata": {
        "id": "LSp19bUFzgiz"
      },
      "execution_count": null,
      "outputs": []
    },
    {
      "cell_type": "code",
      "source": [
        "#025: Crie um programa que leia o nome de uma pessoa e diga se ela tem \"SILVA\" no nome.\n",
        "\n",
        "name = str(input('Digite seu nome completo: ')).upper()\n",
        "\n",
        "if 'SILVA' in name:\n",
        "  print(f'O nome {name} tem SILVA')\n",
        "else:\n",
        "  print(f'O nome {name} não tem SILVA') "
      ],
      "metadata": {
        "id": "AvdYdZTc1x_U"
      },
      "execution_count": null,
      "outputs": []
    },
    {
      "cell_type": "code",
      "source": [
        "n = str(input(\"Digite seu nome completo: \")).strip()\n",
        "print(f'Existe \"Silva\" no seu nome? { \"SILVA\" in n.upper() }')"
      ],
      "metadata": {
        "id": "nBAK7i4vtkhY"
      },
      "execution_count": null,
      "outputs": []
    },
    {
      "cell_type": "code",
      "source": [
        "#026: Faça um programa que leia uma frase pelo teclado e mostre quantas \n",
        "#vezes aparece a letra \"A\", em que posição ela aparece a primeira vez e em que posição ela aparece a última vez.\n",
        "palavra = str(input('Digite uma frase: ')).upper()\n",
        "\n",
        "rep = palavra.count('A')\n",
        "primeira = palavra.find('A')\n",
        "ultima = palavra.rfind('A')\n",
        "\n",
        "print(f'A frase {palavra} tem a letra \"A\" {rep} vezes\\n a primeira posição é em {primeira}\\n e a ultima posição é em {ultima}\\n')\n"
      ],
      "metadata": {
        "id": "6QWeFDft2EFK"
      },
      "execution_count": null,
      "outputs": []
    },
    {
      "cell_type": "code",
      "source": [
        "#027: Faça um programa que leia o nome completo de uma pessoa, mostrando em seguida o primeiro e o último nome separadamente.\n",
        "nome_completo = str(input('Digite seu nome completo: '))\n",
        "lista = nome_completo.split()\n",
        "\n",
        "primeiro_nome = lista[0]\n",
        "\n",
        "ultimo_nome = lista[-1]\n",
        "\n",
        "print(f'O primeiro nome de {nome_completo}\\n é {primeiro_nome}\\n e o último nome é {ultimo_nome}\\n ')\n"
      ],
      "metadata": {
        "id": "YwEWimoT3gD7"
      },
      "execution_count": null,
      "outputs": []
    },
    {
      "cell_type": "markdown",
      "source": [
        "MÓDULO 10"
      ],
      "metadata": {
        "id": "2DoTTwxzwf4j"
      }
    },
    {
      "cell_type": "code",
      "source": [
        "n = str(input('Digite seu nome: ')).upper()\n",
        "if n == 'DAVI':\n",
        "  print(f'Seja bem vindo {n}')\n",
        "else:\n",
        "  print('Usuario não autorizado')  \n",
        "print('Sessão Finalizada')  "
      ],
      "metadata": {
        "id": "8j2ThXNHwjr9"
      },
      "execution_count": null,
      "outputs": []
    },
    {
      "cell_type": "code",
      "source": [
        "print('Seja Bem vindo digite seu nome e senha')\n",
        "n = str(input('Digite seu nome: ')).upper()\n",
        "s = int(input('Digite sua senha: '))\n",
        "if n == 'DAVI' and s == 123:\n",
        "    print('Seja bem vindo ao sistema de notas')\n",
        "    nota1 = float(input('Digite a primeira nota: '))\n",
        "    nota2 = float(input('Digite a segunda nota: '))\n",
        "    media = (nota1+nota2)/2\n",
        "    if media >= 6.0:\n",
        "      print(f'Parabéns aluno aprovado com média {media}')\n",
        "    else:\n",
        "        print('Aluno em recuperação')\n",
        "else:\n",
        "  print('Usuário não registrado e senha inválida')\n",
        "print('FIM DO PROGRAMA')          \n"
      ],
      "metadata": {
        "id": "cWALQ9g_yV4j"
      },
      "execution_count": null,
      "outputs": []
    },
    {
      "cell_type": "code",
      "source": [
        "#exercício 28 gerar um numero aleatorio e verificar se o numero digitado e o correto\n",
        "import random\n",
        "from time import sleep\n",
        "print('- \\u2620 -'*20)\n",
        "print('Pensei em um número: ? ')\n",
        "print('- \\u2620 -'*20)\n",
        "sorteio = random.randint(0,5)\n",
        "n = int(input('Digite um numero entre 0 e 5 e veja se voce advinhou o numero que pensei: '))\n",
        "print('Processando...')\n",
        "sleep(4)\n",
        "if n == sorteio:\n",
        "  print('Parabéns você acertou \\U0001F973!!')\n",
        "else:\n",
        "  print(f'Não foi dessa vez ótario {sorteio} \\U0001F921!')  \n"
      ],
      "metadata": {
        "id": "LCYdw2A31dS6"
      },
      "execution_count": null,
      "outputs": []
    },
    {
      "cell_type": "code",
      "source": [
        "#29 Radar eletrônico\n",
        "print('Qual a velocidade atual do seu veículo: ')\n",
        "v = int(input('Digite a velocidade atual: '))\n",
        "multa = (v - 80)*7\n",
        "vat = v - 80\n",
        "\n",
        "if v > 80:\n",
        "   print(f'A sua velocidade de {v}Km/h você esta acima do limite de velocidadee em {vat}km/h \\U0001F480 e isso gerou uma multa de R${multa:.2f} \\U0001F973!! ')\n",
        "   \n",
        "else:\n",
        "  print('Você está no limite correto de velocidade da via' )  "
      ],
      "metadata": {
        "id": "vPLwPZtl7c0r"
      },
      "execution_count": null,
      "outputs": []
    },
    {
      "cell_type": "code",
      "source": [
        "# 30 par ou ímpar\n",
        "\n",
        "p = int(input('Digite um número inteiro: '))\n",
        "\n",
        "if p % 2 == 0 :\n",
        "  print('O numero é PAR')\n",
        "\n",
        "else:\n",
        "  print('O número e ímpar')  \n"
      ],
      "metadata": {
        "id": "V_qZR4kG6vta"
      },
      "execution_count": null,
      "outputs": []
    },
    {
      "cell_type": "code",
      "source": [
        "#31\n",
        "#custo da passagem da viajem\n",
        "\n",
        "km = float(input('Digite a distancia em KM da viajem: '))\n",
        "\n",
        "if km <= 200:\n",
        "  custo = km * 0.50\n",
        "else:\n",
        "   custo = km * 0.45 \n",
        "   \n",
        "print(f'O valor da passagem de {km}Km é de R${custo}')\n",
        "\n"
      ],
      "metadata": {
        "id": "hUJJEFGX_ccw"
      },
      "execution_count": null,
      "outputs": []
    },
    {
      "cell_type": "code",
      "source": [
        "#32 Verificar se o ano e Bissexto\n",
        "from datetime import date\n",
        "ano = int(input('Digite o ano:   ou 0 para verificar o ano atual'))\n",
        "\n",
        "if ano == 0:\n",
        "  ano = date.today().year\n",
        "\n",
        "if ano % 4 == 0 and (ano % 100 != 0 or ano % 400 == 0):\n",
        "  print(f'O ano {ano} é Bissexto')\n",
        "\n",
        "else:\n",
        "  print(f'O ano {ano} não é Bissexto')  \n"
      ],
      "metadata": {
        "id": "ZF90bYZlCR16",
        "colab": {
          "base_uri": "https://localhost:8080/"
        },
        "outputId": "af746108-06ef-4547-8b73-3f0e64077f46"
      },
      "execution_count": null,
      "outputs": [
        {
          "output_type": "stream",
          "name": "stdout",
          "text": [
            "Digite o ano:   ou 0 para verificar o ano atual2023\n",
            "O ano 2023 não é Bissexto\n"
          ]
        }
      ]
    },
    {
      "cell_type": "code",
      "source": [
        "# 33 maior ou menor número dentre 3\n",
        "\n",
        "n1 = int(input('Digite um número: '))\n",
        "n2 = int(input('Digite número 2: '))\n",
        "n3 = int(input('Digite o número 3: '))\n",
        "\n",
        "if n1 > n2 and n1 > n3:\n",
        "  print(f'O numero {n1} é maior')\n",
        "  \n",
        "elif n2 > n1 and n2 > n3:\n",
        "  print(f'O número {n2} é maior')\n",
        "\n",
        "else:\n",
        "  print(f'O numero {n3} é maior')\n",
        "\n",
        "if n1 < n2 and n1 < n3:\n",
        "  print(f'O número {n1} é menor')\n",
        "\n",
        "elif n2 < n1 and n2 < n3:\n",
        "   print(f'O número {n2} é menor') \n",
        "\n",
        "else:\n",
        "  print(f'O número {n3} é menor')       "
      ],
      "metadata": {
        "id": "PZOBYI9mElU5"
      },
      "execution_count": null,
      "outputs": []
    },
    {
      "cell_type": "code",
      "source": [
        "# 34 cálculo de sálario\n",
        "\n",
        "print('m =====Bem vindo ao sistema de Cálculo de salário=====')\n",
        "\n",
        "s = float(input('Digite o valor atual do salário do funcionário R$'))\n",
        "\n",
        "if s <= 1250.00:\n",
        "  ns = s + ((s*15)/100)\n",
        "else:\n",
        "  ns = s + ((s*10 )/ 100)  \n",
        "print(f'O novo salário é de R${ns}')"
      ],
      "metadata": {
        "id": "SvjCWcwqIf5B"
      },
      "execution_count": null,
      "outputs": []
    },
    {
      "cell_type": "code",
      "source": [
        "#35 formando um triângulo\n",
        "!pip install colorama\n",
        "import matplotlib.pyplot as plt\n",
        "from time import sleep\n",
        "import colorama\n",
        "from colorama import Fore\n",
        "\n",
        "a = float(input('Digite uma valor para a primeira reta : '))\n",
        "b = float(input('Digite uma valor para a segunda reta : '))\n",
        "c = float(input('Digite uma valor para a terceira reta : '))\n",
        "\n",
        "if a < b + c and b < a + c and c < a + b:\n",
        "  # Calcula as coordenadas dos três vértices do triângulo\n",
        "  x1, y1 = 0, 0\n",
        "  x2, y2 = c, 0\n",
        "  x3 = (a**2 - b**2 + c**2) / (2 * c)\n",
        "  y3 = (a**2 - x3**2)**0.5\n",
        "\n",
        "  # Plota o triângulo\n",
        "  plt.plot([x1, x2, x3, x1], [y1, y2, y3, y1])\n",
        "\n",
        "\n",
        "  print('Processando...')\n",
        "  sleep(2)\n",
        "\n",
        "  #if a == b == c:\n",
        "   #print('Triângulo equilátero')\n",
        "   #print('Processando...')\n",
        "   #sleep(2)\n",
        "   #plt.show()\n",
        "\n",
        "  #elif a == b and a != c or a == c and a != b or b == c and b != a:\n",
        "  # print('Triângulo isosceles')  \n",
        "  # print('Processando...')\n",
        "  # sleep(2)\n",
        "  # plt.show()\n",
        "\n",
        "  #else:\n",
        "  # print('Triangulo escaleno')\n",
        "  # print('Processando...')\n",
        "  # sleep(2)\n",
        "  # plt.show()  \n",
        "\n",
        "  print('Podemos formar um triangulo ')\n",
        "  plt.show()\n",
        "\n",
        "else:\n",
        " print(Fore.RED + 'Não é possivel fazer um \\u25B2' + Fore.RESET)"
      ],
      "metadata": {
        "id": "j2063oSeLj4e"
      },
      "execution_count": null,
      "outputs": []
    },
    {
      "cell_type": "markdown",
      "source": [
        "MUNDO 2 Aulas em vídeo"
      ],
      "metadata": {
        "id": "2mSIm-ww94eu"
      }
    },
    {
      "cell_type": "code",
      "source": [
        "#36 - Calculando emprestimo de uma casa\n",
        "casa = float(input('Digite o valor do imovél R$ '))\n",
        "tempo = int(input('Digite o numeros de parcelas em meses: '))\n",
        "salario = float(input('Digite o valor do seu salário R$ '))\n",
        "\n",
        "prestação = casa / tempo\n",
        "\n",
        "salario_novo = salario * 0.3\n",
        "\n",
        "if prestação <= salario_novo:\n",
        "   print('emprestimo aceito') \n",
        "\n",
        "   print(f'O Valor das Parcelas a serem pagas em {tempo} Meses é de R${prestação:.2f} ao Mês')\n",
        "\n",
        "\n",
        "else:\n",
        "  print(f'Empréstimo negado o valor da presção R${prestação:.2f} excede o valor de 30% do seu salário')\n",
        "  "
      ],
      "metadata": {
        "colab": {
          "base_uri": "https://localhost:8080/"
        },
        "id": "NykjDOIV98fI",
        "outputId": "79bb20e9-39e7-40cd-e0ae-51ce46705c0a"
      },
      "execution_count": null,
      "outputs": [
        {
          "output_type": "stream",
          "name": "stdout",
          "text": [
            "Digite o valor do imovél R$ 150000\n",
            "Digite o numeros de parcelas em meses: 60\n",
            "Digite o valor do seu salário R$ 12000\n",
            "emprestimo aceito\n",
            "O Valor das Parcelas a serem pagas em 60 Meses é de R$2500.00 ao Mês\n"
          ]
        }
      ]
    },
    {
      "cell_type": "code",
      "source": [
        "casa = float(input('\\033[35mQual o valor da casa\\033[m? '))\n",
        "salário = float(input('\\033[36mQual é o seu salário\\033[m? '))\n",
        "anos = float(input('\\033[32mEm quantos anos você vai pagar\\033[m? '))\n",
        "prestação = casa / (anos * 12)\n",
        "\n",
        "print('-=-' * 20)\n",
        "if salário * 0.30 >= prestação:\n",
        "    print('\\033[4mParabéns, seu financiamento foi aprovado\\033[m!!!')\n",
        "else:\n",
        "    print('\\033[4mDesculpe, mas seu financiamento foi negado\\033[m')"
      ],
      "metadata": {
        "id": "w4VTUIFUYwQL"
      },
      "execution_count": null,
      "outputs": []
    },
    {
      "cell_type": "code",
      "source": [
        "#37 - Transforme um numero em binario, octal e hexadecimal\n",
        "\n",
        "n = int(input('\\033[33m Digite um número inteiro: ' ))\n",
        "\n",
        "opção = int(input('''\\033[34m\n",
        "[1] para binário \n",
        "[2] para octal \n",
        "[3] para hexadecimal \\n'''))\n",
        "\n",
        "if opção == 1 :\n",
        "  binario = bin(n)\n",
        "  print(f'\\033[33m O numero {n} em Binario é {binario[2:]}')\n",
        "elif opção == 2: \n",
        "  octal = oct(n)\n",
        "  print(f'\\033[33m O número {n} em octal é de {octal[2:]}')\n",
        "elif opção == 3:\n",
        "  hexa = hex(n)\n",
        "  print(f'\\033[33m O número {n} em hexadecimal é de {hexa[2:]}')\n",
        "\n",
        "else:\n",
        "   print('Número inválido!') \n"
      ],
      "metadata": {
        "id": "P2H64jWJdn6T",
        "colab": {
          "base_uri": "https://localhost:8080/"
        },
        "outputId": "3fb3366b-b719-4367-b75f-a6cce3bc3fdd"
      },
      "execution_count": null,
      "outputs": [
        {
          "output_type": "stream",
          "name": "stdout",
          "text": [
            "\u001b[33m Digite um número inteiro: 22\n",
            "\u001b[34m\n",
            "[1] para binário \n",
            "[2] para octal \n",
            "[3] para hexadecimal \n",
            "3\n",
            "\u001b[33m O número 22 em hexadecimal é de 16\n"
          ]
        }
      ]
    },
    {
      "cell_type": "code",
      "source": [
        "n1 = int(input('Digite o primeiro numero: '))\n",
        "n2 = int(input('Digite o segundo numero: '))\n",
        "\n",
        "if n1 > n2:\n",
        "  print(f'O primeiro número digitado e Maior')\n",
        "\n",
        "elif n2 > n1:\n",
        "  print('O segundo numero digitado e Maior')  \n",
        "\n",
        "else:\n",
        "  print('Os Numeros são iguais ')\n"
      ],
      "metadata": {
        "id": "aBrXZ06SogOR",
        "colab": {
          "base_uri": "https://localhost:8080/"
        },
        "outputId": "663cd3c4-7059-4f59-925d-5b41a1159bc9"
      },
      "execution_count": null,
      "outputs": [
        {
          "output_type": "stream",
          "name": "stdout",
          "text": [
            "Digite o primeiro numero: 2\n",
            "Digite o segundo numero: 2\n",
            "Os Numeros são iguais \n"
          ]
        }
      ]
    },
    {
      "cell_type": "code",
      "source": [
        "\n",
        "from datetime import date #importando a biblioteca datatime\n",
        "\n",
        "#lendo o ano de nascimento do usuario\n",
        "ano_nascimento = int(input('Digite seu ano de nascimento com 4 digitos: '))\n",
        "\n",
        "#selecionando o ano atual\n",
        "ano_atual = date.today().year\n",
        "\n",
        "#calculando a idade da pessoa\n",
        "idade = ano_atual - ano_nascimento\n",
        "\n",
        "#verificando a data digitada\n",
        "if ano_nascimento <= 1900:\n",
        "  print(f'Data {ano_nascimento} inválida')\n",
        "else:  \n",
        "#verificando se a idade e maior de 18 anos e quanto anos passaram do alistamento\n",
        " if idade > 18:\n",
        "  exc = idade - 18 #calculando anos que passaram para se alistar\n",
        "\n",
        "  ano_alistamento = ano_atual - exc #calculando o ano de alistamento\n",
        "\n",
        "  print(f'Você excedeu o limite de alistamento em {exc} anos, seu alistamento foi em {ano_alistamento}')\n",
        "\n",
        "# verificando se a idade e menor de 18 anos e informando os anos que faltam par se alistar  \n",
        " elif idade < 18:\n",
        "\n",
        "  exc = 18 - idade #calculando anos que faltam para se alistar\n",
        "\n",
        "  ano_alistamento = ano_atual + exc #calculando o ano de alistamento\n",
        "\n",
        "  print(f'Voce ainda esta fora do prazo de alistamento sua idade é de {idade} anos, ainda faltam {exc} anos, seu alistamento é em {ano_alistamento}')\n",
        "\n",
        "# se a idade for igual a 18 anos informa que deve se alisatar \n",
        " else:\n",
        "  print('Você está no prazo de alistamento, procure uma unidade militar mais próxima e evite penalidades!')  \n",
        "\n",
        "\n",
        "\n",
        "\n"
      ],
      "metadata": {
        "id": "XL_rC1Vrjva3",
        "colab": {
          "base_uri": "https://localhost:8080/"
        },
        "outputId": "1728cfbe-1cd0-4c02-8899-fca69ed8eb0a"
      },
      "execution_count": null,
      "outputs": [
        {
          "output_type": "stream",
          "name": "stdout",
          "text": [
            "Digite seu ano de nascimento com 4 digitos: 1975\n",
            "Você excedeu o limite de alistamento em 30 anos, seu alistamento foi em 1993\n"
          ]
        }
      ]
    },
    {
      "cell_type": "code",
      "source": [
        "#40 calcue a média e mostre aprovado, em recuperação e reprovado\n",
        "\n",
        "mes = '\\033[36mCácluo de Média do aluno'\n",
        "larg = 130\n",
        "print('\\033[1;33;42m=-=' * 20 + 'Bem vindo' + '=-=' * 20 + '\\033[0m')\n",
        "print(mes.center(larg))\n",
        "print('\\033[33;42m' + '=-=' * 20 + '=-=' * 23 + '\\033[0m')\n",
        "\n",
        "nota1 = float(input('Digite a primeira nota do Aluno: \\n'))\n",
        "\n",
        "nota2 = float(input('Digite a  segunda nota do Aluno: \\n'))\n",
        "\n",
        "media = (nota1 + nota2) / 2\n",
        "\n",
        "if media >= 7.0:\n",
        "  print(f'\\033[32mAluno aprovado! com média  {media:.2f}')\n",
        "\n",
        "elif media >= 5.0 and media <= 6.9:\n",
        "  print(f'\\033[33mAluno está em recuperação com média  {media:.2f}')\n",
        "\n",
        "else:\n",
        "  print(f'\\033[31mAluno está reprovado! com média  {media:.2f}')  \n",
        "\n",
        "\n"
      ],
      "metadata": {
        "id": "-bEC-74pTbvk"
      },
      "execution_count": null,
      "outputs": []
    },
    {
      "cell_type": "code",
      "source": [
        "#41 ler uma data de nascimento e mostrar a categoria dela de acordo com a idade\n",
        "\n",
        "#importando a biblioteca datetime para calcular a idade aatual\n",
        "import datetime\n",
        "\n",
        "#Inserindo o nome da pessoas a ser analisado\n",
        "nome = str(input('Digite o nome da Pessoa: '))\n",
        "\n",
        "#pegando a data de nascimeto da pessoa\n",
        "nascimento = int(input('Digite seu ano de Nascimento com 4 dígitos: '))\n",
        "\n",
        "#verificando a idade atual da pessoa\n",
        "idade = date.today().year - nascimento\n",
        "\n",
        "#Fazendo a verificação das categorias de acordo com a idade\n",
        "\n",
        "if idade <= 9 :\n",
        "  print(f'{nome} você pertence a categoria MIRIM'),\n",
        "\n",
        "elif idade > 9 and idade <= 14:\n",
        "  print(f'{nome} Você pertence a categoria INFANTIL')  \n",
        "\n",
        "elif idade > 14 and idade <= 19:\n",
        "  print(f'{nome} você pertence a categoria JÚNIOR') \n",
        "\n",
        "elif idade == 20:\n",
        "  print(f'{nome} Você pertence a categoria SÊNIOR')\n",
        "\n",
        "else:\n",
        "  print(f'{nome} você pertence a categoria MASTER')\n",
        "\n",
        "                 ##FIM##"
      ],
      "metadata": {
        "id": "_1rnd1HUuwtf"
      },
      "execution_count": null,
      "outputs": []
    },
    {
      "cell_type": "code",
      "source": [
        "#42 Verificando se é possivel construir um triângulo e se for qual seria o triângulo\n",
        "!pip install colorama\n",
        "import matplotlib.pyplot as plt\n",
        "from time import sleep\n",
        "import colorama\n",
        "from colorama import Fore\n",
        "\n",
        "a = float(input('Digite uma valor para a primeira reta : '))\n",
        "b = float(input('Digite uma valor para a segunda reta : '))\n",
        "c = float(input('Digite uma valor para a terceira reta : '))\n",
        "\n",
        "if a < b + c and b < a + c and c < a + b:\n",
        "  # Calcula as coordenadas dos três vértices do triângulo\n",
        "  x1, y1 = 0, 0\n",
        "  x2, y2 = c, 0\n",
        "  x3 = (a**2 - b**2 + c**2) / (2 * c)\n",
        "  y3 = (a**2 - x3**2)**0.5\n",
        "\n",
        "  # Plota o triângulo\n",
        "  plt.plot([x1, x2, x3, x1], [y1, y2, y3, y1])\n",
        "\n",
        "\n",
        "  print('Processando...')\n",
        "  sleep(2)\n",
        "\n",
        "  if a == b == c:\n",
        "   print('Triângulo equilátero')\n",
        "   print('Processando...')\n",
        "   sleep(2)\n",
        "   plt.show()\n",
        "\n",
        "  elif a == b and a != c or a == c and a != b or b == c and b != a:\n",
        "   print('Triângulo isosceles')  \n",
        "   print('Processando...')\n",
        "   sleep(2)\n",
        "   plt.show()\n",
        "\n",
        "  else:\n",
        "   print('Triangulo escaleno')\n",
        "   print('Processando...')\n",
        "   sleep(2)\n",
        "   plt.show()  \n",
        "\n",
        "#print('Podemos formar um triangulo ')\n",
        "#plt.show()\n",
        "\n",
        "else:\n",
        " print(Fore.RED + 'Não é possivel fazer um \\u25B2' + Fore.RESET)"
      ],
      "metadata": {
        "id": "mngO-ryxL27P"
      },
      "execution_count": null,
      "outputs": []
    },
    {
      "cell_type": "code",
      "source": [
        "#43 IMC\n",
        "peso = int(input('Digite seu peso: '))\n",
        "altura = float(input('Digite sua altura: '))\n",
        "alt = pow(altura,2)\n",
        "#mc = peso/alt\n",
        "#print(mc)\n",
        "IMC = peso / alt #(altura * altura)\n",
        "\n",
        "\n",
        "if IMC < 18.5:\n",
        "  print(f'\\033[33mSeu índice de Massa Corporal é de: {IMC:.2f} você está abaixo do Peso Ideal ')\n",
        "\n",
        "elif IMC >= 18.5 and IMC <= 25:\n",
        "  print(f'\\033[34mSeu índice de Massa Corporal é de: {IMC:.2f} você está no Peso Ideal ')\n",
        "\n",
        "elif IMC > 25 and IMC <= 30:\n",
        "  print(f'\\033[35mSeu índice de Massa Corporal é de: {IMC:.2f} você está com sobrePeso ')\n",
        "\n",
        "elif IMC > 30 and IMC <= 40:\n",
        "  print(f'\\033[32mSeu índice de Massa Corporal é de: {IMC:.2f} você está Obeso ') \n",
        "\n",
        "else :\n",
        "  print(f'\\033[33mSeu índice de Massa Corporal é de: {IMC:.2f} você está com obesidade morbida \\U0001F480')\n"
      ],
      "metadata": {
        "id": "IgIQJj_KUXFa"
      },
      "execution_count": null,
      "outputs": []
    },
    {
      "cell_type": "code",
      "source": [
        "#44 Calculando valor a ser pago\n",
        "\n",
        "valor_normal = float(input('Digite o valor do produto R$'))\n",
        "op = int(input('''Escolha a Forma de Pagamento: \n",
        "[1] Á vista ou Cheque\n",
        "[2] Á vista no cartão\n",
        "[3] Até 2x no cartão\n",
        "[4] 3x ou mais parcelas\\n''' ))\n",
        "\n",
        "if op == 1:\n",
        "  dez = ((valor_normal /100)*10)\n",
        "  desconto = valor_normal - ((valor_normal /100)*10)\n",
        "  print(f'Valor a Pagar R${desconto:.2f}\\no valor do desconto foi de R${dez:.2f}')\n",
        "\n",
        "elif op == 2:\n",
        "    cinco = ((valor_normal /100)*5)\n",
        "    desconto = valor_normal - ((valor_normal /100)*5)\n",
        "    print(f'Valor a Pagar R${desconto:.2f}\\n o valor do desconto foi de R${cinco:.2f}')\n",
        "\n",
        "elif op == 3:\n",
        "    p = valor_normal / 2\n",
        "    print(f'O valor a pagar R${valor_normal:.2f}\\n em 2 parcelas de R${p:.2f}')\n",
        "\n",
        "elif op == 4:\n",
        "  j = valor_normal + (valor_normal *20 / 100)\n",
        "  qtd_parcelas = int(input('Informe o Número de Parcelas a partir de 3x '))\n",
        "  valor_parcelas = j / qtd_parcelas\n",
        "  print(f'O valor a pagar R${j:.2f} com juros em {qtd_parcelas}X de {valor_parcelas:.2f}')\n",
        "\n",
        "else:\n",
        "  print('Opção Inválida!')  "
      ],
      "metadata": {
        "id": "PaOf9DmmcxfZ",
        "colab": {
          "base_uri": "https://localhost:8080/"
        },
        "outputId": "b53bf65f-27cb-43b5-e7c4-51bcedeccda6"
      },
      "execution_count": null,
      "outputs": [
        {
          "output_type": "stream",
          "name": "stdout",
          "text": [
            "Digite o valor do produto R$3000\n",
            "Escolha a Forma de Pagamento: \n",
            "[1] Á vista ou Cheque\n",
            "[2] Á vista no cartão\n",
            "[3] Até 2x no cartão\n",
            "[4] 3x ou mais parcelas\n",
            "4\n",
            "Informe o Número de Parcelas a partir de 3x 4\n",
            "O valor a pagar R$3600.00 com juros em 4X de 900.00\n"
          ]
        }
      ]
    },
    {
      "cell_type": "code",
      "source": [
        "import random\n",
        "from time import sleep\n",
        "opçoes = ['Pedra', 'Papel','Tesoura']\n",
        "\n",
        "op = str(input('''Digite:\n",
        "Pedra\n",
        "Papel\n",
        "Tesoura \\n\\n''')).upper()\n",
        "\n",
        "maquina = random.choice(opçoes).upper()\n",
        "print('-==-'*40)\n",
        "print('JO')\n",
        "sleep(1)\n",
        "print('KEN')\n",
        "sleep(1)\n",
        "print('PO')\n",
        "sleep(1)\n",
        "print('-==-'*40)\n",
        "\n",
        "print(f\"Você escolheu: {op}\")\n",
        "print(f\"O computador escolheu: {maquina}\")\n",
        "print('-==-'*40)\n",
        "if op == 'PEDRA' and maquina == 'TESOURA' or op == 'PAPEL' and maquina == 'PEDRA' or op == 'TESOURA' and maquina == 'PAPEL' :\n",
        "  print('Parabéns você Ganhou')\n",
        "\n",
        "elif op == 'PEDRA' and maquina == 'PAPEL' or op == 'PAPEL' and maquina == 'TESOURA' or op == 'TESOURA' and maquina == 'PEDRA':\n",
        "  print('Infelizmente você Perdeu ')\n",
        "\n",
        "elif op == maquina:\n",
        "  print('Houve um empate!') \n",
        "\n",
        "else:\n",
        "  print('Opção inválida')     \n",
        "\n",
        "\n"
      ],
      "metadata": {
        "colab": {
          "base_uri": "https://localhost:8080/"
        },
        "id": "sYjzpUo9itIv",
        "outputId": "d9cddca0-7227-4297-c769-debf7d9176be"
      },
      "execution_count": null,
      "outputs": [
        {
          "output_type": "stream",
          "name": "stdout",
          "text": [
            "Digite:\n",
            "Pedra\n",
            "Papel\n",
            "Tesoura \n",
            "\n",
            "papel\n",
            "-==--==--==--==--==--==--==--==--==--==--==--==--==--==--==--==--==--==--==--==--==--==--==--==--==--==--==--==--==--==--==--==--==--==--==--==--==--==--==--==-\n",
            "JO\n",
            "KEN\n",
            "PO\n",
            "-==--==--==--==--==--==--==--==--==--==--==--==--==--==--==--==--==--==--==--==--==--==--==--==--==--==--==--==--==--==--==--==--==--==--==--==--==--==--==--==-\n",
            "Você escolheu: PAPEL\n",
            "O computador escolheu: TESOURA\n",
            "-==--==--==--==--==--==--==--==--==--==--==--==--==--==--==--==--==--==--==--==--==--==--==--==--==--==--==--==--==--==--==--==--==--==--==--==--==--==--==--==-\n",
            "Infelizmente você Perdeu \n"
          ]
        }
      ]
    },
    {
      "cell_type": "code",
      "source": [
        "for i in range(0,22,2+2):\n",
        "  print(i)\n"
      ],
      "metadata": {
        "colab": {
          "base_uri": "https://localhost:8080/"
        },
        "id": "vY32IiOQrEQf",
        "outputId": "142a0978-553d-4994-f6b4-097a93309fc6"
      },
      "execution_count": null,
      "outputs": [
        {
          "output_type": "stream",
          "name": "stdout",
          "text": [
            "0\n",
            "4\n",
            "8\n",
            "12\n",
            "16\n",
            "20\n"
          ]
        }
      ]
    },
    {
      "cell_type": "code",
      "source": [
        "import random\n",
        "from time import sleep\n",
        "\n",
        "print(10*'-==-==','Bem vindo ao jogo de advinhação','-==-=='*10)\n",
        "sleep(2)\n",
        "\n",
        "while True:\n",
        " \n",
        " print('Pensei em número tente advinhar!!!')\n",
        " pc = random.randint(0,10)\n",
        " sleep(2)\n",
        " \n",
        " try:\n",
        "        numero = int(input('Digite um número de 0 a 10: '))\n",
        " except ValueError:\n",
        "        print('Digite apenas números de 0 a 10.')\n",
        "        continue\n",
        "\n",
        " print('Analisando número digitado AGUARDE!')\n",
        " sleep(2)\n",
        "\n",
        " if numero == pc:\n",
        "  print(f'\\033[32mParabéns você venceu! o número que pensei foi {pc}')\n",
        " else:\n",
        "  print(f'\\033[33mvocê perdeu,o número que pensei foi {pc} tente de novo') \n",
        "\n",
        "  op = str(input('Deseja tentar novamente?\\n S - SIM === N - NÃO\\n ')).upper()\n",
        "  if op == 'S' or op == 'SIM':\n",
        "    print('Recomeçando....')\n",
        "    sleep(2)\n",
        "  else:\n",
        "    print('FIM DO JOGO')\n",
        "    break\n",
        "\n",
        "\n"
      ],
      "metadata": {
        "id": "OHOtZLH410Ht"
      },
      "execution_count": null,
      "outputs": []
    },
    {
      "cell_type": "code",
      "source": [
        "#46 Faça um programa que mostre na tela uma contagem regressiva \n",
        "#para o estouro de fogos de artifício, indo de 10 até 0, com uma pausa de 1 segundo entre eles.\n",
        "from time import sleep\n",
        "for c in range(10,-1,-1):\n",
        "  print(c)\n",
        "  sleep(1)\n",
        "print('-=-==-= FOGOS ESTOURADOS!!!\\U0001F386 -=-==-=')\n",
        "sleep(1)"
      ],
      "metadata": {
        "colab": {
          "base_uri": "https://localhost:8080/"
        },
        "id": "swe_-s3Jhoyt",
        "outputId": "710e2b13-ceb9-4e51-854c-5878685cefc3"
      },
      "execution_count": null,
      "outputs": [
        {
          "output_type": "stream",
          "name": "stdout",
          "text": [
            "10\n",
            "9\n",
            "8\n",
            "7\n",
            "6\n",
            "5\n",
            "4\n",
            "3\n",
            "2\n",
            "1\n",
            "0\n",
            "-=-==-= FOGOS ESTOURADOS!!!🎆 -=-==-=\n"
          ]
        }
      ]
    },
    {
      "cell_type": "code",
      "source": [
        "#sorteando 6 numeros entre 1 e 60\n",
        "import random\n",
        "from time import sleep\n",
        "lista = []\n",
        "for a in range(6):\n",
        "  n =  random.randint(1, 60) #input('Digite um nome ') #int(input('digite um numero ')) \n",
        "  lista.append(n)\n",
        "for n in  lista: #range(100):\n",
        " #print(n, end=' ') \n",
        " #print(n, end=' ')\n",
        " #print(n)\n",
        " #print(n, end=' ')\n",
        " print(n, end=' ')\n",
        " sleep(1)\n",
        "#s = random.randint(lista)\n",
        "\n"
      ],
      "metadata": {
        "id": "wiY7RF9JkjlE"
      },
      "execution_count": null,
      "outputs": []
    },
    {
      "cell_type": "code",
      "source": [
        "#Testando um print de load\n",
        "from time import sleep\n",
        "for a in range(6):\n",
        "  print('.', end='' )\n",
        "  #print('Parabéns', end= ' ')\n",
        "  sleep(1)\n",
        "  "
      ],
      "metadata": {
        "id": "Fz9SgexCX_wY",
        "outputId": "4daf32b6-da49-4d76-c155-5993d8902b2c",
        "colab": {
          "base_uri": "https://localhost:8080/"
        }
      },
      "execution_count": null,
      "outputs": [
        {
          "output_type": "stream",
          "name": "stdout",
          "text": [
            "......"
          ]
        }
      ]
    },
    {
      "cell_type": "code",
      "source": [
        "#47 Mostrar todos os números pares entre 1 e 50\n",
        "from time import sleep\n",
        "for c in range (2,51,2):\n",
        "  sleep(1)\n",
        "  print(c, end = \" - \")\n"
      ],
      "metadata": {
        "colab": {
          "base_uri": "https://localhost:8080/"
        },
        "id": "kFa9rO_LJSvY",
        "outputId": "baf5bae7-d052-4c58-d835-a72828a96920"
      },
      "execution_count": null,
      "outputs": [
        {
          "output_type": "stream",
          "name": "stdout",
          "text": [
            "2 - 4 - 6 - 8 - 10 - 12 - 14 - 16 - 18 - 20 - 22 - 24 - 26 - 28 - 30 - 32 - 34 - 36 - 38 - 40 - 42 - 44 - 46 - 48 - 50 - "
          ]
        }
      ]
    },
    {
      "cell_type": "code",
      "source": [
        "#48 Soma de todos os numeros impares entre 1 e 500\n",
        "soma = 0\n",
        "cont = 0\n",
        "for c in range (1,501,2):\n",
        "  #SOMENTE NUMROS ÍMPARES\n",
        "  #if c % 2 !=0:\n",
        "   #print(c, end = \" - \")\n",
        "  if c % 3 ==0:\n",
        "   #print(f'Os números multiplos de 3 são: {c}')\n",
        "   soma +=  c\n",
        "   cont += 1\n",
        "print(f'A soma dos {cont} números multiplos de 3 é de: {soma}')\n"
      ],
      "metadata": {
        "colab": {
          "base_uri": "https://localhost:8080/"
        },
        "id": "MD-AWYmqQbil",
        "outputId": "d96ba30b-8925-4101-fdc1-528017cf2ca9"
      },
      "execution_count": null,
      "outputs": [
        {
          "output_type": "stream",
          "name": "stdout",
          "text": [
            "A soma dos 83 números multiplos de 3 é de: 20667\n"
          ]
        }
      ]
    },
    {
      "cell_type": "code",
      "source": [
        "for c in range(1,501,2):\n",
        "  if c % 3 == 0:\n",
        "     print(c, end = ' ')\n"
      ],
      "metadata": {
        "colab": {
          "base_uri": "https://localhost:8080/"
        },
        "id": "HSQ43taGuund",
        "outputId": "f6fa34e1-b7d7-4b6d-d0f8-0404dd485976"
      },
      "execution_count": null,
      "outputs": [
        {
          "output_type": "stream",
          "name": "stdout",
          "text": [
            "3 9 15 21 27 33 39 45 51 57 63 69 75 81 87 93 99 105 111 117 123 129 135 141 147 153 159 165 171 177 183 189 195 201 207 213 219 225 231 237 243 249 255 261 267 273 279 285 291 297 303 309 315 321 327 333 339 345 351 357 363 369 375 381 387 393 399 405 411 417 423 429 435 441 447 453 459 465 471 477 483 489 495 "
          ]
        }
      ]
    },
    {
      "cell_type": "code",
      "source": [
        "#49\n",
        "print('Bem vindo a tabuada de um número digitado')\n",
        "n = int(input('Digite um número: '))\n",
        "for i in range(1, 11):\n",
        "    print(f'{n} x {i} = {n*i}')"
      ],
      "metadata": {
        "id": "lAok37V_Xp3F"
      },
      "execution_count": null,
      "outputs": []
    },
    {
      "cell_type": "code",
      "source": [
        "#50 Desenvolva um programa que leia seis \n",
        "#números inteiros e mostre a soma apenas daqueles que forem pares. Se o valor digitado for ímpar, desconsidere-o.\n",
        "\n",
        "\n",
        "n = []\n",
        "soma = 0\n",
        "cont = 0\n",
        "print('Digite seis números inteiros: ')\n",
        "for c in range(1,7):\n",
        " n = int(input((f'Digite o {c}º valor: ')))\n",
        " if n %2 == 0 :\n",
        "  soma += n\n",
        "  cont += 1\n",
        "print(f'A soma dos numeros pares é: {soma} e existem {cont} numeros pares')"
      ],
      "metadata": {
        "colab": {
          "base_uri": "https://localhost:8080/"
        },
        "id": "Lu6O360AYndl",
        "outputId": "91a97814-8d47-436a-8212-18bc92864827"
      },
      "execution_count": null,
      "outputs": [
        {
          "output_type": "stream",
          "name": "stdout",
          "text": [
            "Digite seis números inteiros: \n",
            "Digite o 1º valor: 2\n",
            "Digite o 2º valor: 1\n",
            "Digite o 3º valor: 1\n",
            "Digite o 4º valor: 3\n",
            "Digite o 5º valor: 8\n",
            "Digite o 6º valor: 95\n",
            "A soma dos numeros pares é: 10 e existem 2 numero pares\n"
          ]
        }
      ]
    },
    {
      "cell_type": "code",
      "source": [
        "#51 Desenvolva um programa que leia o primeiro termo e a razão de uma PA. No final, mostre os 10 primeiros termos dessa progressão.\n",
        "a1 = int(input('Digite um termo: '))\n",
        "r = int(input('Digite a razão: '))\n",
        "for c in range(1,11):\n",
        "  an = a1 + (c - 1) * r\n",
        "  print(an, end = \" \")\n"
      ],
      "metadata": {
        "colab": {
          "base_uri": "https://localhost:8080/"
        },
        "id": "4pBjpB0Zb_lm",
        "outputId": "30a0512f-8932-4554-8510-d8e9e5b05cad"
      },
      "execution_count": null,
      "outputs": [
        {
          "output_type": "stream",
          "name": "stdout",
          "text": [
            "Digite um termo: 2\n",
            "Digite a razão: 3\n",
            "2 5 8 11 14 17 20 23 26 29 "
          ]
        }
      ]
    },
    {
      "cell_type": "code",
      "source": [
        "#52 Faça um programa que leia um número inteiro e diga se ele é ou não um número primo.\n",
        "n = int(input('Digite um numero : '))\n",
        "tot=0\n",
        "for c in range(1,n+1):\n",
        "  if n % c == 0:\n",
        "      print('\\33[34m', end =' ')\n",
        "      tot += 1\n",
        "  else:\n",
        "      print('\\33[33m', end = ' ') \n",
        "  print(f'{c}', end = ' ')    \n",
        "print(f'\\n\\033[m O numero {n} foi divisivel {tot} vezes', end = ' ') \n",
        "\n",
        "if tot == 2:\n",
        "  print('O número é primo')\n",
        "else:\n",
        "  print('O número não é primo')  \n",
        "\n",
        "     \n"
      ],
      "metadata": {
        "colab": {
          "base_uri": "https://localhost:8080/"
        },
        "id": "xUv5fT_pgGGO",
        "outputId": "c26c25cd-c8b8-4919-b356-1d5f3ce43319"
      },
      "execution_count": null,
      "outputs": [
        {
          "output_type": "stream",
          "name": "stdout",
          "text": [
            "Digite um numero : 13\n",
            "\u001b[34m 1 \u001b[33m 2 \u001b[33m 3 \u001b[33m 4 \u001b[33m 5 \u001b[33m 6 \u001b[33m 7 \u001b[33m 8 \u001b[33m 9 \u001b[33m 10 \u001b[33m 11 \u001b[33m 12 \u001b[34m 13 \n",
            "\u001b[m O numero 13 foi divisivel 2 vezes O número é primo\n"
          ]
        }
      ]
    },
    {
      "cell_type": "code",
      "source": [
        "# versão avançada Faça um programa que leia um número inteiro e diga se ele é ou não um número primo.\n",
        "\n",
        "def is_prime(n):\n",
        "    if n <= 1:\n",
        "        return False\n",
        "    for i in range(2, int(n**0.5)+1):\n",
        "        if n % i == 0:\n",
        "            return False\n",
        "    return True\n",
        "\n",
        "n = int(input('Digite um número: '))\n",
        "if is_prime(n):\n",
        "    print(f\"{n} é primo.\")\n",
        "else:\n",
        "    print(f\"{n} não é primo.\")"
      ],
      "metadata": {
        "colab": {
          "base_uri": "https://localhost:8080/"
        },
        "id": "mopwLeP8IIBZ",
        "outputId": "8a950223-c559-4207-e7f5-ee7281e9b327"
      },
      "execution_count": null,
      "outputs": [
        {
          "output_type": "stream",
          "name": "stdout",
          "text": [
            "Digite um número: 33\n",
            "33 não é primo.\n"
          ]
        }
      ]
    },
    {
      "cell_type": "code",
      "source": [
        "#53 Crie um programa que leia uma frase qualquer e diga se ela é um palíndromo, desconsiderando os espaços.\n",
        "frase = str(input('Digite uma frase e vamos ver se ela é um PALINDRO: ')).strip().upper()\n",
        "palavra = frase.split()\n",
        "junto = ''.join(palavra)\n",
        "inverso = junto[::-1]\n",
        "#for letra in range (len(junto) - 1, -1, -1):\n",
        " #  inverso += junto[letra]\n",
        "\n",
        "#palavra_reversa = palavra[::-1]\n",
        "if inverso == junto:\n",
        "  print(f'{inverso} é um palindro')\n",
        "else:\n",
        "  print('Não é palindro')  \n",
        "\n"
      ],
      "metadata": {
        "id": "LWuqLLg_ioxN",
        "colab": {
          "base_uri": "https://localhost:8080/"
        },
        "outputId": "eca49f39-b863-4d4e-f405-872ba8335d91"
      },
      "execution_count": null,
      "outputs": [
        {
          "output_type": "stream",
          "name": "stdout",
          "text": [
            "Digite uma frase e vamos ver se ela é um PALINDRO: anotaram a data da maratona\n",
            "ANOTARAMADATADAMARATONA é um palindro\n"
          ]
        }
      ]
    },
    {
      "cell_type": "code",
      "source": [
        "#54 ler 7 idades e diga quantas já são maiores de idade e quantas não são\n",
        "import datetime\n",
        "from datetime import date\n",
        "nascimento = []\n",
        "tot = 0\n",
        "tot2 = 0\n",
        "for i in range (1,8):\n",
        "  nascimento = int(input(f'Digite o {i}º ano de nascimento: '))\n",
        "  idade = date.today().year - nascimento\n",
        "  if idade >= 21:\n",
        "    tot += 1\n",
        "  else:\n",
        "    tot2 += 1\n",
        "\n",
        "\n",
        "print(f'Temos {tot2} pessoas menores de idade é {tot} pessoas maiores de idade')\n",
        "\n",
        " \n"
      ],
      "metadata": {
        "colab": {
          "base_uri": "https://localhost:8080/"
        },
        "id": "niZESxMZkQC0",
        "outputId": "ddb3465a-4106-4708-ecb1-a6cbd565f1ee"
      },
      "execution_count": null,
      "outputs": [
        {
          "output_type": "stream",
          "name": "stdout",
          "text": [
            "Digite o 1º ano de nascimento: 1980\n",
            "Digite o 2º ano de nascimento: 2020\n",
            "Digite o 3º ano de nascimento: 1970\n",
            "Digite o 4º ano de nascimento: 2016\n",
            "Digite o 5º ano de nascimento: 1969\n",
            "Digite o 6º ano de nascimento: 2023\n",
            "Digite o 7º ano de nascimento: 1985\n",
            "Temos 3 pessoas menores é 4 pessoas maiores\n"
          ]
        }
      ]
    },
    {
      "cell_type": "code",
      "source": [
        "#55 leia peso de 5 pessoas e diga o maior peso e o menor peso\n",
        "pesos = []\n",
        "cont = 0\n",
        "cont2 = 0\n",
        "for i in range (1,6):\n",
        "  peso = float(input(f'Digite o {i} peso: '))\n",
        "  pesos.append(peso) \n",
        "  menor_peso = min(pesos)\n",
        "  maior_peso = max(pesos)\n",
        "  #if menor_peso < maior_peso:\n",
        "    #cont += 1\n",
        "  #print(_'Menor peso {menor_peso}')\n",
        "  #else:\n",
        "    #cont2 += 1\n",
        "  #print(f'O maior peso é {maior_peso}')  \n",
        "print(f'O menor peso lido foi {menor_peso}Kg e o maior peso lido foi {maior_peso}Kg')  \n",
        "\n",
        " "
      ],
      "metadata": {
        "id": "go9ma9Kuroz1",
        "colab": {
          "base_uri": "https://localhost:8080/"
        },
        "outputId": "6aa26ee7-3078-4f00-9cd2-ad5a283d9654"
      },
      "execution_count": null,
      "outputs": [
        {
          "output_type": "stream",
          "name": "stdout",
          "text": [
            "Digite o 1 peso: 100\n",
            "Digite o 2 peso: 200\n",
            "Digite o 3 peso: 300\n",
            "Digite o 4 peso: 400\n",
            "Digite o 5 peso: 500\n",
            "O menor peso lido foi 100.0Kg e o maior peso lido foi 500.0Kg\n"
          ]
        }
      ]
    },
    {
      "cell_type": "code",
      "source": [
        "#56 Leia nome idade e sexo de 4 pessoas e mostre a idade media do grupo, o nome do homen mais velho e quantas mulheres tem mais de 20 anos\n",
        "\n",
        "somaidade = 0\n",
        "mediaidade = 0\n",
        "maior_idade_homen = 0\n",
        "nome_do_homen_mais_velho ='Não existe Homens nesta lista '\n",
        "tot20 = 0\n",
        "\n",
        "print('-----= Bem vindo ao cadastro de passageiros =-----\\n')\n",
        "opcao = int(input(' -==-==- Digite quantas pessoas serão cadastradas:   -==-==-  \\n'))\n",
        "\n",
        "\n",
        "\n",
        "for i in range (opcao):\n",
        "\n",
        "   print(f'------{i+1}ª Pessoa------\\n') #coletando os dados\n",
        "\n",
        "   nome = str(input('Nome: ')).strip()\n",
        "   sexo = str(input('Sexo M/F: ')).strip()\n",
        "   idade = int(input('Idade: '))\n",
        "\n",
        "   somaidade += idade #soma todas as idades digitadas\n",
        "\n",
        "   if i == 1 and sexo in 'Mm':\n",
        "      maior_idade_homen = idade\n",
        "      nome_do_homen_mais_velho = nome\n",
        "\n",
        "   elif  sexo in 'Mm' and idade >  maior_idade_homen:\n",
        "      maior_idade_homen = idade\n",
        "      nome_do_homen_mais_velho = nome\n",
        "\n",
        "   elif sexo in 'Ff' and idade < 20:\n",
        "      tot20 += 1    \n",
        "   else:\n",
        "    print('Opção inválida, volte ao menun inicial')\n",
        "  \n",
        "\n",
        "\n",
        "mediaidade = somaidade/opcao\n",
        "\n",
        "print(f'A média de idade do grupo é de : {mediaidade:.2f} anos')\n",
        "print(f'O homen mais velho tem {maior_idade_homen} anos e se chama {nome_do_homen_mais_velho}')\n",
        "print(f'Exitem {tot20} Mulheres menores de 20 anos')\n",
        "\n",
        "\n",
        "  "
      ],
      "metadata": {
        "colab": {
          "base_uri": "https://localhost:8080/"
        },
        "id": "IGUQ_GRpGQFy",
        "outputId": "85302211-ff67-44db-85df-0ef9e7cba24e"
      },
      "execution_count": null,
      "outputs": [
        {
          "output_type": "stream",
          "name": "stdout",
          "text": [
            "-----= Bem vindo ao cadastro de passageiros =-----\n",
            "\n",
            " -==-==- Digite quantas pessoas serão cadastradas:   -==-==-  \n",
            "2\n",
            "------1ª Pessoa------\n",
            "\n",
            "Nome: jose\n",
            "Sexo M/F: m\n",
            "Idade: 35\n",
            "------2ª Pessoa------\n",
            "\n",
            "Nome: msrio\n",
            "Sexo M/F: m\n",
            "Idade: 75\n",
            "A média de idade do grupo é de : 55.00 anos\n",
            "O homen mais velho tem 75 anos e se chama msrio\n",
            "Exitem 0 Mulheres menores de 20 anos\n"
          ]
        }
      ]
    },
    {
      "cell_type": "code",
      "source": [
        "#57 leia o sexo e só aceite F ou M se estiver errado pergunte de novo\n",
        "\n",
        "while True:\n",
        "  sexo = str(input('Digite o sexo: F ou M ')).strip().upper() [0]\n",
        "\n",
        "  if sexo == 'M' or sexo == 'F':\n",
        "    print('Sexo inserido com sucesso')\n",
        "    break\n",
        "     \n",
        "  else:\n",
        "    print('Digite o sexo novamente, sexo inválido ')\n",
        "    continue\n"
      ],
      "metadata": {
        "colab": {
          "base_uri": "https://localhost:8080/"
        },
        "id": "zh5EiXyPq_L8",
        "outputId": "6daeea05-6307-48d4-e6c8-0e7efcd51874"
      },
      "execution_count": null,
      "outputs": [
        {
          "output_type": "stream",
          "name": "stdout",
          "text": [
            "Digite o sexo: F ou M a\n",
            "Digite o sexo novamente em Maisculo \n",
            "Digite o sexo: F ou M b\n",
            "Digite o sexo novamente em Maisculo \n",
            "Digite o sexo: F ou M F\n",
            "Sexo inserido com sucesso\n"
          ]
        }
      ]
    },
    {
      "cell_type": "code",
      "source": [
        "#57 alternativa sem if else\n",
        "sexo = str(input('Digite o sexo: F ou M ')).strip().upper() [0]\n",
        "while sexo not in  'MmFf':\n",
        "  sexo = str(input('Digite o sexo novamente: F ou M ')).strip().upper() [0]\n",
        "\n",
        "print('Sexo inserido com sucesso')"
      ],
      "metadata": {
        "colab": {
          "base_uri": "https://localhost:8080/"
        },
        "id": "1JwzOOeWmnDS",
        "outputId": "8b8b6a11-c392-4e3d-85fc-4513127f2d0f"
      },
      "execution_count": null,
      "outputs": [
        {
          "output_type": "stream",
          "name": "stdout",
          "text": [
            "Digite o sexo: F ou M 2\n",
            "Digite o sexo novamente: F ou M s\n",
            "Digite o sexo novamente: F ou M d\n",
            "Digite o sexo novamente: F ou M m\n",
            "Sexo inserido com sucesso\n"
          ]
        }
      ]
    },
    {
      "cell_type": "code",
      "source": [
        "#58 Avaliando numero\n",
        "\n",
        "import random\n",
        "from time import sleep\n",
        "print('- \\u2620 -'*20)\n",
        "print('Pensei em um número: ? ')\n",
        "print('- \\u2620 -'*20)\n",
        "\n",
        "sorteio = random.randint(0,10)\n",
        "\n",
        "cont = 0\n",
        "while True:\n",
        "  n = int(input('Digite um numero entre 0 e 10 e veja se voce advinhou o numero que pensei: '))\n",
        "  print('Processando...')\n",
        "  sleep(2)\n",
        "  cont += 1\n",
        "  if n == sorteio:\n",
        "     print('Parabéns você acertou \\U0001F973!!')\n",
        "     break\n",
        "  else:\n",
        "     print(f'Não foi dessa vez ótario \\U0001F921!') \n",
        "     continue\n",
        "     \n",
        "print(f'Voce tentou acertar {cont} vezes')     \n"
      ],
      "metadata": {
        "colab": {
          "base_uri": "https://localhost:8080/"
        },
        "id": "-p0cQrvzwSoQ",
        "outputId": "2285e841-33e0-4799-e6db-6255845c0844"
      },
      "execution_count": null,
      "outputs": [
        {
          "output_type": "stream",
          "name": "stdout",
          "text": [
            "- ☠ -- ☠ -- ☠ -- ☠ -- ☠ -- ☠ -- ☠ -- ☠ -- ☠ -- ☠ -- ☠ -- ☠ -- ☠ -- ☠ -- ☠ -- ☠ -- ☠ -- ☠ -- ☠ -- ☠ -\n",
            "Pensei em um número: ? \n",
            "- ☠ -- ☠ -- ☠ -- ☠ -- ☠ -- ☠ -- ☠ -- ☠ -- ☠ -- ☠ -- ☠ -- ☠ -- ☠ -- ☠ -- ☠ -- ☠ -- ☠ -- ☠ -- ☠ -- ☠ -\n",
            "Digite um numero entre 0 e 10 e veja se voce advinhou o numero que pensei: 10\n",
            "Processando...\n",
            "Não foi dessa vez ótario 🤡!\n",
            "Digite um numero entre 0 e 10 e veja se voce advinhou o numero que pensei: 1\n",
            "Processando...\n",
            "Não foi dessa vez ótario 🤡!\n",
            "Digite um numero entre 0 e 10 e veja se voce advinhou o numero que pensei: 0\n",
            "Processando...\n",
            "Parabéns você acertou 🥳!!\n",
            "Voce tentou acertar 3 vezes\n"
          ]
        }
      ]
    },
    {
      "cell_type": "code",
      "source": [
        ",#59 menu de calculos\n",
        "from time import sleep\n",
        "\n",
        "print(5*'-=-','Menu de Opçõea ', '-=-'*5)\n",
        "\n",
        "print('Digites dois valores abaixo: ')\n",
        "sleep(1)\n",
        "numero1 = int(input('Digite um valor\\n '))\n",
        "sleep(1)\n",
        "print('Número digitado com sucesso...')\n",
        "sleep(1)\n",
        "numero2 = int(input('Digite outro valor\\n '))\n",
        "sleep(1)\n",
        "print('Número digitado com sucesso...')\n",
        "sleep(1)\n",
        "print('Processando informações, abrindo Menu de Opções')\n",
        "sleep(2)\n",
        "\n",
        "while True:\n",
        "\n",
        "  op = int(input('Menu de Opções:\\n 1 -Somar\\n 2 - Multiplica\\n 3 - Maior Numero\\n 4 - Outros valores \\n5 - Sair\\n '))\n",
        "  print('Processando informações aguarde')\n",
        "  sleep(2)\n",
        "\n",
        "  if op == 1:\n",
        "     somar = numero1 + numero2\n",
        "     print('calculando soma')\n",
        "     sleep(1)\n",
        "     print(f'A soma foi de: {somar}')\n",
        "     continue\n",
        "\n",
        "  elif op == 2:\n",
        "     mult = numero1 * numero2\n",
        "     print('calculando a Multiplicação')\n",
        "     sleep(1)\n",
        "     print(f'A multiplicação é: {mult}')\n",
        "     continue\n",
        "\n",
        "  elif op == 3:\n",
        "    if numero1 == numero2:\n",
        "      print('Verificando números digitados aguarde...')\n",
        "      sleep(1)\n",
        "      print('Os números são iguais')\n",
        "      continue\n",
        "    num = max(numero1,numero2)\n",
        "    print('Verificando o maior número digitado aguarde...')\n",
        "    sleep(1)\n",
        "    print(f'O maior número é: {num}')\n",
        "    continue\n",
        "\n",
        "  elif op ==  4: \n",
        "      print('Digite novos valores: ')\n",
        "      sleep(1)\n",
        "      numero1 = int(input('Digite um valor novamente '))\n",
        "      numero2 = int(input('Digite outro valor novamente '))\n",
        "      print('Processando dados aguarde...')\n",
        "      sleep(1)\n",
        "      continue\n",
        "\n",
        "  elif op ==  5:\n",
        "      print('Saindo do programa,obrigado por usar nosso sistema')\n",
        "      break \n",
        "\n",
        "  else:\n",
        "      print('Opção inválida, tente novamente')\n",
        "      sleep(1)\n",
        "      continue  \n",
        "       \n",
        "\n",
        "\n",
        "\n",
        "\n"
      ],
      "metadata": {
        "colab": {
          "base_uri": "https://localhost:8080/"
        },
        "id": "aroJzZXm18bo",
        "outputId": "dbd3887a-5668-47d4-fb60-bf9303ccb2da"
      },
      "execution_count": null,
      "outputs": [
        {
          "output_type": "stream",
          "name": "stdout",
          "text": [
            "-=--=--=--=--=- Menu de Opçõea  -=--=--=--=--=-\n",
            "Digites dois valores abaixo: \n",
            "Digite um valor\n",
            " 10\n",
            "Número digiado com sucesso...\n",
            "Digite outro valor\n",
            " 15\n",
            "Número digiado com sucesso...\n",
            "Processando informações, abrindo Menu de Opções\n",
            "Menu de Opções:\n",
            " 1 -Somar\n",
            " 2 - Multiplica\n",
            " 3 - Maior Numero\n",
            " 4 - Outros valores \n",
            "5 - Sair\n",
            " 1\n",
            "Processando informações aguarde\n",
            "calculando soma\n",
            "A soma foi de: 25\n",
            "Menu de Opções:\n",
            " 1 -Somar\n",
            " 2 - Multiplica\n",
            " 3 - Maior Numero\n",
            " 4 - Outros valores \n",
            "5 - Sair\n",
            " 3\n",
            "Processando informações aguarde\n",
            "Verificando o maior número digitado aguarde...\n",
            "O maior número é: 15\n",
            "Menu de Opções:\n",
            " 1 -Somar\n",
            " 2 - Multiplica\n",
            " 3 - Maior Numero\n",
            " 4 - Outros valores \n",
            "5 - Sair\n",
            " 2\n",
            "Processando informações aguarde\n",
            "calculando a Multiplicação\n",
            "A multiplicação é: 150\n",
            "Menu de Opções:\n",
            " 1 -Somar\n",
            " 2 - Multiplica\n",
            " 3 - Maior Numero\n",
            " 4 - Outros valores \n",
            "5 - Sair\n",
            " 5\n",
            "Processando informações aguarde\n",
            "Saindo do programa,obrigado por usar nosso sistema\n"
          ]
        }
      ]
    },
    {
      "cell_type": "code",
      "source": [
        "#60 fatorial WHILE\n",
        "\n",
        "n = int(input('Digite um valor para calcular o fatorial '))\n",
        "c = n\n",
        "fat = 1\n",
        "print(f'Calculando Fatorial {n}! = ', end='')\n",
        "while c > 0:\n",
        "  print(f'{c}', end='')\n",
        "  print(f' X ' if c > 1 else ' = ', end='')\n",
        "  fat *= c\n",
        "  c -= 1\n",
        "print(f'{fat}')   \n",
        "  \n"
      ],
      "metadata": {
        "id": "hHq9mXXhNZme",
        "outputId": "88e091e8-72ac-4fa1-c9a8-a56484847634",
        "colab": {
          "base_uri": "https://localhost:8080/"
        }
      },
      "execution_count": null,
      "outputs": [
        {
          "output_type": "stream",
          "name": "stdout",
          "text": [
            "Digite um valor para calcular o fatorial 5\n",
            "Calculando Fatorial 5! = 5 X 4 X 3 X 2 X 1 = 120\n"
          ]
        }
      ]
    },
    {
      "cell_type": "code",
      "source": [
        "#fatorial opção 2 FUNCTION \n",
        "from  math import factorial\n",
        "f = 0\n",
        "n = int(input('Digite um número e veja seu fatorial: '))\n",
        "f = factorial(n)\n",
        "print(f'O fatorial de {n} é: {f}')"
      ],
      "metadata": {
        "colab": {
          "base_uri": "https://localhost:8080/"
        },
        "id": "SYKpGfGaRWEg",
        "outputId": "1f0ee530-f767-432c-8e92-f3475b47f08b"
      },
      "execution_count": null,
      "outputs": [
        {
          "output_type": "stream",
          "name": "stdout",
          "text": [
            "Digite um número e veja seu fatorial: \n",
            "5\n",
            "O fatorial de 5 é: 120\n"
          ]
        }
      ]
    },
    {
      "cell_type": "code",
      "source": [
        "#fatorial opção 3 FOR\n",
        "\n",
        "n = int(input('Digite um número e veja seu fatorial: \\n'))\n",
        "f = 1\n",
        "for i in range(1, n+1):\n",
        "    print(f'{i}', end='')\n",
        "    if i < n:\n",
        "        print(' X ', end='')\n",
        "    else:\n",
        "        print(' = ', end='')\n",
        "    f *= i\n",
        "print(f)\n"
      ],
      "metadata": {
        "colab": {
          "base_uri": "https://localhost:8080/"
        },
        "id": "swJ88IhbXKvK",
        "outputId": "b5a4a305-51ab-40f6-ea6d-ada49a7035fa"
      },
      "execution_count": null,
      "outputs": [
        {
          "output_type": "stream",
          "name": "stdout",
          "text": [
            "Digite um número e veja seu fatorial: \n",
            "5\n",
            "1 X 2 X 3 X 4 X 5 = 120\n"
          ]
        }
      ]
    },
    {
      "cell_type": "code",
      "source": [
        "#61 calculando PA com WHILE\n",
        "\n",
        "termo = int(input('Digite um termo: '))\n",
        "razao = int(input('Digite a razão: '))\n",
        "c = 1 \n",
        "while c <= 10 :\n",
        "  print(termo, end = \" \")\n",
        "  termo += razao\n",
        "  c += 1\n",
        "  \n"
      ],
      "metadata": {
        "colab": {
          "base_uri": "https://localhost:8080/"
        },
        "id": "pVArcwhxL6DR",
        "outputId": "219db294-2d45-4959-b99f-d0017a491227"
      },
      "execution_count": null,
      "outputs": [
        {
          "output_type": "stream",
          "name": "stdout",
          "text": [
            "Digite um termo: 5\n",
            "Digite a razão: 3\n",
            "5 8 11 14 17 20 23 26 29 32 "
          ]
        }
      ]
    },
    {
      "cell_type": "code",
      "source": [
        "#62 quantos termos usuario quer ver\n",
        "\n",
        "c = 1 \n",
        "termo = int(input('Digite um termo: '))\n",
        "razao = int(input('Digite a razão: '))\n",
        "termos = int(input('Digite quantos termos voce quer ver: '))\n",
        "\n",
        "\n",
        "while c <= termos :\n",
        "  print(termo, end = \" \")\n",
        "  termo = razao + termo\n",
        "  c += 1\n"
      ],
      "metadata": {
        "id": "KI6qXE-yQz8y",
        "outputId": "f337d731-fdfd-4c97-f2b6-c7a24bdd948f",
        "colab": {
          "base_uri": "https://localhost:8080/"
        }
      },
      "execution_count": null,
      "outputs": [
        {
          "output_type": "stream",
          "name": "stdout",
          "text": [
            "Digite um termo: 5\n",
            "Digite a razão: 3\n",
            "Digite quantos termos voce quer ver: 10\n",
            "5 8 11 14 17 20 23 26 29 32 "
          ]
        }
      ]
    },
    {
      "cell_type": "code",
      "source": [
        "#62 quantos termos usuario quer ver versao 2.0\n",
        "\n",
        "termo = int(input('Digite o termo da PA: '))\n",
        "razao = int(input('Digite a razão da PA: '))\n",
        "quantos_termos = int(input('Digite quantos termos que ver: '))\n",
        "cont = 1\n",
        "#termo = primeiro\n",
        "while cont <= quantos_termos:\n",
        "  print(termo,f' -> ', end='')\n",
        "  termo = razao+termo\n",
        "  cont += 1\n",
        "print('FIM', end='')\n",
        "\n",
        "  "
      ],
      "metadata": {
        "colab": {
          "base_uri": "https://localhost:8080/"
        },
        "id": "SOUT_b06ePv6",
        "outputId": "d5127275-fa87-4f55-b50c-8fd21da42eea"
      },
      "execution_count": null,
      "outputs": [
        {
          "output_type": "stream",
          "name": "stdout",
          "text": [
            "Digite o termo da PA: 0\n",
            "Digite a razão da PA: 5\n",
            "Digite quantos termos que ver: 10\n",
            "0  -> 5  -> 10  -> 15  -> 20  -> 25  -> 30  -> 35  -> 40  -> 45  -> FIM"
          ]
        }
      ]
    },
    {
      "cell_type": "code",
      "source": [
        "#62 quantos termos usuario quer ver adcionando mais numeros depois\n",
        "\n",
        "c = 1 \n",
        "a1 = int(input('Digite um termo: '))\n",
        "r = int(input('Digite a razão: '))\n",
        "termos = int(input('Digite quantos termos voce quer ver: '))\n",
        "lista = []\n",
        "\n",
        "while c <= termos :\n",
        "  if r == 0 :\n",
        "    print('Não podemos adcionar 0 a razão, digite novamente: ')\n",
        "    continue\n",
        "  an = (a1 + ((c - 1)* r))\n",
        "  c += 1\n",
        "  lista.append(an)\n",
        "print(f'Os {termos} primeiros termos são {lista}')   \n",
        "\n",
        "while True:\n",
        "  opcao = int(input('Digite 1 - para adcionar mais termos\\n 2 - Sair \\n'))\n",
        "\n",
        "  if opcao == 1:\n",
        "     novos_termos = int(input('Digite quantos termos voce quer ver a mais: '))\n",
        "     for i in range(1, novos_termos+1):\n",
        "         an = (a1 + ((c - 1)* r))\n",
        "         c += 1\n",
        "         lista.append(an)\n",
        "         continue\n",
        "  elif opcao == 2:\n",
        "     print(f'Os a lista final de termos é: {lista}', end = \" \")\n",
        "     break\n",
        "  else:\n",
        "     print('Opção inválida digite novamente ')\n",
        "     continue\n",
        "  \n",
        "   \n"
      ],
      "metadata": {
        "colab": {
          "base_uri": "https://localhost:8080/"
        },
        "id": "BSTm7TzJIhSm",
        "outputId": "807e8e95-edbf-48f5-bad3-c2b10675a598"
      },
      "execution_count": null,
      "outputs": [
        {
          "output_type": "stream",
          "name": "stdout",
          "text": [
            "Digite um termo: 5\n",
            "Digite a razão: 3\n",
            "Digite quantos termos voce quer ver: 5\n",
            "Os 5 primeiros termos são [5, 8, 11, 14, 17]\n",
            "Digite 1 - para adcionar mais termos\n",
            " 2 - Sair \n",
            "1\n",
            "Digite quantos termos voce quer ver a mais: 5\n",
            "Digite 1 - para adcionar mais termos\n",
            " 2 - Sair \n",
            "2\n",
            "Os a lista final de termos é: [5, 8, 11, 14, 17, 20, 23, 26, 29, 32] "
          ]
        }
      ]
    },
    {
      "cell_type": "code",
      "source": [
        "#62 quantos termos usuario quer ver adcionando mais numeros depois V 2.0\n",
        "\n",
        "c = 1 \n",
        "total = 0\n",
        "lista = []\n",
        "\n",
        "termo = int(input('Digite um termo:\\n '))\n",
        "razao = int(input('Digite a razão:\\n '))\n",
        "mais = int(input('Quantos termos?\\n ')) \n",
        "\n",
        "while mais != 0 :\n",
        "  total += mais\n",
        "  while c <= total:\n",
        "    lista.append(termo)\n",
        "    print(termo,' -> ', end = \" \")\n",
        "    termo += razao\n",
        "    c += 1\n",
        "  print('PAUSA')\n",
        "  mais = int(input('Quantos termos a mais?\\n '))  \n",
        "print(f'O total de termos é: {total} termos, com a seguinte lista:  {lista} -> FIM')  "
      ],
      "metadata": {
        "colab": {
          "base_uri": "https://localhost:8080/"
        },
        "id": "c_v_SEc1hSUV",
        "outputId": "134125a2-b39e-43ce-9aa2-5416b67c1767"
      },
      "execution_count": null,
      "outputs": [
        {
          "output_type": "stream",
          "name": "stdout",
          "text": [
            "Digite um termo:\n",
            " 0\n",
            "Digite a razão:\n",
            " 2\n",
            "Quantos termos?\n",
            " 5\n",
            "0  ->  2  ->  4  ->  6  ->  8  ->  PAUSA\n",
            "Quantos termos a mais?\n",
            " 5\n",
            "10  ->  12  ->  14  ->  16  ->  18  ->  PAUSA\n",
            "Quantos termos a mais?\n",
            " 0\n",
            "O total de termos: 10, com os termos [0, 2, 4, 6, 8, 10, 12, 14, 16, 18] -> FIM\n"
          ]
        }
      ]
    },
    {
      "cell_type": "code",
      "source": [
        "n = 2\n",
        "lista = [0, '->'  ,1]\n",
        "\n",
        "print(lista)"
      ],
      "metadata": {
        "colab": {
          "base_uri": "https://localhost:8080/"
        },
        "id": "SCo_Wc4zsi4t",
        "outputId": "587f65b4-1a74-4d27-cda4-e9ef1a3d597c"
      },
      "execution_count": null,
      "outputs": [
        {
          "output_type": "stream",
          "name": "stdout",
          "text": [
            "[0, '->', 1]\n"
          ]
        }
      ]
    },
    {
      "cell_type": "code",
      "source": [
        "#63 fibonacci\n",
        "n = int(input('Quantos termos você quer mostrar? '))\n",
        "t1 = 0\n",
        "t2 = 1\n",
        "cont = 3\n",
        "print(f'{t1} -> {t2}', end='')\n",
        "while cont <= n:\n",
        "  t3 = t1 + t2\n",
        "  print(f' -> {t3}', end='')\n",
        "  t1 = t2\n",
        "  t2 = t3\n",
        "  cont += 1\n",
        "\n",
        "  "
      ],
      "metadata": {
        "colab": {
          "base_uri": "https://localhost:8080/"
        },
        "id": "KRbvJ-1xySZi",
        "outputId": "3aab5b20-697e-416f-c9fa-3e6a4f204e49"
      },
      "execution_count": null,
      "outputs": [
        {
          "output_type": "stream",
          "name": "stdout",
          "text": [
            "Quantos termos você quer mostrar? 10\n",
            "0 -> 1 -> 1 -> 2 -> 3 -> 5 -> 8 -> 13 -> 21 -> 34"
          ]
        }
      ]
    },
    {
      "cell_type": "code",
      "source": [
        "#63 Definindo a quantidade de números a serem gerados\n",
        "n = int(input('Quantos termos quer exibir: '))\n",
        "\n",
        "# Inicializando as variáveis com os dois primeiros números da sequência\n",
        "a = 0\n",
        "b = 1\n",
        "\n",
        "\n",
        "# Loop para gerar os próximos números da sequência\n",
        "for i in range(n):\n",
        "    print(a, end=' ')\n",
        "    a, b = b, a + b"
      ],
      "metadata": {
        "colab": {
          "base_uri": "https://localhost:8080/"
        },
        "id": "10VW080Uuhru",
        "outputId": "4a4a5ceb-e6af-432a-f5b2-9c0025bb84ee"
      },
      "execution_count": null,
      "outputs": [
        {
          "output_type": "stream",
          "name": "stdout",
          "text": [
            "Quantos termos quer exibir: 12\n",
            "0 1 1 2 3 5 8 13 21 34 55 89 "
          ]
        }
      ]
    },
    {
      "cell_type": "code",
      "source": [
        "#63 fibonacci\n",
        "t1 = 0\n",
        "t2 = 1\n",
        "t3 = t1+t2\n",
        "lista  = [t1,t2]\n",
        "cont = 3\n",
        "n = int(10)\n",
        "while cont <= n:\n",
        "  t3 = t1+t2  \n",
        "  cont += 1\n",
        "  t1 = t2\n",
        "  t2 = t3\n",
        "  lista.append(t3)\n",
        "print(lista)"
      ],
      "metadata": {
        "colab": {
          "base_uri": "https://localhost:8080/"
        },
        "id": "1amWfM0H3mhC",
        "outputId": "19cf5940-a36c-4d19-8449-d59234281031"
      },
      "execution_count": null,
      "outputs": [
        {
          "output_type": "stream",
          "name": "stdout",
          "text": [
            "[0, 1, 1, 2, 3, 5, 8, 13, 21, 34]\n"
          ]
        }
      ]
    },
    {
      "cell_type": "code",
      "source": [
        "#64 Números primos\n",
        "\n",
        "num = int(input(\"Digite um número: \"))\n",
        "\n",
        "# Verifica se o número é primo\n",
        "primo = True\n",
        "for i in range(2, num):\n",
        "    if num % i == 0:\n",
        "        primo = False\n",
        "        break\n",
        "\n",
        "# Exibe o resultado\n",
        "if primo:\n",
        "    print(num, \"é um número primo\")\n",
        "else:\n",
        "    print(num, \"não é um número primo\")\n",
        "\n",
        "\n"
      ],
      "metadata": {
        "colab": {
          "base_uri": "https://localhost:8080/"
        },
        "id": "bnWgzIOYRuSX",
        "outputId": "23609534-0da0-47fe-ddbd-b834c1a5d421"
      },
      "execution_count": null,
      "outputs": [
        {
          "output_type": "stream",
          "name": "stdout",
          "text": [
            "Digite um número: 13\n",
            "13 é um número primo\n"
          ]
        }
      ]
    },
    {
      "cell_type": "code",
      "source": [
        "#63 fiboncci\n",
        "#Fn = Fn - 1 + Fn - 2\n",
        "n = int(input('Digite n '))\n",
        "#for i in range(5):\n",
        " # fn = n + (n - 1)\n",
        " # print(fn)\n",
        "\n",
        "lista = [0,1]\n",
        "c = 0\n",
        "while lista[-1] <= n :\n",
        "    lista.append(lista[-1] + lista[-2])\n",
        "    c += 1\n",
        "print(lista)    "
      ],
      "metadata": {
        "colab": {
          "base_uri": "https://localhost:8080/"
        },
        "id": "glm_yFpkO9_3",
        "outputId": "7ae15269-9615-419c-ecc4-53f4cba93902"
      },
      "execution_count": null,
      "outputs": [
        {
          "output_type": "stream",
          "name": "stdout",
          "text": [
            "Digite n 5\n",
            "[0, 1, 1, 2, 3, 5, 8]\n"
          ]
        }
      ]
    },
    {
      "cell_type": "code",
      "source": [
        "#64/65 Crie um programa que leia vários números inteiros pelo teclado. \n",
        "#O programa só vai parar quando o usuário digitar o valor 999, que é a condição de parada. No final, mostre\n",
        "#quantos números foram digitados e qual foi a soma entre eles (desconsiderando o flag).\n",
        "\n",
        "n = int(input('Digite um valor: '))\n",
        "numeros = [n]\n",
        "\n",
        "while n != 999:\n",
        "  n = int(input('Digite um valor: '))\n",
        "  if n == 999:\n",
        "    break \n",
        "  elif n > 999:\n",
        "    print('Este valor é proíbido')\n",
        "    continue \n",
        "  numeros.append(n)\n",
        "    \n",
        "soma = sum(numeros)\n",
        "media = soma / len(numeros)\n",
        "maior = max(numeros)\n",
        "menor = min(numeros)\n",
        "print(f'A soma dos valores digitados é: {soma} e a média é {media} com o maior valor de {maior} e o menor valor é {menor} com a lista de valores {numeros}')    "
      ],
      "metadata": {
        "colab": {
          "base_uri": "https://localhost:8080/"
        },
        "id": "GtUfZXm3WY4N",
        "outputId": "ff4151d0-bf1d-41b7-dba5-3251e8a9db0b"
      },
      "execution_count": null,
      "outputs": [
        {
          "output_type": "stream",
          "name": "stdout",
          "text": [
            "Digite um valor: 10\n",
            "Digite um valor: 20\n",
            "Digite um valor: 30\n",
            "Digite um valor: 999\n",
            "A soma dos valores digitados é: 60 e a média é 20.0 com o maior valor de 30 e o menor valor é 10 com a lista de valores [10, 20, 30]\n"
          ]
        }
      ]
    },
    {
      "cell_type": "code",
      "source": [
        "#64 Crie um programa que leia vários números inteiros pelo teclado. \n",
        "#O programa só vai parar quando o usuário digitar o valor 999, que é a condição de parada. No final, mostre\n",
        "#quantos números foram digitados e qual foi a soma entre eles (desconsiderando o flag).\n",
        "n = cont = soma =0\n",
        "n = int(input('Digite um número ou 999 para sair: \\n'))\n",
        "while n != 999:\n",
        "  soma += n\n",
        "  cont += 1\n",
        "  n = int(input('Digite um número ou 999 para sair: \\n'))\n",
        "print(f'A soma é {soma} e tem {cont} digitos')  \n",
        "\n",
        " \n"
      ],
      "metadata": {
        "id": "-iufYJrD-o0C",
        "outputId": "3a3a3c1d-c6f5-4d55-c66c-8f6e9bcc86f1",
        "colab": {
          "base_uri": "https://localhost:8080/"
        }
      },
      "execution_count": null,
      "outputs": [
        {
          "output_type": "stream",
          "name": "stdout",
          "text": [
            "Digite um número ou 999 para sair: \n",
            "1\n",
            "Digite um número ou 999 para sair: \n",
            "2\n",
            "Digite um número ou 999 para sair: \n",
            "3\n",
            "Digite um número ou 999 para sair: \n",
            "999\n",
            "A soma é 6 e tem 3 digitos\n"
          ]
        }
      ]
    },
    {
      "cell_type": "code",
      "source": [
        "#65 Crie um programa que leia vários números inteiros pelo teclado. No final da execução, mostre a média entre todos os valores e qual foi o maior \n",
        "#e o menor valores lidos. O programa deve perguntar ao usuário se ele quer ou não continuar a digitar valores.\n",
        "\n",
        "numeros = []\n",
        "c=0\n",
        "while True:\n",
        "  op = int(input('Bem vindo, Digite 1 - Sair ou 2 - Continuar '))\n",
        "  if op == 2:\n",
        "    lista = int(input('Digite um valor: '))\n",
        "    numeros.append(lista)\n",
        "    c+=1\n",
        "    continue\n",
        "  elif op == 1:\n",
        "    print('Saindo do sistema')\n",
        "    break\n",
        "  else:\n",
        "    print('Número ou opção inválida')\n",
        "    continue \n",
        "\n",
        "soma = sum(numeros)\n",
        "media = soma/len(numeros)   \n",
        "maior = max(numeros)\n",
        "menor = min(numeros)  \n",
        "\n",
        "print(soma, media, maior, menor)\n",
        "\n",
        "\n",
        "  \n",
        "\n",
        "\n",
        "\n"
      ],
      "metadata": {
        "id": "k_QFNP5I7Ifl",
        "colab": {
          "base_uri": "https://localhost:8080/"
        },
        "outputId": "b59d4eb1-d4f3-4363-af5e-9118bf216855"
      },
      "execution_count": null,
      "outputs": [
        {
          "output_type": "stream",
          "name": "stdout",
          "text": [
            "Bem vindo, Digite 1 - Sair ou 2 - Continuar 2\n",
            "Digite um valor: 20\n",
            "Bem vindo, Digite 1 - Sair ou 2 - Continuar 2\n",
            "Digite um valor: 30\n",
            "Bem vindo, Digite 1 - Sair ou 2 - Continuar 2\n",
            "Digite um valor: 5\n",
            "Bem vindo, Digite 1 - Sair ou 2 - Continuar 2\n",
            "Digite um valor: 10\n",
            "Bem vindo, Digite 1 - Sair ou 2 - Continuar 1\n",
            "Saindo do sistema\n",
            "65 16.25 30 5\n"
          ]
        }
      ]
    },
    {
      "cell_type": "code",
      "source": [
        "#66 Crie um programa que leia números inteiros pelo teclado. O programa só vai parar quando o \n",
        "#usuário digitar o valor 999, que é a condição de parada. No final,\n",
        "# mostre quantos números foram digitados e qual foi a soma entre elas (desconsiderando o flag).\n",
        "\n",
        "numeros=cont = soma = 0\n",
        "while True:\n",
        "  numeros = int(input('Digite um numero ou 999 para sair: '))\n",
        "\n",
        "  if numeros == 999:\n",
        "    print('saindo do programa')\n",
        "    break\n",
        "\n",
        "  soma += numeros\n",
        "  cont += 1\n",
        "print(f'A soma dos {cont} números digitados é {soma}')    \n"
      ],
      "metadata": {
        "colab": {
          "base_uri": "https://localhost:8080/"
        },
        "id": "cNZkPWUnqjyl",
        "outputId": "1888c0ea-5f3c-4a16-a595-86858006e93c"
      },
      "execution_count": null,
      "outputs": [
        {
          "output_type": "stream",
          "name": "stdout",
          "text": [
            "Digite um numero ou 999 para sair: 1\n",
            "Digite um numero ou 999 para sair: 2\n",
            "Digite um numero ou 999 para sair: 3\n",
            "Digite um numero ou 999 para sair: 4\n",
            "Digite um numero ou 999 para sair: 5\n",
            "Digite um numero ou 999 para sair: 999\n",
            "saindo do programa\n",
            "A soma dos 5 números digitados é 15\n"
          ]
        }
      ]
    },
    {
      "cell_type": "code",
      "source": [
        "#67: Faça um programa que mostre a tabuada de vários números, um de cada vez, \n",
        "#para cada valor digitado pelo usuário. O programa será interrompido quando o número solicitado for negativo.\n",
        "from time import sleep\n",
        "n = cont = 0\n",
        "\n",
        "while True:\n",
        "  n = int(input('Digite um número e veja a tabuada dele: '))\n",
        "\n",
        "  if n <= 0:\n",
        "    print('Número negativo ou zero valor, saindo do programa')\n",
        "    break\n",
        "    3\n",
        "  for i in range(1, 11):\n",
        "    print(f'{n} x {i} = {n*i}')  \n",
        "    sleep(1)"
      ],
      "metadata": {
        "colab": {
          "base_uri": "https://localhost:8080/"
        },
        "id": "PQ_po_bbtLpR",
        "outputId": "2d430655-1b50-4832-b168-9696f5de349e"
      },
      "execution_count": null,
      "outputs": [
        {
          "output_type": "stream",
          "name": "stdout",
          "text": [
            "Digite um número e veja a tabuada dele: 2\n",
            "2 x 1 = 2\n",
            "2 x 2 = 4\n",
            "2 x 3 = 6\n",
            "2 x 4 = 8\n",
            "2 x 5 = 10\n",
            "2 x 6 = 12\n",
            "2 x 7 = 14\n",
            "2 x 8 = 16\n",
            "2 x 9 = 18\n",
            "2 x 10 = 20\n",
            "Digite um número e veja a tabuada dele: 0\n",
            "Número negativo ou zero valor, saindo do programa\n"
          ]
        }
      ]
    },
    {
      "cell_type": "code",
      "source": [
        "#68: Faça um programa que jogue par ou ímpar com o computador. O jogo só será interrompido quando \n",
        "#o jogador perder, mostrando o total de vitórias consecutivas que ele conquistou no final do jogo.\n",
        "# acertar a soma dos numeros se é par ou impar\n",
        "from random import randint\n",
        "v = 0\n",
        "while True:\n",
        "  jogador = int(input('Digite um numero de 0 a 10: '))\n",
        "  computador = randint(0,10)\n",
        "  total = computador + jogador\n",
        "  tipo = ' '\n",
        "  tipo = str(input('Digite PAR ou IMPAR para o resultado\\n')).upper().strip() [0]\n",
        "  if tipo == 'PAR' and total % 2 == 0:\n",
        "    #if total % 2 ==0:\n",
        "      print('Você venceu')\n",
        "      v += 1\n",
        "      print(f'Você escolheu {tipo} e Você venceu: {v} vezes,Você jogou: {jogador}, o Coputador jogou: {computador}, a soma dos valores é de: {total}')\n",
        "  elif tipo == 'IMPAR' and total % 2 == 1:\n",
        "    print('Você venceu!!')\n",
        "    v+=1  \n",
        "    print(f'Você escolheu {tipo} e Você venceu: {v} vezes,Você jogou: {jogador}, o Coputador jogou: {computador}, a soma dos valores é de: {total}')\n",
        "  else:\n",
        "    print(f'Você perdeu! Resultado {total}')\n",
        "    break\n",
        "\n",
        "  print('Vamos jogar novamente....') \n",
        "  "
      ],
      "metadata": {
        "colab": {
          "base_uri": "https://localhost:8080/"
        },
        "id": "hPZ5Hlqjz4zB",
        "outputId": "d9646f24-84fb-4df3-954e-4811f9521587"
      },
      "execution_count": null,
      "outputs": [
        {
          "output_type": "stream",
          "name": "stdout",
          "text": [
            "Digite um numero de 0 a 10: 6\n",
            "Digite PAR ou IMPAR para o resultado\n",
            "impar\n",
            "Você perdeu! Resultado 16\n"
          ]
        }
      ]
    },
    {
      "cell_type": "code",
      "source": [
        "#69 Crie um programa que leia a idade e o sexo de várias pessoas. \n",
        "#A cada pessoa cadastrada, o programa deverá perguntar se o usuário quer ou não continuar. No final, mostre:\n",
        "\n",
        "#A) quantas pessoas tem mais de 18 anos.\n",
        "\n",
        "#B) quantos homens foram cadastrados.\n",
        "\n",
        "#C) quantas mulheres tem menos de 20 anos.\n",
        "\n",
        "idade = 0\n",
        "tot20 = 0\n",
        "contM = 0\n",
        "contF = 0\n",
        "contIdade = 0\n",
        "print('-----= Bem vindo ao cadastro de pessoas =-----\\n')\n",
        "\n",
        "while True:\n",
        "\n",
        "  idade = int(input(' -==-==- Digite a idade:   -==-==-  \\n'))\n",
        "  if idade > 18:\n",
        "    contIdade += 1\n",
        "       \n",
        "  sexo = ' ' \n",
        "  while sexo not in 'FM':\n",
        "    sexo = str(input('   -==-==-  Digite o sexo [M/F]:   -==-==-   \\n')).upper().strip()[0]\n",
        "\n",
        "  if sexo == 'M':\n",
        "    contM += 1\n",
        "    \n",
        "\n",
        "  elif sexo == 'F':\n",
        "    if idade < 20 :\n",
        "      tot20 += 1\n",
        "\n",
        "  op = ' '\n",
        "  while op not in 'SN': \n",
        "    op = str(input('Deseja cadastrar mais uma pessoa? [S/N]: ')).upper().strip()[0]\n",
        "\n",
        "  if op == 'S':\n",
        "     continue\n",
        "\n",
        "  elif op == 'N':\n",
        "     print('Saindo do programa...\\n')\n",
        "     break\n",
        "\n",
        "print(f'O total de pessoas maiores de 18 é de: {contIdade}\\n')\n",
        "print(f'O total de homens cadastrados é de: {contM}\\n')\n",
        "print(f'Exitem {tot20} Mulheres menores de 20 anos')\n"
      ],
      "metadata": {
        "id": "Mk1rVRdluZGU"
      },
      "execution_count": null,
      "outputs": []
    },
    {
      "cell_type": "code",
      "source": [
        "\n",
        "#70: Crie um programa que leia o nome e o preço de vários produtos. \n",
        "#O programa deverá perguntar se o usuário vai continuar ou não. No final, mostre:\n",
        "\n",
        "#A) qual é o total gasto na compra.\n",
        "\n",
        "#B) quantos produtos custam mais de R$1000.\n",
        "\n",
        "#C) qual é o nome do produto mais barato.\n",
        "\n",
        "soma = 0\n",
        "listaPreco = []\n",
        "listaProduto = []\n",
        "while True:\n",
        "  produto = str(input('Digite o nome do produto:\\n'))\n",
        "  listaProduto.append(produto)\n",
        "\n",
        "  preco = float(input('Digite o preço do Produto R$: \\n'))\n",
        "  listaPreco.append(preco)\n",
        "\n",
        "  \n",
        "\n",
        "  menor_preco = listaPreco.index(min(listaPreco))\n",
        "  nome_produto_mais_barato = listaProduto[menor_preco]\n",
        "\n",
        "\n",
        "  op=' '\n",
        "  op = str(input('Deseja continuar [S/N]: \\n')).upper().strip()[0]\n",
        "           \n",
        "  if op == 'S':\n",
        "     continue\n",
        "\n",
        "  if op == 'N':\n",
        "    print('{:-^40}'.format ('Saindo do Programa'))\n",
        "    break \n",
        "\n",
        "cont_maior_1000 = 0\n",
        "for preco in listaPreco:\n",
        "    if preco > 1000:\n",
        "        cont_maior_1000 += 1\n",
        "\n",
        "soma = sum(listaPreco)\n",
        "print(f'Os produtodos cadastrados são: {listaProduto} \\ncom valores de R$ {listaPreco}, \\nsoma dos valores e de R${soma:.2f}')\n",
        "print(f'O produto mais barato é \"{nome_produto_mais_barato}\" com preço de R$ {min(listaPreco):.2f}')\n",
        "print(f'{cont_maior_1000} produtos têm preço maior que R$ 1000')"
      ],
      "metadata": {
        "colab": {
          "base_uri": "https://localhost:8080/"
        },
        "id": "8I1SCVO_3aUx",
        "outputId": "6ec26a55-07e5-465c-b11a-51dd24eaa867"
      },
      "execution_count": null,
      "outputs": [
        {
          "output_type": "stream",
          "name": "stdout",
          "text": [
            "Digite o nome do produto:\n",
            "carro\n",
            "Digite o preço do Produto R$: \n",
            "25000\n",
            "Deseja continuar [S/N]: \n",
            "s\n",
            "Digite o nome do produto:\n",
            "pao\n",
            "Digite o preço do Produto R$: \n",
            "3\n",
            "Deseja continuar [S/N]: \n",
            "s\n",
            "Digite o nome do produto:\n",
            "celular\n",
            "Digite o preço do Produto R$: \n",
            "1000\n",
            "Deseja continuar [S/N]: \n",
            "n\n",
            "-----------Saindo do Programa-----------\n",
            "Os produtodos cadastrados são: ['carro', 'pao', 'celular'] \n",
            "com valores de R$ [25000.0, 3.0, 1000.0], \n",
            "soma dos valores e de R$26003.00\n",
            "O produto mais barato é \"pao\" com preço de R$ 3.00\n",
            "1 produtos têm preço maior que R$ 1000\n"
          ]
        }
      ]
    },
    {
      "cell_type": "code",
      "source": [
        "#71 simulando um caixa eletronico\n",
        "cedulas = [100, 50, 20, 10, 5, 1]\n",
        "\n",
        "while True:\n",
        "    valor = int(input(\"Digite o valor a ser sacado: \"))\n",
        "\n",
        "    for cedula in cedulas:\n",
        "        quantidade = valor // cedula\n",
        "        if quantidade > 0:\n",
        "            valor -= quantidade * cedula\n",
        "            print(f\"{quantidade} cédula(s) de R${cedula}\")\n",
        "\n",
        "        if valor == 0:\n",
        "            break\n",
        "\n",
        "    op = int(input('Deseja fazer outro Saque? DIGITE [1] para SIM ou [2] para NÃO\\n'))\n",
        "    \n",
        "    if op == 1:\n",
        "        continue\n",
        "\n",
        "    elif op == 2:\n",
        "        print('Obrigado por usar o Banco Becker')\n",
        "        break\n",
        "\n",
        "    else:\n",
        "        print('opção inválida')\n",
        "        continue"
      ],
      "metadata": {
        "id": "mHArQccVPiGZ",
        "outputId": "e940fce3-e0ab-4209-967d-0d3df7eebc5f",
        "colab": {
          "base_uri": "https://localhost:8080/"
        }
      },
      "execution_count": null,
      "outputs": [
        {
          "output_type": "stream",
          "name": "stdout",
          "text": [
            "Digite o valor a ser sacado: 356\n",
            "3 cédula(s) de R$100\n",
            "1 cédula(s) de R$50\n",
            "1 cédula(s) de R$5\n",
            "1 cédula(s) de R$1\n",
            "Deseja fazer outro Saque? DIGITE [1] para SIM ou [2] para NÃO\n",
            "2\n",
            "Obrigado por usar o Banco Becker\n"
          ]
        }
      ]
    },
    {
      "cell_type": "code",
      "source": [
        "!pip install hashlib\n"
      ],
      "metadata": {
        "colab": {
          "base_uri": "https://localhost:8080/"
        },
        "id": "-Ly4u_nb9Hvs",
        "outputId": "6f8905a6-cd7a-460c-d641-e9faa6529c07"
      },
      "execution_count": null,
      "outputs": [
        {
          "output_type": "stream",
          "name": "stdout",
          "text": [
            "Looking in indexes: https://pypi.org/simple, https://us-python.pkg.dev/colab-wheels/public/simple/\n",
            "Collecting hashlib\n",
            "  Using cached hashlib-20081119.zip (42 kB)\n",
            "  \u001b[1;31merror\u001b[0m: \u001b[1msubprocess-exited-with-error\u001b[0m\n",
            "  \n",
            "  \u001b[31m×\u001b[0m \u001b[32mpython setup.py egg_info\u001b[0m did not run successfully.\n",
            "  \u001b[31m│\u001b[0m exit code: \u001b[1;36m1\u001b[0m\n",
            "  \u001b[31m╰─>\u001b[0m See above for output.\n",
            "  \n",
            "  \u001b[1;35mnote\u001b[0m: This error originates from a subprocess, and is likely not a problem with pip.\n",
            "  Preparing metadata (setup.py) ... \u001b[?25l\u001b[?25herror\n",
            "\u001b[1;31merror\u001b[0m: \u001b[1mmetadata-generation-failed\u001b[0m\n",
            "\n",
            "\u001b[31m×\u001b[0m Encountered error while generating package metadata.\n",
            "\u001b[31m╰─>\u001b[0m See above for output.\n",
            "\n",
            "\u001b[1;35mnote\u001b[0m: This is an issue with the package mentioned above, not pip.\n",
            "\u001b[1;36mhint\u001b[0m: See above for details.\n"
          ]
        }
      ]
    },
    {
      "cell_type": "code",
      "source": [
        "#criptografia de senha  usandl sal e SHA256\n",
        "\n",
        "import hashlib\n",
        "import os\n",
        "\n",
        "# Gera um salt aleatório\n",
        "salt = os.urandom(128)\n",
        "\n",
        "senha = input(\"Digite a senha a ser criptografada: \")\n",
        "\n",
        "# Concatena o salt com a senha\n",
        "senha_com_salt = salt + senha.encode()\n",
        "\n",
        "# Criptografa a senha com o salt usando o algoritmo SHA-256\n",
        "senha_criptografada = hashlib.sha256(senha_com_salt).hexdigest()\n",
        "\n",
        "print(\"A senha criptografada é:\", senha_criptografada)"
      ],
      "metadata": {
        "colab": {
          "base_uri": "https://localhost:8080/"
        },
        "id": "jftU5big9Ebm",
        "outputId": "57e60b8d-49c3-48e4-b585-62c996432274"
      },
      "execution_count": null,
      "outputs": [
        {
          "output_type": "stream",
          "name": "stdout",
          "text": [
            "Digite a senha a ser criptografada: Raissa123@1\n",
            "A senha criptografada é: a7c5bdc43083db32f2114177e7128cb9ba08ba4b54692f46aac768f375fa3ce7\n"
          ]
        }
      ]
    },
    {
      "cell_type": "code",
      "source": [
        "from IPython.display import Image\n",
        "try:\n",
        "  filename = take_photo()\n",
        "  print('Saved to {}'.format(filename))\n",
        "  \n",
        "  # Show the image which was just taken.\n",
        "  display(Image(filename))\n",
        "except Exception as err:\n",
        "  # Errors will be thrown if the user does not have a webcam or if they do not\n",
        "  # grant the page permission to access it.\n",
        "  print(str(err))"
      ],
      "metadata": {
        "colab": {
          "base_uri": "https://localhost:8080/",
          "height": 514
        },
        "id": "0jqRLzU9DjMt",
        "outputId": "d505e9dd-da3c-4fe0-c7f4-69b8d719c2c0"
      },
      "execution_count": null,
      "outputs": [
        {
          "output_type": "display_data",
          "data": {
            "text/plain": [
              "<IPython.core.display.Javascript object>"
            ],
            "application/javascript": [
              "\n",
              "    async function takePhoto(quality) {\n",
              "      const div = document.createElement('div');\n",
              "      const capture = document.createElement('button');\n",
              "      capture.textContent = 'Capture';\n",
              "      div.appendChild(capture);\n",
              "\n",
              "      const video = document.createElement('video');\n",
              "      video.style.display = 'block';\n",
              "      const stream = await navigator.mediaDevices.getUserMedia({video: true});\n",
              "\n",
              "      document.body.appendChild(div);\n",
              "      div.appendChild(video);\n",
              "      video.srcObject = stream;\n",
              "      await video.play();\n",
              "\n",
              "      // Resize the output to fit the video element.\n",
              "      google.colab.output.setIframeHeight(document.documentElement.scrollHeight, true);\n",
              "\n",
              "      // Wait for Capture to be clicked.\n",
              "      await new Promise((resolve) => capture.onclick = resolve);\n",
              "\n",
              "      const canvas = document.createElement('canvas');\n",
              "      canvas.width = video.videoWidth;\n",
              "      canvas.height = video.videoHeight;\n",
              "      canvas.getContext('2d').drawImage(video, 0, 0);\n",
              "      stream.getVideoTracks()[0].stop();\n",
              "      div.remove();\n",
              "      return canvas.toDataURL('image/jpeg', quality);\n",
              "    }\n",
              "    "
            ]
          },
          "metadata": {}
        },
        {
          "output_type": "stream",
          "name": "stdout",
          "text": [
            "Saved to photo.jpg\n"
          ]
        },
        {
          "output_type": "display_data",
          "data": {
            "image/jpeg": "[encoded data removed]",
            "text/plain": [
              "<IPython.core.display.Image object>"
            ]
          },
          "metadata": {}
        }
      ]
    },
    {
      "cell_type": "code",
      "source": [
        "#dicionario,lista e tuplas\n",
        "#Essas linhas criam uma lista vazia, uma tupla vazia e um dicionário vazio, respectivamente.\n",
        "#Lista list=[]\n",
        "#Tupla tupla=()\n",
        "#Dicionario dic={}\n",
        "\n",
        "'''pessoa = {'Nome':['Davi','Maria'],'Altura':['1.76m','2.10'],'Sexo':['Masculino','Feminino']}\n",
        "print(pessoa['Nome'])\n",
        "print(pessoa['Altura'])\n",
        "print('Nome:',pessoa['Nome'][0],'Altura:',pessoa['Altura'][0],'Sexo:',pessoa['Sexo'][0])\n",
        "print(pessoa)'''\n",
        "\n",
        "pessoas = {}\n",
        "\n",
        "while True:\n",
        "    nome = str(input('Digite o Nome: (Ou sair para sair\\n)')).upper().strip()\n",
        "    if nome == 'SAIR':\n",
        "      break\n",
        "    idade = int(input('Digite a idade:\\n '))\n",
        "    sexo = str(input('Digite o Sexo: \\n'))\n",
        "\n",
        "    pessoa ={'Nome': nome, 'Sexo': sexo, 'Idade': idade}\n",
        "    pessoas[nome] = pessoa\n",
        "for nome, pessoa in pessoas.items():\n",
        "  print(f'Nome: {pessoa[\"Nome\"]}, Sexo: {pessoa[\"Sexo\"]}, Idade: {pessoa[\"Idade\"]}')\n",
        " "
      ],
      "metadata": {
        "colab": {
          "base_uri": "https://localhost:8080/"
        },
        "id": "ZBYJ2BdbeYDz",
        "outputId": "90526c40-071d-4c2b-9366-b585aece1f48"
      },
      "execution_count": null,
      "outputs": [
        {
          "output_type": "stream",
          "name": "stdout",
          "text": [
            "Digite o Nome: (Ou sair para sair\n",
            ")davi\n",
            "Digite a idade:\n",
            " 43\n",
            "Digite o Sexo: \n",
            "masculino\n",
            "Digite o Nome: (Ou sair para sair\n",
            ")maria\n",
            "Digite a idade:\n",
            " 15\n",
            "Digite o Sexo: \n",
            "feminino\n",
            "Digite o Nome: (Ou sair para sair\n",
            ")sair\n",
            "Nome: DAVI, Sexo: masculino, Idade: 43\n",
            "Nome: MARIA, Sexo: feminino, Idade: 15\n",
            "{'Nome': 'MARIA', 'Sexo': 'feminino', 'Idade': 15}\n"
          ]
        }
      ]
    },
    {
      "cell_type": "code",
      "source": [
        "comedies = (\"Arrested Development\", \"How I Met Your Mother\", \"Always Sunny\")\n",
        "for show in comedies:\n",
        "    print(show)"
      ],
      "metadata": {
        "colab": {
          "base_uri": "https://localhost:8080/"
        },
        "id": "OjaL7B3Nq2al",
        "outputId": "6ccd4849-e0af-46f6-e532-0bc744306707"
      },
      "execution_count": null,
      "outputs": [
        {
          "output_type": "stream",
          "name": "stdout",
          "text": [
            "Arrested Development\n",
            "How I Met Your Mother\n",
            "Always Sunny\n"
          ]
        }
      ]
    },
    {
      "cell_type": "code",
      "source": [
        "#MEU PRÒPIO TRADUTOR\n",
        "#!pip install translate\n",
        "from translate import Translator\n",
        "\n",
        "translator = Translator(from_lang ='pt', to_lang ='en')\n",
        "\n",
        "palavra = str(input('Digite uma palavra:' ))\n",
        "\n",
        "traducao = translator.translate(palavra)\n",
        "\n",
        "\n",
        "print(f'A palavra:  {palavra}   traduzida é: {traducao}')"
      ],
      "metadata": {
        "colab": {
          "base_uri": "https://localhost:8080/"
        },
        "id": "zL7CP4u-1CCU",
        "outputId": "bd9f48c2-84ad-4c62-f925-b84296c3d1f6"
      },
      "execution_count": null,
      "outputs": [
        {
          "output_type": "stream",
          "name": "stdout",
          "text": [
            "Looking in indexes: https://pypi.org/simple, https://us-python.pkg.dev/colab-wheels/public/simple/\n",
            "Requirement already satisfied: translate in /usr/local/lib/python3.9/dist-packages (3.6.1)\n",
            "Requirement already satisfied: lxml in /usr/local/lib/python3.9/dist-packages (from translate) (4.9.2)\n",
            "Requirement already satisfied: libretranslatepy==2.1.1 in /usr/local/lib/python3.9/dist-packages (from translate) (2.1.1)\n",
            "Requirement already satisfied: click in /usr/local/lib/python3.9/dist-packages (from translate) (8.1.3)\n",
            "Requirement already satisfied: requests in /usr/local/lib/python3.9/dist-packages (from translate) (2.27.1)\n",
            "Requirement already satisfied: idna<4,>=2.5 in /usr/local/lib/python3.9/dist-packages (from requests->translate) (3.4)\n",
            "Requirement already satisfied: urllib3<1.27,>=1.21.1 in /usr/local/lib/python3.9/dist-packages (from requests->translate) (1.26.15)\n",
            "Requirement already satisfied: charset-normalizer~=2.0.0 in /usr/local/lib/python3.9/dist-packages (from requests->translate) (2.0.12)\n",
            "Requirement already satisfied: certifi>=2017.4.17 in /usr/local/lib/python3.9/dist-packages (from requests->translate) (2022.12.7)\n",
            "Digite uma palavra:pai\n",
            "A palavra:  pai   traduzida é: father\n"
          ]
        }
      ]
    },
    {
      "cell_type": "code",
      "source": [
        "from google.colab import drive\n",
        "drive.mount('/gdrive')\n",
        "%cd /gdrive"
      ],
      "metadata": {
        "id": "KrcRq-V33z9J"
      },
      "execution_count": null,
      "outputs": []
    },
    {
      "cell_type": "code",
      "source": [
        "class Animal:\n",
        "    def __init__(self, nome, idade):\n",
        "        self.nome = nome\n",
        "        self.idade = idade\n",
        "\n",
        "    def fazerSom(self):\n",
        "        pass\n",
        "\n",
        "\n",
        "class Gato(Animal):\n",
        "  def __init__(self, nome):\n",
        "        self.nome = nome\n",
        "\n",
        "  def fazerSom(self):\n",
        "    return 'mia'\n",
        "\n",
        "class Cachorro(Animal):\n",
        "  def __init__(self, nome):\n",
        "        self.nome = nome\n",
        "  def fazerSom(self):\n",
        "    return 'late'        \n",
        "\n",
        "gato = Gato('Mimi')\n",
        "print(gato.fazerSom()) # output: mia\n",
        "\n",
        "dog = Cachorro('Caramelo')\n",
        "print(dog.fazerSom()) # output: late\n"
      ],
      "metadata": {
        "id": "08hy77Fa4Odt",
        "colab": {
          "base_uri": "https://localhost:8080/"
        },
        "outputId": "b54271d3-2388-4230-bff1-1f5e326662ee"
      },
      "execution_count": null,
      "outputs": [
        {
          "output_type": "stream",
          "name": "stdout",
          "text": [
            "mia\n",
            "late\n"
          ]
        }
      ]
    },
    {
      "cell_type": "code",
      "source": [
        "import IPython\n",
        "js_code = '''\n",
        "document.querySelector(\"#output-area\").appendChild(document.createTextNode(\"hello world!\"));\n",
        "'''\n",
        "display(IPython.display.Javascript(js_code))"
      ],
      "metadata": {
        "id": "vtxuXOcwDyAD"
      },
      "execution_count": null,
      "outputs": []
    },
    {
      "cell_type": "code",
      "source": [
        "letras = ['a','b','c']\n",
        "numero = [1,2,3]\n",
        "juntos = letras + numeros\n",
        "for i in range(0,3):\n",
        "  juntos1 = ''.join(letras)\n",
        "  i =+ 1\n",
        "  print(juntos1,'->', end='')\n",
        "  #print(juntos)\n",
        "print('FIM', end='') "
      ],
      "metadata": {
        "colab": {
          "base_uri": "https://localhost:8080/"
        },
        "id": "KEoZR7wOyJ-F",
        "outputId": "f1545d32-04b6-4945-863b-b35c90af07ff"
      },
      "execution_count": null,
      "outputs": [
        {
          "output_type": "stream",
          "name": "stdout",
          "text": [
            "abc ->abc ->abc ->FIM"
          ]
        }
      ]
    },
    {
      "cell_type": "code",
      "source": [
        "c =1\n",
        "lista = []\n",
        "valor = ''\n",
        "\n",
        "while c != 'SAIR':\n",
        "  \n",
        "  valor = str(input('Digite um valor ou SAIR para sair ')).upper().strip()\n",
        "  if valor == 'SAIR':\n",
        "     break\n",
        "  c += 1 \n",
        " \n",
        "  lista.append(valor)\n",
        "c = c - 1     \n",
        "print(f'A lista é {lista} e tem {c} Elementos')\n",
        "print('FIM') "
      ],
      "metadata": {
        "colab": {
          "base_uri": "https://localhost:8080/"
        },
        "id": "dwhySqGRc9Ss",
        "outputId": "5e7b8137-6f8b-4ab5-ba0b-29487a9ede23"
      },
      "execution_count": null,
      "outputs": [
        {
          "output_type": "stream",
          "name": "stdout",
          "text": [
            "Digite um valor ou SAIR para sair 10\n",
            "Digite um valor ou SAIR para sair 20\n",
            "Digite um valor ou SAIR para sair sair\n",
            "A lista é ['10', '20'] e tem 2 Elementos\n",
            "FIM\n"
          ]
        }
      ]
    },
    {
      "cell_type": "code",
      "source": [
        "#cofre\n",
        "\n",
        "from time import sleep\n",
        "\n",
        "moedas = []\n",
        "moeda = 0\n",
        "quantidade_reais = 0\n",
        "quantidade_dolares = 0\n",
        "quantidade_euros = 0\n",
        "valor_total = 0\n",
        "converterDolarEmReal = 0\n",
        "converterEuroEmReal = 0\n",
        "moeda_converter = 0\n",
        "op_convercao = 0\n",
        "\n",
        "quantidade_moedas = int(input('Quantas moedas você quer adicionar?: '))\n",
        "\n",
        "for c in range(quantidade_moedas):\n",
        "   opcao = int(input('Escolha a Moeda:\\n1 - Real\\n2 - Dolar\\n3 - Euro\\n'))\n",
        "\n",
        "   if opcao == 1:\n",
        "    moeda = 'Real'\n",
        "\n",
        "   elif opcao == 2:\n",
        "    moeda = 'Dolar'\n",
        " \n",
        "   elif opcao == 3:\n",
        "    moeda = 'Euro'\n",
        "   \n",
        "   else:\n",
        "    print('Opção inválida!')\n",
        "    continue;\n",
        "\n",
        "   valor = float(input(f'Digite o valor da moeda de {moeda}: '))\n",
        "\n",
        "   nova_moeda = {'moeda': moeda, 'valor': valor}\n",
        "   \n",
        "   moedas.append(nova_moeda)\n",
        "   valor_total = valor_total + valor\n",
        "\n",
        "#print(f'{moeda} {valor} adicionado com sucesso à lista de moedas!')\n",
        "\n",
        "for moeda in moedas:\n",
        "    if moeda['moeda'] == 'Real':\n",
        "        quantidade_reais += 1\n",
        "\n",
        "    elif moeda['moeda'] == 'Dolar':\n",
        "        quantidade_dolares += 1\n",
        "        \n",
        "\n",
        "    elif moeda['moeda'] == 'Euro':\n",
        "        quantidade_euros += 1\n",
        "        \n",
        "\n",
        "        op_convercao = int(input('Deseja converter a moeda em real?  1 - Sim  2 - Não == '))\n",
        "        print('Processando opção de convesão....')\n",
        "        sleep(2)\n",
        "    while op_convercao == 1:\n",
        "        #if op_convercao == 1:\n",
        "                moeda_converter = int(input('Qual moeda deseja converter 1 - Dolar 2 - Euro  3 - Sair'))\n",
        "                print('Aguarde Processando...')\n",
        "                sleep(2);\n",
        "\n",
        "                if moeda_converter == 1:\n",
        "                         print(f'Convertendo moeda....')\n",
        "                         sleep(2)\n",
        "                         converterDolarEmReal = moeda['valor']  * 5.25\n",
        "                         print(f'Moeda Convertida {moeda[\"valor\"]}')\n",
        "\n",
        "                elif moeda_converter== 2:\n",
        "                         print(f'Convertendo moeda....')\n",
        "                         sleep(2)\n",
        "                         converterEuroEmReal = moeda['valor'] * 5.35\n",
        "                         print(f'Moeda Convertida {moeda[\"valor\"]}')\n",
        "\n",
        "                elif moeda_converter== 3:\n",
        "                         print(f'Saindo....')\n",
        "                         sleep(2)\n",
        "                         continue\n",
        "                else:\n",
        "                  print('Opção Inválida')\n",
        "                  sleep(2)\n",
        "                  print('Voltando Menu')\n",
        "                  continue;\n",
        "\n",
        "                  op_convercao = input('Deseja converter outra moeda em real? Digite Sim  OU  Não ').upper\n",
        "                  print('Processando requisção, aguarde!...')\n",
        "                  sleep(2)\n",
        "\n",
        "\n",
        "   # else:\n",
        "     # print('Voltando para o Menu')\n",
        "     # continue;\n",
        "\n",
        "\n",
        "print(f'''Foram adcionadas {quantidade_moedas} Moedas,\n",
        "{quantidade_reais} de Reais - {quantidade_dolares} de Dolar -]\n",
        "{quantidade_euros} de Euro\\n o Valor Total foi de {valor_total} Dolar Convertido {converterDolarEmReal} e Euro Convertido {converterEuroEmReal}''')\n",
        "       \n",
        "\n",
        "\n",
        "\n",
        "\n",
        "#print(f'''Foram adcionadas {quantidade_moedas} Moedas,\n",
        "#{quantidade_reais} de Reais - {quantidade_dolares} de Dolar -]\n",
        "#{quantidade_euros} de Euro\\n o Valor Total foi de {valor_total} Dolar Convertido {converterDolarEmReal} e Euro Convertido {converterEuroEmReal}''')"
      ],
      "metadata": {
        "colab": {
          "base_uri": "https://localhost:8080/",
          "height": 884
        },
        "id": "v6JRkDo1cIh5",
        "outputId": "deefcb92-4ad4-482a-8147-8e27c1d5d58c"
      },
      "execution_count": null,
      "outputs": [
        {
          "output_type": "stream",
          "name": "stdout",
          "text": [
            "Quantas moedas você quer adicionar?: 3\n",
            "Escolha a Moeda:\n",
            "1 - Real\n",
            "2 - Dolar\n",
            "3 - Euro\n",
            "2\n",
            "Digite o valor da moeda de Dolar: 3\n",
            "Escolha a Moeda:\n",
            "1 - Real\n",
            "2 - Dolar\n",
            "3 - Euro\n",
            "3\n",
            "Digite o valor da moeda de Euro: 3\n",
            "Escolha a Moeda:\n",
            "1 - Real\n",
            "2 - Dolar\n",
            "3 - Euro\n",
            "1\n",
            "Digite o valor da moeda de Real: 5\n",
            "Deseja converter a moeda em real?  1 - Sim  2 - Não == 1\n",
            "Processando opção de convesão....\n",
            "Qual moeda deseja converter 1 - Dolar 2 - Euro2\n",
            "Aguarde Processando...\n",
            "Convertendo moeda....\n",
            "Moeda Convertida 3.0\n",
            "Qual moeda deseja converter 1 - Dolar 2 - Euro1\n",
            "Aguarde Processando...\n",
            "Convertendo moeda....\n",
            "Moeda Convertida 3.0\n"
          ]
        },
        {
          "output_type": "error",
          "ename": "KeyboardInterrupt",
          "evalue": "ignored",
          "traceback": [
            "\u001b[0;31m---------------------------------------------------------------------------\u001b[0m",
            "\u001b[0;31mKeyboardInterrupt\u001b[0m                         Traceback (most recent call last)",
            "\u001b[0;32m<ipython-input-24-86369c6cdf5c>\u001b[0m in \u001b[0;36m<module>\u001b[0;34m\u001b[0m\n\u001b[1;32m     56\u001b[0m     \u001b[0;32mwhile\u001b[0m \u001b[0mop_convercao\u001b[0m \u001b[0;34m==\u001b[0m \u001b[0;36m1\u001b[0m\u001b[0;34m:\u001b[0m\u001b[0;34m\u001b[0m\u001b[0;34m\u001b[0m\u001b[0m\n\u001b[1;32m     57\u001b[0m         \u001b[0;31m#if op_convercao == 1:\u001b[0m\u001b[0;34m\u001b[0m\u001b[0;34m\u001b[0m\u001b[0m\n\u001b[0;32m---> 58\u001b[0;31m                 \u001b[0mmoeda_converter\u001b[0m \u001b[0;34m=\u001b[0m \u001b[0mint\u001b[0m\u001b[0;34m(\u001b[0m\u001b[0minput\u001b[0m\u001b[0;34m(\u001b[0m\u001b[0;34m'Qual moeda deseja converter 1 - Dolar 2 - Euro'\u001b[0m\u001b[0;34m)\u001b[0m\u001b[0;34m)\u001b[0m\u001b[0;34m\u001b[0m\u001b[0;34m\u001b[0m\u001b[0m\n\u001b[0m\u001b[1;32m     59\u001b[0m                 \u001b[0mprint\u001b[0m\u001b[0;34m(\u001b[0m\u001b[0;34m'Aguarde Processando...'\u001b[0m\u001b[0;34m)\u001b[0m\u001b[0;34m\u001b[0m\u001b[0;34m\u001b[0m\u001b[0m\n\u001b[1;32m     60\u001b[0m                 \u001b[0msleep\u001b[0m\u001b[0;34m(\u001b[0m\u001b[0;36m2\u001b[0m\u001b[0;34m)\u001b[0m\u001b[0;34m;\u001b[0m\u001b[0;34m\u001b[0m\u001b[0;34m\u001b[0m\u001b[0m\n",
            "\u001b[0;32m/usr/local/lib/python3.9/dist-packages/ipykernel/kernelbase.py\u001b[0m in \u001b[0;36mraw_input\u001b[0;34m(self, prompt)\u001b[0m\n\u001b[1;32m    858\u001b[0m                 \u001b[0;34m\"raw_input was called, but this frontend does not support input requests.\"\u001b[0m\u001b[0;34m\u001b[0m\u001b[0;34m\u001b[0m\u001b[0m\n\u001b[1;32m    859\u001b[0m             )\n\u001b[0;32m--> 860\u001b[0;31m         return self._input_request(str(prompt),\n\u001b[0m\u001b[1;32m    861\u001b[0m             \u001b[0mself\u001b[0m\u001b[0;34m.\u001b[0m\u001b[0m_parent_ident\u001b[0m\u001b[0;34m,\u001b[0m\u001b[0;34m\u001b[0m\u001b[0;34m\u001b[0m\u001b[0m\n\u001b[1;32m    862\u001b[0m             \u001b[0mself\u001b[0m\u001b[0;34m.\u001b[0m\u001b[0m_parent_header\u001b[0m\u001b[0;34m,\u001b[0m\u001b[0;34m\u001b[0m\u001b[0;34m\u001b[0m\u001b[0m\n",
            "\u001b[0;32m/usr/local/lib/python3.9/dist-packages/ipykernel/kernelbase.py\u001b[0m in \u001b[0;36m_input_request\u001b[0;34m(self, prompt, ident, parent, password)\u001b[0m\n\u001b[1;32m    902\u001b[0m             \u001b[0;32mexcept\u001b[0m \u001b[0mKeyboardInterrupt\u001b[0m\u001b[0;34m:\u001b[0m\u001b[0;34m\u001b[0m\u001b[0;34m\u001b[0m\u001b[0m\n\u001b[1;32m    903\u001b[0m                 \u001b[0;31m# re-raise KeyboardInterrupt, to truncate traceback\u001b[0m\u001b[0;34m\u001b[0m\u001b[0;34m\u001b[0m\u001b[0m\n\u001b[0;32m--> 904\u001b[0;31m                 \u001b[0;32mraise\u001b[0m \u001b[0mKeyboardInterrupt\u001b[0m\u001b[0;34m(\u001b[0m\u001b[0;34m\"Interrupted by user\"\u001b[0m\u001b[0;34m)\u001b[0m \u001b[0;32mfrom\u001b[0m \u001b[0;32mNone\u001b[0m\u001b[0;34m\u001b[0m\u001b[0;34m\u001b[0m\u001b[0m\n\u001b[0m\u001b[1;32m    905\u001b[0m             \u001b[0;32mexcept\u001b[0m \u001b[0mException\u001b[0m \u001b[0;32mas\u001b[0m \u001b[0me\u001b[0m\u001b[0;34m:\u001b[0m\u001b[0;34m\u001b[0m\u001b[0;34m\u001b[0m\u001b[0m\n\u001b[1;32m    906\u001b[0m                 \u001b[0mself\u001b[0m\u001b[0;34m.\u001b[0m\u001b[0mlog\u001b[0m\u001b[0;34m.\u001b[0m\u001b[0mwarning\u001b[0m\u001b[0;34m(\u001b[0m\u001b[0;34m\"Invalid Message:\"\u001b[0m\u001b[0;34m,\u001b[0m \u001b[0mexc_info\u001b[0m\u001b[0;34m=\u001b[0m\u001b[0;32mTrue\u001b[0m\u001b[0;34m)\u001b[0m\u001b[0;34m\u001b[0m\u001b[0;34m\u001b[0m\u001b[0m\n",
            "\u001b[0;31mKeyboardInterrupt\u001b[0m: Interrupted by user"
          ]
        }
      ]
    },
    {
      "cell_type": "code",
      "source": [
        "#cofre\n",
        "moedas = []\n",
        "moeda = 0\n",
        "quantidade_reais = 0\n",
        "quantidade_dolares = 0\n",
        "quantidade_euros = 0\n",
        "valor_total = 0\n",
        "converterDolarEmReal = 0\n",
        "converterEuroEmReal = 0\n",
        "moeda_converter = 0\n",
        "op_convercao = ' '\n",
        "\n",
        "quantidade_moedas = int(input('Quantas moedas você quer adicionar?: '))\n",
        "\n",
        "for c in range(quantidade_moedas):\n",
        "    opcao = int(input('Escolha a Moeda:\\n1 - Real\\n2 - Dolar\\n3 - Euro\\n'))\n",
        "\n",
        "    if opcao == 1:\n",
        "        moeda = 'Real'\n",
        "    elif opcao == 2:\n",
        "        moeda = 'Dolar'\n",
        "    elif opcao == 3:\n",
        "        moeda = 'Euro'\n",
        "    else:\n",
        "        print('Opção inválida!')\n",
        "\n",
        "    valor = float(input(f'Digite o valor da moeda de {moeda}: '))\n",
        "\n",
        "    nova_moeda = {'moeda': moeda, 'valor': valor}\n",
        "\n",
        "    moedas.append(nova_moeda)\n",
        "    valor_total = valor_total + valor\n",
        "\n",
        "#print(f'{moeda} {valor} adicionado com sucesso à lista de moedas!')\n",
        "\n",
        "for moeda in moedas:\n",
        "    if moeda['moeda'] == 'Real':\n",
        "        quantidade_reais += 1\n",
        "    elif moeda['moeda'] == 'Dolar':\n",
        "        quantidade_dolares += 1\n",
        "    elif moeda['moeda'] == 'Euro':\n",
        "        quantidade_euros += 1\n",
        "\n",
        "    op_convercao = input('Deseja converter um moeda em real?Digite  Sim ou Não  ').upper()\n",
        "    while op_convercao == 'SIM':\n",
        "        moeda_converter = input('Qual moeda deseja converter? Dolar , Euro?  Ou Digite Sair para sair').upper()\n",
        "\n",
        "        if moeda_converter == 'DOLAR':\n",
        "            converterDolarEmReal = moeda['valor'] * 5.25\n",
        "            print('Convertendo valores, aguarde...')\n",
        "            sleep(2)\n",
        "            print(f'Moeda de US$ {moeda[\"valor\"]} Convertida com sucesso ')\n",
        "\n",
        "        elif moeda_converter == 'EURO':\n",
        "            converterEuroEmReal = moeda['valor'] * 5.35\n",
        "            print('Convertendo valores, aguarde...')\n",
        "            sleep(2)\n",
        "            print(f'Moeda de € {moeda[\"valor\"]} Convertida com sucesso ')\n",
        "\n",
        "        elif moeda_converter == 'SAIR':\n",
        "\n",
        "          print('Inciando Menu....')\n",
        "          sleep(2)\n",
        "          continue\n",
        "\n",
        "        else:\n",
        "            print('Opção Inválida')\n",
        "            continue\n",
        "\n",
        "        op_convercao = input('Deseja converter outra moeda em real? Digite Sim  OU  Não ').upper\n",
        "        print('Processando requisção, aguarde!...')\n",
        "        sleep(2)\n",
        "\n",
        "print(f'''Foram adicionadas {quantidade_moedas} Moedas\\n,\n",
        "{quantidade_reais} de Reais - {quantidade_dolares} de Dolar\\n -\n",
        "{quantidade_euros} de Euro.\n",
        "O Valor Total depositado foi de {valor_total}\\n - O Valor do Dolar Convertido US$,{converterDolarEmReal:.2f}\\n e o valor do Euro Convertido €{converterEuroEmReal:.2f}''')"
      ],
      "metadata": {
        "colab": {
          "base_uri": "https://localhost:8080/"
        },
        "id": "cxUhDP1NV8Cl",
        "outputId": "b092fece-9371-4bc3-df15-dfcdfa7cdc03"
      },
      "execution_count": null,
      "outputs": [
        {
          "output_type": "stream",
          "name": "stdout",
          "text": [
            "Quantas moedas você quer adicionar?: 3\n",
            "Escolha a Moeda:\n",
            "1 - Real\n",
            "2 - Dolar\n",
            "3 - Euro\n",
            "1\n",
            "Digite o valor da moeda de Real: 5\n",
            "Escolha a Moeda:\n",
            "1 - Real\n",
            "2 - Dolar\n",
            "3 - Euro\n",
            "2\n",
            "Digite o valor da moeda de Dolar: 10\n",
            "Escolha a Moeda:\n",
            "1 - Real\n",
            "2 - Dolar\n",
            "3 - Euro\n",
            "3\n",
            "Digite o valor da moeda de Euro: 10\n",
            "Deseja converter a moeda em real? 1 - Sim 2 - Não == 1\n",
            "Qual moeda deseja converter? 1 - Dolar 2 - Euro  3 - Sair1\n",
            "Convertendo valores, aguarde...\n",
            "Moeda de US$ 5.0 Convertida com sucesso \n",
            "Deseja converter outra moeda em real? 1 - Sim 2 - Não == 1\n",
            "Processando requisção, aguarde!...\n",
            "Deseja converter a moeda em real? 1 - Sim 2 - Não == 1\n",
            "Qual moeda deseja converter? 1 - Dolar 2 - Euro  3 - Sair2\n",
            "Convertendo valores, aguarde...\n",
            "Moeda de € 10.0 Convertida com sucesso \n",
            "Deseja converter outra moeda em real? 1 - Sim 2 - Não == 2\n",
            "Processando requisção, aguarde!...\n",
            "Deseja converter a moeda em real? 1 - Sim 2 - Não == 2\n",
            "Foram adicionadas 3 Moedas\n",
            ",\n",
            "1 de Reais\n",
            " - 1 de Dolar\n",
            " -\n",
            "1 de Euro.\n",
            "\n",
            "O Valor Total foi de 25.0 - \n",
            "o Valor do Dolar Convertido US$,26.25\n",
            " e o valor do Euro Convertido €53.50\n"
          ]
        }
      ]
    },
    {
      "cell_type": "code",
      "source": [
        "(( 10 / 2  ) > 5 ) or not ( 3 < 2 )"
      ],
      "metadata": {
        "colab": {
          "base_uri": "https://localhost:8080/"
        },
        "id": "Bdr7cEdmvZxy",
        "outputId": "84e36f8c-b2c5-469d-db16-726b74162d0a"
      },
      "execution_count": null,
      "outputs": [
        {
          "output_type": "execute_result",
          "data": {
            "text/plain": [
              "True"
            ]
          },
          "metadata": {},
          "execution_count": 12
        }
      ]
    },
    {
      "cell_type": "code",
      "source": [
        "numbers = [1, 2, 3, 4, 5]\n",
        "for num in numbers:\n",
        "  if num == 3:\n",
        "   continue\n",
        "   print(num)\n",
        "  else:\n",
        "   print(\"Done\")"
      ],
      "metadata": {
        "colab": {
          "base_uri": "https://localhost:8080/"
        },
        "id": "yQh2ogXRu-f8",
        "outputId": "52816823-4446-487f-ff6f-db7f809a9ed0"
      },
      "execution_count": null,
      "outputs": [
        {
          "output_type": "stream",
          "name": "stdout",
          "text": [
            "Done\n",
            "Done\n",
            "Done\n",
            "Done\n"
          ]
        }
      ]
    },
    {
      "cell_type": "code",
      "source": [
        "!pip install scapy\n",
        "\n",
        "from scapy.all import *\n",
        "\n",
        "def packet_callback(packet):\n",
        "    print(packet.summary())\n",
        "\n",
        "def packet_callback(packet):\n",
        "    src_ip = packet[IP].src\n",
        "    dst_ip = packet[IP].dst\n",
        "    print(f\"Source IP: {src_ip}, Destination IP: {dst_ip}\")    \n",
        "\n",
        "sniff(prn=packet_callback, count=10)"
      ],
      "metadata": {
        "colab": {
          "base_uri": "https://localhost:8080/"
        },
        "id": "Q0q8XJlqwib4",
        "outputId": "6ef59a42-142f-4b8e-c1ac-eb89d81ec7b8"
      },
      "execution_count": null,
      "outputs": [
        {
          "output_type": "stream",
          "name": "stdout",
          "text": [
            "Looking in indexes: https://pypi.org/simple, https://us-python.pkg.dev/colab-wheels/public/simple/\n",
            "Collecting scapy\n",
            "  Downloading scapy-2.5.0.tar.gz (1.3 MB)\n",
            "\u001b[2K     \u001b[90m━━━━━━━━━━━━━━━━━━━━━━━━━━━━━━━━━━━━━━━━\u001b[0m \u001b[32m1.3/1.3 MB\u001b[0m \u001b[31m15.1 MB/s\u001b[0m eta \u001b[36m0:00:00\u001b[0m\n",
            "\u001b[?25h  Preparing metadata (setup.py) ... \u001b[?25l\u001b[?25hdone\n",
            "Building wheels for collected packages: scapy\n",
            "  Building wheel for scapy (setup.py) ... \u001b[?25l\u001b[?25hdone\n",
            "  Created wheel for scapy: filename=scapy-2.5.0-py2.py3-none-any.whl size=1444346 sha256=4e8aadbaef4bd0bd1c477ac0168b3e17f2313e8eb842b521a7026db4cb53fe3b\n",
            "  Stored in directory: /root/.cache/pip/wheels/dd/1b/47/d46b1a87e339be501612cf4cd1bf57742e534f9c9aac7b00d6\n",
            "Successfully built scapy\n",
            "Installing collected packages: scapy\n",
            "Successfully installed scapy-2.5.0\n",
            "Source IP: 172.28.0.1, Destination IP: 172.28.0.12\n",
            "Source IP: 172.28.0.12, Destination IP: 172.28.0.1\n",
            "Source IP: 172.28.0.12, Destination IP: 172.28.0.1\n",
            "Source IP: 172.28.0.1, Destination IP: 172.28.0.12\n",
            "Source IP: 172.28.0.1, Destination IP: 172.28.0.12\n",
            "Source IP: 172.28.0.12, Destination IP: 172.28.0.1\n",
            "Source IP: 172.28.0.12, Destination IP: 172.28.0.1\n",
            "Source IP: 172.28.0.1, Destination IP: 172.28.0.12\n",
            "Source IP: 172.28.0.1, Destination IP: 172.28.0.12\n",
            "Source IP: 172.28.0.12, Destination IP: 172.28.0.1\n"
          ]
        },
        {
          "output_type": "execute_result",
          "data": {
            "text/plain": [
              "<Sniffed: TCP:10 UDP:0 ICMP:0 Other:0>"
            ]
          },
          "metadata": {},
          "execution_count": 1
        }
      ]
    },
    {
      "cell_type": "code",
      "source": [
        "print(\"+\" + 10 * \"-\" + \"+\")\n",
        "print((\"|\" + \" \" * 10 + \"|\\n\") * 5, end=\"\")\n",
        "print(\"+\" + 10 * \"-\" + \"+\")"
      ],
      "metadata": {
        "id": "biGuzDkDTy7p"
      },
      "execution_count": null,
      "outputs": []
    },
    {
      "cell_type": "code",
      "source": [
        "\n",
        "import pprint\n",
        "\n",
        "\n",
        "\n",
        "nums = {4: 1, 3: 2, 1: 1, 2: 3}\n",
        "\n",
        "\n",
        "\n",
        "pprint.pprint(nums, sort_dicts=True)"
      ],
      "metadata": {
        "colab": {
          "base_uri": "https://localhost:8080/"
        },
        "id": "AQd5qbhwdC8b",
        "outputId": "c11ac5af-63ac-48c0-8b8c-10a7562395c2"
      },
      "execution_count": null,
      "outputs": [
        {
          "output_type": "stream",
          "name": "stdout",
          "text": [
            "{1: 1, 2: 3, 3: 2, 4: 1}\n"
          ]
        }
      ]
    },
    {
      "cell_type": "code",
      "source": [
        "palavra = 'abc'*3\n",
        "for i in palavra.split(','):\n",
        "  print(i)"
      ],
      "metadata": {
        "id": "z_VM9_J5prYO",
        "outputId": "30c761bc-1b39-4f08-b525-7b0635a4bd33",
        "colab": {
          "base_uri": "https://localhost:8080/"
        }
      },
      "execution_count": null,
      "outputs": [
        {
          "output_type": "stream",
          "name": "stdout",
          "text": [
            "abcabcabc\n"
          ]
        }
      ]
    },
    {
      "cell_type": "code",
      "source": [
        "x = 1\n",
        "y = 1.0\n",
        "z = \"1\"\n",
        "\n",
        "if x == y:\n",
        "    print(\"one\")\n",
        "if y == int(z):\n",
        "    print(\"two\")\n",
        "elif x == y:\n",
        "    print(\"three\")\n",
        "else:\n",
        "    print(\"four\")"
      ],
      "metadata": {
        "colab": {
          "base_uri": "https://localhost:8080/"
        },
        "id": "RmusP99SXh4F",
        "outputId": "4e293801-f108-4594-dc93-924cfad58e3a"
      },
      "execution_count": null,
      "outputs": [
        {
          "output_type": "stream",
          "name": "stdout",
          "text": [
            "one\n",
            "two\n"
          ]
        }
      ]
    },
    {
      "cell_type": "code",
      "source": [
        "# Store the current largest number here.\n",
        "largest_number = -999999999\n",
        "\n",
        "# Input the first value.\n",
        "number = int(input(\"Enter a number or type -1 to stop: \"))\n",
        "\n",
        "# If the number is not equal to -1, continue.\n",
        "while number != -1:\n",
        "    # Is number larger than largest_number?\n",
        "    if number > largest_number:\n",
        "        # Yes, update largest_number.\n",
        "        largest_number = number\n",
        "    # Input the next number.\n",
        "    number = int(input(\"Enter a number or type -1 to stop: \"))\n",
        "\n",
        "# Print the largest number.\n",
        "print(\"The largest number is:\", largest_number)"
      ],
      "metadata": {
        "colab": {
          "base_uri": "https://localhost:8080/"
        },
        "id": "gMI1jH80Hi_u",
        "outputId": "14c3a01f-1c72-4f46-e4cc-83ace5824756"
      },
      "execution_count": null,
      "outputs": [
        {
          "output_type": "stream",
          "name": "stdout",
          "text": [
            "Enter a number or type -1 to stop: 250\n",
            "Enter a number or type -1 to stop: 1\n",
            "Enter a number or type -1 to stop: -1\n",
            "The largest number is: 250\n"
          ]
        }
      ]
    },
    {
      "cell_type": "code",
      "source": [
        "# A program that reads a sequence of numbers\n",
        "# and counts how many numbers are even and how many are odd.\n",
        "# The program terminates when zero is entered.\n",
        "\n",
        "odd_numbers = 0\n",
        "even_numbers = 0\n",
        "\n",
        "# Read the first number.\n",
        "number = int(input(\"Enter a number or type 0 to stop: \"))\n",
        "\n",
        "# 0 terminates execution.\n",
        "while number != 0:\n",
        "    # Check if the number is odd.\n",
        "    if number % 2 == 1:\n",
        "        # Increase the odd_numbers counter.\n",
        "        odd_numbers += 1\n",
        "    else:\n",
        "        # Increase the even_numbers counter.\n",
        "        even_numbers += 1\n",
        "    # Read the next number.\n",
        "    number = int(input(\"Enter a number or type 0 to stop: \"))\n",
        "\n",
        "# Print results.\n",
        "print(\"Odd numbers count:\", odd_numbers)\n",
        "print(\"Even numbers count:\", even_numbers)"
      ],
      "metadata": {
        "colab": {
          "base_uri": "https://localhost:8080/"
        },
        "id": "JSWCoBK7IVo1",
        "outputId": "acb5f13e-198f-4ef0-ef89-41786ee06963"
      },
      "execution_count": null,
      "outputs": [
        {
          "output_type": "stream",
          "name": "stdout",
          "text": [
            "Enter a number or type 0 to stop: 24\n",
            "Enter a number or type 0 to stop: 20\n",
            "Enter a number or type 0 to stop: 19\n",
            "Enter a number or type 0 to stop: 33\n",
            "Enter a number or type 0 to stop: 0\n",
            "Odd numbers count: 2\n",
            "Even numbers count: 2\n"
          ]
        }
      ]
    },
    {
      "cell_type": "code",
      "source": [
        "counter = 5\n",
        "while counter != 0:\n",
        "    print(\"Inside the loop.\", counter)\n",
        "    counter -= 1\n",
        "print(\"Outside the loop.\", counter)"
      ],
      "metadata": {
        "colab": {
          "base_uri": "https://localhost:8080/"
        },
        "id": "cG0PqPsQI4WV",
        "outputId": "241ab7c7-f203-4f75-db9d-858f4e1853aa"
      },
      "execution_count": null,
      "outputs": [
        {
          "output_type": "stream",
          "name": "stdout",
          "text": [
            "Inside the loop. 5\n",
            "Inside the loop. 4\n",
            "Inside the loop. 3\n",
            "Inside the loop. 2\n",
            "Inside the loop. 1\n",
            "Outside the loop. 0\n"
          ]
        }
      ]
    },
    {
      "cell_type": "code",
      "source": [
        "secret = 777\n",
        "print(\n",
        "\"\"\"\n",
        "+================================+\n",
        "| Welcome to my game, muggle!    |\n",
        "| Enter an integer number        |\n",
        "| and guess what number I've     |\n",
        "| picked for you.                |\n",
        "| So, what is the secret number? |\n",
        "+================================+\n",
        "\"\"\")\n",
        "number = int(input('Digite um numero ' ))\n",
        "\n",
        "while number != secret:\n",
        "    \n",
        "    if number == secret:\n",
        "        print('Ha ha! You are stuck in my loop!')\n",
        "       \n",
        "    \n",
        "    elif number != secret:\n",
        "        number = int(input('Você errou digite um numero novamente ' ))\n",
        "\n",
        "    else:\n",
        "        print('Numero invalido')\n",
        "        continue\n",
        "        \n",
        "\n",
        "print('\"Well done, muggle! You are free now.\"')"
      ],
      "metadata": {
        "colab": {
          "base_uri": "https://localhost:8080/"
        },
        "id": "eV97erk-MPQl",
        "outputId": "8c0cc3af-4784-410b-e8d0-a7178f012dee"
      },
      "execution_count": null,
      "outputs": [
        {
          "output_type": "stream",
          "name": "stdout",
          "text": [
            "\n",
            "+================================+\n",
            "| Welcome to my game, muggle!    |\n",
            "| Enter an integer number        |\n",
            "| and guess what number I've     |\n",
            "| picked for you.                |\n",
            "| So, what is the secret number? |\n",
            "+================================+\n",
            "\n",
            "Digite um numero100\n",
            "Digite um numero novamente777\n",
            "\"Well done, muggle! You are free now.\"\n"
          ]
        }
      ]
    },
    {
      "cell_type": "code",
      "source": [
        "for i in range(100):\n",
        "    # do_something()\n",
        "    print('pass')"
      ],
      "metadata": {
        "id": "B9LbvwvcM-fe"
      },
      "execution_count": null,
      "outputs": []
    },
    {
      "cell_type": "code",
      "source": [
        "from time import sleep\n",
        "\n",
        "for i in range(0,6):\n",
        "    print(f'{i} Mississipi!')\n",
        "    sleep(1)\n",
        "\n",
        "# Write a for loop that counts to five.\n",
        "    # Body of the loop - print the loop iteration number and the word \"Mississippi\".\n",
        "    # Body of the loop - use: time.sleep(1)\n",
        "\n",
        "# Write a print function with the final message."
      ],
      "metadata": {
        "id": "UpJo5RFIPKYH",
        "outputId": "de0dbab0-0c23-4d1e-a6f2-0262523ac7c5",
        "colab": {
          "base_uri": "https://localhost:8080/"
        }
      },
      "execution_count": null,
      "outputs": [
        {
          "output_type": "stream",
          "name": "stdout",
          "text": [
            "0 Mississipi!\n",
            "1 Mississipi!\n",
            "2 Mississipi!\n",
            "3 Mississipi!\n",
            "4 Mississipi!\n",
            "5 Mississipi!\n"
          ]
        }
      ]
    },
    {
      "cell_type": "code",
      "source": [
        "largest_number = -99999999\n",
        "counter = 0\n",
        "\n",
        "while True:\n",
        "    number = int(input(\"Enter a number or type -1 to end program: \"))\n",
        "    if number == -1:\n",
        "        break\n",
        "    counter += 1\n",
        "    if number > largest_number:\n",
        "        largest_number = number\n",
        "\n",
        "if counter != 0:\n",
        "    print(\"The largest number is\", largest_number ,'o programa foi executado',counter,'vezes')\n",
        "else:\n",
        "    print(\"You haven't entered any number.\")"
      ],
      "metadata": {
        "colab": {
          "base_uri": "https://localhost:8080/"
        },
        "id": "VP_IMQubSEWU",
        "outputId": "00b062a5-d467-44a0-946c-f6a814ad1458"
      },
      "execution_count": null,
      "outputs": [
        {
          "output_type": "stream",
          "name": "stdout",
          "text": [
            "Enter a number or type -1 to end program: 25\n",
            "Enter a number or type -1 to end program: 10\n",
            "Enter a number or type -1 to end program: -1\n",
            "The largest number is 25 o programa foi executado  2 vezes\n"
          ]
        }
      ]
    },
    {
      "cell_type": "code",
      "source": [
        "secreta = 'chupacabra'\n",
        "palavra = input('Digite uma palavra ')\n",
        "\n",
        "while True :\n",
        "    \n",
        "    if palavra == secreta:\n",
        "        print(\"You've successfully left the loop.\")\n",
        "        break\n",
        "    else: \n",
        "        palavra = input('Digite uma palavra novamente ')"
      ],
      "metadata": {
        "id": "ubt30aRaThcM"
      },
      "execution_count": null,
      "outputs": []
    },
    {
      "cell_type": "code",
      "source": [
        "# Prompt the user to enter a word\n",
        "# and assign it to the user_word variable.\n",
        "user_word = input('Digite uma palavra ').upper()\n",
        "\n",
        "for letter in user_word:\n",
        "    # Complete the body of the for loop.\n",
        "    if letter in ['A', 'E', 'I', 'O', 'U']:\n",
        "        # se a letra for uma vogal, pula para a próxima iteração do loop\n",
        "        continue\n",
        "    print(letter)    \n"
      ],
      "metadata": {
        "colab": {
          "base_uri": "https://localhost:8080/"
        },
        "id": "cUt_umKVXh5d",
        "outputId": "4cb5691a-2e7e-4b8e-f03d-43f6dc9f0fd0"
      },
      "execution_count": null,
      "outputs": [
        {
          "output_type": "stream",
          "name": "stdout",
          "text": [
            "(1, 'Andy', 17, [90, 97, 96])\n"
          ]
        }
      ]
    },
    {
      "cell_type": "code",
      "source": [
        "word_without_vowels = \"\"\n",
        "\n",
        "# Prompt the user to enter a word\n",
        "# and assign it to the user_word variable.\n",
        "user_word = input(\"Introduza uma palavra: \").upper()\n",
        "\n",
        "\n",
        "for letter in user_word:\n",
        "    # Complete the body of the loop.\n",
        "\n",
        "# Print the word assigned to word_without_vowels.\n",
        " # Execução condicional para ignorar as vogais\n",
        "    if letter == \"A\":\n",
        "        continue\n",
        "    elif letter == \"E\":\n",
        "        continue\n",
        "    elif letter == \"I\":\n",
        "        continue\n",
        "    elif letter == \"O\":\n",
        "        continue\n",
        "    elif letter == \"U\":\n",
        "        continue\n",
        "    else:\n",
        "        # Concatenar as letras não vogais numa string\n",
        "        word_without_vowels += letter\n",
        "\n",
        "# Imprimir a palavra sem as vogais\n",
        "print(word_without_vowels)"
      ],
      "metadata": {
        "id": "0eHyTnxYbjH0"
      },
      "execution_count": null,
      "outputs": []
    },
    {
      "cell_type": "code",
      "source": [
        "def fun_x(x):\n",
        "    x=x+'2'\n",
        "    x=x*2\n",
        "    return x\n",
        "print(fun_x('python'))"
      ],
      "metadata": {
        "id": "ap6k4v5HzDf6",
        "outputId": "0ae69db5-f386-42a9-83e5-a7e155a3ce5f",
        "colab": {
          "base_uri": "https://localhost:8080/"
        }
      },
      "execution_count": null,
      "outputs": [
        {
          "output_type": "stream",
          "name": "stdout",
          "text": [
            "python2python2\n"
          ]
        }
      ]
    },
    {
      "cell_type": "code",
      "source": [
        "for i in range(10,-1,-1):\n",
        "   s = i\n",
        "   print(s)\n",
        "    "
      ],
      "metadata": {
        "id": "E5helCVaH7tR",
        "outputId": "8028af2d-706c-4a7d-b813-c374751f89ad",
        "colab": {
          "base_uri": "https://localhost:8080/"
        }
      },
      "execution_count": null,
      "outputs": [
        {
          "output_type": "stream",
          "name": "stdout",
          "text": [
            "10\n",
            "9\n",
            "8\n",
            "7\n",
            "6\n",
            "5\n",
            "4\n",
            "3\n",
            "2\n",
            "1\n",
            "0\n"
          ]
        }
      ]
    },
    {
      "cell_type": "code",
      "source": [
        "nums = [10, 20, 30]\n",
        "temp =nums\n",
        "nums.append(temp)\n",
        "print(nums)"
      ],
      "metadata": {
        "id": "i5mK00EVd06Z",
        "outputId": "a90a5448-2e84-46a7-9d57-e6ba86b46cc8",
        "colab": {
          "base_uri": "https://localhost:8080/"
        }
      },
      "execution_count": null,
      "outputs": [
        {
          "output_type": "stream",
          "name": "stdout",
          "text": [
            "[10, 20, 30, [...]]\n"
          ]
        }
      ]
    },
    {
      "cell_type": "code",
      "source": [
        "def func(x):\n",
        " x[0]='def'\n",
        " x[1]='abc'\n",
        " return id(x)\n",
        "q = ['abc', 'def']\n",
        "print(id(q) == func(q))"
      ],
      "metadata": {
        "id": "PacSypDwiZYp",
        "outputId": "982dd642-844f-4f39-f175-70a46f37c48c",
        "colab": {
          "base_uri": "https://localhost:8080/"
        }
      },
      "execution_count": null,
      "outputs": [
        {
          "output_type": "stream",
          "name": "stdout",
          "text": [
            "True\n"
          ]
        }
      ]
    },
    {
      "cell_type": "code",
      "source": [
        "s = \"1234\"\n",
        "print(list(s))\n"
      ],
      "metadata": {
        "id": "sUAQnxUzjS-Y",
        "outputId": "ab9596e3-a488-497b-80de-8c4452206430",
        "colab": {
          "base_uri": "https://localhost:8080/"
        }
      },
      "execution_count": null,
      "outputs": [
        {
          "output_type": "stream",
          "name": "stdout",
          "text": [
            "['1', '2', '3', '4']\n"
          ]
        }
      ]
    },
    {
      "cell_type": "code",
      "source": [
        "#manipulando arquvios\n",
        "\n",
        "def escrever_arquivo():\n",
        "    nome_arquivo = input(\"Digite o nome do arquivo: \")\n",
        "    conteudo = input(\"Digite o conteúdo do arquivo: \")\n",
        "\n",
        "    with open(nome_arquivo, 'w') as arquivo:\n",
        "        arquivo.write(conteudo)\n",
        "        print(f\"Arquivo {nome_arquivo} salvo com sucesso!\")\n",
        "\n",
        "def ler_arquivo():\n",
        "    nome_arquivo = input(\"Digite o nome do arquivo: \")\n",
        "\n",
        "    with open(nome_arquivo, 'r') as arquivo:\n",
        "        conteudo = arquivo.read()\n",
        "        print(conteudo)        \n",
        "\n",
        "escrever_arquivo()  \n",
        "ler_arquivo()      "
      ],
      "metadata": {
        "colab": {
          "base_uri": "https://localhost:8080/"
        },
        "id": "-Ut8Wlu9chq6",
        "outputId": "6d8fab3d-24c4-43e0-a35e-1133b978c9c6"
      },
      "execution_count": null,
      "outputs": [
        {
          "output_type": "stream",
          "name": "stdout",
          "text": [
            "Digite o nome do arquivo: davi\n",
            "Digite o conteúdo do arquivo: teste\n",
            "Arquivo davi salvo com sucesso!\n",
            "Digite o nome do arquivo: davi\n",
            "teste\n"
          ]
        }
      ]
    },
    {
      "cell_type": "code",
      "source": [
        "#We need a function that can transform a number (integer) into a string.\n",
        "\n",
        "#What ways of achieving this do you know?\n",
        "\n",
        "'''Examples (input --> output):\n",
        "123  --> \"123\"\n",
        "999  --> \"999\"\n",
        "-100 --> \"-100\"'''\n",
        "\n",
        "number = int(input('Digite um numero: '))\n",
        "number2 = str(number)\n",
        "print(number2)"
      ],
      "metadata": {
        "id": "TG285WM1iCtx",
        "colab": {
          "base_uri": "https://localhost:8080/"
        },
        "outputId": "529993f3-e3b4-44a2-93de-0fb1e1e8984b"
      },
      "execution_count": null,
      "outputs": [
        {
          "output_type": "stream",
          "name": "stdout",
          "text": [
            "Digite um numero: 5\n",
            "number\n"
          ]
        }
      ]
    },
    {
      "cell_type": "code",
      "source": [
        "a = int(input('Digite: '))\n",
        "b = int(input('Digite: '))\n",
        "\n",
        "c = a // b\n",
        "d = a / b\n",
        "print(c)\n",
        "print(d)"
      ],
      "metadata": {
        "colab": {
          "base_uri": "https://localhost:8080/"
        },
        "id": "kdMjJ4UfRNUl",
        "outputId": "692e6970-c506-4957-ac98-e82fc21b9a22"
      },
      "execution_count": null,
      "outputs": [
        {
          "output_type": "stream",
          "name": "stdout",
          "text": [
            "Digite: 4\n",
            "Digite: 6\n",
            "0\n",
            "0.6666666666666666\n"
          ]
        }
      ]
    },
    {
      "cell_type": "code",
      "source": [
        "if __name__ == '__main__':\n",
        "    n = int(input())\n",
        "    seq = ''.join(str(i) \n",
        "    for i in range(1, n+1))\n",
        "    print(seq)"
      ],
      "metadata": {
        "colab": {
          "base_uri": "https://localhost:8080/"
        },
        "id": "L0NY3XaMhHya",
        "outputId": "cc6f6b07-6b14-47b1-f996-534168941669"
      },
      "execution_count": null,
      "outputs": [
        {
          "output_type": "stream",
          "name": "stdout",
          "text": [
            "5\n",
            "12345\n"
          ]
        }
      ]
    },
    {
      "cell_type": "code",
      "source": [
        "#listando repositórios do GitHub\n",
        "\n",
        "import requests\n",
        "\n",
        "class ListaRepositorio():\n",
        "    \n",
        "    def __init__(self,usuario):\n",
        "        self._usuario = usuario\n",
        "        \n",
        "        \n",
        "    def requisicao_api(self):\n",
        "        \n",
        "        resposta = requests.get( f'https://api.github.com/users/{self._usuario}/repos')\n",
        "        \n",
        "        if resposta.status_code == 200:\n",
        "            return resposta.json()\n",
        "        else:\n",
        "            return resposta.status_code    \n",
        "        \n",
        "    def imprime_repositorios(self):\n",
        "        \n",
        "        dados_api = self.requisicao_api()\n",
        "        \n",
        "        if type(dados_api) is not int:\n",
        "            for i in range(len(dados_api)):\n",
        "                print(dados_api[i]['name'])\n",
        "        else:\n",
        "            print(dados_api)\n",
        "            \n",
        "            \n",
        "repositorios = ListaRepositorio('VonBeckera')\n",
        "repositorios.imprime_repositorios() "
      ],
      "metadata": {
        "colab": {
          "base_uri": "https://localhost:8080/"
        },
        "id": "nd4Hp3WsAWIW",
        "outputId": "f65a61d1-9ad5-4107-eb43-0f2b5c411d35"
      },
      "execution_count": null,
      "outputs": [
        {
          "output_type": "stream",
          "name": "stdout",
          "text": [
            "Eclipse\n",
            "Python\n",
            "Teste\n"
          ]
        }
      ]
    },
    {
      "cell_type": "code",
      "source": [
        "pip install flask\n",
        "pip install pandas\n",
        "pip install watchdog\n",
        "pip install xlsxwriter\n",
        "\n",
        "from flask import Flask, request, jsonify\n",
        "import pandas as pd\n",
        "import os\n",
        "\n",
        "app = Flask(__name__)\n",
        "\n",
        "# Define o caminho para o arquivo Excel\n",
        "excel_path = 'caminho/para/o/arquivo/excel.xlsx'\n",
        "\n",
        "# Lê os dados do Excel\n",
        "df = pd.read_excel(excel_path)\n",
        "\n",
        "# Define a rota para receber os dados do Excel\n",
        "@app.route('/update', methods=['POST'])\n",
        "def update_excel():\n",
        "    global df\n",
        "\n",
        "    # Lê os dados enviados via POST\n",
        "    data = request.json\n",
        "\n",
        "    # Atualiza o dataframe com os novos dados\n",
        "    df = pd.DataFrame(data)\n",
        "\n",
        "    # Salva os dados no arquivo Excel\n",
        "    writer = pd.ExcelWriter(excel_path, engine='xlsxwriter')\n",
        "    df.to_excel(writer, index=False)\n",
        "    writer.save()\n",
        "\n",
        "    return jsonify({'status': 'success'})\n",
        "\n",
        "# Define a rota para retornar os dados do Excel\n",
        "@app.route('/data')\n",
        "def get_data():\n",
        "    global df\n",
        "    return df.to_json(orient='records')\n",
        "\n",
        "if __name__ == '__main__':\n",
        "    app.run(debug=True)"
      ],
      "metadata": {
        "colab": {
          "base_uri": "https://localhost:8080/"
        },
        "id": "Wc2FzqzBtNF-",
        "outputId": "fcc5a607-9835-4bc4-c940-c700a646c344"
      },
      "execution_count": null,
      "outputs": [
        {
          "output_type": "stream",
          "name": "stdout",
          "text": [
            "Erro ao acessar a API: 404\n"
          ]
        }
      ]
    },
    {
      "cell_type": "markdown",
      "source": [
        "CURSO EM VÍDEO -> MUNDO 03 -> AULA 16 TUPLAS\n",
        "\n"
      ],
      "metadata": {
        "id": "JI0Dt9-RGXZU"
      }
    },
    {
      "cell_type": "code",
      "source": [
        "#TUPLAS#COmeçam com ()\n",
        "\n",
        "lanches = ('Hamburguer','Suco','Pizza','Pudim','Batata Frita')\n",
        "#print(lanches)\n",
        "#print(lanches[0])\n",
        "#print(lanches[:2])\n",
        "#print(lanches[2:])\n",
        "#print(lanches[-2])\n",
        "#print(lanches[1:3])\n",
        "#print(lanches[1:2:1])\n",
        "\n",
        "#imprimir a tupla sem posição\n",
        "for cont in lanches:\n",
        "  print(cont)\n",
        "\n",
        "print('=='*30)\n",
        "#imprimir usando o elemento da tupla com sua posição impressa\n",
        "for cont in range(0,len(lanches)):\n",
        "  print(f'Eu comi: {lanches[cont]} posição: {cont}')\n",
        "\n",
        "print('=='*30)\n",
        "#imprimir usando o elemento da tupla com sua posição impressa usando enumerate\n",
        "for pos,cont in enumerate(lanches):\n",
        "  print(f'Eu comi: {cont} na posicção {pos}')\n",
        "\n",
        "print('=='*30)\n",
        "\n",
        "#colocando a tupla para exibir elementos em ordem\n",
        "print(sorted(lanches))\n",
        "\n",
        "print('=='*30)\n",
        "'''\n",
        "for i in lanches:\n",
        "  print(i)\n",
        "\n",
        "testar = 'Refri' not in lanches\n",
        "testar2 = 'Refri' in lanches\n",
        "\n",
        "if testar == True:\n",
        "  print('e verdadeiro que Refri não faz parte da lista')\n",
        "if testar2 == False:\n",
        "  print('Refri não faz parte da lista')  \n",
        "\n",
        "print(testar)\n",
        "print(testar2)'''"
      ],
      "metadata": {
        "colab": {
          "base_uri": "https://localhost:8080/",
          "height": 400
        },
        "id": "RoCA_HOuGdAq",
        "outputId": "7dbdfa5f-79bd-4341-9c2e-76d413c133b2"
      },
      "execution_count": null,
      "outputs": [
        {
          "output_type": "stream",
          "name": "stdout",
          "text": [
            "Hamburguer\n",
            "Suco\n",
            "Pizza\n",
            "Pudim\n",
            "Batata Frita\n",
            "============================================================\n",
            "Eu comi: Hamburguer posição: 0\n",
            "Eu comi: Suco posição: 1\n",
            "Eu comi: Pizza posição: 2\n",
            "Eu comi: Pudim posição: 3\n",
            "Eu comi: Batata Frita posição: 4\n",
            "============================================================\n",
            "Eu comi: Hamburguer na posicção 0\n",
            "Eu comi: Suco na posicção 1\n",
            "Eu comi: Pizza na posicção 2\n",
            "Eu comi: Pudim na posicção 3\n",
            "Eu comi: Batata Frita na posicção 4\n",
            "============================================================\n",
            "['Batata Frita', 'Hamburguer', 'Pizza', 'Pudim', 'Suco']\n",
            "============================================================\n"
          ]
        },
        {
          "output_type": "execute_result",
          "data": {
            "text/plain": [
              "\"\\nfor i in lanches:\\n  print(i)\\n\\ntestar = 'Refri' not in lanches\\ntestar2 = 'Refri' in lanches\\n\\nif testar == True:\\n  print('e verdadeiro que Refri não faz parte da lista')\\nif testar2 == False:\\n  print('Refri não faz parte da lista')  \\n\\nprint(testar)\\nprint(testar2)\""
            ],
            "application/vnd.google.colaboratory.intrinsic+json": {
              "type": "string"
            }
          },
          "metadata": {},
          "execution_count": 10
        }
      ]
    },
    {
      "cell_type": "code",
      "source": [
        "lanches = ('Hamburguer','Suco','Pizza','Pudim','Batata Frita','Suco')\n",
        "lanches2 = ('macarrao','bolo','sorvete')\n",
        "lanches3 = lanches + lanches2\n",
        "\n",
        "print(lanches3)\n",
        "print('=='*50)\n",
        "\n",
        "print(sorted(lanches3))\n",
        "print('=='*50)\n",
        "\n",
        "for pos,cont in enumerate(lanches):\n",
        "  print(f'Eu comi: {cont} na posicção {pos}')\n",
        "print('=='*50)\n",
        "\n",
        "#achando a primeira ocorrencia de um objeto index()\n",
        "print(lanches.index('Suco'))  \n",
        "print('=='*50)\n",
        "\n",
        "#quantas vezes aparece um objeto count()\n",
        "print(lanches.count('Suco'))\n"
      ],
      "metadata": {
        "colab": {
          "base_uri": "https://localhost:8080/"
        },
        "id": "ksn_CMN2IEly",
        "outputId": "9bb46afb-e256-4fb4-ea28-978dac8de85f"
      },
      "execution_count": null,
      "outputs": [
        {
          "output_type": "stream",
          "name": "stdout",
          "text": [
            "('Hamburguer', 'Suco', 'Pizza', 'Pudim', 'Batata Frita', 'Suco', 'macarrao', 'bolo', 'sorvete')\n",
            "====================================================================================================\n",
            "['Batata Frita', 'Hamburguer', 'Pizza', 'Pudim', 'Suco', 'Suco', 'bolo', 'macarrao', 'sorvete']\n",
            "====================================================================================================\n",
            "Eu comi: Hamburguer na posicção 0\n",
            "Eu comi: Suco na posicção 1\n",
            "Eu comi: Pizza na posicção 2\n",
            "Eu comi: Pudim na posicção 3\n",
            "Eu comi: Batata Frita na posicção 4\n",
            "Eu comi: Suco na posicção 5\n",
            "====================================================================================================\n",
            "1\n",
            "====================================================================================================\n",
            "2\n"
          ]
        }
      ]
    },
    {
      "cell_type": "code",
      "source": [
        "#72  Crie um programa que tenha uma dupla totalmente preenchida com uma contagem por extenso, \n",
        "#de zero até vinte. Seu programa deverá ler um número pelo teclado (entre 0 e 20) e mostrá-lo por extenso. \n",
        "\n",
        "numeros_por_extenso = ('zero', 'um', 'dois', 'três', 'quatro', 'cinco', 'seis', 'sete', 'oito', 'nove', 'dez', 'onze', 'doze', 'treze', 'catorze', 'quinze', 'dezesseis', 'dezessete', 'dezoito', 'dezenove', 'vinte')\n",
        "\n",
        "while True:\n",
        "    numero = int(input('Digite um valor entre 0 e 20: '))\n",
        "    op = input('Deseja continuar? [S/N] ').strip().upper()\n",
        "\n",
        "    if op == 'N':\n",
        "      break\n",
        "\n",
        "    else:\n",
        "      print(f'O número que você digitou foi {numeros_por_extenso[numero]}.')\n",
        "      continue  \n",
        "    \n",
        "    if numero >= 0 and numero <= 20:\n",
        "      break\n",
        "\n",
        "    else:\n",
        "        print('Número inválido. Tente novamente.')\n",
        "        \n",
        "    \n",
        "    \n",
        "\n",
        "print(f'O número que você digitou foi {numeros_por_extenso[numero]}.')\n"
      ],
      "metadata": {
        "colab": {
          "base_uri": "https://localhost:8080/"
        },
        "id": "5mjGZUCnONb8",
        "outputId": "07273a93-0cef-47a2-9a77-e998d14e510a"
      },
      "execution_count": null,
      "outputs": [
        {
          "output_type": "stream",
          "name": "stdout",
          "text": [
            "Digite um valor entre 0 e 20: 10\n",
            "Deseja continuar? [S/N] s\n",
            "O número que você digitou foi dez.\n",
            "Digite um valor entre 0 e 20: 9\n",
            "Deseja continuar? [S/N] n\n",
            "O número que você digitou foi nove.\n"
          ]
        }
      ]
    },
    {
      "cell_type": "code",
      "source": [
        "#73: Crie uma tupla preenchida com os 20 primeiros colocados da Tabela do \n",
        "#Campeonato Brasileiro de Futebol, na ordem de colocação. Depois mostre:\n",
        "#a) Os 5 primeiros times.\n",
        "#b) Os últimos 4 colocados.\n",
        "#c) Times em ordem alfabética. \n",
        "#d) Em que posição está o time da Chapecoense.\n",
        "\n",
        "campeonato_brasileiro = (\"Palmeiras\", \"Atlético-MG\", \"Fortaleza\", \"Bragantino\", \"Athletico-PR\", \n",
        "                        \"Fluminense\", \"Flamengo\", \"Cuiabá\", \"Santos\", \"Atlético-GO\", \n",
        "                        \"Corinthians\", \"Internacional\", \"Juventude\", \"Ceará\", \"São Paulo\", \n",
        "                        \"Sport Recife\", \"América-MG\", \"Grêmio\", \"Bahia\", \"Chapecoense\")\n",
        "\n",
        "\n",
        "print(f'O 5 primeiros times são: {campeonato_brasileiro[0:5]}')\n",
        "\n",
        "print(f'O 4 últimos colocados são os times: {campeonato_brasileiro[-4:]}')\n",
        "\n",
        "print(f'O 4 últimos colocados são os times: {sorted(campeonato_brasileiro)}')\n",
        "\n",
        "print(f'O Chapecoense está na: {campeonato_brasileiro.index(\"Chapecoense\")+1}ª posição')\n",
        "\n"
      ],
      "metadata": {
        "colab": {
          "base_uri": "https://localhost:8080/"
        },
        "id": "qriRqv1MzLot",
        "outputId": "ec89d285-c0b1-4fe5-cc0b-7c7b32c8be8d"
      },
      "execution_count": null,
      "outputs": [
        {
          "output_type": "stream",
          "name": "stdout",
          "text": [
            "O 5 primeiros times são: ('Palmeiras', 'Atlético-MG', 'Fortaleza', 'Bragantino', 'Athletico-PR')\n",
            "O 4 últimos colocados são os times: ('América-MG', 'Grêmio', 'Bahia', 'Chapecoense')\n",
            "O 4 últimos colocados são os times: ['América-MG', 'Athletico-PR', 'Atlético-GO', 'Atlético-MG', 'Bahia', 'Bragantino', 'Ceará', 'Chapecoense', 'Corinthians', 'Cuiabá', 'Flamengo', 'Fluminense', 'Fortaleza', 'Grêmio', 'Internacional', 'Juventude', 'Palmeiras', 'Santos', 'Sport Recife', 'São Paulo']\n",
            "O Chapecoense está na: 20ª posição\n"
          ]
        }
      ]
    },
    {
      "cell_type": "code",
      "source": [
        "tpl = (1,2,3,4,5)\n",
        "print(tpl.index(3, 2, 4))"
      ],
      "metadata": {
        "colab": {
          "base_uri": "https://localhost:8080/"
        },
        "id": "6JPurymIwusr",
        "outputId": "bf5c9cf4-78e6-497b-db30-875ff172a5cb"
      },
      "execution_count": null,
      "outputs": [
        {
          "output_type": "stream",
          "name": "stdout",
          "text": [
            "2\n"
          ]
        }
      ]
    },
    {
      "cell_type": "code",
      "source": [
        "#074 - Maior e menor valores em Tupla sorteado\n",
        "from random import randint\n",
        "lista = (randint(0,10),randint(0,10),randint(0,10),randint(0,10),randint(0,10))\n",
        "print(f'O valores sorteados são: {lista}')\n",
        "print(f'\\nO maior valor foi {max(lista)} \\nO menor valor foi {min(lista)}')\n",
        "\n",
        "\n",
        "\n"
      ],
      "metadata": {
        "colab": {
          "base_uri": "https://localhost:8080/"
        },
        "id": "8wUo-rKq5Hw1",
        "outputId": "3689ead4-b0e4-4836-80ce-5450d6373d23"
      },
      "execution_count": null,
      "outputs": [
        {
          "output_type": "stream",
          "name": "stdout",
          "text": [
            "O valores sorteados são: (2, 8, 5, 7, 1)\n",
            "\n",
            "O maior valor foi 8 \n",
            "O menor valor foi 1\n"
          ]
        }
      ]
    },
    {
      "cell_type": "code",
      "source": [
        "#75 Desenvolva um programa que leia quatro valores pelo teclado e guarde-os em uma tupla. No final, mostre:\n",
        "\n",
        "#A) Quantas vezes apareceu o valor 9.\n",
        "\n",
        "#B) Em que posição foi digitado o primeiro valor 3.\n",
        "\n",
        "#C) Quais foram os números pares.\n",
        "\n",
        "lista = []\n",
        "cont = 0\n",
        "pares=[]\n",
        "for i in range(1,5):\n",
        "  n = int(input((f'Digite o {i}ª número: ')))\n",
        "  lista.append(n)\n",
        "\n",
        "  #if n == 9:\n",
        "    #cont +=1\n",
        "for i in lista:\n",
        "  if i % 2 == 0:\n",
        "    pares.append(i)\n",
        "\n",
        "  \n",
        "tupla_lista = tuple(lista)\n",
        "pares_tupla = tuple(pares)\n",
        "cont_nove = tupla_lista.count(9)\n",
        "\n",
        "\n",
        "print(f'A tupla é : {tupla_lista}')\n",
        "print('-=-'*15)\n",
        "if 3 in lista:\n",
        "  print('-=-'*15)\n",
        "  print(f'A posição do número 3 é : {tupla_lista.index(3)+1} posição')\n",
        "  print('-=-'*15)\n",
        "else:\n",
        "  print('-=-'*15)\n",
        "  print('O número 3 não foi encontrado')  \n",
        "  print('-=-'*15)\n",
        "print(f' número 9 apareceu {cont_nove} vezes')\n",
        "print('-=-'*15)\n",
        "print(f'Os números pares são:{pares_tupla} ')  \n",
        "print('-=-'*15)"
      ],
      "metadata": {
        "colab": {
          "base_uri": "https://localhost:8080/"
        },
        "id": "HQ1ARAyvLu4o",
        "outputId": "3ae43d6f-1e75-4d38-a77e-fb316c850cba"
      },
      "execution_count": null,
      "outputs": [
        {
          "output_type": "stream",
          "name": "stdout",
          "text": [
            "Digite o 1ª número: 9\n",
            "Digite o 2ª número: 10\n",
            "Digite o 3ª número: 2\n",
            "Digite o 4ª número: 5\n",
            "A tupla é : (9, 10, 2, 5)\n",
            "-=--=--=--=--=--=--=--=--=--=--=--=--=--=--=-\n",
            "-=--=--=--=--=--=--=--=--=--=--=--=--=--=--=-\n",
            "O número 3 não foi encontrado\n",
            "-=--=--=--=--=--=--=--=--=--=--=--=--=--=--=-\n",
            " número 9 apareceu 1 vezes\n",
            "-=--=--=--=--=--=--=--=--=--=--=--=--=--=--=-\n",
            "5e os números pares são:(10, 2) \n",
            "-=--=--=--=--=--=--=--=--=--=--=--=--=--=--=-\n"
          ]
        }
      ]
    },
    {
      "cell_type": "code",
      "source": [
        "#76: Crie um programa que tenha uma tupla única com nomes de produtos e seus \n",
        "#respectivos preços, na sequência. No final, mostre uma listagem de preços, organizando os dados em forma tabular.\n",
        "\n",
        "ls = ('Agua',2.50,\n",
        "      'Refrigerante',2,\n",
        "      'Hamburguer', 5,\n",
        "      'Pizza',25,\n",
        "      'Batat Frita',10)\n",
        "\n",
        "print('='*40)\n",
        "print(f'{\"LISTAGEM DE PREÇOS\":^40}')\n",
        "print('='*40)\n",
        "for p in range(len(ls)):\n",
        "  if p % 2 == 0:\n",
        "    print(f'{ls[p]:.<30}',end='')\n",
        "  else:\n",
        "    print(f'R${ls[p]:>5.2f}')\n",
        "print('='*40)\n"
      ],
      "metadata": {
        "colab": {
          "base_uri": "https://localhost:8080/"
        },
        "id": "hr4_IIOIwx2o",
        "outputId": "f26085af-4bfb-4590-d373-0c0cb48ff27d"
      },
      "execution_count": null,
      "outputs": [
        {
          "output_type": "stream",
          "name": "stdout",
          "text": [
            "========================================\n",
            "           LISTAGEM DE PREÇOS           \n",
            "========================================\n",
            "Agua..........................R$ 2.50\n",
            "Refrigerante..................R$ 2.00\n",
            "Hamburguer....................R$ 5.00\n",
            "Pizza.........................R$25.00\n",
            "Batat Frita...................R$10.00\n",
            "========================================\n"
          ]
        }
      ]
    },
    {
      "cell_type": "code",
      "source": [
        "#treinamento\n",
        "\n",
        "lista = ('Lápis', 0.75,'Tesoura' , 1.75, 'Caderno 12 matérias', 20,'Cola Branca', 4,'Caneta Bic',1.25)\n",
        "print('='*40)\n",
        "print(f'{\"LISTA DE PREÇOS\":^40}')\n",
        "print('='*40)\n",
        "for i in range(len(lista)):\n",
        "  if i % 2 == 0:\n",
        "    print(f'{lista[i]:.<30}', end=' ')\n",
        "  else:\n",
        "    print(f'R${lista[i]:>6.2f}')  \n",
        "print('='*40)   \n",
        "\n",
        "print(lista[0])\n",
        "print(lista[1])#indice ímpar mostra o valor do produto\n",
        "print(lista[2])#Indice par mostra nome do produto"
      ],
      "metadata": {
        "colab": {
          "base_uri": "https://localhost:8080/"
        },
        "id": "UuYZFGTn_UXN",
        "outputId": "0f9eb220-27b8-41e2-de37-fe964ed3e3a0"
      },
      "execution_count": null,
      "outputs": [
        {
          "output_type": "stream",
          "name": "stdout",
          "text": [
            "========================================\n",
            "            LISTA DE PREÇOS             \n",
            "========================================\n",
            "Lápis......................... R$  0.75\n",
            "Tesoura....................... R$  1.75\n",
            "Caderno 12 matérias........... R$ 20.00\n",
            "Cola Branca................... R$  4.00\n",
            "Caneta Bic.................... R$  1.25\n",
            "========================================\n",
            "Lápis\n",
            "0.75\n",
            "Tesoura\n"
          ]
        }
      ]
    },
    {
      "cell_type": "code",
      "source": [
        "#077: Crie um programa que tenha uma tupla com várias palavras (não usar acentos).\n",
        "# Depois disso, você deve mostrar, para cada palavra, quais são as suas vogais.\n",
        "vogais = []\n",
        "palavras = ('cafe', 'lapis', 'agua', 'refrigerante', 'cera','python')\n",
        "\n",
        "for p in palavras:\n",
        "  print(f'\\nNa palavra {p.upper()} temos as vogais:', end=' ')\n",
        "  for letra in p:\n",
        "    if letra.lower() in 'aeiouy':\n",
        "      print(letra, end=' ')\n",
        "  \n",
        " \n",
        "    "
      ],
      "metadata": {
        "colab": {
          "base_uri": "https://localhost:8080/"
        },
        "id": "tYh6Cho5ED3k",
        "outputId": "ce3f686f-25d6-478e-ec9e-e83ac6ef021e"
      },
      "execution_count": null,
      "outputs": [
        {
          "output_type": "stream",
          "name": "stdout",
          "text": [
            "\n",
            "Na palavra CAFE temos as vogais: a e \n",
            "Na palavra LAPIS temos as vogais: a i \n",
            "Na palavra AGUA temos as vogais: a u a \n",
            "Na palavra REFRIGERANTE temos as vogais: e i e a e \n",
            "Na palavra CERA temos as vogais: e a \n",
            "Na palavra PYTHON temos as vogais: y o "
          ]
        }
      ]
    },
    {
      "cell_type": "markdown",
      "source": [],
      "metadata": {
        "id": "CeUlPm1f9tyZ"
      }
    },
    {
      "cell_type": "markdown",
      "source": [
        "CURSO EM VÍDEO -> Mundo 03 PYTHON -> AULA 17 LISTA []"
      ],
      "metadata": {
        "id": "8FvFA8X19lne"
      }
    },
    {
      "cell_type": "code",
      "source": [
        "# Listas [ ]\n",
        "'''num = [1,2,5,3,4,9,83,6,8,7]\n",
        "num.sort()#ordem crescente\n",
        "num.remove(83)#remove o valor 83 da lista\n",
        "num.insert(0,0)# insere o valor 0 na posição 0\n",
        "num.pop()#remove o último elemento da lista com pop\n",
        "num.pop(3)#remove o número 3 da lista\n",
        "num.append(10)#add número 10 a lista\n",
        "num.append(2)#add número 2 a lista\n",
        "print(f'A lista tem {len(num)} elementos')\n",
        "print(num.index(4))# Mostra a posição do número 10\n",
        "print(num)  \n",
        "\n",
        "for i in range(len(num)):#removendo todas as ocorrências de um determinado valor ou o que for solicitado na lista\n",
        "  if 2 in num:\n",
        "    num.remove(2)\n",
        "\n",
        "print(num)  \n",
        "'''\n",
        "\n",
        "lista = []\n",
        "lista.append(0)\n",
        "lista.append(1)\n",
        "lista.append(2)\n",
        "\n",
        "for v in lista:\n",
        "  print(f'Os valores são {v}')#imprimindo de forma mais elaborada,formatada\n",
        "\n",
        "\n",
        "for c,v in enumerate(lista):# Imprimindo lista com a posição e o valor\n",
        "  print(f'Os valor da posição {c}ª é {v}')\n",
        "\n",
        "print(lista)\n",
        "\n",
        "lista2 = []\n",
        "for cont in range(0,10):\n",
        "  lista2.append(int(input('Digite um valor: ')))\n",
        "\n",
        "print(lista2)  \n",
        "print(f'O mairo valor é: {max(lista2)}')\n",
        "\n"
      ],
      "metadata": {
        "colab": {
          "base_uri": "https://localhost:8080/"
        },
        "id": "qk0rIYrP9vlV",
        "outputId": "6016a9ff-4fe8-4964-c50a-8c9b49d71729"
      },
      "execution_count": null,
      "outputs": [
        {
          "output_type": "stream",
          "name": "stdout",
          "text": [
            "Os valores são 0\n",
            "Os valores são 1\n",
            "Os valores são 2\n",
            "Os valor da posição 0ª é 0\n",
            "Os valor da posição 1ª é 1\n",
            "Os valor da posição 2ª é 2\n",
            "[0, 1, 2]\n",
            "Digite um valor: 10\n",
            "Digite um valor: 20\n",
            "Digite um valor: 30\n",
            "Digite um valor: 40\n",
            "Digite um valor: 50\n",
            "Digite um valor: 60\n",
            "Digite um valor: 70\n",
            "Digite um valor: 80\n",
            "Digite um valor: 90\n",
            "Digite um valor: 100\n",
            "[10, 20, 30, 40, 50, 60, 70, 80, 90, 100]\n",
            "O mairo valor é: 100\n"
          ]
        }
      ]
    },
    {
      "cell_type": "markdown",
      "source": [
        "CURSO EM VÍDEO -> Mundo 03 PYTHON -> AULA 17 LISTA []\n"
      ],
      "metadata": {
        "id": "jjQhT8vC2af_"
      }
    },
    {
      "cell_type": "code",
      "source": [
        "#EXEMPLO\n",
        "\n",
        "a = [1,2,3,4,5]\n",
        "b = a # aqui ele faz uma ligação de uma lista com a outra e não uma cópia\n",
        "b =a[:] # aqui sim ele cria uma cópia da lista  dai se consegue alterar as listas\n",
        "print(f'A LISTA A: {a}')\n",
        "print(f'A LISTA B: {b}')\n",
        "\n",
        "b [2] = 8#Troca o valor da posição por 8, porém ele faz uma ligação das duas lsitas dai as duas são alteradas\n",
        "print(f'A LISTA A: {a}')\n",
        "print(f'A LISTA B: {b}')\n",
        "\n"
      ],
      "metadata": {
        "id": "O5cj_14N2ZpK",
        "colab": {
          "base_uri": "https://localhost:8080/"
        },
        "outputId": "e7353750-ff48-43c8-8216-381b498ba5f2"
      },
      "execution_count": 5,
      "outputs": [
        {
          "output_type": "stream",
          "name": "stdout",
          "text": [
            "A LISTA A: [1, 2, 3, 4, 5]\n",
            "A LISTA B: [1, 2, 3, 4, 5]\n",
            "A LISTA A: [1, 2, 3, 4, 5]\n",
            "A LISTA B: [1, 2, 8, 4, 5]\n"
          ]
        }
      ]
    },
    {
      "cell_type": "markdown",
      "source": [
        "EXECÍCIOS DE LISTAS - CUSO EM VÍDEO -"
      ],
      "metadata": {
        "id": "Blu-O82cI3Yh"
      }
    },
    {
      "cell_type": "code",
      "source": [
        "# 78 - Faça um programa que leia 5 valores númericos gaurde em uma lista e diga qual maior valor e qual menor valor e sua posição\n",
        "\n",
        "lista = []\n",
        "print('RECEBENDO 5 VALORES NÚMERICOS')\n",
        "print('+=+'*20)\n",
        "\n",
        "for  i  in  range(1,6):\n",
        "   numeros = int(input(f'Digitie o {i}ª  número: '))\n",
        "   lista.append(numeros)\n",
        "\n",
        "print('+=+'*20)\n",
        "\n",
        "for n in range(len(lista)):\n",
        "  menor =  lista.index(min(lista))\n",
        "  maior = lista.index( max(lista))\n",
        "\n",
        "print('+=+'*20)\n",
        "\n",
        "print('TABELA POSICIONAL DOS NÚMERO DIGITADOS')\n",
        "for l , p in  enumerate (lista):\n",
        "  print(f'O Número {p}  está na {l+1}ª posição')\n",
        "\n",
        "\n",
        "print('+=+'*20)\n",
        "\n",
        "print('LISTA COMPLETA  DOS NÚMEROS')\n",
        "print(f'A lista completa digitada é:  {lista}') \n",
        "\n",
        "print('+=+'*20)\n",
        "\n",
        "print('LISTA DOS MAIORES VALORES E A SUA POSIÇÃO')\n",
        "print(f'O maior número da lista é: {max(lista)} e está na  {maior+1}ª   posição')\n",
        "\n",
        "print('+=+'*20)\n",
        "\n",
        "print('LISTA DOS MENORES VALORES E A SUA POSIÇÃO')\n",
        "print(f'O menor número da lista é: {min(lista) }  e está na  {menor+1}  ª   posição')"
      ],
      "metadata": {
        "colab": {
          "base_uri": "https://localhost:8080/"
        },
        "id": "6c4OzOwPI9C8",
        "outputId": "f7ddbff9-ede7-4a7d-b4c6-01e8a6f73043"
      },
      "execution_count": 37,
      "outputs": [
        {
          "output_type": "stream",
          "name": "stdout",
          "text": [
            "RECEBENDO 5 VALORES NÚMERICOS\n",
            "+=++=++=++=++=++=++=++=++=++=++=++=++=++=++=++=++=++=++=++=+\n",
            "Digitie o 1ª  número: 5\n",
            "Digitie o 2ª  número: 6\n",
            "Digitie o 3ª  número: 6\n",
            "Digitie o 4ª  número: 2\n",
            "Digitie o 5ª  número: 2\n",
            "+=++=++=++=++=++=++=++=++=++=++=++=++=++=++=++=++=++=++=++=+\n",
            "+=++=++=++=++=++=++=++=++=++=++=++=++=++=++=++=++=++=++=++=+\n",
            "TABELA POSICIONAL DOS NÚMERO DIGITADOS\n",
            "O Número 5  está na 1ª posição\n",
            "O Número 6  está na 2ª posição\n",
            "O Número 6  está na 3ª posição\n",
            "O Número 2  está na 4ª posição\n",
            "O Número 2  está na 5ª posição\n",
            "+=++=++=++=++=++=++=++=++=++=++=++=++=++=++=++=++=++=++=++=+\n",
            "LISTA COMPLETA  DOS NÚMEROS\n",
            "A lista completa digitada é:  [5, 6, 6, 2, 2]\n",
            "+=++=++=++=++=++=++=++=++=++=++=++=++=++=++=++=++=++=++=++=+\n",
            "LISTA DOS MAIORES VALORES E A SUA POSIÇÃO\n",
            "O maior número da lista é: 6 e está na  2ª   posição\n",
            "+=++=++=++=++=++=++=++=++=++=++=++=++=++=++=++=++=++=++=++=+\n",
            "LISTA DOS MENORES VALORES E A SUA POSIÇÃO\n",
            "O menor número da lista é: 2  e está na  4  ª   posição\n"
          ]
        }
      ]
    },
    {
      "cell_type": "code",
      "source": [
        "# 79 - Crie um programa aonde o usuário digite vários valores, não pode ter valores iguais, no final mostre os valores em ordem crescente\n",
        "\n",
        "lista = []\n",
        "\n",
        "while True:\n",
        "    valor = int(input('Digite um valor: \\n'))\n",
        "    print('=='*20)\n",
        "\n",
        "    if valor  in lista:\n",
        "\n",
        "      print('Valores iguais não podem ser inseridos,, tente de novo')\n",
        "      continue\n",
        "\n",
        "    else:\n",
        "      print(\"Valor adicionado com sucesso!!\")\n",
        "      lista.append(valor)\n",
        "      \n",
        "    print('=='*20)\n",
        "    opcao = input('Digite S para sair ou C para continuar: \\n').upper().strip()\n",
        "    print('=='*20)\n",
        "\n",
        "    if opcao == 'S':\n",
        "        print('Saindo do programa....')\n",
        "        break\n",
        "\n",
        "    elif opcao == 'C':\n",
        "        continue\n",
        "\n",
        "    else:\n",
        "        print('Opção inválida')\n",
        "        continue\n",
        "        \n",
        "print('=='*20)       \n",
        "print('A lista criada foi :\\n')\n",
        "print(f' {lista}')\n",
        "print('=='*20)\n",
        "lista.sort()\n",
        "print('=='*20)\n",
        "print(\"A lista na ordem crescente é: \\n\")\n",
        "print(f'{lista}')\n",
        "print('=='*20)\n",
        "\n",
        "\n",
        "\n",
        "\n",
        "\n",
        "\n",
        "\n",
        "\n"
      ],
      "metadata": {
        "colab": {
          "base_uri": "https://localhost:8080/"
        },
        "id": "jlHItdVaR92T",
        "outputId": "415e86bc-7c43-4794-e094-bf81eba45aba"
      },
      "execution_count": 21,
      "outputs": [
        {
          "output_type": "stream",
          "name": "stdout",
          "text": [
            "Digite um valor: \n",
            "2\n",
            "========================================\n",
            "Valor adicionado com sucesso!!\n",
            "========================================\n",
            "Digite S para sair ou C para continuar: \n",
            "s\n",
            "========================================\n",
            "Saindo...\n",
            "========================================\n",
            "A lista criada foi :\n",
            "\n",
            " [2]\n",
            "========================================\n",
            "========================================\n",
            "A lista na ordem crescente é: \n",
            "\n",
            "[2]\n",
            "========================================\n"
          ]
        }
      ]
    },
    {
      "cell_type": "code",
      "source": [
        "# 80 - Inserir valores aleatórios e depois mostre a lista em ordem sem usar o sort()\n",
        "\n",
        "lista = []\n",
        "\n",
        "while True:\n",
        "    valor = int(input('Digite um valor (-1  para sair): '))\n",
        "    if valor ==  -1:\n",
        "        break\n",
        "    else:\n",
        "        lista.append(valor)\n",
        "\n",
        "n = len(lista)\n",
        "for i in range(n):\n",
        "    for j in range(n - i - 1):\n",
        "        if lista[j] > lista[j + 1]:\n",
        "            lista[j], lista[j + 1] = lista[j + 1], lista[j]\n",
        "\n",
        "print(f'Valores inseridos: {lista}')"
      ],
      "metadata": {
        "colab": {
          "base_uri": "https://localhost:8080/"
        },
        "id": "ZnQI6yvxbB6-",
        "outputId": "389661f1-6c82-4b30-ee29-fbf1f2668506"
      },
      "execution_count": 25,
      "outputs": [
        {
          "output_type": "stream",
          "name": "stdout",
          "text": [
            "Digite um valor (-1  para sair): 2\n",
            "Digite um valor (-1  para sair): 1\n",
            "Digite um valor (-1  para sair): 0\n",
            "Digite um valor (-1  para sair): 25\n",
            "Digite um valor (-1  para sair): -1\n",
            "Valores inseridos: [0, 1, 2, 25]\n"
          ]
        }
      ]
    },
    {
      "cell_type": "code",
      "source": [
        "# 80 - Inserir valores aleatórios e depois mostre a lista em ordem sem usar o sort() OUTRO METÓDO\n",
        "lista = []\n",
        "for i in range(0, 5):\n",
        "    n = int(input(f'Digite o {i}ª valor: '))\n",
        "    if i == 0 or n > lista[-1]:\n",
        "        lista.append(n)\n",
        "    else:\n",
        "        pos = 0\n",
        "        while pos < len(lista):\n",
        "            if n <= lista[pos]:\n",
        "                lista.insert(pos, n)\n",
        "                break\n",
        "            pos += 1\n",
        "\n",
        "print(lista)\n",
        "\n",
        "  \n"
      ],
      "metadata": {
        "colab": {
          "base_uri": "https://localhost:8080/"
        },
        "id": "0YnbFU_Ge4Zz",
        "outputId": "bb0a286d-f7a5-4a00-e633-754dc71d9565"
      },
      "execution_count": 48,
      "outputs": [
        {
          "output_type": "stream",
          "name": "stdout",
          "text": [
            "Digite o 0ª valor: 50\n",
            "Digite o 1ª valor: 30\n",
            "Digite o 2ª valor: 47\n",
            "Digite o 3ª valor: 88\n",
            "Digite o 4ª valor: 0\n",
            "[0, 30, 47, 50, 88]\n"
          ]
        }
      ]
    },
    {
      "cell_type": "code",
      "source": [
        "#USANDO VOZES NO PYTHON\n",
        "\n",
        "import pyttsx3\n",
        "\n",
        "# inicializa a engine\n",
        "engine = pyttsx3.init()\n",
        "\n",
        "# configura as propriedades da voz robótica\n",
        "voice_id = 'HKEY_LOCAL_MACHINE\\SOFTWARE\\Microsoft\\Speech\\Voices\\Tokens\\TTS_MS_PT-BR_MARIA_11.0'\n",
        "engine.setProperty('voice', voice_id)  # selecione uma voz robótica\n",
        "# fala um texto com a voz robótica\n",
        "\n",
        "engine.say(\"Qual é o seu nome? \")\n",
        "engine.runAndWait()\n",
        "\n",
        "nome=str(input('Nome: '))\n",
        "\n",
        "engine.say(f'Seja bem vindo{nome}, eu sou a Anna,  o que vamos fazer hoje?')\n",
        "engine.runAndWait()\n",
        "\n",
        "engine.say(f'Escolhas as opções: 1- cadastrar 2 - Sair')\n",
        "engine.runAndWait()\n",
        "op = int(input('Opção: '))\n",
        "if op == 1 :\n",
        "    engine.say(\"Digite sua idade e sexo:\")\n",
        "    engine.runAndWait()\n",
        "    idade=int(input('Idade: '))\n",
        "    sexo=str(input('Sexo: '))\n",
        "    engine.say(f'Sua idade é de {idade} anos e seu sexo é {sexo}, obrigado por utilizar nosso sistema')\n",
        "    engine.runAndWait()\n",
        "elif op == 2 :\n",
        "    engine.say(f'Saindo do sistema {nome} até mais..')\n",
        "    engine.runAndWait()\n",
        "\n",
        "else:\n",
        "    engine.say(f'Opção errado..')\n",
        "    engine.runAndWait() \n"
      ],
      "metadata": {
        "id": "jJCGta0OdEeZ",
        "colab": {
          "base_uri": "https://localhost:8080/",
          "height": 391
        },
        "outputId": "372b13b7-9607-4244-d624-cd59898f5b28"
      },
      "execution_count": null,
      "outputs": [
        {
          "output_type": "error",
          "ename": "ModuleNotFoundError",
          "evalue": "ignored",
          "traceback": [
            "\u001b[0;31m---------------------------------------------------------------------------\u001b[0m",
            "\u001b[0;31mModuleNotFoundError\u001b[0m                       Traceback (most recent call last)",
            "\u001b[0;32m<ipython-input-26-b7d186e2dc47>\u001b[0m in \u001b[0;36m<cell line: 3>\u001b[0;34m()\u001b[0m\n\u001b[1;32m      1\u001b[0m \u001b[0;31m#USANDO VOZES NO PYTHON\u001b[0m\u001b[0;34m\u001b[0m\u001b[0;34m\u001b[0m\u001b[0m\n\u001b[1;32m      2\u001b[0m \u001b[0;34m\u001b[0m\u001b[0m\n\u001b[0;32m----> 3\u001b[0;31m \u001b[0;32mimport\u001b[0m \u001b[0mpyttsx3\u001b[0m\u001b[0;34m\u001b[0m\u001b[0;34m\u001b[0m\u001b[0m\n\u001b[0m\u001b[1;32m      4\u001b[0m \u001b[0;34m\u001b[0m\u001b[0m\n\u001b[1;32m      5\u001b[0m \u001b[0;31m# inicializa a engine\u001b[0m\u001b[0;34m\u001b[0m\u001b[0;34m\u001b[0m\u001b[0m\n",
            "\u001b[0;31mModuleNotFoundError\u001b[0m: No module named 'pyttsx3'",
            "",
            "\u001b[0;31m---------------------------------------------------------------------------\u001b[0;32m\nNOTE: If your import is failing due to a missing package, you can\nmanually install dependencies using either !pip or !apt.\n\nTo view examples of installing some common dependencies, click the\n\"Open Examples\" button below.\n\u001b[0;31m---------------------------------------------------------------------------\u001b[0m\n"
          ],
          "errorDetails": {
            "actions": [
              {
                "action": "open_url",
                "actionText": "Open Examples",
                "url": "/notebooks/snippets/importing_libraries.ipynb"
              }
            ]
          }
        }
      ]
    },
    {
      "cell_type": "code",
      "source": [
        "from random import randint\n",
        "\n",
        "lista = []\n",
        "\n",
        "for i in range(0,11):\n",
        "  sorte = randint(0,10)\n",
        "  lista.append(sorte)\n",
        "  print(f'{lista[i]}', end =' ')\n",
        "\n",
        "for i in range(len(lista)):\n",
        "  for j in range(i+1, len(lista)):\n",
        "    if lista[i] == lista[j]:\n",
        "            lista.pop(j)\n",
        "            break\n",
        "\n",
        "\n",
        "\n",
        "\n",
        "print(f'\\n{sorted(lista)}',end = '')       "
      ],
      "metadata": {
        "colab": {
          "base_uri": "https://localhost:8080/"
        },
        "id": "BObX_bxoumV0",
        "outputId": "02ddead1-8d9d-4bfd-d82b-7f5a640a0906"
      },
      "execution_count": null,
      "outputs": [
        {
          "output_type": "stream",
          "name": "stdout",
          "text": [
            "7 5 9 4 1 2 5 10 10 5 0 \n",
            "[0, 1, 2, 4, 5, 5, 7, 9, 10]"
          ]
        }
      ]
    },
    {
      "cell_type": "markdown",
      "source": [
        "# USANDO MATPLOTLIB \n"
      ],
      "metadata": {
        "id": "n8-XnIOSYZ1O"
      }
    },
    {
      "cell_type": "markdown",
      "source": [
        "Criando primeiro gráfico\n",
        "[MATPLOTLIB SITE OFICIAL](https://matplotlib.org/stable/users/getting_started/)"
      ],
      "metadata": {
        "id": "ZrjD-6VFYnW4"
      }
    },
    {
      "cell_type": "code",
      "source": [
        "import matplotlib.pyplot as plt\n",
        "import numpy as np\n",
        "\n",
        "x = np.linspace(0, 2 * np.pi, 200)\n",
        "y = np.sin(x)\n",
        "\n",
        "fig, ax = plt.subplots()\n",
        "ax.plot(x, y)\n",
        "plt.show()"
      ],
      "metadata": {
        "colab": {
          "base_uri": "https://localhost:8080/",
          "height": 430
        },
        "id": "GG6YTTgqYmCg",
        "outputId": "384d176a-f22b-47bf-b475-ff7a5fc6c651"
      },
      "execution_count": null,
      "outputs": [
        {
          "output_type": "display_data",
          "data": {
            "text/plain": [
              "<Figure size 640x480 with 1 Axes>"
            ],
            "image/png": "[encoded data removed]"
          },
          "metadata": {}
        }
      ]
    },
    {
      "cell_type": "code",
      "source": [
        "import pandas as pd\n",
        "\n",
        "df = pd.DataFrame(\n",
        "    {\n",
        "        \"Name\": [\n",
        "            \"Braund, Mr. Owen Harris\",\n",
        "            \"Allen, Mr. William Henry\",\n",
        "            \"Bonnell, Miss. Elizabeth\",\n",
        "            \"Becker,Mrs. Davi\",\n",
        "        ],\n",
        "        \"Age\": [22, 35, 58, 60],\n",
        "        \"Sex\": [\"male\", \"male\", \"female\",\"male\"],\n",
        "    }\n",
        ")\n",
        "\n",
        "#idade_maxima = df['Age'].max()#imprimindo a idade maxima\n",
        "#print(f'A idade máxima de lista é\\n: {idade_maxima}\\n anos')\n",
        "#df['Name']#Imprimindo somente os nomes\n",
        "#df.describe()#é um método do pandas que retorna um resumo estatístico das colunas numéricas em um DataFrame.\n",
        "#mean é a média aritmética dos valores na coluna correspondente  é o desvio padrão dos valores na coluna correspondente. \n",
        "#O desvio padrão é uma medida de quão dispersos os valores estão em torno da média\n",
        "#df['Sex']#imprime somente o sexo\n",
        "print(df.iloc[2])#imprime as informações do indece 2\n",
        "\n",
        "df.to_excel(\"df.xlsx\", sheet_name=\"passengers\", index=False)#grava o dataframe em um planilha excel "
      ],
      "metadata": {
        "colab": {
          "base_uri": "https://localhost:8080/"
        },
        "id": "Gl25IF7WdRpo",
        "outputId": "1ab220e0-449e-4ee1-b7fc-6eb5dc4cdae7"
      },
      "execution_count": null,
      "outputs": [
        {
          "output_type": "stream",
          "name": "stdout",
          "text": [
            "Name    Bonnell, Miss. Elizabeth\n",
            "Age                           58\n",
            "Sex                       female\n",
            "Name: 2, dtype: object\n"
          ]
        }
      ]
    },
    {
      "cell_type": "code",
      "source": [
        "import matplotlib.pyplot as plt\n",
        "plt.plot([1, 2, 3, 4])\n",
        "plt.ylabel('some numbers')\n",
        "plt.show()"
      ],
      "metadata": {
        "colab": {
          "base_uri": "https://localhost:8080/",
          "height": 430
        },
        "id": "Bo_7qhdvaAIL",
        "outputId": "d14d90b9-5140-4041-f63d-3b7363ca13c0"
      },
      "execution_count": null,
      "outputs": [
        {
          "output_type": "display_data",
          "data": {
            "text/plain": [
              "<Figure size 640x480 with 1 Axes>"
            ],
            "image/png": "[encoded data removed]"
          },
          "metadata": {}
        }
      ]
    },
    {
      "cell_type": "markdown",
      "source": [
        "# Python UNINTER AULAS DE DATA SCIENCE\n"
      ],
      "metadata": {
        "id": "jdJwlFk88fP3"
      }
    },
    {
      "cell_type": "markdown",
      "source": [
        "NUMPY 1 - Lista X Array"
      ],
      "metadata": {
        "id": "Gywl41rh-vBw"
      }
    },
    {
      "cell_type": "code",
      "source": [
        "# listas versus array numpy\n",
        "import numpy as np\n",
        "\n",
        "num_elementos = 100000000\n",
        "#lista_elementos = []\n",
        "\n",
        "#for x in range(num_elementos):\n",
        " # lista_elementos.append(x)\n",
        "#print(lista_elementos[-1])  \n",
        "#tempo de execução 21 segundos e 4,8Gb de Memória\n",
        "\n",
        "#AARRAY NUMPY\n",
        "#0 segundos e 300MB de memória\n",
        "array_elementos = np.arange(num_elementos)\n",
        "\n",
        "print(array_elementos[-1])\n",
        "\n",
        "\n",
        "\n"
      ],
      "metadata": {
        "colab": {
          "base_uri": "https://localhost:8080/"
        },
        "id": "t1Xy7eIPMKA7",
        "outputId": "417ab88a-3689-4b9e-9477-5ae658a88da2"
      },
      "execution_count": null,
      "outputs": [
        {
          "output_type": "stream",
          "name": "stdout",
          "text": [
            "99999999\n"
          ]
        }
      ]
    },
    {
      "cell_type": "markdown",
      "source": [
        "NUPY 2 - criando um lista de array com numpy"
      ],
      "metadata": {
        "id": "v7X1ROgN-0Cy"
      }
    },
    {
      "cell_type": "code",
      "source": [
        "#criando um lista de array com numpy\n",
        "import numpy as np\n",
        "array_numpy = np.array([0,1,2,3,4,5,6,7,8,9])\n",
        "numpy = [0,1,2,3,4,5,6,7,8,9]\n",
        "\n",
        "#10 elementos 0 a 9 matriz\n",
        "print(np.arange(10).reshape(2,5))\n",
        "\n",
        "print(np.arange(100+1))\n",
        "\n",
        "print(f'Criando um array de 40 elementos usando LINSPACE 0 a 40 com 41 elementos\\n {np.linspace(0,40, num =41)}\\n')\n",
        "\n",
        "print(f'Criando array usando numpy com metódo .array: \\n{array_numpy}\\n')\n",
        "print(f'Criando array usando numpy com metódo .ones: \\n{np.ones(10)}\\n')#ponto flutuante de 64bits 1.\n",
        "print(f'Criando array usando numpy com metódo .zeros: \\n{np.zeros(10)}\\n')#ponto flutuante de 64bits 0.\n",
        "print(f'Criando array usando numpy com metódo .reshape matrizes: \\n{np.array(array_numpy).reshape(2,5)}\\n')#Criando matriz"
      ],
      "metadata": {
        "id": "lLVK-WQKTnVS"
      },
      "execution_count": null,
      "outputs": []
    },
    {
      "cell_type": "markdown",
      "source": [
        "NUMPY 3 - TESTANDO CONSUM DE MEMÓRIA"
      ],
      "metadata": {
        "id": "j0hLmhMV-8Qq"
      }
    },
    {
      "cell_type": "code",
      "source": [
        "#testando tipos de dados e consumo de memoria\n",
        "\n",
        "import numpy as np\n",
        "\n",
        "elementos = 1000000000000\n",
        "array_elementos = np.zeros(elementos)#, dtype = np.int8)\n",
        "print(array_elementos)"
      ],
      "metadata": {
        "id": "WWIRXfy0dTtM"
      },
      "execution_count": null,
      "outputs": []
    },
    {
      "cell_type": "markdown",
      "source": [
        "NUMPY 5 - CRIANDO NÚMEROS RANDÔMICOS"
      ],
      "metadata": {
        "id": "xnxeLDi__DVI"
      }
    },
    {
      "cell_type": "code",
      "source": [
        "#criando numeros randômicos\n",
        "\n",
        "num = np.random.default_rng()\n",
        "\n",
        "print(num.random(10))"
      ],
      "metadata": {
        "id": "YChEmkEHfI67"
      },
      "execution_count": null,
      "outputs": []
    },
    {
      "cell_type": "markdown",
      "source": [
        "NUMPY 6 - VETOR,MATRIZ E TENSOR"
      ],
      "metadata": {
        "id": "jobxU43q-lt5"
      }
    },
    {
      "cell_type": "code",
      "source": [
        "#Matrizes, vetores e tensores\n",
        "num = np.random.default_rng()\n",
        "vetor = num.random(4)\n",
        "print(f'Array de 1 dimensão = VETOR {vetor}\\n')\n",
        "print('-=-'*30)\n",
        "matriz = num.random([3,3])\n",
        "print(f'Array de 2 dimensões = MATRIZ \\n {matriz}\\n')\n",
        "print('-=-'*30)\n",
        "tensor = num.random([3,3,3,3])\n",
        "print(f'Array de 3 ou mais dimensões = TENSOR \\n {tensor}\\n')\n",
        "print('-=-'*30)"
      ],
      "metadata": {
        "id": "fZPzkEc1ghs7"
      },
      "execution_count": null,
      "outputs": []
    },
    {
      "cell_type": "markdown",
      "source": [
        "NUMPY 7 ORDENAÇÃO E ADIÇÃO DE ELEMENTOS\n"
      ],
      "metadata": {
        "id": "KFuaYAJ3_MB4"
      }
    },
    {
      "cell_type": "code",
      "source": [
        "#NUMPY 7 ORDENAÇÃO E ADIÇÃO DE ELEMENTOS\n",
        "import numpy as np\n",
        "\n",
        "ngr = np.random.default_rng()\n",
        "\n",
        "array_1 = ngr.random([5,5])\n",
        "\n",
        "print(f'Array 1 SEM ORENAÇÃO:\\n {array_1}\\n')\n",
        "print(f'Array 2 ORENAÇÃO SIMPLES: \\n {np.sort(array_1)}\\n')\n",
        "print(f'Array 2 ORENAÇÃO SIMPLES HORIZONTAL EIXO X AXIS: \\n {np.sort(array_1, axis=None)}\\n')#Eixo horizontal apenas linhas\n",
        "print(f'Array 2 ORENAÇÃO SIMPLES Colunas: \\n {np.sort(array_1, axis=0)}\\n')#Ordena Colunas\n"
      ],
      "metadata": {
        "colab": {
          "base_uri": "https://localhost:8080/"
        },
        "id": "hXpEgh1o9BNS",
        "outputId": "0a684a54-c252-44dc-e2ff-18f2ec3be326"
      },
      "execution_count": null,
      "outputs": [
        {
          "output_type": "stream",
          "name": "stdout",
          "text": [
            "Array 1 SEM ORENAÇÃO:\n",
            " [[0.10262821 0.01036806 0.71505954 0.90252851 0.82025941]\n",
            " [0.56882654 0.3425913  0.74407165 0.78641041 0.21024858]\n",
            " [0.12901641 0.89387044 0.29954194 0.50698563 0.18440761]\n",
            " [0.48603919 0.96787374 0.26848494 0.53941411 0.35852024]\n",
            " [0.69340347 0.88721011 0.78699561 0.46544344 0.18954041]]\n",
            "\n",
            "Array 2 ORENAÇÃO SIMPLES: \n",
            " [[0.01036806 0.10262821 0.71505954 0.82025941 0.90252851]\n",
            " [0.21024858 0.3425913  0.56882654 0.74407165 0.78641041]\n",
            " [0.12901641 0.18440761 0.29954194 0.50698563 0.89387044]\n",
            " [0.26848494 0.35852024 0.48603919 0.53941411 0.96787374]\n",
            " [0.18954041 0.46544344 0.69340347 0.78699561 0.88721011]]\n",
            "\n",
            "Array 2 ORENAÇÃO SIMPLES HORIZONTAL EIXO X AXIS: \n",
            " [0.01036806 0.10262821 0.12901641 0.18440761 0.18954041 0.21024858\n",
            " 0.26848494 0.29954194 0.3425913  0.35852024 0.46544344 0.48603919\n",
            " 0.50698563 0.53941411 0.56882654 0.69340347 0.71505954 0.74407165\n",
            " 0.78641041 0.78699561 0.82025941 0.88721011 0.89387044 0.90252851\n",
            " 0.96787374]\n",
            "\n",
            "Array 2 ORENAÇÃO SIMPLES Colunas: \n",
            " [[0.10262821 0.01036806 0.26848494 0.46544344 0.18440761]\n",
            " [0.12901641 0.3425913  0.29954194 0.50698563 0.18954041]\n",
            " [0.48603919 0.88721011 0.71505954 0.53941411 0.21024858]\n",
            " [0.56882654 0.89387044 0.74407165 0.78641041 0.35852024]\n",
            " [0.69340347 0.96787374 0.78699561 0.90252851 0.82025941]]\n",
            "\n"
          ]
        }
      ]
    },
    {
      "cell_type": "code",
      "source": [
        "import seaborn as sns\n",
        "import matplotlib.pyplot as plt\n",
        "\n",
        "tips = sns.load_dataset(\"tips\")\n",
        "\n",
        "sns.barplot(x=\"sex\", y=\"total_bill\", data=tips)\n",
        "\n",
        "plt.show()\n",
        "\n",
        "tips = sns.load_dataset(\"tips\")\n",
        "\n",
        "sns.barplot(x=\"sex\", y=\"total_bill\", hue=\"size\", data=tips)\n",
        "\n",
        "plt.show()"
      ],
      "metadata": {
        "id": "YNXkk-1JbXBE",
        "colab": {
          "base_uri": "https://localhost:8080/",
          "height": 883
        },
        "outputId": "0e9a802c-f002-4875-dc08-5a8d40a3fbdd"
      },
      "execution_count": null,
      "outputs": [
        {
          "output_type": "display_data",
          "data": {
            "text/plain": [
              "<Figure size 640x480 with 1 Axes>"
            ],
            "image/png": "[encoded data removed]"
          },
          "metadata": {}
        },
        {
          "output_type": "display_data",
          "data": {
            "text/plain": [
              "<Figure size 640x480 with 1 Axes>"
            ],
            "image/png": "[encoded data removed]"
          },
          "metadata": {}
        }
      ]
    },
    {
      "cell_type": "code",
      "source": [
        "import re\n",
        "\n",
        "cep = '72235-500'\n",
        "cep2 = r'[\\d]{5}-[\\d]{3}'\n",
        "if re.match(cep2, cep):\n",
        "  print(True)\n",
        "else:\n",
        "  print(False)  "
      ],
      "metadata": {
        "colab": {
          "base_uri": "https://localhost:8080/"
        },
        "id": "WYHNtamM2KNd",
        "outputId": "9f642a1b-5653-4aa7-c297-142bdaa01ae4"
      },
      "execution_count": null,
      "outputs": [
        {
          "output_type": "stream",
          "name": "stdout",
          "text": [
            "True\n"
          ]
        }
      ]
    },
    {
      "cell_type": "code",
      "source": [
        "import plotly.express as px\n",
        "import ipywidgets as widgets\n",
        "\n",
        "# carregar o conjunto de dados \"gapminder\"\n",
        "df = px.data.gapminder()\n",
        "\n",
        "# criar o gráfico de dispersão com Plotly Express\n",
        "fig = px.scatter(df, x=\"gdpPercap\", y=\"lifeExp\", size=\"pop\", color=\"continent\",\n",
        "                 hover_name=\"country\", log_x=True, size_max=60)\n",
        "\n",
        "# criar um slider de ano\n",
        "slider = widgets.IntSlider(min=df[\"year\"].min(), max=df[\"year\"].max(), step=1, value=df[\"year\"].min())\n",
        "\n",
        "# definir uma função para atualizar o gráfico com base no valor do slider\n",
        "def update_plot(year):\n",
        "    # filtrar o conjunto de dados para o ano selecionado\n",
        "    df_year = df[df[\"year\"] == year]\n",
        "    \n",
        "    # atualizar os dados do gráfico\n",
        "    fig.data[0].x = df_year[\"gdpPercap\"]\n",
        "    fig.data[0].y = df_year[\"lifeExp\"]\n",
        "    fig.data[0].marker.size = df_year[\"pop\"] / 1e6\n",
        "    \n",
        "    # atualizar o título do gráfico com o ano selecionado\n",
        "    fig.update_layout(title=f\"GDP per Capita vs. Life Expectancy ({year})\")\n",
        "    \n",
        "    # exibir o gráfico\n",
        "    fig.show()\n",
        "\n",
        "# conectar o slider à função de atualização\n",
        "widgets.interact(update_plot, year=slider)"
      ],
      "metadata": {
        "id": "yJT9suZoK2Kq",
        "colab": {
          "base_uri": "https://localhost:8080/",
          "height": 593,
          "referenced_widgets": [
            "c53e9901d6ab4163bb50888b0706c3a5",
            "b20455f55b4e41adb0071a483436aca3",
            "6aa6d11eea314c7ca7b1c8c9056a607e",
            "6781a821c0a148b387be057a2f61d486",
            "fdd6723bc20546178031ca75a4fa747d",
            "19cfba182256448dbf5ef3a9762fd3b1",
            "535338f5c5b741dfb18c0afe789c2e36"
          ]
        },
        "outputId": "f8feb765-63db-43c8-ddf9-ea0e3a55c861"
      },
      "execution_count": null,
      "outputs": [
        {
          "output_type": "display_data",
          "data": {
            "text/plain": [
              "interactive(children=(IntSlider(value=1952, description='year', max=2007, min=1952), Output()), _dom_classes=(…"
            ],
            "application/vnd.jupyter.widget-view+json": {
              "version_major": 2,
              "version_minor": 0,
              "model_id": "c53e9901d6ab4163bb50888b0706c3a5"
            }
          },
          "metadata": {}
        },
        {
          "output_type": "execute_result",
          "data": {
            "text/plain": [
              "<function __main__.update_plot(year)>"
            ]
          },
          "metadata": {},
          "execution_count": 1
        }
      ]
    },
    {
      "cell_type": "code",
      "source": [
        "#CRIPTOGRAFIA COM AES\n",
        "from cryptography.fernet import Fernet\n",
        "from getpass import getpass\n",
        "\n",
        "def aes_encrypt(message, key):\n",
        "    f = Fernet(key)\n",
        "    encrypted_message = f.encrypt(message.encode())\n",
        "    return encrypted_message\n",
        "\n",
        "def aes_decrypt(encrypted_message, key):\n",
        "    f = Fernet(key)\n",
        "    decrypted_message = f.decrypt(encrypted_message)\n",
        "    return decrypted_message.decode()\n",
        "\n",
        "mensagem_original = getpass(\"Digite a mensagem que deseja criptografar: \")\n",
        "chave = Fernet.generate_key()\n",
        "\n",
        "mensagem_criptografada = aes_encrypt(mensagem_original, chave)\n",
        "print(\"Mensagem criptografada:\", mensagem_criptografada)\n",
        "\n",
        "mensagem_descriptografada = aes_decrypt(mensagem_criptografada, chave)\n",
        "print(\"Mensagem descriptografada:\", mensagem_descriptografada)"
      ],
      "metadata": {
        "id": "K7FTDt2dl3Sf"
      },
      "execution_count": null,
      "outputs": []
    },
    {
      "cell_type": "code",
      "source": [
        "i = 0\n",
        "while i <= 3:\n",
        "  i+=2\n",
        "  print(\"*\")"
      ],
      "metadata": {
        "id": "XpOtBu3kIVqT"
      },
      "execution_count": null,
      "outputs": []
    },
    {
      "cell_type": "code",
      "source": [
        "''' O código irá imprimir a lista [1, 2, 3] quatro vezes, pois o loop for será \n",
        "executado 4 vezes devido ao uso do operador de deslocamento de bits << que multiplica o valor de len(lista) por 2 elevado a 2 (ou seja, 4).\n",
        "\n",
        "No primeiro ciclo do loop, i será igual a 0 e a lista [1, 2, 3] será impressa.\n",
        "No segundo ciclo, i será igual a 1 e a lista [1, 2, 3] será impressa novamente. \n",
        "O loop continuará a executar até que i seja igual a 11 (pois len(lista) é igual \n",
        "a 3 e multiplicado por 4 dá 12, mas como a contagem começa em 0, o loop terminará quando i for igual a 11).\n",
        "No entanto, como a lista é sempre a mesma e não há nenhuma mudança sendo feita na mesma dentro do loop, \n",
        "o resultado será apenas a impressão da lista [1, 2, 3] quatro vezes.\n",
        "'''\n",
        "#lista = [1,2,3]\n",
        "#for i in range(len(lista)<<50):\n",
        "  #print(lista,i)\n",
        "\n",
        "#for i in range(10<<10):\n",
        "  #print('@',i)  \n",
        "\n",
        "b = bin((10^2)*10)\n",
        "\n",
        "print(b[2:])\n",
        "\n"
      ],
      "metadata": {
        "id": "ODlww9kAIsfC"
      },
      "execution_count": null,
      "outputs": []
    },
    {
      "cell_type": "code",
      "source": [
        "a = bin(14)\n",
        "b = a[2:]\n",
        "print(b)\n",
        "\n",
        "14 >> 9 "
      ],
      "metadata": {
        "id": "-seIfWPJugga"
      },
      "execution_count": null,
      "outputs": []
    },
    {
      "cell_type": "code",
      "source": [
        "from random import randint\n",
        "\n",
        "def gerar_ISBN():\n",
        "  isbn = \"9\"\n",
        "  print(isbn, end='')\n",
        "\n",
        "  for i in range(12):\n",
        "    isbn += str(randint(0,9))\n",
        "    print(isbn[-1], end='')\n",
        "\n",
        "  return isbn\n",
        "\n",
        "def validar_ISBN13(isbn):\n",
        "  if len(isbn) != 13:\n",
        "    return False\n",
        "\n",
        "  soma = 0\n",
        "  for i in range(12):\n",
        "    if i % 2 == 0:\n",
        "      soma += int(isbn[i])\n",
        "    else:\n",
        "      soma += 3 * int(isbn[i])\n",
        "\n",
        "  verif = (10 - (soma % 10)) % 10\n",
        "\n",
        "  return int(isbn[12]) == verif\n",
        "\n",
        "# exemplo de uso\n",
        "isbn = gerar_ISBN()\n",
        "if validar_ISBN13(isbn):\n",
        "  print(\"\\nO ISBN-13\", isbn, \"é válido\")\n",
        "else:\n",
        "  print(\"\\nO ISBN-13\", isbn, \"é inválido\")"
      ],
      "metadata": {
        "id": "Vmn9kW9_xvV0"
      },
      "execution_count": null,
      "outputs": []
    },
    {
      "cell_type": "code",
      "source": [
        "from itertools import permutations\n",
        "\n",
        "\n",
        "\n",
        "list1 = [\"A\", \"B\", \"C\"]\n",
        "\n",
        "print(len(list(permutations(list1, 3))))"
      ],
      "metadata": {
        "id": "DbuxBe5rrKQp"
      },
      "execution_count": null,
      "outputs": []
    },
    {
      "cell_type": "code",
      "source": [
        "'''palavra = \"A screaming comes across the sky.\"\n",
        "nova = palavra.replace('s','$')\n",
        "print(nova)\n",
        "\n",
        "p = \"Hemingway\"\n",
        "p2= p.find('m')\n",
        "print(p2)\n",
        "\n",
        "string = 'O um anel para todos dominar'\n",
        "print(string)\n",
        "\n",
        "concatenacao = 't'+'h'+'r'+'e'+'e','t'+'h'+'r'+'e'+'e','t'+'h'+'r'+'e'+'e'\n",
        "multi =('Three '*3)\n",
        "print(multi)\n",
        "print(concatenacao)\n",
        "fatiar = \"It was a bright cold day in April, and the clocks were striking thirteen.\"\n",
        "novaFatiar = fatiar[:34]\n",
        "print(novaFatiar)\n",
        "\n",
        "palavra= 'camus'\n",
        "print(palavra[0])\n",
        "print(palavra[1])\n",
        "print(palavra[2])\n",
        "print(palavra[3])\n",
        "print(palavra[4])\n",
        "\n",
        "frase =  ('Yesterday I wrote a [resposta_um]. I sent it to [resposta_dois]!')\n",
        "\n",
        "r1 = input('Digite a resposta 1: ')\n",
        "r2 = input('Digite a resposta 2: ')\n",
        "novaFrase = (f'Yesterday I wrote a {r1}. I sent it to {r2}!')\n",
        "print(novaFrase)\n",
        "\n",
        "frase2 = \"aldous Huxley was born in 1894.\"\n",
        "maiuscula = frase2.capitalize()\n",
        "print(maiuscula)\n",
        "\n",
        "lista =[\"The\", \"fox\", \"jumped\", \"over\", \"the\", \"fence\", \".\"]\n",
        "correta = ' '.join(lista).replace(' .','.')\n",
        "print(correta)\n",
        "\n",
        "lst = \"Where now? Who now? When now?\".split(\"?\")\n",
        "print(lst)'''\n"
      ],
      "metadata": {
        "id": "IM9bQSgG0ZYr"
      },
      "execution_count": null,
      "outputs": []
    },
    {
      "cell_type": "code",
      "source": [
        "# Usando for para deixar tudo maiusculo:\n",
        "\n",
        "lista = 'A medalha foi dada a ele'\n",
        "\n",
        "for i in lista:\n",
        "  x = lista.upper()\n",
        "print(x)"
      ],
      "metadata": {
        "id": "yrWv28R28URC"
      },
      "execution_count": null,
      "outputs": []
    },
    {
      "cell_type": "code",
      "source": [
        "name = ['davi','pedro','maria']\n",
        "for i in name:\n",
        "  print(i)\n",
        " \n"
      ],
      "metadata": {
        "id": "5Dp592Ch8UXC"
      },
      "execution_count": null,
      "outputs": []
    },
    {
      "cell_type": "code",
      "source": [
        "#PROJETO RHELL\n",
        "\n",
        "\n",
        "from Crypto.Cipher import AES\n",
        "import os\n",
        "import string\n",
        "import random\n",
        "import smtplib\n",
        "from email.message import EmailMessage\n",
        "\n",
        "def generate_password(length=12):\n",
        "    \"\"\"Gera uma senha aleatória de tamanho 'length'\"\"\"\n",
        "    characters = string.ascii_letters + string.digits + string.punctuation\n",
        "    password = ''.join(random.choice(characters) for _ in range(length))\n",
        "    return password\n",
        "\n",
        "def send_password_by_email(email_from, password_from, email_to, password):\n",
        "    \"\"\"Envia a senha gerada por e-mail\"\"\"\n",
        "    message = EmailMessage()\n",
        "    message.set_content(f\"A sua nova senha é: {password}\")\n",
        "    message['Subject'] = 'Nova senha'\n",
        "    message['From'] = email_from\n",
        "    message['To'] = email_to\n",
        "\n",
        "    with smtplib.SMTP('smtp.gmail.com', 587) as smtp:\n",
        "        smtp.starttls()\n",
        "        smtp.login(email_from, password_from)\n",
        "        smtp.send_message(message)\n",
        "\n",
        "    print(\"Senha enviada com sucesso!\")\n",
        "\n",
        "def encrypt_file(email_from, password_from, email_to, filename):\n",
        "    chunksize = 64 * 1024\n",
        "    output_filename = filename + \".enc\"\n",
        "    iv = os.urandom(16)\n",
        "    password = generate_password()\n",
        "    send_password_by_email(email_from, password_from, email_to, password)\n",
        "    key = password.encode('utf-8')[:16]\n",
        "    encryptor = AES.new(key, AES.MODE_CBC, iv)\n",
        "\n",
        "    with open(filename, 'rb') as infile:\n",
        "        with open(output_filename, 'wb') as outfile:\n",
        "            outfile.write(iv)\n",
        "\n",
        "            while True:\n",
        "                chunk = infile.read(chunksize)\n",
        "\n",
        "                if len(chunk) == 0:\n",
        "                    break\n",
        "\n",
        "                elif len(chunk) % 16 != 0:\n",
        "                    chunk += b' ' * (16 - len(chunk) % 16)\n",
        "\n",
        "                outfile.write(encryptor.encrypt(chunk))\n",
        "\n",
        "    print(f\"Arquivo criptografado com sucesso! O arquivo criptografado é {output_filename}\")\n",
        "# Define as credenciais de usuário\n",
        "username = 'usuario'\n",
        "password = 'senha'\n",
        "\n",
        "# Pede ao usuário para fornecer suas credenciais\n",
        "input_username = input(\"Nome de usuário: \")\n",
        "input_password = getpass.getpass(\"Senha: \")\n",
        "\n",
        "# Verifica se as credenciais são válidas\n",
        "if input_username == username and input_password == password:\n",
        "    # Código a ser executado após a autenticação\n",
        "    print(\"Acesso permitido!\")\n",
        "else:\n",
        "    print(\"Credenciais inválidas. Acesso negado.\")\n",
        "# Define as informações de autenticação do e-mail\n",
        "email_from = 'seu_email@gmail.com'\n",
        "password_from = 'sua_senha'\n",
        "\n",
        "# Define o e-mail de destino\n",
        "email_to = 'email_do_destinatario@gmail.com'\n",
        "\n",
        "# Define o nome do arquivo a ser criptografado\n",
        "filename = input(\"Digite o nome do arquivo a ser criptografado: \")\n",
        "\n",
        "# Envia a senha por e-mail e criptografa o arquivo\n",
        "encrypt_file(email_from, password_from, email_to, filename)\n"
      ],
      "metadata": {
        "id": "mLJonOLO-Ybc"
      },
      "execution_count": null,
      "outputs": []
    },
    {
      "cell_type": "code",
      "source": [
        "try:\n",
        "    value = input(\"Digite um valor: \")\n",
        "    print(int(value)/len(value))\n",
        "except ValueError:\n",
        "    print(\"Entrada ruim...\")\n",
        "except ZeroDivisionError:\n",
        "    print(\"Entrada muito ruim...\")\n",
        "except TypeError:\n",
        "    print(\"Muito, muito ruim entrada...\")\n",
        "except:\n",
        "    print(\"Booo!\")"
      ],
      "metadata": {
        "colab": {
          "base_uri": "https://localhost:8080/"
        },
        "id": "gyelzpEU7_ya",
        "outputId": "ba494666-71fa-42bd-caf9-9bfcd4e61d83"
      },
      "execution_count": null,
      "outputs": [
        {
          "output_type": "stream",
          "name": "stdout",
          "text": [
            "Digite um valor: 0\n",
            "0.0\n"
          ]
        }
      ]
    },
    {
      "cell_type": "code",
      "source": [
        "try:\n",
        "    print(5/0)\n",
        "    break\n",
        "except:\n",
        "    print(\"Desculpe, algo deu errado...\")\n",
        "except (ValueError, ZeroDivisionError):\n",
        "    print(\"Muito ruim...\")"
      ],
      "metadata": {
        "colab": {
          "base_uri": "https://localhost:8080/",
          "height": 143
        },
        "id": "TNLLkJWPESVF",
        "outputId": "74ef34b1-4e7c-4b26-d17f-25a360db6d2d"
      },
      "execution_count": null,
      "outputs": [
        {
          "output_type": "error",
          "ename": "SyntaxError",
          "evalue": "ignored",
          "traceback": [
            "\u001b[0;36m  File \u001b[0;32m\"<ipython-input-46-18a702306316>\"\u001b[0;36m, line \u001b[0;32m3\u001b[0m\n\u001b[0;31m    break\u001b[0m\n\u001b[0m    ^\u001b[0m\n\u001b[0;31mSyntaxError\u001b[0m\u001b[0;31m:\u001b[0m 'break' outside loop\n"
          ]
        }
      ]
    },
    {
      "cell_type": "code",
      "source": [
        "foo = (1, 2, 3)\n",
        "foo.index(0)"
      ],
      "metadata": {
        "colab": {
          "base_uri": "https://localhost:8080/",
          "height": 199
        },
        "id": "UuoVzDs2EdzN",
        "outputId": "5999d701-4f9e-49a3-9d86-e32a33d000fe"
      },
      "execution_count": null,
      "outputs": [
        {
          "output_type": "error",
          "ename": "ValueError",
          "evalue": "ignored",
          "traceback": [
            "\u001b[0;31m---------------------------------------------------------------------------\u001b[0m",
            "\u001b[0;31mValueError\u001b[0m                                Traceback (most recent call last)",
            "\u001b[0;32m<ipython-input-47-32ee9e0f2bc2>\u001b[0m in \u001b[0;36m<cell line: 2>\u001b[0;34m()\u001b[0m\n\u001b[1;32m      1\u001b[0m \u001b[0mfoo\u001b[0m \u001b[0;34m=\u001b[0m \u001b[0;34m(\u001b[0m\u001b[0;36m1\u001b[0m\u001b[0;34m,\u001b[0m \u001b[0;36m2\u001b[0m\u001b[0;34m,\u001b[0m \u001b[0;36m3\u001b[0m\u001b[0;34m)\u001b[0m\u001b[0;34m\u001b[0m\u001b[0;34m\u001b[0m\u001b[0m\n\u001b[0;32m----> 2\u001b[0;31m \u001b[0mfoo\u001b[0m\u001b[0;34m.\u001b[0m\u001b[0mindex\u001b[0m\u001b[0;34m(\u001b[0m\u001b[0;36m0\u001b[0m\u001b[0;34m)\u001b[0m\u001b[0;34m\u001b[0m\u001b[0;34m\u001b[0m\u001b[0m\n\u001b[0m",
            "\u001b[0;31mValueError\u001b[0m: tuple.index(x): x not in tuple"
          ]
        }
      ]
    },
    {
      "cell_type": "code",
      "source": [
        "a = 6\n",
        "b = 3\n",
        "a /= 2 * b\n",
        "print(a)"
      ],
      "metadata": {
        "colab": {
          "base_uri": "https://localhost:8080/"
        },
        "id": "ZfG79uUGE-es",
        "outputId": "73dcfcf9-2981-43c5-d798-41977f76c6c6"
      },
      "execution_count": null,
      "outputs": [
        {
          "output_type": "stream",
          "name": "stdout",
          "text": [
            "1.0\n"
          ]
        }
      ]
    }
  ]
}