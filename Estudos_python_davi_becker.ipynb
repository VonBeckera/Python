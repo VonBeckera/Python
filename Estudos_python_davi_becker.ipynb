{
  "nbformat": 4,
  "nbformat_minor": 0,
  "metadata": {
    "colab": {
      "provenance": [],
      "name": "Estudos_python_davi_becker.ipynb",
      "authorship_tag": "ABX9TyMjVPv8sMu044OTDnahzAtC",
      "include_colab_link": true
    },
    "kernelspec": {
      "name": "python3",
      "display_name": "Python 3"
    },
    "language_info": {
      "name": "python"
    }
  },
  "cells": [
    {
      "cell_type": "markdown",
      "metadata": {
        "id": "view-in-github",
        "colab_type": "text"
      },
      "source": [
        "<a href=\"https://colab.research.google.com/github/VonBeckera/Python/blob/main/Estudos_python_davi_becker.ipynb\" target=\"_parent\"><img src=\"https://colab.research.google.com/assets/colab-badge.svg\" alt=\"Open In Colab\"/></a>"
      ]
    },
    {
      "cell_type": "code",
      "execution_count": null,
      "metadata": {
        "colab": {
          "base_uri": "https://localhost:8080/"
        },
        "id": "kCjFpoujXt6Q",
        "outputId": "db4f10bc-0c19-4cfb-f0b9-ec61c7ad160a"
      },
      "outputs": [
        {
          "output_type": "stream",
          "name": "stdout",
          "text": [
            "Digite algo:        \n",
            "O tipo digitado é:  <class 'str'>\n",
            "O tipo digitado tem espaços:  True\n",
            "O tipo digitado é um número:  False\n",
            "O tipo digitado é alfa numerico:  False\n",
            "O tipo digitado e alfabetico:  False\n",
            "O tipo está capitalizado:  False\n"
          ]
        }
      ],
      "source": [
        "a = input('Digite algo: ')\n",
        "print('O tipo digitado é: ', type(a))\n",
        "print('O tipo digitado tem espaços: ', a.isspace())\n",
        "print('O tipo digitado é um número: ', a.isnumeric())\n",
        "print('O tipo digitado é alfa numerico: ', a.isalnum())\n",
        "print('O tipo digitado e alfabetico: ', a.isalpha())\n",
        "print('O tipo está capitalizado: ', a.istitle())"
      ]
    },
    {
      "cell_type": "markdown",
      "source": [
        "# Aula 04\n"
      ],
      "metadata": {
        "id": "DdBtVGtyclQk"
      }
    }
  ]
}